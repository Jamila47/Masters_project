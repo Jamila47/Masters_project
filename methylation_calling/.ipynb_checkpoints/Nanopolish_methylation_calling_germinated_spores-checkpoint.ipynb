{
 "cells": [
  {
   "cell_type": "markdown",
   "metadata": {},
   "source": [
    "### Notebook to do methylation calling with nanopolish"
   ]
  },
  {
   "cell_type": "code",
   "execution_count": 1,
   "metadata": {},
   "outputs": [],
   "source": [
    "import os\n",
    "from Bio import SeqIO"
   ]
  },
  {
   "cell_type": "code",
   "execution_count": 2,
   "metadata": {},
   "outputs": [],
   "source": [
    "notebook_path = os.path.abspath(\".\")"
   ]
  },
  {
   "cell_type": "code",
   "execution_count": 3,
   "metadata": {},
   "outputs": [],
   "source": [
    "INITIAL_MAPPED_BASEDIR = os.path.abspath('../../analyses/mapping/germinated_spores/rep1')\n",
    "#####One OUT_DIR per treatment. This should be one for germinated spores and one for infected leaves\n",
    "IN_FAST5 = os.path.abspath('../../analyses/single_fast5s/germinated_spores/mapped_fast5s')\n",
    "in_fastq_fn = os.path.abspath('../../data/genomic_data/germinated_spores/all_fastq/germinated_spores_1.all.fastq')\n",
    "seq_sum_fn = os.path.abspath('../../data/genomic_data/germinated_spores/sequencing_summary/germinated_spores_1.sequencing_summary.txt')\n",
    "#####One OUT_DIR per treatment. This should be one for germinated spores and one for infected leaves\n",
    "OUT_DIR = os.path.abspath('../../analyses/pycometh/germinated_spores')\n",
    "meth_freq_script = '/home/jamila/jamila_Storage/scripts/nanopolish_scripts/calculate_methylation_frequency.py'"
   ]
  },
  {
   "cell_type": "code",
   "execution_count": 4,
   "metadata": {},
   "outputs": [],
   "source": [
    "ref_genome = os.path.abspath('../../analyses/pycometh/chr_A_B_unassigned.fasta')\n",
    "n_threads = 20"
   ]
  },
  {
   "cell_type": "code",
   "execution_count": 5,
   "metadata": {},
   "outputs": [],
   "source": [
    "###file names for rerunning \n",
    "in_fastq_clean_fn = os.path.join(OUT_DIR, os.path.basename(in_fastq_fn).replace('all.fastq','clean_all.fastq'))\n",
    "bam_fn = os.path.basename(ref_genome).replace('.fa', '') \\\n",
    "+'.'+ os.path.basename(in_fastq_clean_fn).replace('.fastq', '.bam')\n",
    "bam_fn = os.path.join(OUT_DIR, bam_fn)\n",
    "meth_call_fn = bam_fn.replace('.bam', '.meth_call.tsv')\n",
    "meth_freq_fn = meth_call_fn.replace( '.meth_call.tsv', '.meth_freq.tsv')"
   ]
  },
  {
   "cell_type": "markdown",
   "metadata": {},
   "source": [
    "# Section 1 checking the input"
   ]
  },
  {
   "cell_type": "code",
   "execution_count": null,
   "metadata": {},
   "outputs": [],
   "source": [
    "mappingid_fns = []\n",
    "for dir_ in os.listdir(INITIAL_MAPPED_BASEDIR):\n",
    "    dir_ = os.path.join(INITIAL_MAPPED_BASEDIR, dir_) \n",
    "    if os.path.isdir(dir_):\n",
    "        mappingid_fn = [os.path.join(dir_, x) for x in os.listdir(dir_) if x.endswith('.mappedids.txt') ][0]\n",
    "        mappingid_fns.append(mappingid_fn)"
   ]
  },
  {
   "cell_type": "code",
   "execution_count": null,
   "metadata": {},
   "outputs": [],
   "source": [
    "nummapped_reads = 0\n",
    "for mappingid_fn in mappingid_fns:\n",
    "    with open(mappingid_fn, mode = 'r') as fh:\n",
    "        for line in fh:\n",
    "            nummapped_reads += 1"
   ]
  },
  {
   "cell_type": "code",
   "execution_count": null,
   "metadata": {},
   "outputs": [],
   "source": [
    "#This checks if the number of mapped reads is consistent with the number of single fast5s\n",
    "len([x for x in os.listdir(IN_FAST5) if x.endswith('.fast5')]) == nummapped_reads"
   ]
  },
  {
   "cell_type": "markdown",
   "metadata": {},
   "source": [
    "^^^ Not true anymore because there were a bunch of potentially corupted fast5 files"
   ]
  },
  {
   "cell_type": "code",
   "execution_count": null,
   "metadata": {},
   "outputs": [],
   "source": [
    "#filer the fastq files to line up with the fast5 files\n",
    "fast5s_names = set([x.replace('.fast5','') for x in os.listdir(IN_FAST5)])"
   ]
  },
  {
   "cell_type": "code",
   "execution_count": null,
   "metadata": {},
   "outputs": [],
   "source": [
    "fastqs = []\n",
    "for seq in SeqIO.parse(in_fastq_fn, 'fastq'):\n",
    "    if seq.id in fast5s_names:\n",
    "        fastqs.append(seq)"
   ]
  },
  {
   "cell_type": "code",
   "execution_count": null,
   "metadata": {},
   "outputs": [],
   "source": [
    "if len(fastqs) == len(fast5s_names):\n",
    "    in_fastq_clean_fn = os.path.join(OUT_DIR, os.path.basename(in_fastq_fn).replace('all.fastq','clean_all.fastq'))\n",
    "    with open(in_fastq_clean_fn,'w') as fh:\n",
    "        SeqIO.write(fastqs, fh, 'fastq')\n",
    "    print('fastq subsetted')\n",
    "    !head {in_fastq_clean_fn}"
   ]
  },
  {
   "cell_type": "markdown",
   "metadata": {},
   "source": [
    "# Section 2 nanopolish methylation calling"
   ]
  },
  {
   "cell_type": "code",
   "execution_count": null,
   "metadata": {},
   "outputs": [],
   "source": [
    "#change directory\n",
    "os.chdir(OUT_DIR)\n",
    "basename = os.path.basename(OUT_DIR)"
   ]
  },
  {
   "cell_type": "code",
   "execution_count": null,
   "metadata": {},
   "outputs": [],
   "source": [
    "%%capture cap_out_index\n",
    "%time\n",
    "!nanopolish index -d {IN_FAST5} {in_fastq_clean_fn}"
   ]
  },
  {
   "cell_type": "code",
   "execution_count": null,
   "metadata": {},
   "outputs": [],
   "source": [
    "###print stdout\n",
    "print(cap_out_index.stdout)"
   ]
  },
  {
   "cell_type": "code",
   "execution_count": null,
   "metadata": {},
   "outputs": [],
   "source": [
    "###print stderr\n",
    "print(cap_out_index.stderr)"
   ]
  },
  {
   "cell_type": "code",
   "execution_count": null,
   "metadata": {},
   "outputs": [],
   "source": [
    "%%capture cap_out_map\n",
    "%time\n",
    "!minimap2 -a -t 20 -x map-ont {ref_genome} {in_fastq_clean_fn} | samtools sort -@20 -T tmp -o {bam_fn}\n",
    "!samtools index -@20 {bam_fn}"
   ]
  },
  {
   "cell_type": "code",
   "execution_count": null,
   "metadata": {},
   "outputs": [],
   "source": [
    "%%capture cap_out_methcall\n",
    "%time\n",
    "!nanopolish call-methylation -t 20 -r {in_fastq_clean_fn} -b {bam_fn} -g {ref_genome} > {meth_call_fn}"
   ]
  },
  {
   "cell_type": "code",
   "execution_count": null,
   "metadata": {},
   "outputs": [],
   "source": [
    "print('hello')"
   ]
  },
  {
   "cell_type": "code",
   "execution_count": null,
   "metadata": {},
   "outputs": [],
   "source": [
    "print(cap_out_methcall.stdout)"
   ]
  },
  {
   "cell_type": "code",
   "execution_count": null,
   "metadata": {},
   "outputs": [],
   "source": [
    "!python3 {meth_freq_script} {meth_call_fn} > {meth_freq_fn}"
   ]
  },
  {
   "cell_type": "code",
   "execution_count": null,
   "metadata": {},
   "outputs": [],
   "source": [
    "!head -200 {meth_freq_fn}"
   ]
  },
  {
   "cell_type": "markdown",
   "metadata": {},
   "source": [
    "## Comparative methylation calling with pycometh"
   ]
  },
  {
   "cell_type": "code",
   "execution_count": 6,
   "metadata": {},
   "outputs": [],
   "source": [
    "os.chdir(notebook_path)"
   ]
  },
  {
   "cell_type": "code",
   "execution_count": 7,
   "metadata": {},
   "outputs": [],
   "source": [
    "PYCO_OUT_DIR = os.path.abspath('../../analyses/pycometh/comparative/')"
   ]
  },
  {
   "cell_type": "code",
   "execution_count": 8,
   "metadata": {},
   "outputs": [],
   "source": [
    "from pycoMeth.CpG_Aggregate import CpG_Aggregate\n",
    "# Optionally inport jupyter helper functions\n",
    "from pycoMeth.common import head, jhelp\n",
    "import sys"
   ]
  },
  {
   "cell_type": "code",
   "execution_count": 9,
   "metadata": {},
   "outputs": [],
   "source": [
    "##setup\n",
    "min_depth = 3\n",
    "sample_id = 'germinated_spores'"
   ]
  },
  {
   "cell_type": "code",
   "execution_count": 10,
   "metadata": {},
   "outputs": [
    {
     "data": {
      "text/plain": [
       "'/home/jamila/jamila_Storage/analyses/pycometh/germinated_spores/chr_A_B_unassignedsta.germinated_spores_1.clean_all.CpG_agg.bed'"
      ]
     },
     "execution_count": 10,
     "metadata": {},
     "output_type": "execute_result"
    }
   ],
   "source": [
    "cpg_agg_bed_fn = meth_call_fn.replace('.meth_call', '.CpG_agg').replace('.tsv','.bed')\n",
    "cpg_agg_bed_fn"
   ]
  },
  {
   "cell_type": "code",
   "execution_count": 11,
   "metadata": {},
   "outputs": [
    {
     "data": {
      "text/plain": [
       "'/home/jamila/jamila_Storage/analyses/pycometh/germinated_spores/chr_A_B_unassignedsta.germinated_spores_1.clean_all.CpG_agg.tsv.gz'"
      ]
     },
     "execution_count": 11,
     "metadata": {},
     "output_type": "execute_result"
    }
   ],
   "source": [
    "cpg_agg_tsv_fn = meth_call_fn.replace('.meth_call', '.CpG_agg').replace('.tsv','.tsv.gz')\n",
    "cpg_agg_tsv_fn"
   ]
  },
  {
   "cell_type": "code",
   "execution_count": null,
   "metadata": {},
   "outputs": [
    {
     "name": "stderr",
     "output_type": "stream",
     "text": [
      "\u001b[01;34m## Checking options and input files ##\u001b[0m\n",
      "\u001b[01;34m## Parsing methylation_calls file ##\u001b[0m\n",
      "\u001b[32m\tStarting to parse file Nanopolish methylation call file\u001b[0m\n",
      "\tProgress:   9%|▊         | 254M/2.97G [00:19<03:14, 14.0M bytes/s] "
     ]
    }
   ],
   "source": [
    "ff = CpG_Aggregate(nanopolish_fn= meth_call_fn,\n",
    "    ref_fasta_fn=ref_genome,\n",
    "    output_bed_fn=cpg_agg_bed_fn,\n",
    "    output_tsv_fn=cpg_agg_tsv_fn,\n",
    "    sample_id=sample_id,\n",
    "    progress=True)"
   ]
  },
  {
   "cell_type": "code",
   "execution_count": null,
   "metadata": {},
   "outputs": [],
   "source": [
    "head(cpg_agg_tsv_fn)"
   ]
  },
  {
   "cell_type": "code",
   "execution_count": null,
   "metadata": {},
   "outputs": [],
   "source": [
    "# Import main module \n",
    "from pycoMeth.Interval_Aggregate import Interval_Aggregate"
   ]
  },
  {
   "cell_type": "raw",
   "metadata": {},
   "source": [
    "on the command line in OUT_DIR\n",
    "bedtools makewindows -g chr_A_B_unassigned.genome_file -w 1000  > chr_A_B_unassigned.w1000.bed\n",
    "bedtools makewindows -g chr_A_B_unassigned.genome_file -w 1000 -s 200 > chr_A_B_unassigned.w1000s200.bed"
   ]
  },
  {
   "cell_type": "code",
   "execution_count": null,
   "metadata": {},
   "outputs": [],
   "source": [
    "w1000s200_bed_fn = os.path.abspath('../../analyses/pycometh/chr_A_B_unassigned.w1000s200.bed')\n",
    "w1000_bed_fn = os.path.abspath('../../analyses/pycometh/chr_A_B_unassigned.w1000.bed')"
   ]
  },
  {
   "cell_type": "code",
   "execution_count": null,
   "metadata": {},
   "outputs": [],
   "source": [
    "for fn in [500, 1000, 5000]:\n",
    "    interval = fn\n",
    "    int_agg_bed_fn = meth_call_fn.replace('.meth_call', '.interval_%s_agg' % interval).replace('.tsv','.bed')\n",
    "    int_agg_tsv_fn = meth_call_fn.replace('.meth_call', '.interval_%s_agg' % interval).replace('.tsv','.tsv.gz')\n",
    "    #print(int_agg_bed_fn, '\\n', int_agg_tsv_fn)\n",
    "    fg = Interval_Aggregate(\n",
    "    cpg_aggregate_fn=cpg_agg_tsv_fn,\n",
    "    ref_fasta_fn=ref_genome,\n",
    "    output_bed_fn=int_agg_bed_fn,\n",
    "    output_tsv_fn=int_agg_tsv_fn,\n",
    "    interval_size=interval,\n",
    "    min_cpg_per_interval=1,\n",
    "    sample_id=sample_id,\n",
    "    progress=True)"
   ]
  },
  {
   "cell_type": "code",
   "execution_count": null,
   "metadata": {},
   "outputs": [],
   "source": []
  }
 ],
 "metadata": {
  "kernelspec": {
   "display_name": "pycoMeth",
   "language": "python",
   "name": "pycometh"
  },
  "language_info": {
   "codemirror_mode": {
    "name": "ipython",
    "version": 3
   },
   "file_extension": ".py",
   "mimetype": "text/x-python",
   "name": "python",
   "nbconvert_exporter": "python",
   "pygments_lexer": "ipython3",
   "version": "3.6.10"
  }
 },
 "nbformat": 4,
 "nbformat_minor": 2
}
