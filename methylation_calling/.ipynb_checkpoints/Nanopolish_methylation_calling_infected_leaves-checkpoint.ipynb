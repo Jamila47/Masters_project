{
 "cells": [
  {
   "cell_type": "markdown",
   "metadata": {},
   "source": [
    "### Notebook to do methylation calling with nanopolish"
   ]
  },
  {
   "cell_type": "code",
   "execution_count": 1,
   "metadata": {},
   "outputs": [],
   "source": [
    "import os\n",
    "from Bio import SeqIO"
   ]
  },
  {
   "cell_type": "code",
   "execution_count": 16,
   "metadata": {},
   "outputs": [],
   "source": [
    "notebook_path = os.path.abspath(\".\")"
   ]
  },
  {
   "cell_type": "code",
   "execution_count": 5,
   "metadata": {},
   "outputs": [],
   "source": [
    "#####One OUT_DIR per treatment. This should be one for germinated spores and one for infected leaves\n",
    "IN_FAST5 = os.path.abspath('../../analyses/single_fast5s/infected_leaves/mapped_fast5s')\n",
    "in_fastq_fn = os.path.abspath('../../data/genomic_data/infected_leaves/all_fastq/infected_leaves_all.all.fastq')\n",
    "seq_sum_fn = os.path.abspath('../../data/genomic_data/infected_leaves/sequencing_summary/infected_leaves_all.sequencing_summary.txt')\n",
    "#####One OUT_DIR per treatment. This should be one for germinated spores and one for infected leaves\n",
    "OUT_DIR = os.path.abspath('../../analyses/pycometh/infected_leaves')\n",
    "meth_freq_script = '/home/jamila/jamila_Storage/scripts/nanopolish_scripts/calculate_methylation_frequency.py'\n",
    "meth_compare_script = '/home/jamila/jamila_Storage/scripts/nanopolish_scripts/co'"
   ]
  },
  {
   "cell_type": "code",
   "execution_count": 14,
   "metadata": {},
   "outputs": [],
   "source": [
    "###file names for rerunning \n",
    "in_fastq_clean_fn = os.path.join(OUT_DIR, os.path.basename(in_fastq_fn).replace('all.fastq','clean_all.fastq'))\n",
    "bam_fn = os.path.basename(ref_genome).replace('.fa', '') \\\n",
    "+'.'+ os.path.basename(in_fastq_clean_fn).replace('.fastq', '.bam')\n",
    "bam_fn = os.path.join(OUT_DIR, bam_fn)\n",
    "meth_call_fn = bam_fn.replace('.bam', '.meth_call.tsv')\n",
    "meth_freq_fn = meth_call_fn.replace( '.meth_call.tsv', '.meth_freq.tsv')"
   ]
  },
  {
   "cell_type": "code",
   "execution_count": 6,
   "metadata": {},
   "outputs": [],
   "source": [
    "ref_genome = os.path.abspath('../../analyses/pycometh/chr_A_B_unassigned.fasta')\n",
    "n_threads = 20"
   ]
  },
  {
   "cell_type": "markdown",
   "metadata": {},
   "source": [
    "# Section 1 checking the input"
   ]
  },
  {
   "cell_type": "code",
   "execution_count": 7,
   "metadata": {},
   "outputs": [],
   "source": [
    "#filer the fastq files to line up with the fast5 files\n",
    "fast5s_names = set([x.replace('.fast5','') for x in os.listdir(IN_FAST5)])"
   ]
  },
  {
   "cell_type": "code",
   "execution_count": null,
   "metadata": {},
   "outputs": [],
   "source": [
    "fastqs = []\n",
    "for seq in SeqIO.parse(in_fastq_fn, 'fastq'):\n",
    "    if seq.id in fast5s_names:\n",
    "        fastqs.append(seq)"
   ]
  },
  {
   "cell_type": "code",
   "execution_count": 8,
   "metadata": {},
   "outputs": [],
   "source": [
    "in_fastq_clean_fn = os.path.join(OUT_DIR, os.path.basename(in_fastq_fn).replace('all.fastq','clean_all.fastq'))"
   ]
  },
  {
   "cell_type": "code",
   "execution_count": null,
   "metadata": {},
   "outputs": [],
   "source": [
    "if len(fastqs) == len(fast5s_names):\n",
    "    in_fastq_clean_fn = os.path.join(OUT_DIR, os.path.basename(in_fastq_fn).replace('all.fastq','clean_all.fastq'))\n",
    "    with open(in_fastq_clean_fn,'w') as fh:\n",
    "        SeqIO.write(fastqs, fh, 'fastq')\n",
    "    print('fastq subsetted')\n",
    "    !head {in_fastq_clean_fn}"
   ]
  },
  {
   "cell_type": "markdown",
   "metadata": {},
   "source": [
    "# Section 2 nanopolish methylation calling"
   ]
  },
  {
   "cell_type": "code",
   "execution_count": 9,
   "metadata": {},
   "outputs": [],
   "source": [
    "#change directory\n",
    "os.chdir(OUT_DIR)\n",
    "basename = os.path.basename(OUT_DIR)"
   ]
  },
  {
   "cell_type": "code",
   "execution_count": null,
   "metadata": {},
   "outputs": [],
   "source": [
    "%%capture cap_out_index\n",
    "%time\n",
    "!nanopolish index -d {IN_FAST5} {in_fastq_clean_fn}"
   ]
  },
  {
   "cell_type": "code",
   "execution_count": null,
   "metadata": {},
   "outputs": [],
   "source": [
    "###print stdout\n",
    "print(cap_out_index.stdout)"
   ]
  },
  {
   "cell_type": "code",
   "execution_count": null,
   "metadata": {},
   "outputs": [],
   "source": [
    "###print stderr\n",
    "print(cap_out_index.stderr)"
   ]
  },
  {
   "cell_type": "code",
   "execution_count": 10,
   "metadata": {},
   "outputs": [
    {
     "name": "stdout",
     "output_type": "stream",
     "text": [
      "/home/jamila/jamila_Storage/analyses/pycometh/infected_leaves/chr_A_B_unassignedsta.infected_leaves_all.clean_all.bam\n"
     ]
    }
   ],
   "source": [
    "bam_fn = os.path.basename(ref_genome).replace('.fa', '') \\\n",
    "+'.'+ os.path.basename(in_fastq_clean_fn).replace('.fastq', '.bam')\n",
    "bam_fn = os.path.join(OUT_DIR, bam_fn)\n",
    "print(bam_fn)"
   ]
  },
  {
   "cell_type": "code",
   "execution_count": 13,
   "metadata": {},
   "outputs": [
    {
     "name": "stdout",
     "output_type": "stream",
     "text": [
      "CPU times: user 5 µs, sys: 1e+03 ns, total: 6 µs\n",
      "Wall time: 13.6 µs\n",
      "[M::mm_idx_gen::3.552*1.58] collected minimizers\n",
      "[M::mm_idx_gen::4.055*2.51] sorted minimizers\n",
      "[M::main::4.055*2.51] loaded/built the index for 207 target sequence(s)\n",
      "[M::mm_mapopt_update::4.378*2.40] mid_occ = 233\n",
      "[M::mm_idx_stat] kmer size: 15; skip: 10; is_hpc: 0; #seq: 207\n",
      "[M::mm_idx_stat::4.607*2.33] distinct minimizers: 13929385 (49.04% are singletons); average occurrences: 2.379; average spacing: 5.333\n",
      "[M::worker_pipeline::81.163*18.31] mapped 67883 sequences\n",
      "[M::worker_pipeline::130.221*18.90] mapped 65636 sequences\n",
      "[M::worker_pipeline::177.703*19.16] mapped 61217 sequences\n",
      "[M::worker_pipeline::222.786*19.31] mapped 73436 sequences\n",
      "[M::worker_pipeline::267.466*19.41] mapped 65188 sequences\n",
      "[M::worker_pipeline::304.230*18.96] mapped 53889 sequences\n",
      "[M::main] Version: 2.17-r941\n",
      "[M::main] CMD: minimap2 -a -t 20 -x map-ont /home/jamila/jamila_Storage/analyses/pycometh/chr_A_B_unassigned.fasta /home/jamila/jamila_Storage/analyses/pycometh/infected_leaves/infected_leaves_all.clean_all.fastq\n",
      "[M::main] Real time: 304.501 sec; CPU: 5768.317 sec; Peak RSS: 11.638 GB\n",
      "[bam_sort_core] merging from 0 files and 20 in-memory blocks...\n"
     ]
    }
   ],
   "source": [
    "#%%capture cap_out_map\n",
    "%time\n",
    "!minimap2 -a -t 20 -x map-ont {ref_genome} {in_fastq_clean_fn} | samtools sort -@20 -T tmp -o {bam_fn}\n",
    "!samtools index -@20 {bam_fn}"
   ]
  },
  {
   "cell_type": "code",
   "execution_count": null,
   "metadata": {},
   "outputs": [],
   "source": [
    "%%capture cap_out_methcall\n",
    "%time\n",
    "!nanopolish call-methylation -t 20 -r {in_fastq_clean_fn} -b {bam_fn} -g {ref_genome} > {meth_call_fn}"
   ]
  },
  {
   "cell_type": "code",
   "execution_count": null,
   "metadata": {},
   "outputs": [],
   "source": [
    "print(cap_out_methcall.stdout)"
   ]
  },
  {
   "cell_type": "code",
   "execution_count": null,
   "metadata": {},
   "outputs": [],
   "source": [
    "!python3 {meth_freq_script} {meth_call_fn} > {meth_freq_fn}"
   ]
  },
  {
   "cell_type": "code",
   "execution_count": null,
   "metadata": {},
   "outputs": [],
   "source": [
    "!head -200 {meth_freq_fn}"
   ]
  },
  {
   "cell_type": "markdown",
   "metadata": {},
   "source": [
    "## Comparative methylation calling with pycometh"
   ]
  },
  {
   "cell_type": "code",
   "execution_count": 39,
   "metadata": {},
   "outputs": [],
   "source": [
    "os.chdir(notebook_path)"
   ]
  },
  {
   "cell_type": "code",
   "execution_count": 43,
   "metadata": {},
   "outputs": [],
   "source": [
    "PYCO_OUT_DIR = os.path.abspath('../../pycometh/comparative/')"
   ]
  },
  {
   "cell_type": "code",
   "execution_count": 19,
   "metadata": {},
   "outputs": [],
   "source": [
    "from pycoMeth.CpG_Aggregate import CpG_Aggregate\n",
    "from pycoMeth.Interval_Aggregate import Interval_Aggregate\n",
    "from pycoMeth.CGI_Finder import CGI_Finder\n",
    "from pycoMeth.Meth_Comp import Meth_Comp\n",
    "# Optionally inport jupyter helper functions\n",
    "from pycoMeth.common import head, jhelp\n",
    "import sys"
   ]
  },
  {
   "cell_type": "code",
   "execution_count": 22,
   "metadata": {},
   "outputs": [],
   "source": [
    "##setup\n",
    "min_depth = 3\n",
    "sample_id = 'infected_leaves'"
   ]
  },
  {
   "cell_type": "code",
   "execution_count": 20,
   "metadata": {},
   "outputs": [],
   "source": [
    "cpg_agg_bed_fn = meth_call_fn.replace('.meth_call', '.CpG_agg').replace('.tsv','.bed')\n",
    "cpg_agg_tsv_fn = meth_call_fn.replace('.meth_call', '.CpG_agg').replace('.tsv','.tsv.gz')"
   ]
  },
  {
   "cell_type": "code",
   "execution_count": 23,
   "metadata": {},
   "outputs": [
    {
     "name": "stderr",
     "output_type": "stream",
     "text": [
      "## Checking options and input files ##\n",
      "## Parsing methylation_calls file ##\n",
      "\tStarting to parse file Nanopolish methylation call file\n",
      "100%|██████████| 3.14G/3.14G [02:51<00:00, 18.3M bytes/s]\n",
      "\tParsing summary\n",
      "\t\tLines Parsed: 30,825,533\n",
      "\t\tLine successfully parsed: 30,825,533\n",
      "\t\tInput files: 1\n",
      "\tFiltering out low coverage sites\n",
      "\tSorting each chromosome by coordinates\n",
      "\tSites summary\n",
      "\t\tTotal Valid Lines: 30,825,533\n",
      "\t\tInitial Sites: 3,270,496\n",
      "\t\tLow Count Sites: 1,828,922\n",
      "\t\tValid Sites Found: 1,441,574\n",
      "## Processing valid sites found and write to file ##\n",
      "100%|██████████| 1.44M/1.44M [01:58<00:00, 12.2k sites/s]\n",
      "\tResults summary\n",
      "\t\tTotal Sites Writen: 1,441,574\n",
      "\t\tUnmethylated sites: 657,050\n",
      "\t\tAmbiguous sites: 435,359\n",
      "\t\tMethylated sites: 349,165\n"
     ]
    }
   ],
   "source": [
    "ff = CpG_Aggregate(nanopolish_fn= meth_call_fn,\n",
    "    ref_fasta_fn=ref_genome,\n",
    "    output_bed_fn=cpg_agg_bed_fn,\n",
    "    output_tsv_fn=cpg_agg_tsv_fn,\n",
    "    sample_id=sample_id,\n",
    "    progress=True)"
   ]
  },
  {
   "cell_type": "code",
   "execution_count": 24,
   "metadata": {},
   "outputs": [
    {
     "name": "stderr",
     "output_type": "stream",
     "text": [
      "## Checking options and input files ##\n",
      "## Parsing CpG_aggregate file ##\n",
      "174M bytes [00:26, 6.59M bytes/s]                        \n",
      "\tResults summary\n",
      "\t\tLines parsed: 1,441,574\n",
      "\t\tTotal number of intervals: 353,009\n",
      "\tWritter summary\n",
      "\t\tEmpty intervals skipped: 194,000\n",
      "\t\tValid intervals written: 159,009\n",
      "## Checking options and input files ##\n",
      "## Parsing CpG_aggregate file ##\n",
      "174M bytes [00:21, 8.10M bytes/s]                        \n",
      "\tResults summary\n",
      "\t\tLines parsed: 1,441,574\n",
      "\t\tTotal number of intervals: 176,557\n",
      "\tWritter summary\n",
      "\t\tValid intervals written: 89,540\n",
      "\t\tEmpty intervals skipped: 87,017\n",
      "## Checking options and input files ##\n",
      "## Parsing CpG_aggregate file ##\n",
      "174M bytes [00:16, 10.6M bytes/s]                        \n",
      "\tResults summary\n",
      "\t\tLines parsed: 1,441,574\n",
      "\t\tTotal number of intervals: 35,389\n",
      "\tWritter summary\n",
      "\t\tValid intervals written: 24,910\n",
      "\t\tEmpty intervals skipped: 10,479\n"
     ]
    }
   ],
   "source": [
    "for fn in [500, 1000, 5000]:\n",
    "    interval = fn\n",
    "    int_agg_bed_fn = meth_call_fn.replace('.meth_call', '.interval_%s_agg' % interval).replace('.tsv','.bed')\n",
    "    int_agg_tsv_fn = meth_call_fn.replace('.meth_call', '.interval_%s_agg' % interval).replace('.tsv','.tsv.gz')\n",
    "    #print(int_agg_bed_fn, '\\n', int_agg_tsv_fn)\n",
    "    fg = Interval_Aggregate(\n",
    "    cpg_aggregate_fn=cpg_agg_tsv_fn,\n",
    "    ref_fasta_fn=ref_genome,\n",
    "    output_bed_fn=int_agg_bed_fn,\n",
    "    output_tsv_fn=int_agg_tsv_fn,\n",
    "    interval_size=interval,\n",
    "    min_cpg_per_interval=1,\n",
    "    sample_id=sample_id,\n",
    "    progress=True)"
   ]
  },
  {
   "cell_type": "code",
   "execution_count": 25,
   "metadata": {},
   "outputs": [
    {
     "data": {
      "text/plain": [
       "'/home/jamila/jamila_Storage/analyses/pycometh/chr_A_B_unassigned.fasta'"
      ]
     },
     "execution_count": 25,
     "metadata": {},
     "output_type": "execute_result"
    }
   ],
   "source": [
    "ref_genome"
   ]
  },
  {
   "cell_type": "code",
   "execution_count": 29,
   "metadata": {
    "collapsed": true
   },
   "outputs": [
    {
     "name": "stderr",
     "output_type": "stream",
     "text": [
      "## Checking options and input files ##\n",
      "## Parsing reference fasta file ##\n",
      "\tParsing Reference sequence: chr1A\n",
      "100%|██████████| 6.16M/6.16M [00:05<00:00, 1.03M bases/s]\n",
      "\tParsing Reference sequence: chr2A\n",
      "100%|██████████| 6.06M/6.06M [00:05<00:00, 1.04M bases/s]\n",
      "\tParsing Reference sequence: chr3A\n",
      "100%|██████████| 6.03M/6.03M [00:05<00:00, 1.04M bases/s]\n",
      "\tParsing Reference sequence: chr4A\n",
      "  0%|          | 0.00/5.97M [00:00<?, ? bases/s]\n",
      "\tResults summary\n",
      "\t\tValid minimal size windows: 3,176,286\n",
      "\t\tValid merged windows: 11,906\n",
      "\t\tNumber of reference sequences: 4\n"
     ]
    },
    {
     "ename": "ZeroDivisionError",
     "evalue": "float division by zero",
     "output_type": "error",
     "traceback": [
      "\u001b[0;31m---------------------------------------------------------------------------\u001b[0m",
      "\u001b[0;31mZeroDivisionError\u001b[0m                         Traceback (most recent call last)",
      "\u001b[0;32m<ipython-input-29-aceeda9da5be>\u001b[0m in \u001b[0;36m<module>\u001b[0;34m\u001b[0m\n\u001b[1;32m      4\u001b[0m     \u001b[0moutput_bed_fn\u001b[0m\u001b[0;34m=\u001b[0m\u001b[0mref_genome\u001b[0m\u001b[0;34m.\u001b[0m\u001b[0mreplace\u001b[0m\u001b[0;34m(\u001b[0m\u001b[0;34m\".fasta\"\u001b[0m\u001b[0;34m,\u001b[0m \u001b[0;34m\".CGI.bed\"\u001b[0m\u001b[0;34m)\u001b[0m\u001b[0;34m,\u001b[0m\u001b[0;34m\u001b[0m\u001b[0;34m\u001b[0m\u001b[0m\n\u001b[1;32m      5\u001b[0m     \u001b[0moutput_tsv_fn\u001b[0m\u001b[0;34m=\u001b[0m\u001b[0mref_genome\u001b[0m\u001b[0;34m.\u001b[0m\u001b[0mreplace\u001b[0m\u001b[0;34m(\u001b[0m\u001b[0;34m\".fasta\"\u001b[0m\u001b[0;34m,\u001b[0m \u001b[0;34m\".CGI.tsv\"\u001b[0m\u001b[0;34m)\u001b[0m\u001b[0;34m,\u001b[0m\u001b[0;34m\u001b[0m\u001b[0;34m\u001b[0m\u001b[0m\n\u001b[0;32m----> 6\u001b[0;31m     progress=True)\n\u001b[0m",
      "\u001b[0;32m~/anaconda3/envs/pycoMeth/lib/python3.6/site-packages/pycoMeth/CGI_Finder.py\u001b[0m in \u001b[0;36mCGI_Finder\u001b[0;34m(ref_fasta_fn, output_tsv_fn, output_bed_fn, merge_gap, min_win_len, min_CG_freq, min_obs_CG_ratio, verbose, quiet, progress, **kwargs)\u001b[0m\n\u001b[1;32m    142\u001b[0m                             \u001b[0;32mif\u001b[0m \u001b[0mprevious_valid\u001b[0m\u001b[0;34m:\u001b[0m\u001b[0;34m\u001b[0m\u001b[0;34m\u001b[0m\u001b[0m\n\u001b[1;32m    143\u001b[0m                                 \u001b[0mcounter\u001b[0m\u001b[0;34m[\u001b[0m\u001b[0;34m\"Valid merged windows\"\u001b[0m\u001b[0;34m]\u001b[0m\u001b[0;34m+=\u001b[0m\u001b[0;36m1\u001b[0m\u001b[0;34m\u001b[0m\u001b[0;34m\u001b[0m\u001b[0m\n\u001b[0;32m--> 144\u001b[0;31m                                 \u001b[0mwin_len\u001b[0m\u001b[0;34m,\u001b[0m \u001b[0mwin_cg_count\u001b[0m\u001b[0;34m,\u001b[0m \u001b[0mwin_cg_freq\u001b[0m\u001b[0;34m,\u001b[0m \u001b[0mwin_obs_exp\u001b[0m \u001b[0;34m=\u001b[0m \u001b[0mcompute_win\u001b[0m \u001b[0;34m(\u001b[0m\u001b[0mseq\u001b[0m\u001b[0;34m[\u001b[0m\u001b[0mvalid_win_start\u001b[0m\u001b[0;34m:\u001b[0m\u001b[0mvalid_win_end\u001b[0m\u001b[0;34m]\u001b[0m\u001b[0;34m)\u001b[0m\u001b[0;34m\u001b[0m\u001b[0;34m\u001b[0m\u001b[0m\n\u001b[0m\u001b[1;32m    145\u001b[0m                                 \u001b[0mwriter\u001b[0m\u001b[0;34m.\u001b[0m\u001b[0mwrite\u001b[0m\u001b[0;34m(\u001b[0m\u001b[0mseq_name\u001b[0m\u001b[0;34m,\u001b[0m \u001b[0mvalid_win_start\u001b[0m\u001b[0;34m,\u001b[0m \u001b[0mvalid_win_end\u001b[0m\u001b[0;34m,\u001b[0m \u001b[0mwin_len\u001b[0m\u001b[0;34m,\u001b[0m \u001b[0mwin_cg_count\u001b[0m\u001b[0;34m,\u001b[0m \u001b[0mwin_cg_freq\u001b[0m\u001b[0;34m,\u001b[0m \u001b[0mwin_obs_exp\u001b[0m\u001b[0;34m)\u001b[0m\u001b[0;34m\u001b[0m\u001b[0;34m\u001b[0m\u001b[0m\n\u001b[1;32m    146\u001b[0m \u001b[0;34m\u001b[0m\u001b[0m\n",
      "\u001b[0;32m~/anaconda3/envs/pycoMeth/lib/python3.6/site-packages/pycoMeth/CGI_Finder.py\u001b[0m in \u001b[0;36mcompute_win\u001b[0;34m(win_seq)\u001b[0m\n\u001b[1;32m    238\u001b[0m \u001b[0;34m\u001b[0m\u001b[0m\n\u001b[1;32m    239\u001b[0m     \u001b[0mcg_freq\u001b[0m \u001b[0;34m=\u001b[0m \u001b[0;34m(\u001b[0m\u001b[0mc_count\u001b[0m\u001b[0;34m+\u001b[0m\u001b[0mg_count\u001b[0m\u001b[0;34m)\u001b[0m\u001b[0;34m/\u001b[0m\u001b[0mwin_len\u001b[0m\u001b[0;34m\u001b[0m\u001b[0;34m\u001b[0m\u001b[0m\n\u001b[0;32m--> 240\u001b[0;31m     \u001b[0mobs_exp\u001b[0m \u001b[0;34m=\u001b[0m \u001b[0mcg_count\u001b[0m\u001b[0;34m/\u001b[0m\u001b[0;34m(\u001b[0m\u001b[0mc_count\u001b[0m\u001b[0;34m*\u001b[0m\u001b[0mg_count\u001b[0m\u001b[0;34m/\u001b[0m\u001b[0mwin_len\u001b[0m\u001b[0;34m)\u001b[0m\u001b[0;34m\u001b[0m\u001b[0;34m\u001b[0m\u001b[0m\n\u001b[0m\u001b[1;32m    241\u001b[0m \u001b[0;34m\u001b[0m\u001b[0m\n\u001b[1;32m    242\u001b[0m     \u001b[0;32mreturn\u001b[0m \u001b[0;34m(\u001b[0m\u001b[0mwin_len\u001b[0m\u001b[0;34m,\u001b[0m \u001b[0mcg_count\u001b[0m\u001b[0;34m,\u001b[0m \u001b[0mcg_freq\u001b[0m\u001b[0;34m,\u001b[0m \u001b[0mobs_exp\u001b[0m\u001b[0;34m)\u001b[0m\u001b[0;34m\u001b[0m\u001b[0;34m\u001b[0m\u001b[0m\n",
      "\u001b[0;31mZeroDivisionError\u001b[0m: float division by zero"
     ]
    }
   ],
   "source": [
    "###CGI island finder -> error might fix it\n",
    "fl = CGI_Finder (\n",
    "    ref_fasta_fn=ref_genome,\n",
    "    output_bed_fn=ref_genome.replace(\".fasta\", \".CGI.bed\"),\n",
    "    output_tsv_fn=ref_genome.replace(\".fasta\", \".CGI.tsv\"),\n",
    "    progress=True)"
   ]
  },
  {
   "cell_type": "code",
   "execution_count": 31,
   "metadata": {},
   "outputs": [],
   "source": [
    "cpg_agg_il_tsv = cpg_agg_tsv_fn\n",
    "cpg_agg_sp_tsv = '/home/jamila/jamila_Storage/analyses/pycometh/germinated_spores/chr_A_B_unassignedsta.germinated_spores_1.clean_all.CpG_agg.tsv.gz'"
   ]
  },
  {
   "cell_type": "code",
   "execution_count": 32,
   "metadata": {},
   "outputs": [
    {
     "data": {
      "text/plain": [
       "'/home/jamila/jamila_Storage/analyses/pycometh/chr_A_B_unassigned.fasta'"
      ]
     },
     "execution_count": 32,
     "metadata": {},
     "output_type": "execute_result"
    }
   ],
   "source": [
    "ref_genome"
   ]
  },
  {
   "cell_type": "code",
   "execution_count": 45,
   "metadata": {},
   "outputs": [
    {
     "name": "stderr",
     "output_type": "stream",
     "text": [
      "## Checking options and input files ##\n",
      "## Parsing files ##\n",
      "\tReading input files header and checking consistancy between headers\n",
      "\tStarting asynchronous file parsing\n",
      "324M bytes [01:06, 4.89M bytes/s]                       \n",
      "\tAdjust pvalues\n",
      "\tWriting output file\n",
      "100%|██████████| 34.2k/34.2k [00:04<00:00, 8.45k sites/s]\n",
      "\tResults summary\n",
      "\t\tSites with insufficient samples: 1,551,785\n",
      "\t\tSites with insufficient effect size: 553,811\n",
      "\t\tValid sites: 34,242\n",
      "\t\tSites with non-significant adjusted pvalue: 33,945\n",
      "\t\tSites with non-significant pvalue: 31,623\n",
      "\t\tSites with significant pvalue: 2,619\n",
      "\t\tSites with significant adjusted pvalue: 297\n"
     ]
    }
   ],
   "source": [
    "fg = Meth_Comp (\n",
    "    aggregate_fn_list=[cpg_agg_il_tsv, cpg_agg_sp_tsv],\n",
    "    ref_fasta_fn=ref_genome,\n",
    "    output_bed_fn=os.path.join(PYCO_OUT_DIR, 'Pgt21-0.comp_CpG.il_sp.bed'),\n",
    "    output_tsv_fn=os.path.join(PYCO_OUT_DIR, 'Pgt21-0.comp_CpG.il_sp.tsv.gz'),\n",
    "    sample_id_list=['infected_leaves',\"spores\"],\n",
    "    max_missing = 1,\n",
    "    min_diff_llr = 0,\n",
    "    progress=True)"
   ]
  },
  {
   "cell_type": "code",
   "execution_count": 46,
   "metadata": {},
   "outputs": [
    {
     "name": "stderr",
     "output_type": "stream",
     "text": [
      "## Checking options and input files ##\n",
      "## Parsing files ##\n",
      "\tReading input files header and checking consistancy between headers\n",
      "\tStarting asynchronous file parsing\n",
      "324M bytes [00:52, 6.12M bytes/s]                       \n",
      "\tAdjust pvalues\n",
      "\tWriting output file\n",
      "100%|██████████| 6.17k/6.17k [00:00<00:00, 9.59k sites/s]\n",
      "\tResults summary\n",
      "\t\tSites with insufficient samples: 1,551,785\n",
      "\t\tSites with insufficient effect size: 581,884\n",
      "\t\tValid sites: 6,169\n",
      "\t\tSites with non-significant adjusted pvalue: 6,169\n",
      "\t\tSites with non-significant pvalue: 5,468\n",
      "\t\tSites with significant pvalue: 701\n"
     ]
    }
   ],
   "source": [
    "int_agg_il_tsv = \"/home/jamila/jamila_Storage/analyses/pycometh/infected_leaves/chr_A_B_unassignedsta.infected_leaves_all.clean_all.interval_1000_agg.tsv.gz\"\n",
    "int_agg_sp_tsv = \"/home/jamila/jamila_Storage/analyses/pycometh/germinated_spores/chr_A_B_unassignedsta.germinated_spores_1.clean_all.interval_1000_agg.tsv.gz\"\n",
    "fg = Meth_Comp (\n",
    "    aggregate_fn_list=[cpg_agg_il_tsv, cpg_agg_sp_tsv],\n",
    "    ref_fasta_fn=ref_genome,\n",
    "    output_bed_fn=os.path.join(PYCO_OUT_DIR, 'Pgt21-0.comp_w1000.il_sp.bed'),\n",
    "    output_tsv_fn=os.path.join(PYCO_OUT_DIR, 'Pgt21-0.comp_w1000.il_sp.tsv.gz'),\n",
    "    sample_id_list=['infected_leaves',\"spores\"],\n",
    "    max_missing = 1,\n",
    "    min_diff_llr = 1,\n",
    "    progress=True)"
   ]
  },
  {
   "cell_type": "code",
   "execution_count": null,
   "metadata": {},
   "outputs": [],
   "source": []
  }
 ],
 "metadata": {
  "kernelspec": {
   "display_name": "pycoMeth",
   "language": "python",
   "name": "pycometh"
  },
  "language_info": {
   "codemirror_mode": {
    "name": "ipython",
    "version": 3
   },
   "file_extension": ".py",
   "mimetype": "text/x-python",
   "name": "python",
   "nbconvert_exporter": "python",
   "pygments_lexer": "ipython3",
   "version": "3.6.10"
  }
 },
 "nbformat": 4,
 "nbformat_minor": 2
}
