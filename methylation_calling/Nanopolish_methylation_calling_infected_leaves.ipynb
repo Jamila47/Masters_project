{
 "cells": [
  {
   "cell_type": "markdown",
   "metadata": {},
   "source": [
    "### Notebook to do methylation calling with nanopolish"
   ]
  },
  {
   "cell_type": "code",
   "execution_count": 1,
   "metadata": {},
   "outputs": [],
   "source": [
    "import os\n",
    "from Bio import SeqIO"
   ]
  },
  {
   "cell_type": "code",
   "execution_count": 2,
   "metadata": {},
   "outputs": [],
   "source": [
    "notebook_path = os.path.abspath(\".\")"
   ]
  },
  {
   "cell_type": "code",
   "execution_count": 3,
   "metadata": {},
   "outputs": [],
   "source": [
    "#####One OUT_DIR per treatment. This should be one for germinated spores and one for infected leaves\n",
    "IN_FAST5 = os.path.abspath('../../analyses/single_fast5s/infected_leaves/mapped_fast5s')\n",
    "in_fastq_fn = os.path.abspath('../../data/genomic_data/infected_leaves/all_fastq/infected_leaves_all.all.fastq')\n",
    "seq_sum_fn = os.path.abspath('../../data/genomic_data/infected_leaves/sequencing_summary/infected_leaves_all.sequencing_summary.txt')\n",
    "#####One OUT_DIR per treatment. This should be one for germinated spores and one for infected leaves\n",
    "OUT_DIR = os.path.abspath('../../analyses/pycometh/infected_leaves')\n",
    "meth_freq_script = '/home/jamila/jamila_Storage/scripts/nanopolish_scripts/calculate_methylation_frequency.py'\n",
    "meth_compare_script = '/home/jamila/jamila_Storage/scripts/nanopolish_scripts/co'"
   ]
  },
  {
   "cell_type": "code",
   "execution_count": 5,
   "metadata": {},
   "outputs": [],
   "source": [
    "ref_genome = os.path.abspath('../../analyses/pycometh/chr_A_B_unassigned.fasta')\n",
    "n_threads = 20"
   ]
  },
  {
   "cell_type": "code",
   "execution_count": 6,
   "metadata": {},
   "outputs": [],
   "source": [
    "###file names for rerunning \n",
    "in_fastq_clean_fn = os.path.join(OUT_DIR, os.path.basename(in_fastq_fn).replace('all.fastq','clean_all.fastq'))\n",
    "bam_fn = os.path.basename(ref_genome).replace('.fa', '') \\\n",
    "+'.'+ os.path.basename(in_fastq_clean_fn).replace('.fastq', '.bam')\n",
    "bam_fn = os.path.join(OUT_DIR, bam_fn)\n",
    "meth_call_fn = bam_fn.replace('.bam', '.meth_call.tsv')\n",
    "meth_freq_fn = meth_call_fn.replace( '.meth_call.tsv', '.meth_freq.tsv')"
   ]
  },
  {
   "cell_type": "markdown",
   "metadata": {},
   "source": [
    "# Section 1 checking the input"
   ]
  },
  {
   "cell_type": "code",
   "execution_count": null,
   "metadata": {},
   "outputs": [],
   "source": [
    "#filer the fastq files to line up with the fast5 files\n",
    "fast5s_names = set([x.replace('.fast5','') for x in os.listdir(IN_FAST5)])"
   ]
  },
  {
   "cell_type": "code",
   "execution_count": null,
   "metadata": {},
   "outputs": [],
   "source": [
    "fastqs = []\n",
    "for seq in SeqIO.parse(in_fastq_fn, 'fastq'):\n",
    "    if seq.id in fast5s_names:\n",
    "        fastqs.append(seq)"
   ]
  },
  {
   "cell_type": "code",
   "execution_count": null,
   "metadata": {},
   "outputs": [],
   "source": [
    "in_fastq_clean_fn = os.path.join(OUT_DIR, os.path.basename(in_fastq_fn).replace('all.fastq','clean_all.fastq'))"
   ]
  },
  {
   "cell_type": "code",
   "execution_count": null,
   "metadata": {},
   "outputs": [],
   "source": [
    "if len(fastqs) == len(fast5s_names):\n",
    "    in_fastq_clean_fn = os.path.join(OUT_DIR, os.path.basename(in_fastq_fn).replace('all.fastq','clean_all.fastq'))\n",
    "    with open(in_fastq_clean_fn,'w') as fh:\n",
    "        SeqIO.write(fastqs, fh, 'fastq')\n",
    "    print('fastq subsetted')\n",
    "    !head {in_fastq_clean_fn}"
   ]
  },
  {
   "cell_type": "markdown",
   "metadata": {},
   "source": [
    "# Section 2 nanopolish methylation calling"
   ]
  },
  {
   "cell_type": "code",
   "execution_count": null,
   "metadata": {},
   "outputs": [],
   "source": [
    "#change directory\n",
    "os.chdir(OUT_DIR)\n",
    "basename = os.path.basename(OUT_DIR)"
   ]
  },
  {
   "cell_type": "code",
   "execution_count": null,
   "metadata": {},
   "outputs": [],
   "source": [
    "%%capture cap_out_index\n",
    "%time\n",
    "!nanopolish index -d {IN_FAST5} {in_fastq_clean_fn}"
   ]
  },
  {
   "cell_type": "code",
   "execution_count": null,
   "metadata": {},
   "outputs": [],
   "source": [
    "###print stdout\n",
    "print(cap_out_index.stdout)"
   ]
  },
  {
   "cell_type": "code",
   "execution_count": null,
   "metadata": {},
   "outputs": [],
   "source": [
    "###print stderr\n",
    "print(cap_out_index.stderr)"
   ]
  },
  {
   "cell_type": "code",
   "execution_count": null,
   "metadata": {},
   "outputs": [],
   "source": [
    "bam_fn = os.path.basename(ref_genome).replace('.fa', '') \\\n",
    "+'.'+ os.path.basename(in_fastq_clean_fn).replace('.fastq', '.bam')\n",
    "bam_fn = os.path.join(OUT_DIR, bam_fn)\n",
    "print(bam_fn)"
   ]
  },
  {
   "cell_type": "code",
   "execution_count": null,
   "metadata": {},
   "outputs": [],
   "source": [
    "#%%capture cap_out_map\n",
    "%time\n",
    "!minimap2 -a -t 20 -x map-ont {ref_genome} {in_fastq_clean_fn} | samtools sort -@20 -T tmp -o {bam_fn}\n",
    "!samtools index -@20 {bam_fn}"
   ]
  },
  {
   "cell_type": "code",
   "execution_count": null,
   "metadata": {},
   "outputs": [],
   "source": [
    "%%capture cap_out_methcall\n",
    "%time\n",
    "!nanopolish call-methylation -t 20 -r {in_fastq_clean_fn} -b {bam_fn} -g {ref_genome} > {meth_call_fn}"
   ]
  },
  {
   "cell_type": "code",
   "execution_count": null,
   "metadata": {},
   "outputs": [],
   "source": [
    "print(cap_out_methcall.stdout)"
   ]
  },
  {
   "cell_type": "code",
   "execution_count": null,
   "metadata": {},
   "outputs": [],
   "source": [
    "!python3 {meth_freq_script} {meth_call_fn} > {meth_freq_fn}"
   ]
  },
  {
   "cell_type": "code",
   "execution_count": null,
   "metadata": {},
   "outputs": [],
   "source": [
    "!head -200 {meth_freq_fn}"
   ]
  },
  {
   "cell_type": "markdown",
   "metadata": {},
   "source": [
    "## Comparative methylation calling with pycometh"
   ]
  },
  {
   "cell_type": "code",
   "execution_count": 7,
   "metadata": {},
   "outputs": [],
   "source": [
    "os.chdir(notebook_path)"
   ]
  },
  {
   "cell_type": "code",
   "execution_count": 8,
   "metadata": {},
   "outputs": [],
   "source": [
    "PYCO_OUT_DIR = os.path.abspath('../../pycometh/comparative/')"
   ]
  },
  {
   "cell_type": "code",
   "execution_count": 9,
   "metadata": {},
   "outputs": [],
   "source": [
    "from pycoMeth.CpG_Aggregate import CpG_Aggregate\n",
    "from pycoMeth.Interval_Aggregate import Interval_Aggregate\n",
    "from pycoMeth.CGI_Finder import CGI_Finder\n",
    "from pycoMeth.Meth_Comp import Meth_Comp\n",
    "# Optionally inport jupyter helper functions\n",
    "from pycoMeth.common import head, jhelp\n",
    "import sys"
   ]
  },
  {
   "cell_type": "code",
   "execution_count": 10,
   "metadata": {},
   "outputs": [],
   "source": [
    "##setup\n",
    "min_depth = 3\n",
    "sample_id = 'infected_leaves'"
   ]
  },
  {
   "cell_type": "code",
   "execution_count": 11,
   "metadata": {},
   "outputs": [],
   "source": [
    "cpg_agg_bed_fn = meth_call_fn.replace('.meth_call', '.CpG_agg').replace('.tsv','.bed')\n",
    "cpg_agg_tsv_fn = meth_call_fn.replace('.meth_call', '.CpG_agg').replace('.tsv','.tsv.gz')"
   ]
  },
  {
   "cell_type": "code",
   "execution_count": 12,
   "metadata": {},
   "outputs": [
    {
     "name": "stderr",
     "output_type": "stream",
     "text": [
      "\u001b[01;34m## Checking options and input files ##\u001b[0m\n",
      "\u001b[01;34m## Parsing methylation_calls file ##\u001b[0m\n",
      "\u001b[32m\tStarting to parse file Nanopolish methylation call file\u001b[0m\n",
      "\tProgress: 100%|██████████| 3.14G/3.14G [03:50<00:00, 13.7M bytes/s]\n",
      "\u001b[32m\tParsing summary\u001b[0m\n",
      "\u001b[32m\t\tLines Parsed: 30,825,533\u001b[0m\n",
      "\u001b[32m\t\tLine successfully parsed: 30,825,533\u001b[0m\n",
      "\u001b[32m\t\tInput files: 1\u001b[0m\n",
      "\u001b[32m\tFiltering out low coverage sites\u001b[0m\n",
      "\u001b[32m\tSorting each chromosome by coordinates\u001b[0m\n",
      "\u001b[32m\tSites summary\u001b[0m\n",
      "\u001b[32m\t\tTotal Valid Lines: 30,825,533\u001b[0m\n",
      "\u001b[32m\t\tInitial Sites: 3,270,496\u001b[0m\n",
      "\u001b[32m\t\tLow Count Sites: 1,828,922\u001b[0m\n",
      "\u001b[32m\t\tValid Sites Found: 1,441,574\u001b[0m\n",
      "\u001b[01;34m## Processing valid sites found and write to file ##\u001b[0m\n",
      "\tProgress: 100%|██████████| 1.44M/1.44M [02:59<00:00, 8.01k sites/s]\n",
      "\u001b[32m\tResults summary\u001b[0m\n",
      "\u001b[32m\t\tTotal Sites Writen: 1,441,574\u001b[0m\n",
      "\u001b[32m\t\tUnmethylated sites: 657,050\u001b[0m\n",
      "\u001b[32m\t\tAmbiguous sites: 435,359\u001b[0m\n",
      "\u001b[32m\t\tMethylated sites: 349,165\u001b[0m\n"
     ]
    }
   ],
   "source": [
    "ff = CpG_Aggregate(nanopolish_fn= meth_call_fn,\n",
    "    ref_fasta_fn=ref_genome,\n",
    "    output_bed_fn=cpg_agg_bed_fn,\n",
    "    output_tsv_fn=cpg_agg_tsv_fn,\n",
    "    sample_id=sample_id,\n",
    "    progress=True)"
   ]
  },
  {
   "cell_type": "code",
   "execution_count": 13,
   "metadata": {},
   "outputs": [
    {
     "name": "stderr",
     "output_type": "stream",
     "text": [
      "\u001b[01;34m## Checking options and input files ##\u001b[0m\n",
      "\u001b[01;34m## Parsing CpG_aggregate file ##\u001b[0m\n",
      "\tProgress: 172M bytes [00:31, 5.45M bytes/s]                        \n",
      "\u001b[32m\tResults summary\u001b[0m\n",
      "\u001b[32m\t\tLines parsed: 1,441,574\u001b[0m\n",
      "\u001b[32m\t\tTotal number of intervals: 353,009\u001b[0m\n",
      "\u001b[32m\tWritter summary\u001b[0m\n",
      "\u001b[32m\t\tEmpty intervals skipped: 194,000\u001b[0m\n",
      "\u001b[32m\t\tValid intervals written: 159,009\u001b[0m\n",
      "\u001b[01;34m## Checking options and input files ##\u001b[0m\n",
      "\u001b[01;34m## Parsing CpG_aggregate file ##\u001b[0m\n",
      "\tProgress: 172M bytes [00:26, 6.45M bytes/s]                        \n",
      "\u001b[32m\tResults summary\u001b[0m\n",
      "\u001b[32m\t\tLines parsed: 1,441,574\u001b[0m\n",
      "\u001b[32m\t\tTotal number of intervals: 176,557\u001b[0m\n",
      "\u001b[32m\tWritter summary\u001b[0m\n",
      "\u001b[32m\t\tValid intervals written: 89,540\u001b[0m\n",
      "\u001b[32m\t\tEmpty intervals skipped: 87,017\u001b[0m\n",
      "\u001b[01;34m## Checking options and input files ##\u001b[0m\n",
      "\u001b[01;34m## Parsing CpG_aggregate file ##\u001b[0m\n",
      "\tProgress: 172M bytes [00:17, 9.78M bytes/s]                        \n",
      "\u001b[32m\tResults summary\u001b[0m\n",
      "\u001b[32m\t\tLines parsed: 1,441,574\u001b[0m\n",
      "\u001b[32m\t\tTotal number of intervals: 35,389\u001b[0m\n",
      "\u001b[32m\tWritter summary\u001b[0m\n",
      "\u001b[32m\t\tValid intervals written: 24,910\u001b[0m\n",
      "\u001b[32m\t\tEmpty intervals skipped: 10,479\u001b[0m\n"
     ]
    }
   ],
   "source": [
    "for fn in [500, 1000, 5000]:\n",
    "    interval = fn\n",
    "    int_agg_bed_fn = meth_call_fn.replace('.meth_call', '.interval_%s_agg' % interval).replace('.tsv','.bed')\n",
    "    int_agg_tsv_fn = meth_call_fn.replace('.meth_call', '.interval_%s_agg' % interval).replace('.tsv','.tsv.gz')\n",
    "    #print(int_agg_bed_fn, '\\n', int_agg_tsv_fn)\n",
    "    fg = Interval_Aggregate(\n",
    "    cpg_aggregate_fn=cpg_agg_tsv_fn,\n",
    "    ref_fasta_fn=ref_genome,\n",
    "    output_bed_fn=int_agg_bed_fn,\n",
    "    output_tsv_fn=int_agg_tsv_fn,\n",
    "    interval_size=interval,\n",
    "    min_cpg_per_interval=1,\n",
    "    sample_id=sample_id,\n",
    "    progress=True)"
   ]
  },
  {
   "cell_type": "code",
   "execution_count": 14,
   "metadata": {},
   "outputs": [
    {
     "name": "stderr",
     "output_type": "stream",
     "text": [
      "\u001b[01;34m## Checking options and input files ##\u001b[0m\n",
      "\u001b[01;34m## Parsing reference fasta file ##\u001b[0m\n",
      "\u001b[32m\tParsing Reference sequence: chr1A\u001b[0m\n",
      "\tProgress: 100%|██████████| 6.16M/6.16M [00:05<00:00, 1.07M bases/s]\n",
      "\u001b[32m\tParsing Reference sequence: chr2A\u001b[0m\n",
      "\tProgress: 100%|██████████| 6.06M/6.06M [00:05<00:00, 1.09M bases/s]\n",
      "\u001b[32m\tParsing Reference sequence: chr3A\u001b[0m\n",
      "\tProgress: 100%|██████████| 6.03M/6.03M [00:05<00:00, 1.04M bases/s]\n",
      "\u001b[32m\tParsing Reference sequence: chr4A\u001b[0m\n",
      "\tProgress: 100%|██████████| 5.97M/5.97M [00:05<00:00, 1.05M bases/s]\n",
      "\u001b[32m\tParsing Reference sequence: chr5A\u001b[0m\n",
      "\tProgress: 100%|██████████| 5.56M/5.56M [00:05<00:00, 1.03M bases/s]\n",
      "\u001b[32m\tParsing Reference sequence: chr6A\u001b[0m\n",
      "\tProgress: 100%|██████████| 5.55M/5.55M [00:05<00:00, 1.08M bases/s]\n",
      "\u001b[32m\tParsing Reference sequence: chr7A\u001b[0m\n",
      "\tProgress: 100%|██████████| 5.18M/5.18M [00:04<00:00, 1.08M bases/s]\n",
      "\u001b[32m\tParsing Reference sequence: chr8A\u001b[0m\n",
      "\tProgress: 100%|██████████| 5.11M/5.11M [00:04<00:00, 1.07M bases/s]\n",
      "\u001b[32m\tParsing Reference sequence: chr9A\u001b[0m\n",
      "\tProgress: 100%|██████████| 4.79M/4.79M [00:04<00:00, 1.07M bases/s]\n",
      "\u001b[32m\tParsing Reference sequence: chr10A\u001b[0m\n",
      "\tProgress: 100%|██████████| 4.65M/4.65M [00:04<00:00, 1.07M bases/s]\n",
      "\u001b[32m\tParsing Reference sequence: chr11A\u001b[0m\n",
      "\tProgress: 100%|██████████| 4.64M/4.64M [00:04<00:00, 1.04M bases/s]\n",
      "\u001b[32m\tParsing Reference sequence: chr12A\u001b[0m\n",
      "\tProgress: 100%|██████████| 3.98M/3.98M [00:03<00:00, 1.07M bases/s]\n",
      "\u001b[32m\tParsing Reference sequence: chr13A\u001b[0m\n",
      "\tProgress: 100%|██████████| 3.57M/3.57M [00:03<00:00, 1.10M bases/s]\n",
      "\u001b[32m\tParsing Reference sequence: chr14A\u001b[0m\n",
      "\tProgress: 100%|██████████| 3.57M/3.57M [00:03<00:00, 1.08M bases/s]\n",
      "\u001b[32m\tParsing Reference sequence: chr15A\u001b[0m\n",
      "\tProgress: 100%|██████████| 3.49M/3.49M [00:03<00:00, 1.08M bases/s]\n",
      "\u001b[32m\tParsing Reference sequence: chr16A\u001b[0m\n",
      "\tProgress: 100%|██████████| 3.43M/3.43M [00:03<00:00, 1.05M bases/s]\n",
      "\u001b[32m\tParsing Reference sequence: chr17A\u001b[0m\n",
      "\tProgress: 100%|██████████| 3.32M/3.32M [00:03<00:00, 1.05M bases/s]\n",
      "\u001b[32m\tParsing Reference sequence: chr18A\u001b[0m\n",
      "\tProgress: 100%|██████████| 2.87M/2.87M [00:02<00:00, 1.04M bases/s]\n",
      "\u001b[32m\tParsing Reference sequence: chr1B\u001b[0m\n",
      "\tProgress: 100%|██████████| 6.53M/6.53M [00:06<00:00, 1.06M bases/s]\n",
      "\u001b[32m\tParsing Reference sequence: chr2B\u001b[0m\n",
      "\tProgress: 100%|██████████| 6.11M/6.11M [00:05<00:00, 1.07M bases/s]\n",
      "\u001b[32m\tParsing Reference sequence: chr3B\u001b[0m\n",
      "\tProgress: 100%|██████████| 4.93M/4.93M [00:04<00:00, 1.08M bases/s]\n",
      "\u001b[32m\tParsing Reference sequence: chr4B\u001b[0m\n",
      "\tProgress: 100%|██████████| 6.36M/6.36M [00:05<00:00, 1.07M bases/s]\n",
      "\u001b[32m\tParsing Reference sequence: chr5B\u001b[0m\n",
      "\tProgress: 100%|██████████| 7.28M/7.28M [00:06<00:00, 1.07M bases/s]\n",
      "\u001b[32m\tParsing Reference sequence: chr6B\u001b[0m\n",
      "\tProgress: 100%|██████████| 5.25M/5.25M [00:04<00:00, 1.11M bases/s]\n",
      "\u001b[32m\tParsing Reference sequence: chr7B\u001b[0m\n",
      "\tProgress: 100%|██████████| 5.50M/5.50M [00:05<00:00, 1.09M bases/s]\n",
      "\u001b[32m\tParsing Reference sequence: chr8B\u001b[0m\n",
      "\tProgress: 100%|██████████| 2.82M/2.82M [00:02<00:00, 1.05M bases/s]\n",
      "\u001b[32m\tParsing Reference sequence: chr9B\u001b[0m\n",
      "\tProgress: 100%|██████████| 5.14M/5.14M [00:04<00:00, 1.05M bases/s]\n",
      "\u001b[32m\tParsing Reference sequence: chr10B\u001b[0m\n",
      "\tProgress: 100%|██████████| 4.98M/4.98M [00:04<00:00, 1.07M bases/s]\n",
      "\u001b[32m\tParsing Reference sequence: chr11B\u001b[0m\n",
      "\tProgress: 100%|██████████| 4.95M/4.95M [00:04<00:00, 1.04M bases/s]\n",
      "\u001b[32m\tParsing Reference sequence: chr12B\u001b[0m\n",
      "\tProgress: 100%|██████████| 3.94M/3.94M [00:03<00:00, 1.04M bases/s]\n",
      "\u001b[32m\tParsing Reference sequence: chr13B\u001b[0m\n",
      "\tProgress: 100%|██████████| 3.31M/3.31M [00:03<00:00, 1.02M bases/s]\n",
      "\u001b[32m\tParsing Reference sequence: chr14B\u001b[0m\n",
      "\tProgress: 100%|██████████| 3.56M/3.56M [00:03<00:00, 1.02M bases/s]\n",
      "\u001b[32m\tParsing Reference sequence: chr15B\u001b[0m\n",
      "\tProgress: 100%|██████████| 3.44M/3.44M [00:03<00:00, 1.01M bases/s]\n",
      "\u001b[32m\tParsing Reference sequence: chr16B\u001b[0m\n",
      "\tProgress: 100%|██████████| 5.89M/5.89M [00:05<00:00, 1.03M bases/s]\n",
      "\u001b[32m\tParsing Reference sequence: chr17B\u001b[0m\n",
      "\tProgress: 100%|██████████| 2.94M/2.94M [00:02<00:00, 1.06M bases/s]\n",
      "\u001b[32m\tParsing Reference sequence: chr18B\u001b[0m\n",
      "\tProgress: 100%|██████████| 3.06M/3.06M [00:02<00:00, 1.03M bases/s]\n",
      "\u001b[32m\tParsing Reference sequence: tig00000006\u001b[0m\n",
      "\tProgress: 100%|██████████| 31.2k/31.2k [00:00<00:00, 997k bases/s]\n",
      "\u001b[32m\tParsing Reference sequence: tig00000081\u001b[0m\n",
      "\tProgress: 100%|██████████| 45.4k/45.4k [00:00<00:00, 943k bases/s]\n",
      "\u001b[32m\tParsing Reference sequence: tig00000090\u001b[0m\n",
      "\tProgress: 100%|██████████| 24.1k/24.1k [00:00<00:00, 945k bases/s]\n",
      "\u001b[32m\tParsing Reference sequence: tig00000098\u001b[0m\n",
      "\tProgress: 100%|██████████| 23.7k/23.7k [00:00<00:00, 969k bases/s]\n",
      "\u001b[32m\tParsing Reference sequence: tig00000099\u001b[0m\n",
      "\tProgress: 100%|██████████| 52.9k/52.9k [00:00<00:00, 1.09M bases/s]\n",
      "\u001b[32m\tParsing Reference sequence: tig00000100\u001b[0m\n",
      "\tProgress: 100%|██████████| 29.8k/29.8k [00:00<00:00, 926k bases/s]\n",
      "\u001b[32m\tParsing Reference sequence: tig00000126\u001b[0m\n",
      "\tProgress: 100%|██████████| 29.7k/29.7k [00:00<00:00, 1.03M bases/s]\n",
      "\u001b[32m\tParsing Reference sequence: tig00000129\u001b[0m\n",
      "\tProgress: 100%|██████████| 51.0k/51.0k [00:00<00:00, 985k bases/s]\n",
      "\u001b[32m\tParsing Reference sequence: tig00000130\u001b[0m\n",
      "\tProgress: 100%|██████████| 58.5k/58.5k [00:00<00:00, 1.06M bases/s]\n",
      "\u001b[32m\tParsing Reference sequence: tig00000140\u001b[0m\n",
      "\tProgress: 100%|██████████| 25.3k/25.3k [00:00<00:00, 1.03M bases/s]\n",
      "\u001b[32m\tParsing Reference sequence: tig00000141\u001b[0m\n",
      "\tProgress: 100%|██████████| 31.8k/31.8k [00:00<00:00, 1.01M bases/s]\n",
      "\u001b[32m\tParsing Reference sequence: tig00000154\u001b[0m\n",
      "\tProgress: 100%|██████████| 31.9k/31.9k [00:00<00:00, 992k bases/s]\n",
      "\u001b[32m\tParsing Reference sequence: tig00000159\u001b[0m\n",
      "\tProgress: 100%|██████████| 34.4k/34.4k [00:00<00:00, 1.01M bases/s]\n",
      "\u001b[32m\tParsing Reference sequence: tig00000161\u001b[0m\n",
      "\tProgress: 100%|██████████| 34.5k/34.5k [00:00<00:00, 980k bases/s]\n",
      "\u001b[32m\tParsing Reference sequence: tig00000167\u001b[0m\n",
      "\tProgress: 100%|██████████| 72.6k/72.6k [00:00<00:00, 1.03M bases/s]\n",
      "\u001b[32m\tParsing Reference sequence: tig00000168\u001b[0m\n",
      "\tProgress: 100%|██████████| 65.0k/65.0k [00:00<00:00, 1.11M bases/s]\n",
      "\u001b[32m\tParsing Reference sequence: tig00000170\u001b[0m\n",
      "\tProgress: 100%|██████████| 43.0k/43.0k [00:00<00:00, 1.01M bases/s]\n",
      "\u001b[32m\tParsing Reference sequence: tig00000217\u001b[0m\n",
      "\tProgress: 100%|██████████| 50.3k/50.3k [00:00<00:00, 1.08M bases/s]\n",
      "\u001b[32m\tParsing Reference sequence: tig00000219\u001b[0m\n",
      "\tProgress: 100%|██████████| 34.1k/34.1k [00:00<00:00, 1.07M bases/s]\n",
      "\u001b[32m\tParsing Reference sequence: tig00000231\u001b[0m\n",
      "\tProgress: 100%|██████████| 60.0k/60.0k [00:00<00:00, 1.10M bases/s]\n",
      "\u001b[32m\tParsing Reference sequence: tig00000232\u001b[0m\n",
      "\tProgress: 100%|██████████| 42.2k/42.2k [00:00<00:00, 1.11M bases/s]\n",
      "\u001b[32m\tParsing Reference sequence: tig00000235\u001b[0m\n",
      "\tProgress: 100%|██████████| 30.6k/30.6k [00:00<00:00, 1.07M bases/s]\n",
      "\u001b[32m\tParsing Reference sequence: tig00000236\u001b[0m\n",
      "\tProgress: 100%|██████████| 39.8k/39.8k [00:00<00:00, 1.11M bases/s]\n",
      "\u001b[32m\tParsing Reference sequence: tig00000243\u001b[0m\n",
      "\tProgress: 100%|██████████| 44.5k/44.5k [00:00<00:00, 1.07M bases/s]\n",
      "\u001b[32m\tParsing Reference sequence: tig00000245\u001b[0m\n",
      "\tProgress: 100%|██████████| 48.0k/48.0k [00:00<00:00, 1.08M bases/s]\n",
      "\u001b[32m\tParsing Reference sequence: tig00000246\u001b[0m\n",
      "\tProgress: 100%|██████████| 41.7k/41.7k [00:00<00:00, 1.07M bases/s]\n",
      "\u001b[32m\tParsing Reference sequence: tig00000247\u001b[0m\n",
      "\tProgress: 100%|██████████| 39.6k/39.6k [00:00<00:00, 1.07M bases/s]\n",
      "\u001b[32m\tParsing Reference sequence: tig00000290\u001b[0m\n",
      "\tProgress: 100%|██████████| 36.7k/36.7k [00:00<00:00, 1.07M bases/s]\n",
      "\u001b[32m\tParsing Reference sequence: tig00000302\u001b[0m\n",
      "\tProgress: 100%|██████████| 45.4k/45.4k [00:00<00:00, 908k bases/s]\n",
      "\u001b[32m\tParsing Reference sequence: tig00000307\u001b[0m\n",
      "\tProgress: 100%|██████████| 27.0k/27.0k [00:00<00:00, 1.05M bases/s]\n",
      "\u001b[32m\tParsing Reference sequence: tig00000308\u001b[0m\n",
      "\tProgress: 100%|██████████| 45.2k/45.2k [00:00<00:00, 1.04M bases/s]\n",
      "\u001b[32m\tParsing Reference sequence: tig00000310\u001b[0m\n",
      "\tProgress: 100%|██████████| 58.3k/58.3k [00:00<00:00, 1.01M bases/s]\n",
      "\u001b[32m\tParsing Reference sequence: tig00000324\u001b[0m\n",
      "\tProgress: 100%|██████████| 49.0k/49.0k [00:00<00:00, 1.06M bases/s]\n",
      "\u001b[32m\tParsing Reference sequence: tig00000325\u001b[0m\n"
     ]
    },
    {
     "name": "stderr",
     "output_type": "stream",
     "text": [
      "\tProgress: 100%|██████████| 37.4k/37.4k [00:00<00:00, 1.13M bases/s]\n",
      "\u001b[32m\tParsing Reference sequence: tig00000329\u001b[0m\n",
      "\tProgress: 100%|██████████| 103k/103k [00:00<00:00, 1.02M bases/s]\n",
      "\u001b[32m\tParsing Reference sequence: tig00000331\u001b[0m\n",
      "\tProgress: 100%|██████████| 51.5k/51.5k [00:00<00:00, 1.01M bases/s]\n",
      "\u001b[32m\tParsing Reference sequence: tig00000332\u001b[0m\n",
      "\tProgress: 100%|██████████| 105k/105k [00:00<00:00, 1.04M bases/s]\n",
      "\u001b[32m\tParsing Reference sequence: tig00000333\u001b[0m\n",
      "\tProgress: 100%|██████████| 24.0k/24.0k [00:00<00:00, 986k bases/s]\n",
      "\u001b[32m\tParsing Reference sequence: tig00000486\u001b[0m\n",
      "\tProgress: 100%|██████████| 29.0k/29.0k [00:00<00:00, 1.01M bases/s]\n",
      "\u001b[32m\tParsing Reference sequence: tig00000487\u001b[0m\n",
      "\tProgress: 100%|██████████| 63.2k/63.2k [00:00<00:00, 1.02M bases/s]\n",
      "\u001b[32m\tParsing Reference sequence: tig00000489\u001b[0m\n",
      "\tProgress: 100%|██████████| 57.2k/57.2k [00:00<00:00, 1.03M bases/s]\n",
      "\u001b[32m\tParsing Reference sequence: tig00000491\u001b[0m\n",
      "\tProgress: 100%|██████████| 25.0k/25.0k [00:00<00:00, 980k bases/s]\n",
      "\u001b[32m\tParsing Reference sequence: tig00000493\u001b[0m\n",
      "\tProgress: 100%|██████████| 52.5k/52.5k [00:00<00:00, 965k bases/s]\n",
      "\u001b[32m\tParsing Reference sequence: tig00000494\u001b[0m\n",
      "\tProgress: 100%|██████████| 48.3k/48.3k [00:00<00:00, 1.04M bases/s]\n",
      "\u001b[32m\tParsing Reference sequence: tig00000496\u001b[0m\n",
      "\tProgress: 100%|██████████| 39.0k/39.0k [00:00<00:00, 996k bases/s]\n",
      "\u001b[32m\tParsing Reference sequence: tig00000497\u001b[0m\n",
      "\tProgress: 100%|██████████| 41.0k/41.0k [00:00<00:00, 1.04M bases/s]\n",
      "\u001b[32m\tParsing Reference sequence: tig00000499\u001b[0m\n",
      "\tProgress: 100%|██████████| 30.5k/30.5k [00:00<00:00, 978k bases/s]\n",
      "\u001b[32m\tParsing Reference sequence: tig00000500\u001b[0m\n",
      "\tProgress: 100%|██████████| 40.1k/40.1k [00:00<00:00, 961k bases/s]\n",
      "\u001b[32m\tParsing Reference sequence: tig00000503\u001b[0m\n",
      "\tProgress: 100%|██████████| 27.1k/27.1k [00:00<00:00, 1.01M bases/s]\n",
      "\u001b[32m\tParsing Reference sequence: tig00000505\u001b[0m\n",
      "\tProgress: 100%|██████████| 44.5k/44.5k [00:00<00:00, 961k bases/s]\n",
      "\u001b[32m\tParsing Reference sequence: tig00000506\u001b[0m\n",
      "\tProgress: 100%|██████████| 40.7k/40.7k [00:00<00:00, 1.03M bases/s]\n",
      "\u001b[32m\tParsing Reference sequence: tig00000508\u001b[0m\n",
      "\tProgress: 100%|██████████| 20.0k/20.0k [00:00<00:00, 990k bases/s]\n",
      "\u001b[32m\tParsing Reference sequence: tig00000510\u001b[0m\n",
      "\tProgress: 100%|██████████| 29.7k/29.7k [00:00<00:00, 1.00M bases/s]\n",
      "\u001b[32m\tParsing Reference sequence: tig00000511\u001b[0m\n",
      "\tProgress: 100%|██████████| 33.5k/33.5k [00:00<00:00, 1.02M bases/s]\n",
      "\u001b[32m\tParsing Reference sequence: tig00000513\u001b[0m\n",
      "\tProgress: 100%|██████████| 37.1k/37.1k [00:00<00:00, 982k bases/s]\n",
      "\u001b[32m\tParsing Reference sequence: tig00000514\u001b[0m\n",
      "\tProgress: 100%|██████████| 29.0k/29.0k [00:00<00:00, 962k bases/s]\n",
      "\u001b[32m\tParsing Reference sequence: tig00000516\u001b[0m\n",
      "\tProgress: 100%|██████████| 24.3k/24.3k [00:00<00:00, 1.09M bases/s]\n",
      "\u001b[32m\tParsing Reference sequence: tig00000575\u001b[0m\n",
      "\tProgress: 100%|██████████| 21.7k/21.7k [00:00<00:00, 700k bases/s]\n",
      "\u001b[32m\tParsing Reference sequence: tig00000585\u001b[0m\n",
      "\tProgress: 100%|██████████| 19.8k/19.8k [00:00<00:00, 1.15M bases/s]\n",
      "\u001b[32m\tParsing Reference sequence: tig00001065\u001b[0m\n",
      "\tProgress: 100%|██████████| 27.1k/27.1k [00:00<00:00, 898k bases/s]\n",
      "\u001b[32m\tParsing Reference sequence: tig00001067\u001b[0m\n",
      "\tProgress: 100%|██████████| 22.8k/22.8k [00:00<00:00, 1.05M bases/s]\n",
      "\u001b[32m\tParsing Reference sequence: tig00001069\u001b[0m\n",
      "\tProgress: 100%|██████████| 28.0k/28.0k [00:00<00:00, 954k bases/s]\n",
      "\u001b[32m\tParsing Reference sequence: tig00001071\u001b[0m\n",
      "\tProgress: 100%|██████████| 23.4k/23.4k [00:00<00:00, 978k bases/s]\n",
      "\u001b[32m\tParsing Reference sequence: tig00001073\u001b[0m\n",
      "\tProgress: 100%|██████████| 47.7k/47.7k [00:00<00:00, 964k bases/s]\n",
      "\u001b[32m\tParsing Reference sequence: tig00001075\u001b[0m\n",
      "\tProgress: 100%|██████████| 30.1k/30.1k [00:00<00:00, 1.05M bases/s]\n",
      "\u001b[32m\tParsing Reference sequence: tig00001077\u001b[0m\n",
      "\tProgress: 100%|██████████| 25.0k/25.0k [00:00<00:00, 1.02M bases/s]\n",
      "\u001b[32m\tParsing Reference sequence: tig00001084\u001b[0m\n",
      "\tProgress: 100%|██████████| 36.0k/36.0k [00:00<00:00, 947k bases/s]\n",
      "\u001b[32m\tParsing Reference sequence: tig00001086\u001b[0m\n",
      "\tProgress: 100%|██████████| 22.1k/22.1k [00:00<00:00, 879k bases/s]\n",
      "\u001b[32m\tParsing Reference sequence: tig00001089\u001b[0m\n",
      "\tProgress: 100%|██████████| 17.5k/17.5k [00:00<00:00, 954k bases/s]\n",
      "\u001b[32m\tParsing Reference sequence: tig00001091\u001b[0m\n",
      "\tProgress: 100%|██████████| 24.9k/24.9k [00:00<00:00, 952k bases/s]\n",
      "\u001b[32m\tParsing Reference sequence: tig00001092\u001b[0m\n",
      "\tProgress: 100%|██████████| 74.3k/74.3k [00:00<00:00, 1.01M bases/s]\n",
      "\u001b[32m\tParsing Reference sequence: tig00001094\u001b[0m\n",
      "\tProgress: 100%|██████████| 30.3k/30.3k [00:00<00:00, 1.10M bases/s]\n",
      "\u001b[32m\tParsing Reference sequence: tig00001103\u001b[0m\n",
      "\tProgress: 100%|██████████| 35.3k/35.3k [00:00<00:00, 969k bases/s]\n",
      "\u001b[32m\tParsing Reference sequence: tig00001105\u001b[0m\n",
      "\tProgress: 100%|██████████| 23.4k/23.4k [00:00<00:00, 819k bases/s]\n",
      "\u001b[32m\tParsing Reference sequence: tig00001107\u001b[0m\n",
      "\tProgress: 100%|██████████| 51.3k/51.3k [00:00<00:00, 911k bases/s]\n",
      "\u001b[32m\tParsing Reference sequence: tig00001109\u001b[0m\n",
      "\tProgress: 100%|██████████| 43.7k/43.7k [00:00<00:00, 1.06M bases/s]\n",
      "\u001b[32m\tParsing Reference sequence: tig00001110\u001b[0m\n",
      "\tProgress: 100%|██████████| 38.1k/38.1k [00:00<00:00, 1.06M bases/s]\n",
      "\u001b[32m\tParsing Reference sequence: tig00001112\u001b[0m\n",
      "\tProgress: 100%|██████████| 31.9k/31.9k [00:00<00:00, 1.01M bases/s]\n",
      "\u001b[32m\tParsing Reference sequence: tig00001113\u001b[0m\n",
      "\tProgress: 100%|██████████| 155k/155k [00:00<00:00, 1.05M bases/s]\n",
      "\u001b[32m\tParsing Reference sequence: tig00001115\u001b[0m\n",
      "\tProgress: 100%|██████████| 30.0k/30.0k [00:00<00:00, 1.12M bases/s]\n",
      "\u001b[32m\tParsing Reference sequence: tig00001117\u001b[0m\n",
      "\tProgress: 100%|██████████| 27.8k/27.8k [00:00<00:00, 1.01M bases/s]\n",
      "\u001b[32m\tParsing Reference sequence: tig00001119\u001b[0m\n",
      "\tProgress: 100%|██████████| 30.7k/30.7k [00:00<00:00, 885k bases/s]\n",
      "\u001b[32m\tParsing Reference sequence: tig00001121\u001b[0m\n",
      "\tProgress: 100%|██████████| 34.7k/34.7k [00:00<00:00, 1.05M bases/s]\n",
      "\u001b[32m\tParsing Reference sequence: tig00001123\u001b[0m\n",
      "\tProgress: 100%|██████████| 23.6k/23.6k [00:00<00:00, 890k bases/s]\n",
      "\u001b[32m\tParsing Reference sequence: tig00001125\u001b[0m\n",
      "\tProgress: 100%|██████████| 38.4k/38.4k [00:00<00:00, 1.02M bases/s]\n",
      "\u001b[32m\tParsing Reference sequence: tig00001127\u001b[0m\n",
      "\tProgress: 100%|██████████| 19.2k/19.2k [00:00<00:00, 929k bases/s]\n",
      "\u001b[32m\tParsing Reference sequence: tig00001129\u001b[0m\n",
      "\tProgress: 100%|██████████| 42.2k/42.2k [00:00<00:00, 935k bases/s]\n",
      "\u001b[32m\tParsing Reference sequence: tig00001130\u001b[0m\n",
      "\tProgress: 100%|██████████| 24.4k/24.4k [00:00<00:00, 1.02M bases/s]\n",
      "\u001b[32m\tParsing Reference sequence: tig00001137\u001b[0m\n",
      "\tProgress: 100%|██████████| 18.3k/18.3k [00:00<00:00, 1.05M bases/s]\n",
      "\u001b[32m\tParsing Reference sequence: tig00001139\u001b[0m\n",
      "\tProgress: 100%|██████████| 17.8k/17.8k [00:00<00:00, 762k bases/s]\n",
      "\u001b[32m\tParsing Reference sequence: tig00001142\u001b[0m\n",
      "\tProgress: 100%|██████████| 20.1k/20.1k [00:00<00:00, 839k bases/s]\n",
      "\u001b[32m\tParsing Reference sequence: tig00001148\u001b[0m\n",
      "\tProgress: 100%|██████████| 44.9k/44.9k [00:00<00:00, 950k bases/s]\n",
      "\u001b[32m\tParsing Reference sequence: tig00001150\u001b[0m\n",
      "\tProgress: 100%|██████████| 18.5k/18.5k [00:00<00:00, 1.07M bases/s]\n",
      "\u001b[32m\tParsing Reference sequence: tig00001152\u001b[0m\n",
      "\tProgress: 100%|██████████| 13.5k/13.5k [00:00<00:00, 910k bases/s]\n",
      "\u001b[32m\tParsing Reference sequence: tig00001154\u001b[0m\n",
      "\tProgress: 100%|██████████| 30.0k/30.0k [00:00<00:00, 969k bases/s]\n",
      "\u001b[32m\tParsing Reference sequence: tig00001157\u001b[0m\n",
      "\tProgress: 100%|██████████| 29.6k/29.6k [00:00<00:00, 1.10M bases/s]\n",
      "\u001b[32m\tParsing Reference sequence: tig00001161\u001b[0m\n",
      "\tProgress: 100%|██████████| 58.0k/58.0k [00:00<00:00, 1.12M bases/s]\n",
      "\u001b[32m\tParsing Reference sequence: tig00001166\u001b[0m\n",
      "\tProgress: 100%|██████████| 22.2k/22.2k [00:00<00:00, 1.01M bases/s]\n",
      "\u001b[32m\tParsing Reference sequence: tig00001168\u001b[0m\n",
      "\tProgress: 100%|██████████| 28.9k/28.9k [00:00<00:00, 949k bases/s]\n",
      "\u001b[32m\tParsing Reference sequence: tig00001170\u001b[0m\n",
      "\tProgress: 100%|██████████| 16.0k/16.0k [00:00<00:00, 871k bases/s]\n",
      "\u001b[32m\tParsing Reference sequence: tig00001169\u001b[0m\n",
      "\tProgress: 100%|██████████| 52.3k/52.3k [00:00<00:00, 1.01M bases/s]\n",
      "\u001b[32m\tParsing Reference sequence: tig00001171\u001b[0m\n",
      "\tProgress: 100%|██████████| 31.1k/31.1k [00:00<00:00, 1.04M bases/s]\n",
      "\u001b[32m\tParsing Reference sequence: tig00001173\u001b[0m\n"
     ]
    },
    {
     "name": "stderr",
     "output_type": "stream",
     "text": [
      "\tProgress: 100%|██████████| 32.4k/32.4k [00:00<00:00, 1.04M bases/s]\n",
      "\u001b[32m\tParsing Reference sequence: tig00001174\u001b[0m\n",
      "\tProgress: 100%|██████████| 88.9k/88.9k [00:00<00:00, 937k bases/s]\n",
      "\u001b[32m\tParsing Reference sequence: tig00001177\u001b[0m\n",
      "\tProgress: 100%|██████████| 46.2k/46.2k [00:00<00:00, 1.08M bases/s]\n",
      "\u001b[32m\tParsing Reference sequence: tig00001179\u001b[0m\n",
      "\tProgress: 100%|██████████| 95.2k/95.2k [00:00<00:00, 968k bases/s]\n",
      "\u001b[32m\tParsing Reference sequence: tig00001182\u001b[0m\n",
      "\tProgress: 100%|██████████| 21.7k/21.7k [00:00<00:00, 973k bases/s]\n",
      "\u001b[32m\tParsing Reference sequence: tig00001189\u001b[0m\n",
      "\tProgress: 100%|██████████| 29.5k/29.5k [00:00<00:00, 1.13M bases/s]\n",
      "\u001b[32m\tParsing Reference sequence: tig00001197\u001b[0m\n",
      "\tProgress: 100%|██████████| 28.8k/28.8k [00:00<00:00, 994k bases/s]\n",
      "\u001b[32m\tParsing Reference sequence: tig00001199\u001b[0m\n",
      "\tProgress: 100%|██████████| 17.9k/17.9k [00:00<00:00, 1.04M bases/s]\n",
      "\u001b[32m\tParsing Reference sequence: tig00001202\u001b[0m\n",
      "\tProgress: 100%|██████████| 33.3k/33.3k [00:00<00:00, 1.14M bases/s]\n",
      "\u001b[32m\tParsing Reference sequence: tig00001206\u001b[0m\n",
      "\tProgress: 100%|██████████| 21.1k/21.1k [00:00<00:00, 804k bases/s]\n",
      "\u001b[32m\tParsing Reference sequence: tig00001208\u001b[0m\n",
      "\tProgress: 100%|██████████| 40.4k/40.4k [00:00<00:00, 946k bases/s]\n",
      "\u001b[32m\tParsing Reference sequence: tig00001211\u001b[0m\n",
      "\tProgress: 100%|██████████| 31.9k/31.9k [00:00<00:00, 1.00M bases/s]\n",
      "\u001b[32m\tParsing Reference sequence: tig00001213\u001b[0m\n",
      "\tProgress: 100%|██████████| 52.8k/52.8k [00:00<00:00, 1.04M bases/s]\n",
      "\u001b[32m\tParsing Reference sequence: tig00001214\u001b[0m\n",
      "\tProgress: 100%|██████████| 25.1k/25.1k [00:00<00:00, 1.09M bases/s]\n",
      "\u001b[32m\tParsing Reference sequence: tig00001220\u001b[0m\n",
      "\tProgress: 100%|██████████| 25.1k/25.1k [00:00<00:00, 1.12M bases/s]\n",
      "\u001b[32m\tParsing Reference sequence: tig00001222\u001b[0m\n",
      "\tProgress: 100%|██████████| 29.7k/29.7k [00:00<00:00, 1.01M bases/s]\n",
      "\u001b[32m\tParsing Reference sequence: tig00001226\u001b[0m\n",
      "\tProgress: 100%|██████████| 17.1k/17.1k [00:00<00:00, 958k bases/s]\n",
      "\u001b[32m\tParsing Reference sequence: tig00001227\u001b[0m\n",
      "\tProgress: 100%|██████████| 22.4k/22.4k [00:00<00:00, 885k bases/s]\n",
      "\u001b[32m\tParsing Reference sequence: tig00001229\u001b[0m\n",
      "\tProgress: 100%|██████████| 45.4k/45.4k [00:00<00:00, 1.02M bases/s]\n",
      "\u001b[32m\tParsing Reference sequence: tig00001233\u001b[0m\n",
      "\tProgress: 100%|██████████| 30.1k/30.1k [00:00<00:00, 869k bases/s]\n",
      "\u001b[32m\tParsing Reference sequence: tig00001234\u001b[0m\n",
      "\tProgress: 100%|██████████| 44.9k/44.9k [00:00<00:00, 949k bases/s]\n",
      "\u001b[32m\tParsing Reference sequence: tig00001235\u001b[0m\n",
      "\tProgress: 100%|██████████| 49.5k/49.5k [00:00<00:00, 984k bases/s]\n",
      "\u001b[32m\tParsing Reference sequence: tig00001237\u001b[0m\n",
      "\tProgress: 100%|██████████| 27.2k/27.2k [00:00<00:00, 1.02M bases/s]\n",
      "\u001b[32m\tParsing Reference sequence: tig00001238\u001b[0m\n",
      "\tProgress: 100%|██████████| 148k/148k [00:00<00:00, 1.01M bases/s]\n",
      "\u001b[32m\tParsing Reference sequence: tig00001241\u001b[0m\n",
      "\tProgress: 100%|██████████| 22.5k/22.5k [00:00<00:00, 1.03M bases/s]\n",
      "\u001b[32m\tParsing Reference sequence: tig00001240\u001b[0m\n",
      "\tProgress: 100%|██████████| 89.8k/89.8k [00:00<00:00, 997k bases/s]\n",
      "\u001b[32m\tParsing Reference sequence: tig00001243\u001b[0m\n",
      "\tProgress: 100%|██████████| 34.6k/34.6k [00:00<00:00, 848k bases/s]\n",
      "\u001b[32m\tParsing Reference sequence: tig00001244\u001b[0m\n",
      "\tProgress: 100%|██████████| 46.6k/46.6k [00:00<00:00, 914k bases/s]\n",
      "\u001b[32m\tParsing Reference sequence: tig00001245\u001b[0m\n",
      "\tProgress: 100%|██████████| 39.3k/39.3k [00:00<00:00, 971k bases/s]\n",
      "\u001b[32m\tParsing Reference sequence: tig00001247\u001b[0m\n",
      "\tProgress: 100%|██████████| 60.3k/60.3k [00:00<00:00, 1.01M bases/s]\n",
      "\u001b[32m\tParsing Reference sequence: tig00001248\u001b[0m\n",
      "\tProgress: 100%|██████████| 31.3k/31.3k [00:00<00:00, 1.01M bases/s]\n",
      "\u001b[32m\tParsing Reference sequence: tig00001249\u001b[0m\n",
      "\tProgress: 100%|██████████| 28.4k/28.4k [00:00<00:00, 1.05M bases/s]\n",
      "\u001b[32m\tParsing Reference sequence: tig00001252\u001b[0m\n",
      "\tProgress: 100%|██████████| 23.5k/23.5k [00:00<00:00, 1.02M bases/s]\n",
      "\u001b[32m\tParsing Reference sequence: tig00001253\u001b[0m\n",
      "\tProgress: 100%|██████████| 154k/154k [00:00<00:00, 1.07M bases/s]\n",
      "\u001b[32m\tParsing Reference sequence: tig00001260\u001b[0m\n",
      "\tProgress: 100%|██████████| 19.0k/19.0k [00:00<00:00, 896k bases/s]\n",
      "\u001b[32m\tParsing Reference sequence: tig00001262\u001b[0m\n",
      "\tProgress: 100%|██████████| 31.8k/31.8k [00:00<00:00, 957k bases/s]\n",
      "\u001b[32m\tParsing Reference sequence: tig00001267\u001b[0m\n",
      "\tProgress: 100%|██████████| 20.2k/20.2k [00:00<00:00, 976k bases/s]\n",
      "\u001b[32m\tParsing Reference sequence: tig00001271\u001b[0m\n",
      "\tProgress: 100%|██████████| 35.4k/35.4k [00:00<00:00, 990k bases/s]\n",
      "\u001b[32m\tParsing Reference sequence: tig00001273\u001b[0m\n",
      "\tProgress: 100%|██████████| 30.3k/30.3k [00:00<00:00, 987k bases/s]\n",
      "\u001b[32m\tParsing Reference sequence: tig00001275\u001b[0m\n",
      "\tProgress: 100%|██████████| 31.8k/31.8k [00:00<00:00, 995k bases/s]\n",
      "\u001b[32m\tParsing Reference sequence: tig00001277\u001b[0m\n",
      "\tProgress: 100%|██████████| 26.0k/26.0k [00:00<00:00, 1.01M bases/s]\n",
      "\u001b[32m\tParsing Reference sequence: tig00001280\u001b[0m\n",
      "\tProgress: 100%|██████████| 28.6k/28.6k [00:00<00:00, 1.02M bases/s]\n",
      "\u001b[32m\tParsing Reference sequence: tig00001282\u001b[0m\n",
      "\tProgress: 100%|██████████| 44.0k/44.0k [00:00<00:00, 983k bases/s]\n",
      "\u001b[32m\tParsing Reference sequence: tig00001285\u001b[0m\n",
      "\tProgress: 100%|██████████| 30.5k/30.5k [00:00<00:00, 1.06M bases/s]\n",
      "\u001b[32m\tParsing Reference sequence: tig00001288\u001b[0m\n",
      "\tProgress: 100%|██████████| 154k/154k [00:00<00:00, 1.09M bases/s]\n",
      "\u001b[32m\tParsing Reference sequence: tig00001289\u001b[0m\n",
      "\tProgress: 100%|██████████| 57.9k/57.9k [00:00<00:00, 1.03M bases/s]\n",
      "\u001b[32m\tParsing Reference sequence: tig00001291\u001b[0m\n",
      "\tProgress: 100%|██████████| 40.3k/40.3k [00:00<00:00, 956k bases/s]\n",
      "\u001b[32m\tParsing Reference sequence: tig00001296\u001b[0m\n",
      "\tProgress: 100%|██████████| 30.2k/30.2k [00:00<00:00, 966k bases/s]\n",
      "\u001b[32m\tParsing Reference sequence: tig00001297\u001b[0m\n",
      "\tProgress: 100%|██████████| 44.9k/44.9k [00:00<00:00, 965k bases/s]\n",
      "\u001b[32m\tParsing Reference sequence: tig00001301\u001b[0m\n",
      "\tProgress: 100%|██████████| 31.8k/31.8k [00:00<00:00, 963k bases/s]\n",
      "\u001b[32m\tParsing Reference sequence: tig00001302\u001b[0m\n",
      "\tProgress: 100%|██████████| 35.1k/35.1k [00:00<00:00, 956k bases/s]\n",
      "\u001b[32m\tParsing Reference sequence: tig00001304\u001b[0m\n",
      "\tProgress: 100%|██████████| 146k/146k [00:00<00:00, 1.10M bases/s]\n",
      "\u001b[32m\tParsing Reference sequence: tig00001306\u001b[0m\n",
      "\tProgress: 100%|██████████| 42.5k/42.5k [00:00<00:00, 983k bases/s]\n",
      "\u001b[32m\tParsing Reference sequence: tig00001309\u001b[0m\n",
      "\tProgress: 100%|██████████| 40.0k/40.0k [00:00<00:00, 963k bases/s]\n",
      "\u001b[32m\tParsing Reference sequence: tig00001312\u001b[0m\n",
      "\tProgress: 100%|██████████| 807/807 [00:00<00:00, 938k bases/s]\n",
      "\u001b[32m\tParsing Reference sequence: tig00016865\u001b[0m\n",
      "\tProgress: 100%|██████████| 17.1k/17.1k [00:00<00:00, 897k bases/s]\n",
      "\u001b[32m\tParsing Reference sequence: tig00001311\u001b[0m\n",
      "\tProgress: 100%|██████████| 43.6k/43.6k [00:00<00:00, 1.07M bases/s]\n",
      "\u001b[32m\tParsing Reference sequence: tig00016867\u001b[0m\n",
      "\tProgress: 100%|██████████| 24.4k/24.4k [00:00<00:00, 961k bases/s]\n",
      "\u001b[32m\tParsing Reference sequence: tig00016866\u001b[0m\n",
      "\tProgress: 100%|██████████| 48.8k/48.8k [00:00<00:00, 992k bases/s]\n",
      "\u001b[32m\tParsing Reference sequence: tig00016871\u001b[0m\n",
      "\tProgress: 100%|██████████| 41.4k/41.4k [00:00<00:00, 983k bases/s]\n",
      "\u001b[32m\tParsing Reference sequence: tig00016873\u001b[0m\n",
      "\tProgress: 100%|██████████| 17.5k/17.5k [00:00<00:00, 1.01M bases/s]\n",
      "\u001b[32m\tParsing Reference sequence: tig00016872\u001b[0m\n",
      "\tProgress: 100%|██████████| 21.5k/21.5k [00:00<00:00, 922k bases/s]\n",
      "\u001b[32m\tParsing Reference sequence: tig00016875\u001b[0m\n",
      "\tProgress: 100%|██████████| 22.3k/22.3k [00:00<00:00, 1.02M bases/s]\n",
      "\u001b[32m\tParsing Reference sequence: tig00016877\u001b[0m\n",
      "\tProgress: 100%|██████████| 27.8k/27.8k [00:00<00:00, 972k bases/s]\n",
      "\u001b[32m\tParsing Reference sequence: tig00016878\u001b[0m\n",
      "\tProgress: 100%|██████████| 50.5k/50.5k [00:00<00:00, 1.00M bases/s]\n",
      "\u001b[32m\tParsing Reference sequence: tig00016879\u001b[0m\n",
      "\tProgress: 100%|██████████| 29.9k/29.9k [00:00<00:00, 1.17M bases/s]\n",
      "\u001b[32m\tParsing Reference sequence: tig00016880\u001b[0m\n",
      "\tProgress: 100%|██████████| 28.4k/28.4k [00:00<00:00, 1.16M bases/s]\n",
      "\u001b[32m\tParsing Reference sequence: tig00016881\u001b[0m\n",
      "\tProgress: 100%|██████████| 12.8k/12.8k [00:00<00:00, 1.16M bases/s]\n",
      "\u001b[32m\tParsing Reference sequence: tig00016882\u001b[0m\n",
      "\tProgress: 100%|██████████| 14.9k/14.9k [00:00<00:00, 1.17M bases/s]\n",
      "\u001b[32m\tResults summary\u001b[0m\n",
      "\u001b[32m\t\tValid minimal size windows: 29,116,385\u001b[0m\n",
      "\u001b[32m\t\tValid merged windows: 109,820\u001b[0m\n"
     ]
    },
    {
     "name": "stderr",
     "output_type": "stream",
     "text": [
      "\u001b[32m\t\tNumber of reference sequences: 207\u001b[0m\n"
     ]
    }
   ],
   "source": [
    "###CGI island finder -> error might fix it\n",
    "fl = CGI_Finder (\n",
    "    ref_fasta_fn=ref_genome,\n",
    "    output_bed_fn=ref_genome.replace(\".fasta\", \".CGI.bed\"),\n",
    "    output_tsv_fn=ref_genome.replace(\".fasta\", \".CGI.tsv\"),\n",
    "    progress=True)"
   ]
  },
  {
   "cell_type": "code",
   "execution_count": 20,
   "metadata": {},
   "outputs": [
    {
     "data": {
      "text/plain": [
       "'/home/jamila/jamila_Storage/analyses/pycometh/chr_A_B_unassigned.CGI.bed'"
      ]
     },
     "execution_count": 20,
     "metadata": {},
     "output_type": "execute_result"
    }
   ],
   "source": [
    "ref_genome.replace(\".fasta\", \".CGI.bed\")"
   ]
  },
  {
   "cell_type": "code",
   "execution_count": 21,
   "metadata": {},
   "outputs": [
    {
     "data": {
      "text/plain": [
       "'/home/jamila/jamila_Storage/analyses/pycometh/chr_A_B_unassigned.CGI.tsv'"
      ]
     },
     "execution_count": 21,
     "metadata": {},
     "output_type": "execute_result"
    }
   ],
   "source": [
    "ref_genome.replace(\".fasta\", \".CGI.tsv\")"
   ]
  },
  {
   "cell_type": "code",
   "execution_count": 15,
   "metadata": {},
   "outputs": [],
   "source": [
    "cpg_agg_il_tsv = cpg_agg_tsv_fn\n",
    "cpg_agg_sp_tsv = '/home/jamila/jamila_Storage/analyses/pycometh/germinated_spores/chr_A_B_unassignedsta.germinated_spores_1.clean_all.CpG_agg.tsv.gz'"
   ]
  },
  {
   "cell_type": "code",
   "execution_count": 16,
   "metadata": {},
   "outputs": [
    {
     "data": {
      "text/plain": [
       "'/home/jamila/jamila_Storage/analyses/pycometh/chr_A_B_unassigned.fasta'"
      ]
     },
     "execution_count": 16,
     "metadata": {},
     "output_type": "execute_result"
    }
   ],
   "source": [
    "ref_genome"
   ]
  },
  {
   "cell_type": "code",
   "execution_count": 17,
   "metadata": {},
   "outputs": [
    {
     "name": "stderr",
     "output_type": "stream",
     "text": [
      "\u001b[01;34m## Checking options and input files ##\u001b[0m\n",
      "\u001b[01;34m## Parsing files ##\u001b[0m\n",
      "\u001b[32m\tReading input files header and checking consistancy between headers\u001b[0m\n",
      "\u001b[32m\tStarting asynchronous file parsing\u001b[0m\n",
      "\tProgress: 322M bytes [00:36, 8.72M bytes/s]                       \n",
      "\u001b[32m\tAdjust pvalues\u001b[0m\n",
      "\u001b[32m\tWriting output file\u001b[0m\n",
      "\tProgress: 100%|██████████| 34.2k/34.2k [00:02<00:00, 15.4k sites/s]\n",
      "\u001b[32m\tResults summary\u001b[0m\n",
      "\u001b[32m\t\tSites with insufficient samples: 1,551,785\u001b[0m\n",
      "\u001b[32m\t\tSites with insufficient effect size: 553,811\u001b[0m\n",
      "\u001b[32m\t\tValid sites: 34,242\u001b[0m\n",
      "\u001b[32m\t\tSites with non-significant adjusted pvalue: 33,945\u001b[0m\n",
      "\u001b[32m\t\tSites with non-significant pvalue: 31,623\u001b[0m\n",
      "\u001b[32m\t\tSites with significant pvalue: 2,619\u001b[0m\n",
      "\u001b[32m\t\tSites with significant adjusted pvalue: 297\u001b[0m\n"
     ]
    }
   ],
   "source": [
    "fg = Meth_Comp (\n",
    "    aggregate_fn_list=[cpg_agg_il_tsv, cpg_agg_sp_tsv],\n",
    "    ref_fasta_fn=ref_genome,\n",
    "    output_bed_fn=os.path.join(PYCO_OUT_DIR, 'Pgt21-0.comp_CpG.il_sp.bed'),\n",
    "    output_tsv_fn=os.path.join(PYCO_OUT_DIR, 'Pgt21-0.comp_CpG.il_sp.tsv.gz'),\n",
    "    sample_id_list=['infected_leaves',\"spores\"],\n",
    "    max_missing = 1,\n",
    "    min_diff_llr = 0,\n",
    "    progress=True)"
   ]
  },
  {
   "cell_type": "code",
   "execution_count": 18,
   "metadata": {},
   "outputs": [
    {
     "name": "stderr",
     "output_type": "stream",
     "text": [
      "\u001b[01;34m## Checking options and input files ##\u001b[0m\n",
      "\u001b[01;34m## Parsing files ##\u001b[0m\n",
      "\u001b[32m\tReading input files header and checking consistancy between headers\u001b[0m\n",
      "\u001b[32m\tStarting asynchronous file parsing\u001b[0m\n",
      "\tProgress: 322M bytes [00:28, 11.2M bytes/s]                       \n",
      "\u001b[32m\tAdjust pvalues\u001b[0m\n",
      "\u001b[32m\tWriting output file\u001b[0m\n",
      "\tProgress: 100%|██████████| 6.17k/6.17k [00:00<00:00, 19.0k sites/s]\n",
      "\u001b[32m\tResults summary\u001b[0m\n",
      "\u001b[32m\t\tSites with insufficient samples: 1,551,785\u001b[0m\n",
      "\u001b[32m\t\tSites with insufficient effect size: 581,884\u001b[0m\n",
      "\u001b[32m\t\tValid sites: 6,169\u001b[0m\n",
      "\u001b[32m\t\tSites with non-significant adjusted pvalue: 6,169\u001b[0m\n",
      "\u001b[32m\t\tSites with non-significant pvalue: 5,468\u001b[0m\n",
      "\u001b[32m\t\tSites with significant pvalue: 701\u001b[0m\n"
     ]
    }
   ],
   "source": [
    "int_agg_il_tsv = \"/home/jamila/jamila_Storage/analyses/pycometh/infected_leaves/chr_A_B_unassignedsta.infected_leaves_all.clean_all.interval_1000_agg.tsv.gz\"\n",
    "int_agg_sp_tsv = \"/home/jamila/jamila_Storage/analyses/pycometh/germinated_spores/chr_A_B_unassignedsta.germinated_spores_1.clean_all.interval_1000_agg.tsv.gz\"\n",
    "fg = Meth_Comp (\n",
    "    aggregate_fn_list=[cpg_agg_il_tsv, cpg_agg_sp_tsv],\n",
    "    ref_fasta_fn=ref_genome,\n",
    "    output_bed_fn=os.path.join(PYCO_OUT_DIR, 'Pgt21-0.comp_w1000.il_sp.bed'),\n",
    "    output_tsv_fn=os.path.join(PYCO_OUT_DIR, 'Pgt21-0.comp_w1000.il_sp.tsv.gz'),\n",
    "    sample_id_list=['infected_leaves',\"spores\"],\n",
    "    max_missing = 1,\n",
    "    min_diff_llr = 1,\n",
    "    progress=True)"
   ]
  },
  {
   "cell_type": "code",
   "execution_count": 19,
   "metadata": {},
   "outputs": [
    {
     "name": "stderr",
     "output_type": "stream",
     "text": [
      "\u001b[01;34m## Checking options and input files ##\u001b[0m\n",
      "\u001b[01;34m## Parsing files ##\u001b[0m\n",
      "\u001b[32m\tReading input files header and checking consistancy between headers\u001b[0m\n",
      "\u001b[32m\tStarting asynchronous file parsing\u001b[0m\n",
      "\tProgress: 322M bytes [00:28, 11.5M bytes/s]                       \n",
      "\u001b[32m\tAdjust pvalues\u001b[0m\n",
      "\u001b[32m\tWriting output file\u001b[0m\n",
      "\tProgress: 100%|██████████| 6.17k/6.17k [00:00<00:00, 19.6k sites/s]\n",
      "\u001b[32m\tResults summary\u001b[0m\n",
      "\u001b[32m\t\tSites with insufficient samples: 1,551,785\u001b[0m\n",
      "\u001b[32m\t\tSites with insufficient effect size: 581,884\u001b[0m\n",
      "\u001b[32m\t\tValid sites: 6,169\u001b[0m\n",
      "\u001b[32m\t\tSites with non-significant adjusted pvalue: 6,169\u001b[0m\n",
      "\u001b[32m\t\tSites with non-significant pvalue: 5,468\u001b[0m\n",
      "\u001b[32m\t\tSites with significant pvalue: 701\u001b[0m\n"
     ]
    }
   ],
   "source": [
    "int_agg_il_tsv = \"/home/jamila/jamila_Storage/analyses/pycometh/infected_leaves/chr_A_B_unassignedsta.infected_leaves_all.clean_all.interval_500_agg.tsv.gz\"\n",
    "int_agg_sp_tsv = \"/home/jamila/jamila_Storage/analyses/pycometh/germinated_spores/chr_A_B_unassignedsta.germinated_spores_1.clean_all.interval_500_agg.tsv.gz\"\n",
    "fg = Meth_Comp (\n",
    "    aggregate_fn_list=[cpg_agg_il_tsv, cpg_agg_sp_tsv],\n",
    "    ref_fasta_fn=ref_genome,\n",
    "    output_bed_fn=os.path.join(PYCO_OUT_DIR, 'Pgt21-0.comp_w500.il_sp.bed'),\n",
    "    output_tsv_fn=os.path.join(PYCO_OUT_DIR, 'Pgt21-0.comp_w500.il_sp.tsv.gz'),\n",
    "    sample_id_list=['infected_leaves',\"spores\"],\n",
    "    max_missing = 1,\n",
    "    min_diff_llr = 1,\n",
    "    progress=True)"
   ]
  },
  {
   "cell_type": "code",
   "execution_count": null,
   "metadata": {},
   "outputs": [],
   "source": []
  }
 ],
 "metadata": {
  "kernelspec": {
   "display_name": "pycoMeth",
   "language": "python",
   "name": "pycometh"
  },
  "language_info": {
   "codemirror_mode": {
    "name": "ipython",
    "version": 3
   },
   "file_extension": ".py",
   "mimetype": "text/x-python",
   "name": "python",
   "nbconvert_exporter": "python",
   "pygments_lexer": "ipython3",
   "version": "3.6.10"
  }
 },
 "nbformat": 4,
 "nbformat_minor": 2
}
