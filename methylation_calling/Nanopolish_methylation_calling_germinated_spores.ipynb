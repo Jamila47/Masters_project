{
 "cells": [
  {
   "cell_type": "markdown",
   "metadata": {},
   "source": [
    "### Notebook to do methylation calling with nanopolish"
   ]
  },
  {
   "cell_type": "markdown",
   "metadata": {},
   "source": [
    "This is a re-run of the notebook for revisions. There are some adjustments based on adjusted input infrastructure. Rewind with git for older version."
   ]
  },
  {
   "cell_type": "code",
   "execution_count": 1,
   "metadata": {},
   "outputs": [],
   "source": [
    "import os\n",
    "from Bio import SeqIO"
   ]
  },
  {
   "cell_type": "code",
   "execution_count": 2,
   "metadata": {},
   "outputs": [],
   "source": [
    "notebook_path = os.path.abspath(\".\")"
   ]
  },
  {
   "cell_type": "code",
   "execution_count": 3,
   "metadata": {},
   "outputs": [],
   "source": [
    "INITIAL_MAPPED_BASEDIR = os.path.abspath('../../analyses/mapping/germinated_spores')\n",
    "#####One OUT_DIR per treatment. This should be one for germinated spores and one for infected leaves\n",
    "IN_FAST5 = os.path.abspath('../../data/genomic_data/germinated_spores/workspace_fast5/basecalled/workspace')\n",
    "in_fastq_fn = os.path.abspath('../../data/genomic_data/germinated_spores/workspace_fast5/basecalled/20210407.PgtGerminatedSpores.Mapped.fastq.gz')\n",
    "seq_sum_fn = os.path.abspath('../../data/genomic_data/germinated_spores/workspace_fast5/basecalled/sequencing_summary.txt')\n",
    "#####One OUT_DIR per treatment. This should be one for germinated spores and one for infected leaves\n",
    "OUT_DIR = os.path.abspath('../../analyses/pycometh/germinated_spores')\n",
    "meth_freq_script = '/home/jamila/jamila_Storage/scripts/nanopolish_scripts/calculate_methylation_frequency.py'"
   ]
  },
  {
   "cell_type": "code",
   "execution_count": 4,
   "metadata": {},
   "outputs": [],
   "source": [
    "ref_genome = os.path.abspath('../../analyses/pycometh/chr_A_B_unassigned.fasta')\n",
    "n_threads = 20"
   ]
  },
  {
   "cell_type": "code",
   "execution_count": 16,
   "metadata": {},
   "outputs": [],
   "source": [
    "###file names for rerunning \n",
    "in_fastq_clean_fn = os.path.join(OUT_DIR, os.path.basename(in_fastq_fn).replace('all.fastq','clean_all.fastq'))\n",
    "bam_fn = os.path.basename(ref_genome).replace('.fa', '') \\\n",
    "+'.'+ os.path.basename(in_fastq_clean_fn).replace('.fastq.gz', '.bam')\n",
    "bam_fn = os.path.join(OUT_DIR, bam_fn)\n",
    "SamtoolsStatsFn = bam_fn.replace('.bam', '.stats.txt')\n",
    "meth_call_fn = bam_fn.replace('.bam', '.meth_call.tsv')\n",
    "meth_freq_fn = meth_call_fn.replace( '.meth_call.tsv', '.meth_freq.tsv')"
   ]
  },
  {
   "cell_type": "markdown",
   "metadata": {},
   "source": [
    "# Section 1 checking the input"
   ]
  },
  {
   "cell_type": "raw",
   "metadata": {},
   "source": [
    "mappingid_fns = []\n",
    "for dir_ in os.listdir(INITIAL_MAPPED_BASEDIR):\n",
    "    dir_ = os.path.join(INITIAL_MAPPED_BASEDIR, dir_) \n",
    "    if os.path.isdir(dir_):\n",
    "        mappingid_fn = [os.path.join(dir_, x) for x in os.listdir(dir_) if x.endswith('.mappedids.txt') ][0]\n",
    "        mappingid_fns.append(mappingid_fn)"
   ]
  },
  {
   "cell_type": "raw",
   "metadata": {},
   "source": [
    "nummapped_reads = 0\n",
    "for mappingid_fn in mappingid_fns:\n",
    "    with open(mappingid_fn, mode = 'r') as fh:\n",
    "        for line in fh:\n",
    "            nummapped_reads += 1"
   ]
  },
  {
   "cell_type": "raw",
   "metadata": {},
   "source": [
    "#This checks if the number of mapped reads is consistent with the number of single fast5s\n",
    "len([x for x in os.listdir(IN_FAST5) if x.endswith('.fast5')]) == nummapped_reads"
   ]
  },
  {
   "cell_type": "markdown",
   "metadata": {},
   "source": [
    "^^^ Not true anymore because there were a bunch of potentially corupted fast5 files"
   ]
  },
  {
   "cell_type": "raw",
   "metadata": {},
   "source": [
    "#filer the fastq files to line up with the fast5 files\n",
    "fast5s_names = set([x.replace('.fast5','') for x in os.listdir(IN_FAST5)])"
   ]
  },
  {
   "cell_type": "raw",
   "metadata": {},
   "source": [
    "fastqs = []\n",
    "for seq in SeqIO.parse(in_fastq_fn, 'fastq'):\n",
    "    if seq.id in fast5s_names:\n",
    "        fastqs.append(seq)"
   ]
  },
  {
   "cell_type": "raw",
   "metadata": {},
   "source": [
    "if len(fastqs) == len(fast5s_names):\n",
    "    in_fastq_clean_fn = os.path.join(OUT_DIR, os.path.basename(in_fastq_fn).replace('all.fastq','clean_all.fastq'))\n",
    "    with open(in_fastq_clean_fn,'w') as fh:\n",
    "        SeqIO.write(fastqs, fh, 'fastq')\n",
    "    print('fastq subsetted')\n",
    "    !head {in_fastq_clean_fn}"
   ]
  },
  {
   "cell_type": "markdown",
   "metadata": {},
   "source": [
    "# Section 2 nanopolish methylation calling"
   ]
  },
  {
   "cell_type": "code",
   "execution_count": 6,
   "metadata": {},
   "outputs": [],
   "source": [
    "#change directory\n",
    "os.chdir(OUT_DIR)\n",
    "basename = os.path.basename(OUT_DIR)"
   ]
  },
  {
   "cell_type": "code",
   "execution_count": 7,
   "metadata": {},
   "outputs": [],
   "source": [
    "%%capture cap_out_index\n",
    "%time\n",
    "!nanopolish index -d {IN_FAST5} {in_fastq_fn}"
   ]
  },
  {
   "cell_type": "code",
   "execution_count": 8,
   "metadata": {},
   "outputs": [
    {
     "name": "stdout",
     "output_type": "stream",
     "text": [
      "CPU times: user 2 us, sys: 0 ns, total: 2 us\n",
      "Wall time: 8.34 us\n",
      "[readdb] indexing /home/jamila/jamila_Storage/data/genomic_data/germinated_spores/workspace_fast5/basecalled/workspace\n",
      "[readdb] num reads: 565566, num reads with path to fast5: 565566\n",
      "\n"
     ]
    }
   ],
   "source": [
    "###print stdout\n",
    "print(cap_out_index.stdout)"
   ]
  },
  {
   "cell_type": "code",
   "execution_count": 9,
   "metadata": {},
   "outputs": [
    {
     "name": "stdout",
     "output_type": "stream",
     "text": [
      "\n"
     ]
    }
   ],
   "source": [
    "###print stderr\n",
    "print(cap_out_index.stderr)"
   ]
  },
  {
   "cell_type": "code",
   "execution_count": null,
   "metadata": {},
   "outputs": [],
   "source": [
    "%%capture cap_out_map\n",
    "%time\n",
    "!minimap2 -a -t 20 -x map-ont {ref_genome} {in_fastq_fn} | samtools sort -@6 -T tmp -o {bam_fn}\n",
    "!samtools index -@20 {bam_fn}\n",
    "!samtools stats -@20 {bam_fn} > {SamtoolsStatsFn}"
   ]
  },
  {
   "cell_type": "code",
   "execution_count": 26,
   "metadata": {},
   "outputs": [
    {
     "name": "stdout",
     "output_type": "stream",
     "text": [
      "# This file was produced by samtools stats (1.9+htslib-1.9) and can be plotted using plot-bamstats\n",
      "# This file contains statistics for all reads.\n",
      "# The command line was:  stats -@20 /home/jamila/jamila_Storage/analyses/pycometh/germinated_spores/chr_A_B_unassignedsta.20210407.PgtGerminatedSpores.Mapped.bam\n",
      "# CHK, Checksum\t[2]Read Names\t[3]Sequences\t[4]Qualities\n",
      "# CHK, CRC32 of reads which passed filtering followed by addition (32bit overflow)\n",
      "CHK\tbe0bbd7a\t8f4f894b\t66fdc296\n",
      "# Summary Numbers. Use `grep ^SN | cut -f 2-` to extract this part.\n",
      "SN\traw total sequences:\t565566\n",
      "SN\tfiltered sequences:\t0\n",
      "SN\tsequences:\t565566\n",
      "SN\tis sorted:\t1\n",
      "SN\t1st fragments:\t565566\n",
      "SN\tlast fragments:\t0\n",
      "SN\treads mapped:\t565566\n",
      "SN\treads mapped and paired:\t0\t# paired-end technology bit set + both mates mapped\n",
      "SN\treads unmapped:\t0\n",
      "SN\treads properly paired:\t0\t# proper-pair bit set\n",
      "SN\treads paired:\t0\t# paired-end technology bit set\n",
      "SN\treads duplicated:\t0\t# PCR or optical duplicate bit set\n",
      "SN\treads MQ0:\t14905\t# mapped and MQ=0\n",
      "SN\treads QC failed:\t0\n",
      "SN\tnon-primary alignments:\t302156\n",
      "SN\ttotal length:\t9214353571\t# ignores clipping\n",
      "SN\ttotal first fragment length:\t9214353571\t# ignores clipping\n",
      "SN\ttotal last fragment length:\t0\t# ignores clipping\n",
      "SN\tbases mapped:\t9214353571\t# ignores clipping\n",
      "SN\tbases mapped (cigar):\t8764408408\t# more accurate\n",
      "SN\tbases trimmed:\t0\n",
      "SN\tbases duplicated:\t0\n",
      "SN\tmismatches:\t653488006\t# from NM fields\n"
     ]
    }
   ],
   "source": [
    "!head -30 {SamtoolsStatsFn}"
   ]
  },
  {
   "cell_type": "code",
   "execution_count": null,
   "metadata": {},
   "outputs": [],
   "source": [
    "%%capture cap_out_methcall\n",
    "%time\n",
    "!nanopolish call-methylation -t 20 -r {in_fastq_fn} -b {bam_fn} -g {ref_genome} > {meth_call_fn}"
   ]
  },
  {
   "cell_type": "code",
   "execution_count": 23,
   "metadata": {},
   "outputs": [
    {
     "name": "stdout",
     "output_type": "stream",
     "text": [
      "hello\n"
     ]
    }
   ],
   "source": [
    "print('hello')"
   ]
  },
  {
   "cell_type": "code",
   "execution_count": 24,
   "metadata": {},
   "outputs": [
    {
     "name": "stdout",
     "output_type": "stream",
     "text": [
      "CPU times: user 3 us, sys: 1e+03 ns, total: 4 us\n",
      "Wall time: 9.06 us\n",
      "[post-run summary] total reads: 1218612, unparseable: 0, qc fail: 821, could not calibrate: 1165, no alignment: 12473, bad fast5: 0\n",
      "\n"
     ]
    }
   ],
   "source": [
    "print(cap_out_methcall.stdout)"
   ]
  },
  {
   "cell_type": "code",
   "execution_count": null,
   "metadata": {},
   "outputs": [],
   "source": [
    "!python3 {meth_freq_script} {meth_call_fn} > {meth_freq_fn}"
   ]
  },
  {
   "cell_type": "code",
   "execution_count": 25,
   "metadata": {},
   "outputs": [
    {
     "name": "stdout",
     "output_type": "stream",
     "text": [
      "chromosome\tstart\tend\tnum_motifs_in_group\tcalled_sites\tcalled_sites_methylated\tmethylated_frequency\tgroup_sequence\n",
      "chr10A\t785\t785\t1\t1\t1\t1.000\tTTTCTCGGTTG\n",
      "chr10A\t798\t798\t1\t1\t1\t1.000\tGATGCCGTAAA\n",
      "chr10A\t849\t849\t1\t1\t1\t1.000\tAAATCCGCTAG\n",
      "chr10A\t897\t903\t3\t3\t3\t1.000\tTTCTACGGCCGCGGCTG\n",
      "chr10A\t915\t915\t1\t1\t1\t1.000\tAACATCGTCTG\n",
      "chr10A\t928\t928\t1\t1\t1\t1.000\tAGATCCGAGTG\n",
      "chr10A\t987\t987\t1\t1\t1\t1.000\tGTTTTCGATAA\n",
      "chr10A\t1017\t1017\t1\t1\t1\t1.000\tGGGGCCGAGCA\n",
      "chr10A\t1123\t1123\t1\t1\t1\t1.000\tGCTGCCGTTTG\n",
      "chr10A\t1258\t1265\t2\t2\t2\t1.000\tATCCACGGTATCCGTCTT\n",
      "chr10A\t1303\t1303\t1\t1\t1\t1.000\tTGATGCGGGTG\n",
      "chr10A\t1321\t1321\t1\t1\t1\t1.000\tAAGAGCGTAGC\n",
      "chr10A\t1334\t1334\t1\t2\t2\t1.000\tATTGCCGAAGT\n",
      "chr10A\t1346\t1346\t1\t1\t1\t1.000\tAGGGTCGGCAG\n",
      "chr10A\t1391\t1391\t1\t2\t2\t1.000\tAGGATCGATGC\n",
      "chr10A\t1422\t1427\t2\t2\t2\t1.000\tTGAAACGAGACGGTTT\n",
      "chr10A\t1616\t1616\t1\t2\t2\t1.000\tCCACTCGCCCT\n",
      "chr10A\t1628\t1633\t2\t4\t4\t1.000\tGAAGTCGTCACGGAAG\n",
      "chr10A\t1646\t1646\t1\t1\t1\t1.000\tGGCATCGGGGT\n",
      "chr10A\t1706\t1713\t2\t2\t0\t0.000\tGGTGTCGGGTACCGGAAG\n",
      "chr10A\t1888\t1892\t2\t2\t2\t1.000\tTGTTCCGCTCGAGTG\n",
      "chr10A\t1916\t1916\t1\t1\t1\t1.000\tTTTGCCGTGTG\n",
      "chr10A\t1972\t1972\t1\t1\t1\t1.000\tTTGATCGTCTG\n",
      "chr10A\t1999\t1999\t1\t2\t2\t1.000\tATTTTCGGTGG\n",
      "chr10A\t2014\t2014\t1\t1\t1\t1.000\tCAAGGCGGGTG\n",
      "chr10A\t2039\t2039\t1\t2\t2\t1.000\tAGGTGCGCATG\n",
      "chr10A\t2057\t2057\t1\t2\t0\t0.000\tCTAACCGAGGC\n",
      "chr10A\t2076\t2076\t1\t1\t1\t1.000\tATGCTCGCAGA\n",
      "chr10A\t2098\t2098\t1\t2\t2\t1.000\tCAATCCGGCCA\n",
      "chr10A\t2141\t2141\t1\t1\t1\t1.000\tCTCTCCGAGTC\n",
      "chr10A\t2212\t2212\t1\t2\t2\t1.000\tTTGGTCGAGAG\n",
      "chr10A\t2342\t2350\t2\t6\t6\t1.000\tTGCATCGAAAGGTCGGCTG\n",
      "chr10A\t2370\t2370\t1\t3\t3\t1.000\tCCTGGCGTGGC\n",
      "chr10A\t2462\t2475\t3\t6\t6\t1.000\tGGAGCCGAGTCGATGTTCCGGATA\n",
      "chr10A\t2505\t2505\t1\t3\t3\t1.000\tTTCCACGAGCA\n",
      "chr10A\t2524\t2527\t2\t4\t4\t1.000\tACAGCCGACGTGGT\n",
      "chr10A\t2572\t2572\t1\t1\t1\t1.000\tACTCTCGAGCC\n",
      "chr10A\t2587\t2587\t1\t3\t3\t1.000\tCCAGGCGTGTT\n",
      "chr10A\t2638\t2645\t2\t6\t6\t1.000\tATCCTCGAGGAACGTAGC\n",
      "chr10A\t2791\t2791\t1\t3\t3\t1.000\tGTCTTCGAGCT\n",
      "chr10A\t2883\t2883\t1\t1\t1\t1.000\tGGGCCCGCTGC\n",
      "chr10A\t2945\t2945\t1\t3\t3\t1.000\tGAATCCGCCCA\n",
      "chr10A\t2983\t2983\t1\t2\t2\t1.000\tCATCACGATTG\n",
      "chr10A\t3000\t3000\t1\t1\t1\t1.000\tCCAGCCGCATC\n",
      "chr10A\t3012\t3012\t1\t2\t2\t1.000\tAATTTCGTATG\n",
      "chr10A\t3026\t3026\t1\t1\t1\t1.000\tAAGAACGGAGA\n",
      "chr10A\t3043\t3043\t1\t2\t1\t0.500\tTTTTTCGTCAT\n",
      "chr10A\t3068\t3085\t3\t3\t3\t1.000\tTATGTCGAAATGGCCGACTGCTCGAGCA\n",
      "chr10A\t3151\t3151\t1\t2\t1\t0.500\tGCCTTCGAGGC\n",
      "chr10A\t3199\t3199\t1\t2\t1\t0.500\tTGCAGCGATAG\n",
      "chr10A\t3218\t3218\t1\t2\t2\t1.000\tAGATTCGAAGG\n",
      "chr10A\t3238\t3238\t1\t1\t1\t1.000\tGGAGCCGTCTG\n",
      "chr10A\t3297\t3297\t1\t2\t2\t1.000\tTTGAGCGTTTG\n",
      "chr10A\t3437\t3437\t1\t2\t2\t1.000\tACAAACGTCTA\n",
      "chr10A\t3472\t3483\t3\t3\t3\t1.000\tGCTAGCGGCTGGCGGTCGTTTC\n",
      "chr10A\t3500\t3500\t1\t3\t3\t1.000\tGAAGACGATGA\n",
      "chr10A\t3559\t3559\t1\t1\t1\t1.000\tGGGCTCGGATT\n",
      "chr10A\t3695\t3695\t1\t3\t3\t1.000\tTGAACCGAGGT\n",
      "chr10A\t3736\t3736\t1\t2\t2\t1.000\tCTCCACGCAAG\n",
      "chr10A\t3874\t3874\t1\t1\t1\t1.000\tAGGGCCGGATG\n",
      "chr10A\t3892\t3892\t1\t2\t2\t1.000\tTCTGACGAGAT\n",
      "chr10A\t3903\t3903\t1\t2\t2\t1.000\tTGTTACGGCCT\n",
      "chr10A\t3936\t3936\t1\t2\t2\t1.000\tCTTGTCGAGGG\n",
      "chr10A\t3972\t3972\t1\t2\t2\t1.000\tAAGGGCGGTGT\n",
      "chr10A\t3995\t3995\t1\t3\t3\t1.000\tCAGAGCGAGCT\n",
      "chr10A\t4006\t4006\t1\t2\t2\t1.000\tGCAGACGGAGC\n",
      "chr10A\t4030\t4036\t2\t6\t6\t1.000\tGGATGCGGAGCCGAATA\n",
      "chr10A\t4058\t4058\t1\t4\t3\t0.750\tAGTAACGTATG\n",
      "chr10A\t4086\t4094\t2\t4\t4\t1.000\tTTGAACGTAGGTGCGTTGT\n",
      "chr10A\t4228\t4228\t1\t3\t2\t0.667\tCTCATCGAGCT\n",
      "chr10A\t4246\t4246\t1\t3\t3\t1.000\tTGGACCGCATG\n",
      "chr10A\t4281\t4281\t1\t1\t1\t1.000\tGACCACGCAGA\n",
      "chr10A\t4351\t4361\t2\t8\t8\t1.000\tGGGTTCGTTTATTATCGAAAG\n",
      "chr10A\t4404\t4404\t1\t3\t3\t1.000\tATGATCGCATC\n",
      "chr10A\t4457\t4457\t1\t2\t2\t1.000\tGCCAGCGACTT\n",
      "chr10A\t4478\t4478\t1\t1\t1\t1.000\tCACCCCGCAGT\n",
      "chr10A\t4490\t4490\t1\t3\t3\t1.000\tGCAGTCGAGAC\n",
      "chr10A\t4623\t4623\t1\t3\t3\t1.000\tACATACGAGTA\n",
      "chr10A\t4655\t4655\t1\t2\t2\t1.000\tAGGGTCGCCAA\n",
      "chr10A\t4696\t4696\t1\t1\t1\t1.000\tTCTGTCGTTGA\n",
      "chr10A\t4708\t4708\t1\t1\t1\t1.000\tTGAATCGGGAT\n",
      "chr10A\t4751\t4751\t1\t3\t3\t1.000\tGGAATCGGGGA\n",
      "chr10A\t4900\t4900\t1\t2\t1\t0.500\tCTTTTCGTCAG\n",
      "chr10A\t4930\t4930\t1\t2\t1\t0.500\tAGGTTCGCTGC\n",
      "chr10A\t4948\t4948\t1\t2\t2\t1.000\tTTTTACGGTAG\n",
      "chr10A\t5149\t5151\t2\t4\t4\t1.000\tCAGCCCGCGGGAG\n",
      "chr10A\t5344\t5344\t1\t2\t2\t1.000\tAGGTGCGACTT\n",
      "chr10A\t5512\t5512\t1\t3\t3\t1.000\tAGGTGCGACTT\n",
      "chr10A\t5680\t5680\t1\t2\t0\t0.000\tATGTGCGACTT\n",
      "chr10A\t5778\t5778\t1\t2\t2\t1.000\tTGAGACGCAGC\n",
      "chr10A\t5789\t5789\t1\t2\t2\t1.000\tTTAGACGCCAA\n",
      "chr10A\t5821\t5821\t1\t3\t0\t0.000\tTTTAACGAGCT\n",
      "chr10A\t5838\t5838\t1\t3\t3\t1.000\tCTCTCCGAGTG\n",
      "chr10A\t5881\t5881\t1\t1\t1\t1.000\tTTACCCGACCA\n",
      "chr10A\t5955\t5955\t1\t3\t3\t1.000\tAGATACGTCTT\n",
      "chr10A\t5982\t5982\t1\t2\t2\t1.000\tCAAAACGGCCA\n",
      "chr10A\t6031\t6031\t1\t2\t2\t1.000\tCTTGGCGCAGG\n",
      "chr10A\t6059\t6059\t1\t3\t2\t0.667\tCCAAACGAGTA\n",
      "chr10A\t6141\t6141\t1\t3\t3\t1.000\tCCAAACGTCCT\n",
      "chr10A\t6178\t6178\t1\t1\t1\t1.000\tAGAGACGTGAG\n",
      "chr10A\t6223\t6223\t1\t2\t0\t0.000\tAGAGGCGAAAA\n",
      "chr10A\t6484\t6484\t1\t4\t3\t0.750\tGCCAACGATTG\n",
      "chr10A\t6573\t6573\t1\t4\t4\t1.000\tCCAAACGAACA\n",
      "chr10A\t6869\t6869\t1\t2\t0\t0.000\tAAGAACGATAA\n",
      "chr10A\t6942\t6942\t1\t3\t3\t1.000\tCAAAACGACAA\n",
      "chr10A\t7029\t7029\t1\t2\t2\t1.000\tTCCTGCGGTTT\n",
      "chr10A\t7051\t7063\t3\t9\t9\t1.000\tACTTTCGTCTCCGTCTTCGTCTT\n",
      "chr10A\t7081\t7081\t1\t4\t4\t1.000\tATCTTCGTCTT\n",
      "chr10A\t7096\t7096\t1\t3\t3\t1.000\tTTCATCGTCAG\n",
      "chr10A\t7109\t7115\t2\t8\t8\t1.000\tTACTGCGTAGGCGTTGG\n",
      "chr10A\t7140\t7140\t1\t2\t2\t1.000\tCTGAACGAACT\n",
      "chr10A\t7162\t7166\t2\t6\t0\t0.000\tAGGCTCGCTCGGAGG\n",
      "chr10A\t7206\t7209\t2\t4\t4\t1.000\tTTGTGCGGCGGGGG\n",
      "chr10A\t7220\t7230\t3\t6\t6\t1.000\tATTGGCGAGTCGGAACGATCA\n",
      "chr10A\t7266\t7266\t1\t3\t3\t1.000\tGTTTGCGGCTG\n",
      "chr10A\t7284\t7284\t1\t4\t4\t1.000\tCTGGGCGTTTG\n",
      "chr10A\t7297\t7297\t1\t1\t0\t0.000\tGGTGGCGTGGG\n",
      "chr10A\t7331\t7336\t2\t4\t4\t1.000\tGTGGTCGTTGCGAACC\n",
      "chr10A\t7357\t7357\t1\t2\t2\t1.000\tTGAGCCGGCTG\n",
      "chr10A\t7385\t7385\t1\t1\t1\t1.000\tGGCCACGCATT\n",
      "chr10A\t7428\t7435\t2\t6\t6\t1.000\tTGCTTCGTCCAACGTGAT\n",
      "chr10A\t7456\t7458\t2\t2\t2\t1.000\tGCCACCGCGGGGT\n",
      "chr10A\t7471\t7480\t2\t4\t4\t1.000\tCAAGCCGATCTAACCGTCTC\n",
      "chr10A\t7496\t7496\t1\t2\t1\t0.500\tTCTGGCGAACC\n",
      "chr10A\t7519\t7519\t1\t3\t3\t1.000\tGCCTCCGGCAA\n",
      "chr10A\t7531\t7534\t2\t2\t2\t1.000\tGTCATCGGCGGAGC\n",
      "chr10A\t7561\t7569\t3\t3\t3\t1.000\tTTGAGCGATCGACCGGGCA\n",
      "chr10A\t7596\t7614\t4\t12\t12\t1.000\tGATATCGTGTAAAGCGAATCGTGCGATAT\n",
      "chr10A\t7626\t7626\t1\t2\t2\t1.000\tCTCATCGGTGA\n",
      "chr10A\t7649\t7649\t1\t2\t2\t1.000\tAAGTTCGGGGA\n",
      "chr10A\t7702\t7718\t4\t12\t12\t1.000\tTTAGCCGAGCGGAGTACGAAACGGATG\n",
      "chr10A\t7731\t7731\t1\t2\t2\t1.000\tGCTGTCGGTTG\n",
      "chr10A\t7770\t7783\t3\t12\t9\t0.750\tGAGAGCGTATCGTCCATCCGTGTA\n",
      "chr10A\t7797\t7812\t3\t9\t9\t1.000\tGTATTCGTGTCTAGCGTGAGCGAGCA\n",
      "chr10A\t7887\t7887\t1\t3\t3\t1.000\tAGCTGCGCCTT\n",
      "chr10A\t7906\t7906\t1\t2\t2\t1.000\tTAAACCGCCAT\n",
      "chr10A\t7917\t7931\t4\t16\t16\t1.000\tTGAACCGAACGCTCCGAGTCGAAGT\n",
      "chr10A\t8003\t8013\t4\t8\t8\t1.000\tTTGATCGTCCGCGGTCGTTGG\n",
      "chr10A\t8043\t8043\t1\t3\t2\t0.667\tCTTGGCGACCT\n",
      "chr10A\t8057\t8057\t1\t3\t0\t0.000\tCTTCCCGAATG\n",
      "chr10A\t8077\t8082\t2\t8\t8\t1.000\tTTCAGCGTTGCGCATT\n",
      "chr10A\t8099\t8099\t1\t4\t4\t1.000\tGAAAACGAGAC\n",
      "chr10A\t8144\t8144\t1\t1\t1\t1.000\tAGATCCGTCTT\n",
      "chr10A\t8166\t8177\t3\t9\t9\t1.000\tGAAGCCGTTCCCCGCACGTGAG\n",
      "chr10A\t8190\t8190\t1\t1\t1\t1.000\tGGACCCGGTTG\n",
      "chr10A\t8203\t8205\t2\t6\t6\t1.000\tTGTGCCGCGCCTG\n",
      "chr10A\t8247\t8247\t1\t2\t2\t1.000\tCTTGCCGGCAT\n",
      "chr10A\t8260\t8260\t1\t2\t2\t1.000\tGACATCGAAGC\n",
      "chr10A\t8274\t8274\t1\t2\t2\t1.000\tCATGTCGTCCT\n",
      "chr10A\t8307\t8307\t1\t3\t3\t1.000\tTGGTTCGCCCA\n",
      "chr10A\t8341\t8366\t5\t15\t15\t1.000\tTTGTACGAGTCGGCCGCCAATGTCGCCAGCCGTGAT\n",
      "chr10A\t8418\t8435\t3\t12\t12\t1.000\tAAACTCGTGAGAATCGTCCATCCGGCAC\n",
      "chr10A\t8464\t8464\t1\t2\t1\t0.500\tGACCACGCATG\n",
      "chr10A\t8488\t8493\t2\t8\t8\t1.000\tTCTTTCGATTCGAATC\n",
      "chr10A\t8575\t8575\t1\t1\t1\t1.000\tCTAACCGCTAC\n",
      "chr10A\t8636\t8636\t1\t1\t1\t1.000\tCAGGGCGAGAG\n",
      "chr10A\t8690\t8690\t1\t3\t2\t0.667\tCTGCCCGAAAG\n",
      "chr10A\t8701\t8701\t1\t2\t1\t0.500\tCACCCCGAGGA\n",
      "chr10A\t8725\t8725\t1\t3\t3\t1.000\tACTTTCGAGTT\n",
      "chr10A\t8745\t8747\t2\t2\t2\t1.000\tCCTTGCGCGTATA\n",
      "chr10A\t8763\t8788\t4\t16\t16\t1.000\tATTCCCGATAAGTATCGTTTTTCGACCATTCGATCA\n",
      "chr10A\t8799\t8799\t1\t3\t3\t1.000\tTTTGTCGTACC\n",
      "chr10A\t8819\t8819\t1\t3\t3\t1.000\tAGTTCCGGTCC\n",
      "chr10A\t8835\t8835\t1\t3\t3\t1.000\tCCCAACGAGTG\n",
      "chr10A\t8851\t8851\t1\t3\t2\t0.667\tTGAATCGTCAA\n",
      "chr10A\t8862\t8862\t1\t4\t3\t0.750\tTCATTCGCTGG\n",
      "chr10A\t8879\t8879\t1\t4\t4\t1.000\tTCAGCCGAGGC\n",
      "chr10A\t8965\t8965\t1\t1\t1\t1.000\tATGGACGGTGA\n",
      "chr10A\t9049\t9056\t3\t6\t3\t0.500\tTCTCTCGTCGTCCGCTTT\n",
      "chr10A\t9087\t9087\t1\t2\t2\t1.000\tCCTTGCGAAGT\n",
      "chr10A\t9100\t9100\t1\t2\t2\t1.000\tCTTGGCGGTTG\n",
      "chr10A\t9169\t9169\t1\t4\t4\t1.000\tGGTGCCGTCTT\n",
      "chr10A\t9246\t9246\t1\t4\t4\t1.000\tAGAGGCGGCAG\n",
      "chr10A\t9315\t9319\t2\t6\t6\t1.000\tGGCAGCGGCCGGTGG\n",
      "chr10A\t9343\t9343\t1\t2\t2\t1.000\tCTAGCCGGAAT\n",
      "chr10A\t9354\t9354\t1\t2\t2\t1.000\tTGGTGCGACAG\n",
      "chr10A\t9415\t9415\t1\t1\t1\t1.000\tGATGCCGGAAC\n",
      "chr10A\t9427\t9436\t2\t8\t6\t0.750\tGGTGGCGGTGGAATCGTAGC\n",
      "chr10A\t9534\t9534\t1\t2\t2\t1.000\tATCAGCGAATC\n",
      "chr10A\t9562\t9576\t4\t16\t16\t1.000\tTAGGGCGGCGGAGTCGAAGCGTTGG\n",
      "chr10A\t9621\t9626\t3\t9\t9\t1.000\tCAATTCGCGACGTTCC\n",
      "chr10A\t9649\t9649\t1\t4\t2\t0.500\tGTCACCGTTTT\n",
      "chr10A\t9688\t9697\t2\t4\t4\t1.000\tAAGTCCGCCAGGTACGAGTT\n",
      "chr10A\t9715\t9715\t1\t3\t3\t1.000\tCTTGACGAGTC\n",
      "chr10A\t9810\t9810\t1\t2\t2\t1.000\tTAGCCCGCTTA\n",
      "chr10A\t9833\t9833\t1\t3\t2\t0.667\tCTGAGCGAGCT\n",
      "chr10A\t9901\t9901\t1\t2\t2\t1.000\tAGACCCGATAA\n",
      "chr10A\t9922\t9922\t1\t3\t2\t0.667\tCCTACCGGATC\n",
      "chr10A\t9960\t9960\t1\t2\t2\t1.000\tGCAATCGAACC\n",
      "chr10A\t9971\t9971\t1\t1\t1\t1.000\tAATCCCGGCCT\n",
      "chr10A\t10001\t10011\t2\t6\t6\t1.000\tGCAACCGACCTTCTACGTGGC\n",
      "chr10A\t10042\t10042\t1\t4\t4\t1.000\tCTCACCGTCTG\n",
      "chr10A\t10078\t10083\t3\t3\t3\t1.000\tTCTTCCGTCGCGTGAT\n",
      "chr10A\t10108\t10108\t1\t4\t4\t1.000\tATCCTCGAGAT\n",
      "chr10A\t10125\t10125\t1\t1\t1\t1.000\tTGAAGCGTGTG\n",
      "chr10A\t10141\t10141\t1\t4\t4\t1.000\tCCAAGCGTTCT\n",
      "chr10A\t10156\t10156\t1\t2\t2\t1.000\tCAAACCGTCTA\n",
      "chr10A\t10225\t10231\t3\t9\t9\t1.000\tTTGTGCGTCGGCGACCT\n",
      "chr10A\t10374\t10374\t1\t2\t2\t1.000\tAGCCTCGTCTG\n"
     ]
    }
   ],
   "source": [
    "!head -200 {meth_freq_fn}"
   ]
  },
  {
   "cell_type": "code",
   "execution_count": null,
   "metadata": {},
   "outputs": [],
   "source": []
  },
  {
   "cell_type": "markdown",
   "metadata": {},
   "source": [
    "## Comparative methylation calling with pycometh"
   ]
  },
  {
   "cell_type": "code",
   "execution_count": 27,
   "metadata": {},
   "outputs": [],
   "source": [
    "os.chdir(notebook_path)"
   ]
  },
  {
   "cell_type": "code",
   "execution_count": 28,
   "metadata": {},
   "outputs": [],
   "source": [
    "PYCO_OUT_DIR = os.path.abspath('../../analyses/pycometh/comparative/')"
   ]
  },
  {
   "cell_type": "code",
   "execution_count": 29,
   "metadata": {},
   "outputs": [],
   "source": [
    "from pycoMeth.CpG_Aggregate import CpG_Aggregate\n",
    "# Optionally inport jupyter helper functions\n",
    "from pycoMeth.common import head, jhelp\n",
    "import sys"
   ]
  },
  {
   "cell_type": "code",
   "execution_count": 31,
   "metadata": {},
   "outputs": [],
   "source": [
    "##setup\n",
    "min_depth = 5\n",
    "sample_id = 'germinated_spores'"
   ]
  },
  {
   "cell_type": "code",
   "execution_count": 32,
   "metadata": {},
   "outputs": [
    {
     "data": {
      "text/plain": [
       "'/home/jamila/jamila_Storage/analyses/pycometh/germinated_spores/chr_A_B_unassignedsta.20210407.PgtGerminatedSpores.Mapped.CpG_agg.bed'"
      ]
     },
     "execution_count": 32,
     "metadata": {},
     "output_type": "execute_result"
    }
   ],
   "source": [
    "cpg_agg_bed_fn = meth_call_fn.replace('.meth_call', '.CpG_agg').replace('.tsv','.bed')\n",
    "cpg_agg_bed_fn"
   ]
  },
  {
   "cell_type": "code",
   "execution_count": 33,
   "metadata": {},
   "outputs": [
    {
     "data": {
      "text/plain": [
       "'/home/jamila/jamila_Storage/analyses/pycometh/germinated_spores/chr_A_B_unassignedsta.20210407.PgtGerminatedSpores.Mapped.CpG_agg.tsv.gz'"
      ]
     },
     "execution_count": 33,
     "metadata": {},
     "output_type": "execute_result"
    }
   ],
   "source": [
    "cpg_agg_tsv_fn = meth_call_fn.replace('.meth_call', '.CpG_agg').replace('.tsv','.tsv.gz')\n",
    "cpg_agg_tsv_fn"
   ]
  },
  {
   "cell_type": "code",
   "execution_count": 34,
   "metadata": {},
   "outputs": [
    {
     "name": "stderr",
     "output_type": "stream",
     "text": [
      "\u001b[01;34m## Checking options and input files ##\u001b[0m\n",
      "\u001b[01;34m## Parsing methylation_calls file ##\u001b[0m\n",
      "\u001b[32m\tStarting to parse file Nanopolish methylation call file\u001b[0m\n",
      "\tProgress: 100%|██████████| 16.1G/16.1G [16:24<00:00, 16.3M bytes/s]  \n",
      "\u001b[32m\tParsing summary\u001b[0m\n",
      "\u001b[32m\t\tLines Parsed: 157,685,251\u001b[0m\n",
      "\u001b[32m\t\tLine successfully parsed: 157,685,251\u001b[0m\n",
      "\u001b[32m\t\tInput files: 1\u001b[0m\n",
      "\u001b[32m\tFiltering out low coverage sites\u001b[0m\n",
      "\u001b[32m\tSorting each chromosome by coordinates\u001b[0m\n",
      "\u001b[32m\tSites summary\u001b[0m\n",
      "\u001b[32m\t\tTotal Valid Lines: 157,685,251\u001b[0m\n",
      "\u001b[32m\t\tInitial Sites: 3,337,738\u001b[0m\n",
      "\u001b[32m\t\tValid Sites Found: 3,307,226\u001b[0m\n",
      "\u001b[32m\t\tLow Count Sites: 30,512\u001b[0m\n",
      "\u001b[01;34m## Processing valid sites found and write to file ##\u001b[0m\n",
      "\tProgress: 100%|██████████| 3.31M/3.31M [09:23<00:00, 5.86k sites/s]\n",
      "\u001b[32m\tResults summary\u001b[0m\n",
      "\u001b[32m\t\tTotal Sites Writen: 3,307,226\u001b[0m\n",
      "\u001b[32m\t\tUnmethylated sites: 1,564,297\u001b[0m\n",
      "\u001b[32m\t\tMethylated sites: 968,541\u001b[0m\n",
      "\u001b[32m\t\tAmbiguous sites: 774,388\u001b[0m\n"
     ]
    }
   ],
   "source": [
    "ff = CpG_Aggregate(nanopolish_fn= meth_call_fn,\n",
    "    ref_fasta_fn=ref_genome,\n",
    "    output_bed_fn=cpg_agg_bed_fn,\n",
    "    output_tsv_fn=cpg_agg_tsv_fn,\n",
    "    sample_id=sample_id,\n",
    "    progress=True)"
   ]
  },
  {
   "cell_type": "code",
   "execution_count": 35,
   "metadata": {},
   "outputs": [
    {
     "name": "stdout",
     "output_type": "stream",
     "text": [
      "chromosome start end  sequence                     num_motifs median_llr llr_list                                           \n",
      "chr1A      5003  5004 ACTGACGGTTT                  1          1.165      [0.79,0.2,6.99,1.54,0.26,6.53,-0.18,0.27,3.71,2...\n",
      "chr1A      5033  5034 TGTGTCGAGCA                  1          2.665      [-1.32,2.91,-0.56,5.32,0.14,2.42,5.26,4.31,3.87...\n",
      "chr1A      5057  5058 CCAGCCGAACT                  1          2.11       [-0.69,-0.77,5.09,6.51,0.3,1.66,14.38,2.04,3.01...\n",
      "chr1A      5116  5117 CTAGACGTGAC                  1          3.865      [-0.14,2.52,3.78,5.19,0.06,3.7,3.95,7.17,5.6,5.91] \n",
      "chr1A      5135  5136 ACCCCCGGTCA                  1          0.71       [0.01,-0.76,4.28,4.29,-0.02,0.33,1.75,0.93,0.58...\n",
      "chr1A      5193  5211 ATCATCGGGATTGGCGGAAGGACGAACT 3          8.475      [-0.09,7.02,11.21,7.71,1.56,15.55,7.12,11.5,19....\n",
      "chr1A      5264  5265 CAGCTCGGTCA                  1          2.295      [0.51,2.62,-2.37,1.97,-0.85,3.22,0.27,3.61,4.92...\n",
      "chr1A      5290  5291 CTTGGCGTATT                  1          5.195      [0.02,7.45,6.77,18.61,0.7,2.56,8.57,-1.51,3.62,...\n",
      "chr1A      5304  5305 ACTTGCGGACC                  1          2.075      [-0.72,-0.0,6.52,-5.08,-1.36,6.78,-3.14,4.15,5....\n",
      "\n"
     ]
    }
   ],
   "source": [
    "head(cpg_agg_tsv_fn)"
   ]
  },
  {
   "cell_type": "code",
   "execution_count": 36,
   "metadata": {},
   "outputs": [],
   "source": [
    "# Import main module \n",
    "from pycoMeth.Interval_Aggregate import Interval_Aggregate"
   ]
  },
  {
   "cell_type": "code",
   "execution_count": 38,
   "metadata": {},
   "outputs": [
    {
     "name": "stdout",
     "output_type": "stream",
     "text": [
      "chr_A_B_unassignedsta.20210407.PgtGerminatedSpores.Mapped.bam\n",
      "chr_A_B_unassignedsta.20210407.PgtGerminatedSpores.Mapped.bam.bai\n",
      "chr_A_B_unassignedsta.20210407.PgtGerminatedSpores.Mapped.CpG_agg.bed\n",
      "chr_A_B_unassignedsta.20210407.PgtGerminatedSpores.Mapped.CpG_agg.tsv.gz\n",
      "chr_A_B_unassignedsta.20210407.PgtGerminatedSpores.Mapped.meth_call.tsv\n",
      "chr_A_B_unassignedsta.20210407.PgtGerminatedSpores.Mapped.meth_freq.tsv\n",
      "chr_A_B_unassignedsta.20210407.PgtGerminatedSpores.Mapped.stats.txt\n"
     ]
    }
   ],
   "source": [
    "!ls {OUT_DIR}"
   ]
  },
  {
   "cell_type": "raw",
   "metadata": {},
   "source": [
    "on the command line in OUT_DIR\n",
    "bedtools makewindows -g chr_A_B_unassigned.genome_file -w 1000  > chr_A_B_unassigned.w1000.bed\n",
    "bedtools makewindows -g chr_A_B_unassigned.genome_file -w 1000 -s 200 > chr_A_B_unassigned.w1000s200.bed"
   ]
  },
  {
   "cell_type": "code",
   "execution_count": 39,
   "metadata": {},
   "outputs": [],
   "source": [
    "w1000s200_bed_fn = os.path.abspath('../../analyses/pycometh/chr_A_B_unassigned.w1000s200.bed')\n",
    "w1000_bed_fn = os.path.abspath('../../analyses/pycometh/chr_A_B_unassigned.w1000.bed')"
   ]
  },
  {
   "cell_type": "code",
   "execution_count": 40,
   "metadata": {},
   "outputs": [
    {
     "name": "stderr",
     "output_type": "stream",
     "text": [
      "\u001b[01;34m## Checking options and input files ##\u001b[0m\n",
      "\u001b[01;34m## Parsing CpG_aggregate file ##\u001b[0m\n",
      "\tProgress: 1.04G bytes [01:11, 14.7M bytes/s]                      \n",
      "\u001b[32m\tResults summary\u001b[0m\n",
      "\u001b[32m\t\tLines parsed: 3,307,226\u001b[0m\n",
      "\u001b[32m\t\tTotal number of intervals: 353,413\u001b[0m\n",
      "\u001b[32m\tWritter summary\u001b[0m\n",
      "\u001b[32m\t\tValid intervals written: 333,626\u001b[0m\n",
      "\u001b[32m\t\tEmpty intervals skipped: 19,787\u001b[0m\n",
      "\u001b[01;34m## Checking options and input files ##\u001b[0m\n",
      "\u001b[01;34m## Parsing CpG_aggregate file ##\u001b[0m\n",
      "\tProgress: 1.04G bytes [00:57, 18.1M bytes/s]                      \n",
      "\u001b[32m\tResults summary\u001b[0m\n",
      "\u001b[32m\t\tLines parsed: 3,307,226\u001b[0m\n",
      "\u001b[32m\t\tTotal number of intervals: 176,760\u001b[0m\n",
      "\u001b[32m\tWritter summary\u001b[0m\n",
      "\u001b[32m\t\tValid intervals written: 172,827\u001b[0m\n",
      "\u001b[32m\t\tEmpty intervals skipped: 3,933\u001b[0m\n",
      "\u001b[01;34m## Checking options and input files ##\u001b[0m\n",
      "\u001b[01;34m## Parsing CpG_aggregate file ##\u001b[0m\n",
      "\tProgress: 1.04G bytes [00:44, 23.3M bytes/s]                      \n",
      "\u001b[32m\tResults summary\u001b[0m\n",
      "\u001b[32m\t\tLines parsed: 3,307,226\u001b[0m\n",
      "\u001b[32m\t\tTotal number of intervals: 35,432\u001b[0m\n",
      "\u001b[32m\tWritter summary\u001b[0m\n",
      "\u001b[32m\t\tValid intervals written: 35,033\u001b[0m\n",
      "\u001b[32m\t\tEmpty intervals skipped: 399\u001b[0m\n"
     ]
    }
   ],
   "source": [
    "for fn in [500, 1000, 5000]:\n",
    "    interval = fn\n",
    "    int_agg_bed_fn = meth_call_fn.replace('.meth_call', '.interval_%s_agg' % interval).replace('.tsv','.bed')\n",
    "    int_agg_tsv_fn = meth_call_fn.replace('.meth_call', '.interval_%s_agg' % interval).replace('.tsv','.tsv.gz')\n",
    "    #print(int_agg_bed_fn, '\\n', int_agg_tsv_fn)\n",
    "    fg = Interval_Aggregate(\n",
    "    cpg_aggregate_fn=cpg_agg_tsv_fn,\n",
    "    ref_fasta_fn=ref_genome,\n",
    "    output_bed_fn=int_agg_bed_fn,\n",
    "    output_tsv_fn=int_agg_tsv_fn,\n",
    "    interval_size=interval,\n",
    "    min_cpg_per_interval=1,\n",
    "    sample_id=sample_id,\n",
    "    progress=True)"
   ]
  },
  {
   "cell_type": "code",
   "execution_count": null,
   "metadata": {},
   "outputs": [],
   "source": []
  }
 ],
 "metadata": {
  "kernelspec": {
   "display_name": "pycoMeth",
   "language": "python",
   "name": "pycometh"
  },
  "language_info": {
   "codemirror_mode": {
    "name": "ipython",
    "version": 3
   },
   "file_extension": ".py",
   "mimetype": "text/x-python",
   "name": "python",
   "nbconvert_exporter": "python",
   "pygments_lexer": "ipython3",
   "version": "3.6.10"
  }
 },
 "nbformat": 4,
 "nbformat_minor": 4
}
