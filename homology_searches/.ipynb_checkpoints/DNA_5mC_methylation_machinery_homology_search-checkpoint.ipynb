{
 "cells": [
  {
   "cell_type": "markdown",
   "metadata": {},
   "source": [
    "### Notebook for homology searches for DNA meythlation machinery\n",
    "\n",
    "This needs to have Java 11 in the path and for example run in the pycoMeth environment only"
   ]
  },
  {
   "cell_type": "code",
   "execution_count": 1,
   "metadata": {},
   "outputs": [],
   "source": [
    "import os\n",
    "from Bio import SeqIO\n",
    "import pandas as pd\n",
    "import numpy as np\n",
    "import re"
   ]
  },
  {
   "cell_type": "code",
   "execution_count": 2,
   "metadata": {},
   "outputs": [],
   "source": [
    "notebook_path = os.path.abspath(\".\")"
   ]
  },
  {
   "cell_type": "code",
   "execution_count": 3,
   "metadata": {},
   "outputs": [],
   "source": [
    "IN_DIR = os.path.abspath('../../analyses/methylation_machinery/')\n",
    "OUT_DIR = os.path.abspath('../../analyses/methylation_machinery/')\n",
    "GENOME_DIR = os.path.abspath('../../data/genomic_resources/')"
   ]
  },
  {
   "cell_type": "code",
   "execution_count": 4,
   "metadata": {},
   "outputs": [],
   "source": [
    "Pgt_protein_fn = os.path.abspath('../../data/genomic_resources/Puccinia_graminis_tritici_21-0.proteins.fa')\n",
    "FivemC_seeds_fn = os.path.abspath('../../analyses/methylation_machinery/5mC_methylation_query.fasta')\n"
   ]
  },
  {
   "cell_type": "code",
   "execution_count": 5,
   "metadata": {},
   "outputs": [],
   "source": [
    "n_threads = 20\n",
    "blast_outfmt6_headers = \"qseqid sseqid pident length mismatch gapopen qstart qend sstart send evalue bitscore\".split(' ')"
   ]
  },
  {
   "cell_type": "code",
   "execution_count": 6,
   "metadata": {},
   "outputs": [],
   "source": [
    "###write a function that takes the interpro TSV and returns a dict of domains for a specific search engine\n",
    "def interpro_accession_dict(fn):\n",
    "    header = ['P-ID', 'md5', 'len', 'analysis', 'accession', 'description', 'start', 'stop', 'score', 'status' , 'date',\n",
    "         'Interpro_accession', 'Interpro_description']\n",
    "    df = pd.read_csv(fn, sep='\\t', header =None, names= header).dropna()\n",
    "    return dict(zip(df.groupby('P-ID')['Interpro_accession'].unique().index, df.groupby('P-ID')['Interpro_accession'].unique()))"
   ]
  },
  {
   "cell_type": "code",
   "execution_count": 7,
   "metadata": {},
   "outputs": [],
   "source": [
    "###write a function that takes the interpro TSV and returns a dict of domains for a specific search engine\n",
    "def interpro_analysis_dict(fn, analysis):\n",
    "    header = ['P-ID', 'md5', 'len', 'analysis', 'accession', 'description', 'start', 'stop', 'score', 'status' , 'date',\n",
    "         'Interpro_accession', 'Interpro_description']\n",
    "    df = pd.read_csv(fn, sep='\\t', header =None, names= header).dropna()\n",
    "    grouped = df[df.analysis == analysis].groupby('P-ID')\n",
    "    return dict(zip(grouped['analysis'].unique().index, grouped['accession'].unique()))"
   ]
  },
  {
   "cell_type": "markdown",
   "metadata": {},
   "source": [
    "### Here the blast analysis starts"
   ]
  },
  {
   "cell_type": "code",
   "execution_count": 8,
   "metadata": {},
   "outputs": [],
   "source": [
    "os.chdir(OUT_DIR)"
   ]
  },
  {
   "cell_type": "code",
   "execution_count": null,
   "metadata": {},
   "outputs": [],
   "source": [
    "!makeblastdb -dbtype prot -in {Pgt_protein_fn}"
   ]
  },
  {
   "cell_type": "code",
   "execution_count": null,
   "metadata": {},
   "outputs": [],
   "source": [
    "!blastp -help"
   ]
  },
  {
   "cell_type": "code",
   "execution_count": 9,
   "metadata": {},
   "outputs": [],
   "source": [
    "#define file names\n",
    "FivemC_outfmt_6_fn = 'Puccinia_graminis_tritici_21-0.proteins.5mC_methylation_query.blastp.outfmt6'\n",
    "FivemC_outfmt_6_fn = os.path.join(OUT_DIR, FivemC_outfmt_6_fn)"
   ]
  },
  {
   "cell_type": "code",
   "execution_count": 10,
   "metadata": {},
   "outputs": [],
   "source": [
    "#run blast\n",
    "!blastp -num_threads 20 -outfmt 6 -query {FivemC_seeds_fn} -db {Pgt_protein_fn} > {FivemC_outfmt_6_fn}"
   ]
  },
  {
   "cell_type": "code",
   "execution_count": 11,
   "metadata": {},
   "outputs": [
    {
     "name": "stdout",
     "output_type": "stream",
     "text": [
      "tr|A8NEZ8|A8NEZ8_COPC7\tPGT21_014413-T1\t25.967\t905\t481\t33\t469\t1238\t266\t1116\t6.85e-55\t209\r\n",
      "tr|A8NEZ8|A8NEZ8_COPC7\tPGT21_012711-T1\t29.111\t450\t227\t15\t744\t1122\t114\t542\t3.11e-39\t154\r\n",
      "tr|A8NEZ8|A8NEZ8_COPC7\tPGT21_014167-T1\t32.558\t43\t29\t0\t688\t730\t32\t74\t4.7\t29.6\r\n",
      "tr|A8NEZ8|A8NEZ8_COPC7\tPGT21_014158-T1\t32.558\t43\t29\t0\t688\t730\t32\t74\t4.7\t29.6\r\n",
      "tr|A8NEZ8|A8NEZ8_COPC7\tPGT21_017775-T1\t32.857\t70\t45\t2\t619\t688\t6\t73\t5.3\t28.9\r\n",
      "tr|Q96W73|Q96W73_NEUCS\tPGT21_012711-T1\t28.621\t290\t161\t12\t834\t1085\t105\t386\t1.43e-18\t91.3\r\n",
      "tr|Q96W73|Q96W73_NEUCS\tPGT21_014413-T1\t28.425\t292\t163\t12\t832\t1085\t564\t847\t1.98e-18\t92.0\r\n",
      "tr|Q96W73|Q96W73_NEUCS\tPGT21_037052-T1\t25.397\t126\t83\t2\t907\t1031\t293\t408\t0.016\t40.0\r\n",
      "tr|Q96W73|Q96W73_NEUCS\tPGT21_036642-T1\t25.397\t126\t83\t2\t907\t1031\t292\t407\t0.017\t39.7\r\n",
      "tr|Q96W73|Q96W73_NEUCS\tPGT21_028169-T1\t24.299\t107\t76\t2\t859\t964\t349\t451\t0.094\t37.4\r\n"
     ]
    }
   ],
   "source": [
    "!head {FivemC_outfmt_6_fn}"
   ]
  },
  {
   "cell_type": "markdown",
   "metadata": {},
   "source": [
    "### Downstream filtering of blast resutls"
   ]
  },
  {
   "cell_type": "code",
   "execution_count": 12,
   "metadata": {},
   "outputs": [],
   "source": [
    "FivemC_blast_df = pd.read_csv(FivemC_outfmt_6_fn, header = None, names=blast_outfmt6_headers, sep='\\t' )"
   ]
  },
  {
   "cell_type": "code",
   "execution_count": 13,
   "metadata": {},
   "outputs": [
    {
     "data": {
      "text/html": [
       "<div>\n",
       "<style scoped>\n",
       "    .dataframe tbody tr th:only-of-type {\n",
       "        vertical-align: middle;\n",
       "    }\n",
       "\n",
       "    .dataframe tbody tr th {\n",
       "        vertical-align: top;\n",
       "    }\n",
       "\n",
       "    .dataframe thead th {\n",
       "        text-align: right;\n",
       "    }\n",
       "</style>\n",
       "<table border=\"1\" class=\"dataframe\">\n",
       "  <thead>\n",
       "    <tr style=\"text-align: right;\">\n",
       "      <th></th>\n",
       "      <th>qseqid</th>\n",
       "      <th>sseqid</th>\n",
       "      <th>pident</th>\n",
       "      <th>length</th>\n",
       "      <th>mismatch</th>\n",
       "      <th>gapopen</th>\n",
       "      <th>qstart</th>\n",
       "      <th>qend</th>\n",
       "      <th>sstart</th>\n",
       "      <th>send</th>\n",
       "      <th>evalue</th>\n",
       "      <th>bitscore</th>\n",
       "    </tr>\n",
       "  </thead>\n",
       "  <tbody>\n",
       "    <tr>\n",
       "      <th>0</th>\n",
       "      <td>tr|A8NEZ8|A8NEZ8_COPC7</td>\n",
       "      <td>PGT21_014413-T1</td>\n",
       "      <td>25.967</td>\n",
       "      <td>905</td>\n",
       "      <td>481</td>\n",
       "      <td>33</td>\n",
       "      <td>469</td>\n",
       "      <td>1238</td>\n",
       "      <td>266</td>\n",
       "      <td>1116</td>\n",
       "      <td>6.850000e-55</td>\n",
       "      <td>209.0</td>\n",
       "    </tr>\n",
       "    <tr>\n",
       "      <th>1</th>\n",
       "      <td>tr|A8NEZ8|A8NEZ8_COPC7</td>\n",
       "      <td>PGT21_012711-T1</td>\n",
       "      <td>29.111</td>\n",
       "      <td>450</td>\n",
       "      <td>227</td>\n",
       "      <td>15</td>\n",
       "      <td>744</td>\n",
       "      <td>1122</td>\n",
       "      <td>114</td>\n",
       "      <td>542</td>\n",
       "      <td>3.110000e-39</td>\n",
       "      <td>154.0</td>\n",
       "    </tr>\n",
       "    <tr>\n",
       "      <th>2</th>\n",
       "      <td>tr|A8NEZ8|A8NEZ8_COPC7</td>\n",
       "      <td>PGT21_014167-T1</td>\n",
       "      <td>32.558</td>\n",
       "      <td>43</td>\n",
       "      <td>29</td>\n",
       "      <td>0</td>\n",
       "      <td>688</td>\n",
       "      <td>730</td>\n",
       "      <td>32</td>\n",
       "      <td>74</td>\n",
       "      <td>4.700000e+00</td>\n",
       "      <td>29.6</td>\n",
       "    </tr>\n",
       "    <tr>\n",
       "      <th>3</th>\n",
       "      <td>tr|A8NEZ8|A8NEZ8_COPC7</td>\n",
       "      <td>PGT21_014158-T1</td>\n",
       "      <td>32.558</td>\n",
       "      <td>43</td>\n",
       "      <td>29</td>\n",
       "      <td>0</td>\n",
       "      <td>688</td>\n",
       "      <td>730</td>\n",
       "      <td>32</td>\n",
       "      <td>74</td>\n",
       "      <td>4.700000e+00</td>\n",
       "      <td>29.6</td>\n",
       "    </tr>\n",
       "    <tr>\n",
       "      <th>4</th>\n",
       "      <td>tr|A8NEZ8|A8NEZ8_COPC7</td>\n",
       "      <td>PGT21_017775-T1</td>\n",
       "      <td>32.857</td>\n",
       "      <td>70</td>\n",
       "      <td>45</td>\n",
       "      <td>2</td>\n",
       "      <td>619</td>\n",
       "      <td>688</td>\n",
       "      <td>6</td>\n",
       "      <td>73</td>\n",
       "      <td>5.300000e+00</td>\n",
       "      <td>28.9</td>\n",
       "    </tr>\n",
       "  </tbody>\n",
       "</table>\n",
       "</div>"
      ],
      "text/plain": [
       "                   qseqid           sseqid  pident  length  mismatch  gapopen  \\\n",
       "0  tr|A8NEZ8|A8NEZ8_COPC7  PGT21_014413-T1  25.967     905       481       33   \n",
       "1  tr|A8NEZ8|A8NEZ8_COPC7  PGT21_012711-T1  29.111     450       227       15   \n",
       "2  tr|A8NEZ8|A8NEZ8_COPC7  PGT21_014167-T1  32.558      43        29        0   \n",
       "3  tr|A8NEZ8|A8NEZ8_COPC7  PGT21_014158-T1  32.558      43        29        0   \n",
       "4  tr|A8NEZ8|A8NEZ8_COPC7  PGT21_017775-T1  32.857      70        45        2   \n",
       "\n",
       "   qstart  qend  sstart  send        evalue  bitscore  \n",
       "0     469  1238     266  1116  6.850000e-55     209.0  \n",
       "1     744  1122     114   542  3.110000e-39     154.0  \n",
       "2     688   730      32    74  4.700000e+00      29.6  \n",
       "3     688   730      32    74  4.700000e+00      29.6  \n",
       "4     619   688       6    73  5.300000e+00      28.9  "
      ]
     },
     "execution_count": 13,
     "metadata": {},
     "output_type": "execute_result"
    }
   ],
   "source": [
    "FivemC_blast_df.head()"
   ]
  },
  {
   "cell_type": "code",
   "execution_count": 14,
   "metadata": {},
   "outputs": [],
   "source": [
    "#filtering of blast_df\n",
    "FivemC_stringent_blast_df =  FivemC_blast_df[FivemC_blast_df.evalue < 1e-10].copy() "
   ]
  },
  {
   "cell_type": "code",
   "execution_count": 15,
   "metadata": {},
   "outputs": [
    {
     "data": {
      "text/plain": [
       "qseqid\n",
       "sp|P26358|DNMT1_HUMAN             2\n",
       "sp|Q94F88|CMT3_ARATH              2\n",
       "tr|A0A4D6FZ77|A0A4D6FZ77_IXORI    2\n",
       "tr|A8NEZ8|A8NEZ8_COPC7            2\n",
       "tr|O42731|O42731_ASCIM            2\n",
       "tr|Q96W73|Q96W73_NEUCS            2\n",
       "Name: sseqid, dtype: int64"
      ]
     },
     "execution_count": 15,
     "metadata": {},
     "output_type": "execute_result"
    }
   ],
   "source": [
    "FivemC_stringent_blast_df.groupby('qseqid')['sseqid'].count()"
   ]
  },
  {
   "cell_type": "code",
   "execution_count": 16,
   "metadata": {},
   "outputs": [
    {
     "data": {
      "text/plain": [
       "array(['PGT21_014413-T1', 'PGT21_012711-T1'], dtype=object)"
      ]
     },
     "execution_count": 16,
     "metadata": {},
     "output_type": "execute_result"
    }
   ],
   "source": [
    "FivemC_stringent_blast_df.sseqid.unique()"
   ]
  },
  {
   "cell_type": "code",
   "execution_count": 17,
   "metadata": {},
   "outputs": [],
   "source": [
    "FivemC_seeds_ids = []\n",
    "for seq in SeqIO.parse(FivemC_seeds_fn, 'fasta'):\n",
    "    FivemC_seeds_ids.append(seq.id)"
   ]
  },
  {
   "cell_type": "code",
   "execution_count": 18,
   "metadata": {},
   "outputs": [],
   "source": [
    "not_present = set(FivemC_seeds_ids) - set(FivemC_stringent_blast_df.qseqid.unique())"
   ]
  },
  {
   "cell_type": "code",
   "execution_count": 19,
   "metadata": {},
   "outputs": [
    {
     "data": {
      "text/plain": [
       "{'sp|Q9M548|DRM2_ARATH', 'tr|O13369|O13369_ASCIM'}"
      ]
     },
     "execution_count": 19,
     "metadata": {},
     "output_type": "execute_result"
    }
   ],
   "source": [
    "not_present"
   ]
  },
  {
   "cell_type": "code",
   "execution_count": 20,
   "metadata": {},
   "outputs": [
    {
     "data": {
      "text/plain": [
       "{'sp|Q9M548|DRM2_ARATH'}"
      ]
     },
     "execution_count": 20,
     "metadata": {},
     "output_type": "execute_result"
    }
   ],
   "source": [
    "set(FivemC_seeds_ids) - set(FivemC_blast_df[FivemC_blast_df.evalue < 1e-2].qseqid.unique())"
   ]
  },
  {
   "cell_type": "code",
   "execution_count": 21,
   "metadata": {},
   "outputs": [],
   "source": [
    "##pull out fasta sequence of all the hits\n",
    "e_value = 0.01\n",
    "FivemC_Pgt_protein_hit_fn = 'Puccinia_graminis_tritici_21-0.proteins.5mC_methylation_query.blastp-%s.fasta' % e_value\n",
    "FivemC_Pgt_protein_hit_fn = os.path.join(OUT_DIR, FivemC_Pgt_protein_hit_fn)"
   ]
  },
  {
   "cell_type": "code",
   "execution_count": 22,
   "metadata": {},
   "outputs": [],
   "source": [
    "blast_df = FivemC_blast_df"
   ]
  },
  {
   "cell_type": "code",
   "execution_count": 23,
   "metadata": {},
   "outputs": [
    {
     "name": "stdout",
     "output_type": "stream",
     "text": [
      "PGT21_012711-T1\n",
      "PGT21_014413-T1\n",
      "PGT21_030718-T1\n",
      "PGT21_036642-T1\n",
      "PGT21_037052-T1\n"
     ]
    },
    {
     "data": {
      "text/plain": [
       "5"
      ]
     },
     "execution_count": 23,
     "metadata": {},
     "output_type": "execute_result"
    }
   ],
   "source": [
    "###get all the hits once and subset the blast with the e-value selected\n",
    "hit_ids = blast_df[blast_df.evalue < e_value].sseqid.unique()\n",
    "hit_list = []\n",
    "sub_blast_df = blast_df[blast_df.evalue < e_value].copy()\n",
    "for seq in SeqIO.parse(Pgt_protein_fn, 'fasta'):\n",
    "    if seq.id in hit_ids:\n",
    "        print(seq.id)\n",
    "        hit_list.append(seq)\n",
    "SeqIO.write(hit_list, FivemC_Pgt_protein_hit_fn, 'fasta')"
   ]
  },
  {
   "cell_type": "code",
   "execution_count": 24,
   "metadata": {},
   "outputs": [
    {
     "data": {
      "text/html": [
       "<div>\n",
       "<style scoped>\n",
       "    .dataframe tbody tr th:only-of-type {\n",
       "        vertical-align: middle;\n",
       "    }\n",
       "\n",
       "    .dataframe tbody tr th {\n",
       "        vertical-align: top;\n",
       "    }\n",
       "\n",
       "    .dataframe thead th {\n",
       "        text-align: right;\n",
       "    }\n",
       "</style>\n",
       "<table border=\"1\" class=\"dataframe\">\n",
       "  <thead>\n",
       "    <tr style=\"text-align: right;\">\n",
       "      <th></th>\n",
       "      <th>qseqid</th>\n",
       "      <th>sseqid</th>\n",
       "      <th>pident</th>\n",
       "      <th>length</th>\n",
       "      <th>mismatch</th>\n",
       "      <th>gapopen</th>\n",
       "      <th>qstart</th>\n",
       "      <th>qend</th>\n",
       "      <th>sstart</th>\n",
       "      <th>send</th>\n",
       "      <th>evalue</th>\n",
       "      <th>bitscore</th>\n",
       "    </tr>\n",
       "  </thead>\n",
       "  <tbody>\n",
       "    <tr>\n",
       "      <th>0</th>\n",
       "      <td>tr|A8NEZ8|A8NEZ8_COPC7</td>\n",
       "      <td>PGT21_014413-T1</td>\n",
       "      <td>25.967</td>\n",
       "      <td>905</td>\n",
       "      <td>481</td>\n",
       "      <td>33</td>\n",
       "      <td>469</td>\n",
       "      <td>1238</td>\n",
       "      <td>266</td>\n",
       "      <td>1116</td>\n",
       "      <td>6.850000e-55</td>\n",
       "      <td>209.0</td>\n",
       "    </tr>\n",
       "    <tr>\n",
       "      <th>1</th>\n",
       "      <td>tr|A8NEZ8|A8NEZ8_COPC7</td>\n",
       "      <td>PGT21_012711-T1</td>\n",
       "      <td>29.111</td>\n",
       "      <td>450</td>\n",
       "      <td>227</td>\n",
       "      <td>15</td>\n",
       "      <td>744</td>\n",
       "      <td>1122</td>\n",
       "      <td>114</td>\n",
       "      <td>542</td>\n",
       "      <td>3.110000e-39</td>\n",
       "      <td>154.0</td>\n",
       "    </tr>\n",
       "    <tr>\n",
       "      <th>5</th>\n",
       "      <td>tr|Q96W73|Q96W73_NEUCS</td>\n",
       "      <td>PGT21_012711-T1</td>\n",
       "      <td>28.621</td>\n",
       "      <td>290</td>\n",
       "      <td>161</td>\n",
       "      <td>12</td>\n",
       "      <td>834</td>\n",
       "      <td>1085</td>\n",
       "      <td>105</td>\n",
       "      <td>386</td>\n",
       "      <td>1.430000e-18</td>\n",
       "      <td>91.3</td>\n",
       "    </tr>\n",
       "    <tr>\n",
       "      <th>6</th>\n",
       "      <td>tr|Q96W73|Q96W73_NEUCS</td>\n",
       "      <td>PGT21_014413-T1</td>\n",
       "      <td>28.425</td>\n",
       "      <td>292</td>\n",
       "      <td>163</td>\n",
       "      <td>12</td>\n",
       "      <td>832</td>\n",
       "      <td>1085</td>\n",
       "      <td>564</td>\n",
       "      <td>847</td>\n",
       "      <td>1.980000e-18</td>\n",
       "      <td>92.0</td>\n",
       "    </tr>\n",
       "    <tr>\n",
       "      <th>14</th>\n",
       "      <td>tr|O13369|O13369_ASCIM</td>\n",
       "      <td>PGT21_012711-T1</td>\n",
       "      <td>20.465</td>\n",
       "      <td>215</td>\n",
       "      <td>132</td>\n",
       "      <td>5</td>\n",
       "      <td>231</td>\n",
       "      <td>407</td>\n",
       "      <td>115</td>\n",
       "      <td>328</td>\n",
       "      <td>1.190000e-04</td>\n",
       "      <td>44.7</td>\n",
       "    </tr>\n",
       "    <tr>\n",
       "      <th>15</th>\n",
       "      <td>tr|O13369|O13369_ASCIM</td>\n",
       "      <td>PGT21_014413-T1</td>\n",
       "      <td>20.465</td>\n",
       "      <td>215</td>\n",
       "      <td>132</td>\n",
       "      <td>5</td>\n",
       "      <td>231</td>\n",
       "      <td>407</td>\n",
       "      <td>576</td>\n",
       "      <td>789</td>\n",
       "      <td>1.470000e-04</td>\n",
       "      <td>44.7</td>\n",
       "    </tr>\n",
       "    <tr>\n",
       "      <th>19</th>\n",
       "      <td>sp|P26358|DNMT1_HUMAN</td>\n",
       "      <td>PGT21_012711-T1</td>\n",
       "      <td>31.250</td>\n",
       "      <td>272</td>\n",
       "      <td>152</td>\n",
       "      <td>6</td>\n",
       "      <td>1138</td>\n",
       "      <td>1376</td>\n",
       "      <td>110</td>\n",
       "      <td>379</td>\n",
       "      <td>2.820000e-30</td>\n",
       "      <td>127.0</td>\n",
       "    </tr>\n",
       "    <tr>\n",
       "      <th>20</th>\n",
       "      <td>sp|P26358|DNMT1_HUMAN</td>\n",
       "      <td>PGT21_014413-T1</td>\n",
       "      <td>25.506</td>\n",
       "      <td>494</td>\n",
       "      <td>259</td>\n",
       "      <td>15</td>\n",
       "      <td>971</td>\n",
       "      <td>1376</td>\n",
       "      <td>368</td>\n",
       "      <td>840</td>\n",
       "      <td>8.090000e-30</td>\n",
       "      <td>129.0</td>\n",
       "    </tr>\n",
       "    <tr>\n",
       "      <th>21</th>\n",
       "      <td>sp|P26358|DNMT1_HUMAN</td>\n",
       "      <td>PGT21_014413-T1</td>\n",
       "      <td>28.108</td>\n",
       "      <td>185</td>\n",
       "      <td>68</td>\n",
       "      <td>7</td>\n",
       "      <td>1412</td>\n",
       "      <td>1584</td>\n",
       "      <td>973</td>\n",
       "      <td>1104</td>\n",
       "      <td>4.430000e-08</td>\n",
       "      <td>58.2</td>\n",
       "    </tr>\n",
       "    <tr>\n",
       "      <th>22</th>\n",
       "      <td>sp|P26358|DNMT1_HUMAN</td>\n",
       "      <td>PGT21_014413-T1</td>\n",
       "      <td>35.000</td>\n",
       "      <td>60</td>\n",
       "      <td>38</td>\n",
       "      <td>1</td>\n",
       "      <td>779</td>\n",
       "      <td>838</td>\n",
       "      <td>256</td>\n",
       "      <td>314</td>\n",
       "      <td>3.160000e-04</td>\n",
       "      <td>45.4</td>\n",
       "    </tr>\n",
       "    <tr>\n",
       "      <th>23</th>\n",
       "      <td>sp|P26358|DNMT1_HUMAN</td>\n",
       "      <td>PGT21_036642-T1</td>\n",
       "      <td>25.641</td>\n",
       "      <td>117</td>\n",
       "      <td>79</td>\n",
       "      <td>2</td>\n",
       "      <td>1202</td>\n",
       "      <td>1317</td>\n",
       "      <td>287</td>\n",
       "      <td>396</td>\n",
       "      <td>1.000000e-03</td>\n",
       "      <td>43.9</td>\n",
       "    </tr>\n",
       "    <tr>\n",
       "      <th>24</th>\n",
       "      <td>sp|P26358|DNMT1_HUMAN</td>\n",
       "      <td>PGT21_037052-T1</td>\n",
       "      <td>25.641</td>\n",
       "      <td>117</td>\n",
       "      <td>79</td>\n",
       "      <td>2</td>\n",
       "      <td>1202</td>\n",
       "      <td>1317</td>\n",
       "      <td>288</td>\n",
       "      <td>397</td>\n",
       "      <td>1.000000e-03</td>\n",
       "      <td>43.5</td>\n",
       "    </tr>\n",
       "    <tr>\n",
       "      <th>41</th>\n",
       "      <td>tr|A0A4D6FZ77|A0A4D6FZ77_IXORI</td>\n",
       "      <td>PGT21_014413-T1</td>\n",
       "      <td>27.178</td>\n",
       "      <td>482</td>\n",
       "      <td>264</td>\n",
       "      <td>17</td>\n",
       "      <td>139</td>\n",
       "      <td>542</td>\n",
       "      <td>368</td>\n",
       "      <td>840</td>\n",
       "      <td>1.270000e-31</td>\n",
       "      <td>131.0</td>\n",
       "    </tr>\n",
       "    <tr>\n",
       "      <th>42</th>\n",
       "      <td>tr|A0A4D6FZ77|A0A4D6FZ77_IXORI</td>\n",
       "      <td>PGT21_012711-T1</td>\n",
       "      <td>28.756</td>\n",
       "      <td>386</td>\n",
       "      <td>213</td>\n",
       "      <td>13</td>\n",
       "      <td>211</td>\n",
       "      <td>542</td>\n",
       "      <td>2</td>\n",
       "      <td>379</td>\n",
       "      <td>2.000000e-31</td>\n",
       "      <td>129.0</td>\n",
       "    </tr>\n",
       "    <tr>\n",
       "      <th>43</th>\n",
       "      <td>tr|A0A4D6FZ77|A0A4D6FZ77_IXORI</td>\n",
       "      <td>PGT21_036642-T1</td>\n",
       "      <td>27.273</td>\n",
       "      <td>165</td>\n",
       "      <td>103</td>\n",
       "      <td>6</td>\n",
       "      <td>335</td>\n",
       "      <td>496</td>\n",
       "      <td>257</td>\n",
       "      <td>407</td>\n",
       "      <td>5.080000e-06</td>\n",
       "      <td>50.1</td>\n",
       "    </tr>\n",
       "    <tr>\n",
       "      <th>44</th>\n",
       "      <td>tr|A0A4D6FZ77|A0A4D6FZ77_IXORI</td>\n",
       "      <td>PGT21_037052-T1</td>\n",
       "      <td>27.273</td>\n",
       "      <td>165</td>\n",
       "      <td>103</td>\n",
       "      <td>6</td>\n",
       "      <td>335</td>\n",
       "      <td>496</td>\n",
       "      <td>258</td>\n",
       "      <td>408</td>\n",
       "      <td>5.350000e-06</td>\n",
       "      <td>50.1</td>\n",
       "    </tr>\n",
       "    <tr>\n",
       "      <th>45</th>\n",
       "      <td>tr|A0A4D6FZ77|A0A4D6FZ77_IXORI</td>\n",
       "      <td>PGT21_030718-T1</td>\n",
       "      <td>26.733</td>\n",
       "      <td>101</td>\n",
       "      <td>70</td>\n",
       "      <td>2</td>\n",
       "      <td>158</td>\n",
       "      <td>255</td>\n",
       "      <td>38</td>\n",
       "      <td>137</td>\n",
       "      <td>3.000000e-03</td>\n",
       "      <td>40.8</td>\n",
       "    </tr>\n",
       "    <tr>\n",
       "      <th>49</th>\n",
       "      <td>tr|O42731|O42731_ASCIM</td>\n",
       "      <td>PGT21_014413-T1</td>\n",
       "      <td>29.725</td>\n",
       "      <td>545</td>\n",
       "      <td>300</td>\n",
       "      <td>16</td>\n",
       "      <td>783</td>\n",
       "      <td>1255</td>\n",
       "      <td>571</td>\n",
       "      <td>1104</td>\n",
       "      <td>1.590000e-58</td>\n",
       "      <td>221.0</td>\n",
       "    </tr>\n",
       "    <tr>\n",
       "      <th>50</th>\n",
       "      <td>tr|O42731|O42731_ASCIM</td>\n",
       "      <td>PGT21_012711-T1</td>\n",
       "      <td>27.460</td>\n",
       "      <td>437</td>\n",
       "      <td>245</td>\n",
       "      <td>11</td>\n",
       "      <td>783</td>\n",
       "      <td>1152</td>\n",
       "      <td>110</td>\n",
       "      <td>541</td>\n",
       "      <td>9.700000e-41</td>\n",
       "      <td>159.0</td>\n",
       "    </tr>\n",
       "    <tr>\n",
       "      <th>51</th>\n",
       "      <td>tr|O42731|O42731_ASCIM</td>\n",
       "      <td>PGT21_036642-T1</td>\n",
       "      <td>24.667</td>\n",
       "      <td>150</td>\n",
       "      <td>88</td>\n",
       "      <td>2</td>\n",
       "      <td>866</td>\n",
       "      <td>1012</td>\n",
       "      <td>296</td>\n",
       "      <td>423</td>\n",
       "      <td>2.520000e-04</td>\n",
       "      <td>45.8</td>\n",
       "    </tr>\n",
       "    <tr>\n",
       "      <th>52</th>\n",
       "      <td>tr|O42731|O42731_ASCIM</td>\n",
       "      <td>PGT21_037052-T1</td>\n",
       "      <td>24.667</td>\n",
       "      <td>150</td>\n",
       "      <td>88</td>\n",
       "      <td>2</td>\n",
       "      <td>866</td>\n",
       "      <td>1012</td>\n",
       "      <td>297</td>\n",
       "      <td>424</td>\n",
       "      <td>2.790000e-04</td>\n",
       "      <td>45.4</td>\n",
       "    </tr>\n",
       "    <tr>\n",
       "      <th>54</th>\n",
       "      <td>sp|Q94F88|CMT3_ARATH</td>\n",
       "      <td>PGT21_012711-T1</td>\n",
       "      <td>28.495</td>\n",
       "      <td>186</td>\n",
       "      <td>107</td>\n",
       "      <td>4</td>\n",
       "      <td>445</td>\n",
       "      <td>609</td>\n",
       "      <td>198</td>\n",
       "      <td>378</td>\n",
       "      <td>7.020000e-13</td>\n",
       "      <td>72.0</td>\n",
       "    </tr>\n",
       "    <tr>\n",
       "      <th>55</th>\n",
       "      <td>sp|Q94F88|CMT3_ARATH</td>\n",
       "      <td>PGT21_014413-T1</td>\n",
       "      <td>28.495</td>\n",
       "      <td>186</td>\n",
       "      <td>107</td>\n",
       "      <td>4</td>\n",
       "      <td>445</td>\n",
       "      <td>609</td>\n",
       "      <td>659</td>\n",
       "      <td>839</td>\n",
       "      <td>1.030000e-12</td>\n",
       "      <td>72.0</td>\n",
       "    </tr>\n",
       "    <tr>\n",
       "      <th>56</th>\n",
       "      <td>sp|Q94F88|CMT3_ARATH</td>\n",
       "      <td>PGT21_014413-T1</td>\n",
       "      <td>24.651</td>\n",
       "      <td>215</td>\n",
       "      <td>113</td>\n",
       "      <td>6</td>\n",
       "      <td>598</td>\n",
       "      <td>798</td>\n",
       "      <td>925</td>\n",
       "      <td>1104</td>\n",
       "      <td>8.030000e-08</td>\n",
       "      <td>56.2</td>\n",
       "    </tr>\n",
       "  </tbody>\n",
       "</table>\n",
       "</div>"
      ],
      "text/plain": [
       "                            qseqid           sseqid  pident  length  mismatch  \\\n",
       "0           tr|A8NEZ8|A8NEZ8_COPC7  PGT21_014413-T1  25.967     905       481   \n",
       "1           tr|A8NEZ8|A8NEZ8_COPC7  PGT21_012711-T1  29.111     450       227   \n",
       "5           tr|Q96W73|Q96W73_NEUCS  PGT21_012711-T1  28.621     290       161   \n",
       "6           tr|Q96W73|Q96W73_NEUCS  PGT21_014413-T1  28.425     292       163   \n",
       "14          tr|O13369|O13369_ASCIM  PGT21_012711-T1  20.465     215       132   \n",
       "15          tr|O13369|O13369_ASCIM  PGT21_014413-T1  20.465     215       132   \n",
       "19           sp|P26358|DNMT1_HUMAN  PGT21_012711-T1  31.250     272       152   \n",
       "20           sp|P26358|DNMT1_HUMAN  PGT21_014413-T1  25.506     494       259   \n",
       "21           sp|P26358|DNMT1_HUMAN  PGT21_014413-T1  28.108     185        68   \n",
       "22           sp|P26358|DNMT1_HUMAN  PGT21_014413-T1  35.000      60        38   \n",
       "23           sp|P26358|DNMT1_HUMAN  PGT21_036642-T1  25.641     117        79   \n",
       "24           sp|P26358|DNMT1_HUMAN  PGT21_037052-T1  25.641     117        79   \n",
       "41  tr|A0A4D6FZ77|A0A4D6FZ77_IXORI  PGT21_014413-T1  27.178     482       264   \n",
       "42  tr|A0A4D6FZ77|A0A4D6FZ77_IXORI  PGT21_012711-T1  28.756     386       213   \n",
       "43  tr|A0A4D6FZ77|A0A4D6FZ77_IXORI  PGT21_036642-T1  27.273     165       103   \n",
       "44  tr|A0A4D6FZ77|A0A4D6FZ77_IXORI  PGT21_037052-T1  27.273     165       103   \n",
       "45  tr|A0A4D6FZ77|A0A4D6FZ77_IXORI  PGT21_030718-T1  26.733     101        70   \n",
       "49          tr|O42731|O42731_ASCIM  PGT21_014413-T1  29.725     545       300   \n",
       "50          tr|O42731|O42731_ASCIM  PGT21_012711-T1  27.460     437       245   \n",
       "51          tr|O42731|O42731_ASCIM  PGT21_036642-T1  24.667     150        88   \n",
       "52          tr|O42731|O42731_ASCIM  PGT21_037052-T1  24.667     150        88   \n",
       "54            sp|Q94F88|CMT3_ARATH  PGT21_012711-T1  28.495     186       107   \n",
       "55            sp|Q94F88|CMT3_ARATH  PGT21_014413-T1  28.495     186       107   \n",
       "56            sp|Q94F88|CMT3_ARATH  PGT21_014413-T1  24.651     215       113   \n",
       "\n",
       "    gapopen  qstart  qend  sstart  send        evalue  bitscore  \n",
       "0        33     469  1238     266  1116  6.850000e-55     209.0  \n",
       "1        15     744  1122     114   542  3.110000e-39     154.0  \n",
       "5        12     834  1085     105   386  1.430000e-18      91.3  \n",
       "6        12     832  1085     564   847  1.980000e-18      92.0  \n",
       "14        5     231   407     115   328  1.190000e-04      44.7  \n",
       "15        5     231   407     576   789  1.470000e-04      44.7  \n",
       "19        6    1138  1376     110   379  2.820000e-30     127.0  \n",
       "20       15     971  1376     368   840  8.090000e-30     129.0  \n",
       "21        7    1412  1584     973  1104  4.430000e-08      58.2  \n",
       "22        1     779   838     256   314  3.160000e-04      45.4  \n",
       "23        2    1202  1317     287   396  1.000000e-03      43.9  \n",
       "24        2    1202  1317     288   397  1.000000e-03      43.5  \n",
       "41       17     139   542     368   840  1.270000e-31     131.0  \n",
       "42       13     211   542       2   379  2.000000e-31     129.0  \n",
       "43        6     335   496     257   407  5.080000e-06      50.1  \n",
       "44        6     335   496     258   408  5.350000e-06      50.1  \n",
       "45        2     158   255      38   137  3.000000e-03      40.8  \n",
       "49       16     783  1255     571  1104  1.590000e-58     221.0  \n",
       "50       11     783  1152     110   541  9.700000e-41     159.0  \n",
       "51        2     866  1012     296   423  2.520000e-04      45.8  \n",
       "52        2     866  1012     297   424  2.790000e-04      45.4  \n",
       "54        4     445   609     198   378  7.020000e-13      72.0  \n",
       "55        4     445   609     659   839  1.030000e-12      72.0  \n",
       "56        6     598   798     925  1104  8.030000e-08      56.2  "
      ]
     },
     "execution_count": 24,
     "metadata": {},
     "output_type": "execute_result"
    }
   ],
   "source": [
    "sub_blast_df"
   ]
  },
  {
   "cell_type": "markdown",
   "metadata": {},
   "source": [
    "### Pull in haplotype information"
   ]
  },
  {
   "cell_type": "code",
   "execution_count": 25,
   "metadata": {},
   "outputs": [],
   "source": [
    "pgt_gff3_fn = os.path.join('../../data/genomic_resources/Puccinia_graminis_tritici_21-0.gff3')"
   ]
  },
  {
   "cell_type": "code",
   "execution_count": 26,
   "metadata": {},
   "outputs": [],
   "source": [
    "with open(pgt_gff3_fn, 'r') as fh:\n",
    "    haplotype_dict = {}\n",
    "    for line in fh:\n",
    "        line = line.rstrip()\n",
    "        if any(s in line for s in hit_ids):\n",
    "            for hit in hit_ids:\n",
    "                if hit in line:\n",
    "                    haplotype_dict[hit] = line.split('\\t')[0][-1]"
   ]
  },
  {
   "cell_type": "code",
   "execution_count": 27,
   "metadata": {},
   "outputs": [
    {
     "data": {
      "text/plain": [
       "True"
      ]
     },
     "execution_count": 27,
     "metadata": {},
     "output_type": "execute_result"
    }
   ],
   "source": [
    "len(haplotype_dict.values()) == len(hit_ids)"
   ]
  },
  {
   "cell_type": "code",
   "execution_count": 28,
   "metadata": {},
   "outputs": [],
   "source": [
    "sub_blast_df['shaplotype'] = sub_blast_df.sseqid.map(haplotype_dict)"
   ]
  },
  {
   "cell_type": "code",
   "execution_count": 29,
   "metadata": {},
   "outputs": [],
   "source": [
    "#get the locus id for loci with multiple transcripts\n",
    "sub_blast_df['sseqid_locus'] = [x.split('-')[0] for x in sub_blast_df.sseqid]"
   ]
  },
  {
   "cell_type": "code",
   "execution_count": 30,
   "metadata": {},
   "outputs": [],
   "source": [
    "#only keep the transcript witht the best hit\n",
    "sub_blast_df.drop_duplicates(['qseqid', 'sseqid_locus'], keep='first', inplace = True)"
   ]
  },
  {
   "cell_type": "markdown",
   "metadata": {},
   "source": [
    "### Do Interpro scan on command line"
   ]
  },
  {
   "cell_type": "code",
   "execution_count": 31,
   "metadata": {},
   "outputs": [],
   "source": [
    "interpro5 = '/home/jamila/anaconda3/downloads/interproscan-5.42-78.0/interproscan.sh'"
   ]
  },
  {
   "cell_type": "code",
   "execution_count": 32,
   "metadata": {},
   "outputs": [],
   "source": [
    "TMP_DIR = os.path.join(OUT_DIR, 'tmp')\n",
    "if not os.path.exists(TMP_DIR):\n",
    "    os.mkdir(TMP_DIR)"
   ]
  },
  {
   "cell_type": "code",
   "execution_count": 33,
   "metadata": {},
   "outputs": [],
   "source": [
    "Pgt_protein_hit_intrpro_fn = os.path.join(TMP_DIR, os.path.basename(FivemC_Pgt_protein_hit_fn).replace('.fasta', '.interpro5.tsv'))\n",
    "FivemC_seeds_intrpro_fn = os.path.join(TMP_DIR, os.path.basename(FivemC_seeds_fn).replace('.fasta', '.interpro5.tsv'))"
   ]
  },
  {
   "cell_type": "markdown",
   "metadata": {},
   "source": [
    "Run interpro on both set of protein files"
   ]
  },
  {
   "cell_type": "code",
   "execution_count": 34,
   "metadata": {},
   "outputs": [
    {
     "name": "stdout",
     "output_type": "stream",
     "text": [
      ">PGT21_012711-T1 PGT21_012711\r\n",
      "MTNQEQLVDVKSQLEGKCEIVHLFKDKTRQFVTVGSHREVSEESIINRDNCFYSILPTRK\r\n",
      "QAKYFCSVPIIDDGWEKAIISQEPEWVKIEHESSKGNQYADLVKNYGCGRIRHLELFGGI\r\n",
      "GSMSVALIELGLASQDETMFIDFSIPACQTLSTNFPRSTIICADVNEVLALMINGKTESG\r\n",
      "QDFLVDQRTGKMICVNELPRPGDFDLITAGFPCGSHSTLNVLRKANDSKNALCATALSFI\r\n",
      "AYLKPDYLFFENVRGLLKTSFINPGNDSVLNKAFLRIINGALISLGYQVQFGVLQAAQFG\r\n",
      "SPQARRRIIFAGTRHGLTAIKLPEPTHHYPDEGLAILLPTNDEKSDRNGHRLVRADYRKC\r\n",
      "SSGALKAITIHDAISDLPEFEYVNPDRIMAEYRSKRPHRIRQNDDDQELITGRSELVPQL\r\n",
      "NRLVSFSSTLNHSTISLIGFDEFEYLTEPMNRYQSWLRKPLEWKPLVEAFIPKYPRIDNS\r\n",
      "DPQNVQQRRRTRYDDEDGDHYALGSDCRIRNWHVTPRFSAKVTERICNIPLKPNADHRLS\r\n"
     ]
    }
   ],
   "source": [
    "!head {FivemC_Pgt_protein_hit_fn}"
   ]
  },
  {
   "cell_type": "code",
   "execution_count": 35,
   "metadata": {},
   "outputs": [
    {
     "name": "stdout",
     "output_type": "stream",
     "text": [
      "29/04/2020 17:59:39:140 Welcome to InterProScan-5.42-78.0\n",
      "29/04/2020 17:59:39:141 Running InterProScan v5 in STANDALONE mode... on Linux\n",
      "29/04/2020 17:59:53:710 Loading file /home/jamila/jamila_Storage/analyses/methylation_machinery/Puccinia_graminis_tritici_21-0.proteins.5mC_methylation_query.blastp-0.01.fasta\n",
      "29/04/2020 17:59:53:711 Running the following analyses:\n",
      "[CDD-3.17,Coils-2.2.1,Gene3D-4.2.0,Hamap-2020_01,MobiDBLite-2.0,PANTHER-14.1,Pfam-32.0,PIRSF-3.02,PRINTS-42.0,ProSitePatterns-2019_11,ProSiteProfiles-2019_11,SFLD-4,SMART-7.1,SUPERFAMILY-1.75,TIGRFAM-15.0]\n",
      "Available matches will be retrieved from the pre-calculated match lookup service.\n",
      "\n",
      "Matches for any sequences that are not represented in the lookup service will be calculated locally.\n",
      "29/04/2020 18:00:47:548 25% completed\n",
      "29/04/2020 18:01:17:256 51% completed\n",
      "29/04/2020 18:01:27:010 75% completed\n",
      "29/04/2020 18:01:35:438 91% completed\n",
      "29/04/2020 18:01:38:582 100% done:  InterProScan analyses completed \n",
      "\n"
     ]
    }
   ],
   "source": [
    "!bash {interpro5} -cpu 4 -i {FivemC_Pgt_protein_hit_fn} -f tsv -iprlookup -o {Pgt_protein_hit_intrpro_fn}"
   ]
  },
  {
   "cell_type": "code",
   "execution_count": 36,
   "metadata": {},
   "outputs": [
    {
     "name": "stdout",
     "output_type": "stream",
     "text": [
      "29/04/2020 18:01:40:200 Welcome to InterProScan-5.42-78.0\n",
      "29/04/2020 18:01:40:202 Running InterProScan v5 in STANDALONE mode... on Linux\n",
      "29/04/2020 18:01:55:844 Loading file /home/jamila/jamila_Storage/analyses/methylation_machinery/5mC_methylation_query.fasta\n",
      "29/04/2020 18:01:55:846 Running the following analyses:\n",
      "[CDD-3.17,Coils-2.2.1,Gene3D-4.2.0,Hamap-2020_01,MobiDBLite-2.0,PANTHER-14.1,Pfam-32.0,PIRSF-3.02,PRINTS-42.0,ProSitePatterns-2019_11,ProSiteProfiles-2019_11,SFLD-4,SMART-7.1,SUPERFAMILY-1.75,TIGRFAM-15.0]\n",
      "Available matches will be retrieved from the pre-calculated match lookup service.\n",
      "\n",
      "Matches for any sequences that are not represented in the lookup service will be calculated locally.\n",
      "29/04/2020 18:02:44:967 25% completed\n",
      "29/04/2020 18:03:15:715 50% completed\n",
      "29/04/2020 18:03:32:296 75% completed\n",
      "29/04/2020 18:03:51:159 93% completed\n",
      "29/04/2020 18:03:57:681 100% done:  InterProScan analyses completed \n",
      "\n"
     ]
    }
   ],
   "source": [
    "!bash {interpro5} -cpu 4 -i {FivemC_seeds_fn} -f tsv -iprlookup -o {FivemC_seeds_intrpro_fn}"
   ]
  },
  {
   "cell_type": "code",
   "execution_count": 37,
   "metadata": {},
   "outputs": [],
   "source": [
    "#pull in interpro results and add them to the dataframe\n",
    "sub_blast_df['q_pfam'] = sub_blast_df.qseqid.map(interpro_analysis_dict(FivemC_seeds_intrpro_fn, 'Pfam'))\n",
    "sub_blast_df['q_interpro'] = sub_blast_df.qseqid.map(interpro_accession_dict(FivemC_seeds_intrpro_fn))\n",
    "sub_blast_df['s_pfam'] = sub_blast_df.sseqid.map(interpro_analysis_dict(Pgt_protein_hit_intrpro_fn, 'Pfam'))\n",
    "sub_blast_df['s_interpro'] = sub_blast_df.sseqid.map(interpro_accession_dict(Pgt_protein_hit_intrpro_fn))\n"
   ]
  },
  {
   "cell_type": "code",
   "execution_count": 38,
   "metadata": {},
   "outputs": [],
   "source": [
    "#do some cosmetics on the the dataframe for proteins without interpro /pfam domains because pandas is wierd sometimes.\n",
    "for cln in ['q_pfam', 'q_interpro', 's_pfam','s_interpro']:\n",
    "    if sub_blast_df[cln].isna().sum():\n",
    "        sub_blast_df.loc[sub_blast_df[sub_blast_df[cln].isna()].index, cln] = [ [[]] * sub_blast_df[cln].isna().sum() ]"
   ]
  },
  {
   "cell_type": "code",
   "execution_count": 39,
   "metadata": {},
   "outputs": [],
   "source": [
    "#calculate the fraction of overlapping interpro/pfam domains between query sequences and hits\n",
    "sub_blast_df['pfam_int'] = sub_blast_df.apply(lambda row: set(row['q_pfam']).intersection(set(row['s_pfam'])) , axis=1)\n",
    "sub_blast_df['pfam_int_frac'] = sub_blast_df['pfam_int'].apply(lambda x: len(x)) / sub_blast_df['q_pfam'].apply(lambda x: len(x))\n",
    "sub_blast_df['interpro_int'] = sub_blast_df.apply(lambda row: set(row['q_interpro']).intersection(set(row['s_interpro'])) , axis=1)\n",
    "sub_blast_df['interpro_int_frac'] = sub_blast_df['interpro_int'].apply(lambda x: len(x)) / sub_blast_df['q_interpro'].apply(lambda x: len(x))"
   ]
  },
  {
   "cell_type": "code",
   "execution_count": 40,
   "metadata": {},
   "outputs": [
    {
     "data": {
      "text/html": [
       "<div>\n",
       "<style scoped>\n",
       "    .dataframe tbody tr th:only-of-type {\n",
       "        vertical-align: middle;\n",
       "    }\n",
       "\n",
       "    .dataframe tbody tr th {\n",
       "        vertical-align: top;\n",
       "    }\n",
       "\n",
       "    .dataframe thead th {\n",
       "        text-align: right;\n",
       "    }\n",
       "</style>\n",
       "<table border=\"1\" class=\"dataframe\">\n",
       "  <thead>\n",
       "    <tr style=\"text-align: right;\">\n",
       "      <th></th>\n",
       "      <th>qseqid</th>\n",
       "      <th>sseqid</th>\n",
       "      <th>evalue</th>\n",
       "      <th>s_interpro</th>\n",
       "      <th>pfam_int</th>\n",
       "      <th>pfam_int_frac</th>\n",
       "    </tr>\n",
       "  </thead>\n",
       "  <tbody>\n",
       "    <tr>\n",
       "      <th>0</th>\n",
       "      <td>tr|A8NEZ8|A8NEZ8_COPC7</td>\n",
       "      <td>PGT21_014413-T1</td>\n",
       "      <td>6.850000e-55</td>\n",
       "      <td>[IPR001525]</td>\n",
       "      <td>{PF00145}</td>\n",
       "      <td>0.500000</td>\n",
       "    </tr>\n",
       "    <tr>\n",
       "      <th>1</th>\n",
       "      <td>tr|A8NEZ8|A8NEZ8_COPC7</td>\n",
       "      <td>PGT21_012711-T1</td>\n",
       "      <td>3.110000e-39</td>\n",
       "      <td>[IPR001525]</td>\n",
       "      <td>{PF00145}</td>\n",
       "      <td>0.500000</td>\n",
       "    </tr>\n",
       "    <tr>\n",
       "      <th>5</th>\n",
       "      <td>tr|Q96W73|Q96W73_NEUCS</td>\n",
       "      <td>PGT21_012711-T1</td>\n",
       "      <td>1.430000e-18</td>\n",
       "      <td>[IPR001525]</td>\n",
       "      <td>{PF00145}</td>\n",
       "      <td>1.000000</td>\n",
       "    </tr>\n",
       "    <tr>\n",
       "      <th>6</th>\n",
       "      <td>tr|Q96W73|Q96W73_NEUCS</td>\n",
       "      <td>PGT21_014413-T1</td>\n",
       "      <td>1.980000e-18</td>\n",
       "      <td>[IPR001525]</td>\n",
       "      <td>{PF00145}</td>\n",
       "      <td>1.000000</td>\n",
       "    </tr>\n",
       "    <tr>\n",
       "      <th>14</th>\n",
       "      <td>tr|O13369|O13369_ASCIM</td>\n",
       "      <td>PGT21_012711-T1</td>\n",
       "      <td>1.190000e-04</td>\n",
       "      <td>[IPR001525]</td>\n",
       "      <td>{PF00145}</td>\n",
       "      <td>1.000000</td>\n",
       "    </tr>\n",
       "    <tr>\n",
       "      <th>15</th>\n",
       "      <td>tr|O13369|O13369_ASCIM</td>\n",
       "      <td>PGT21_014413-T1</td>\n",
       "      <td>1.470000e-04</td>\n",
       "      <td>[IPR001525]</td>\n",
       "      <td>{PF00145}</td>\n",
       "      <td>1.000000</td>\n",
       "    </tr>\n",
       "    <tr>\n",
       "      <th>19</th>\n",
       "      <td>sp|P26358|DNMT1_HUMAN</td>\n",
       "      <td>PGT21_012711-T1</td>\n",
       "      <td>2.820000e-30</td>\n",
       "      <td>[IPR001525]</td>\n",
       "      <td>{PF00145}</td>\n",
       "      <td>0.200000</td>\n",
       "    </tr>\n",
       "    <tr>\n",
       "      <th>20</th>\n",
       "      <td>sp|P26358|DNMT1_HUMAN</td>\n",
       "      <td>PGT21_014413-T1</td>\n",
       "      <td>8.090000e-30</td>\n",
       "      <td>[IPR001525]</td>\n",
       "      <td>{PF00145}</td>\n",
       "      <td>0.200000</td>\n",
       "    </tr>\n",
       "    <tr>\n",
       "      <th>23</th>\n",
       "      <td>sp|P26358|DNMT1_HUMAN</td>\n",
       "      <td>PGT21_036642-T1</td>\n",
       "      <td>1.000000e-03</td>\n",
       "      <td>[IPR001525, IPR014001, IPR001650, IPR000330]</td>\n",
       "      <td>{PF00145}</td>\n",
       "      <td>0.200000</td>\n",
       "    </tr>\n",
       "    <tr>\n",
       "      <th>24</th>\n",
       "      <td>sp|P26358|DNMT1_HUMAN</td>\n",
       "      <td>PGT21_037052-T1</td>\n",
       "      <td>1.000000e-03</td>\n",
       "      <td>[IPR000330, IPR014001, IPR001650, IPR001525]</td>\n",
       "      <td>{PF00145}</td>\n",
       "      <td>0.200000</td>\n",
       "    </tr>\n",
       "    <tr>\n",
       "      <th>41</th>\n",
       "      <td>tr|A0A4D6FZ77|A0A4D6FZ77_IXORI</td>\n",
       "      <td>PGT21_014413-T1</td>\n",
       "      <td>1.270000e-31</td>\n",
       "      <td>[IPR001525]</td>\n",
       "      <td>{PF00145}</td>\n",
       "      <td>0.500000</td>\n",
       "    </tr>\n",
       "    <tr>\n",
       "      <th>42</th>\n",
       "      <td>tr|A0A4D6FZ77|A0A4D6FZ77_IXORI</td>\n",
       "      <td>PGT21_012711-T1</td>\n",
       "      <td>2.000000e-31</td>\n",
       "      <td>[IPR001525]</td>\n",
       "      <td>{PF00145}</td>\n",
       "      <td>0.500000</td>\n",
       "    </tr>\n",
       "    <tr>\n",
       "      <th>43</th>\n",
       "      <td>tr|A0A4D6FZ77|A0A4D6FZ77_IXORI</td>\n",
       "      <td>PGT21_036642-T1</td>\n",
       "      <td>5.080000e-06</td>\n",
       "      <td>[IPR001525, IPR014001, IPR001650, IPR000330]</td>\n",
       "      <td>{PF00145}</td>\n",
       "      <td>0.500000</td>\n",
       "    </tr>\n",
       "    <tr>\n",
       "      <th>44</th>\n",
       "      <td>tr|A0A4D6FZ77|A0A4D6FZ77_IXORI</td>\n",
       "      <td>PGT21_037052-T1</td>\n",
       "      <td>5.350000e-06</td>\n",
       "      <td>[IPR000330, IPR014001, IPR001650, IPR001525]</td>\n",
       "      <td>{PF00145}</td>\n",
       "      <td>0.500000</td>\n",
       "    </tr>\n",
       "    <tr>\n",
       "      <th>45</th>\n",
       "      <td>tr|A0A4D6FZ77|A0A4D6FZ77_IXORI</td>\n",
       "      <td>PGT21_030718-T1</td>\n",
       "      <td>3.000000e-03</td>\n",
       "      <td>[IPR019786, IPR019787, IPR034732, IPR001025]</td>\n",
       "      <td>{}</td>\n",
       "      <td>0.000000</td>\n",
       "    </tr>\n",
       "    <tr>\n",
       "      <th>49</th>\n",
       "      <td>tr|O42731|O42731_ASCIM</td>\n",
       "      <td>PGT21_014413-T1</td>\n",
       "      <td>1.590000e-58</td>\n",
       "      <td>[IPR001525]</td>\n",
       "      <td>{PF00145}</td>\n",
       "      <td>0.333333</td>\n",
       "    </tr>\n",
       "    <tr>\n",
       "      <th>50</th>\n",
       "      <td>tr|O42731|O42731_ASCIM</td>\n",
       "      <td>PGT21_012711-T1</td>\n",
       "      <td>9.700000e-41</td>\n",
       "      <td>[IPR001525]</td>\n",
       "      <td>{PF00145}</td>\n",
       "      <td>0.333333</td>\n",
       "    </tr>\n",
       "    <tr>\n",
       "      <th>51</th>\n",
       "      <td>tr|O42731|O42731_ASCIM</td>\n",
       "      <td>PGT21_036642-T1</td>\n",
       "      <td>2.520000e-04</td>\n",
       "      <td>[IPR001525, IPR014001, IPR001650, IPR000330]</td>\n",
       "      <td>{PF00145}</td>\n",
       "      <td>0.333333</td>\n",
       "    </tr>\n",
       "    <tr>\n",
       "      <th>52</th>\n",
       "      <td>tr|O42731|O42731_ASCIM</td>\n",
       "      <td>PGT21_037052-T1</td>\n",
       "      <td>2.790000e-04</td>\n",
       "      <td>[IPR000330, IPR014001, IPR001650, IPR001525]</td>\n",
       "      <td>{PF00145}</td>\n",
       "      <td>0.333333</td>\n",
       "    </tr>\n",
       "    <tr>\n",
       "      <th>54</th>\n",
       "      <td>sp|Q94F88|CMT3_ARATH</td>\n",
       "      <td>PGT21_012711-T1</td>\n",
       "      <td>7.020000e-13</td>\n",
       "      <td>[IPR001525]</td>\n",
       "      <td>{PF00145}</td>\n",
       "      <td>0.333333</td>\n",
       "    </tr>\n",
       "    <tr>\n",
       "      <th>55</th>\n",
       "      <td>sp|Q94F88|CMT3_ARATH</td>\n",
       "      <td>PGT21_014413-T1</td>\n",
       "      <td>1.030000e-12</td>\n",
       "      <td>[IPR001525]</td>\n",
       "      <td>{PF00145}</td>\n",
       "      <td>0.333333</td>\n",
       "    </tr>\n",
       "  </tbody>\n",
       "</table>\n",
       "</div>"
      ],
      "text/plain": [
       "                            qseqid           sseqid        evalue  \\\n",
       "0           tr|A8NEZ8|A8NEZ8_COPC7  PGT21_014413-T1  6.850000e-55   \n",
       "1           tr|A8NEZ8|A8NEZ8_COPC7  PGT21_012711-T1  3.110000e-39   \n",
       "5           tr|Q96W73|Q96W73_NEUCS  PGT21_012711-T1  1.430000e-18   \n",
       "6           tr|Q96W73|Q96W73_NEUCS  PGT21_014413-T1  1.980000e-18   \n",
       "14          tr|O13369|O13369_ASCIM  PGT21_012711-T1  1.190000e-04   \n",
       "15          tr|O13369|O13369_ASCIM  PGT21_014413-T1  1.470000e-04   \n",
       "19           sp|P26358|DNMT1_HUMAN  PGT21_012711-T1  2.820000e-30   \n",
       "20           sp|P26358|DNMT1_HUMAN  PGT21_014413-T1  8.090000e-30   \n",
       "23           sp|P26358|DNMT1_HUMAN  PGT21_036642-T1  1.000000e-03   \n",
       "24           sp|P26358|DNMT1_HUMAN  PGT21_037052-T1  1.000000e-03   \n",
       "41  tr|A0A4D6FZ77|A0A4D6FZ77_IXORI  PGT21_014413-T1  1.270000e-31   \n",
       "42  tr|A0A4D6FZ77|A0A4D6FZ77_IXORI  PGT21_012711-T1  2.000000e-31   \n",
       "43  tr|A0A4D6FZ77|A0A4D6FZ77_IXORI  PGT21_036642-T1  5.080000e-06   \n",
       "44  tr|A0A4D6FZ77|A0A4D6FZ77_IXORI  PGT21_037052-T1  5.350000e-06   \n",
       "45  tr|A0A4D6FZ77|A0A4D6FZ77_IXORI  PGT21_030718-T1  3.000000e-03   \n",
       "49          tr|O42731|O42731_ASCIM  PGT21_014413-T1  1.590000e-58   \n",
       "50          tr|O42731|O42731_ASCIM  PGT21_012711-T1  9.700000e-41   \n",
       "51          tr|O42731|O42731_ASCIM  PGT21_036642-T1  2.520000e-04   \n",
       "52          tr|O42731|O42731_ASCIM  PGT21_037052-T1  2.790000e-04   \n",
       "54            sp|Q94F88|CMT3_ARATH  PGT21_012711-T1  7.020000e-13   \n",
       "55            sp|Q94F88|CMT3_ARATH  PGT21_014413-T1  1.030000e-12   \n",
       "\n",
       "                                      s_interpro   pfam_int  pfam_int_frac  \n",
       "0                                    [IPR001525]  {PF00145}       0.500000  \n",
       "1                                    [IPR001525]  {PF00145}       0.500000  \n",
       "5                                    [IPR001525]  {PF00145}       1.000000  \n",
       "6                                    [IPR001525]  {PF00145}       1.000000  \n",
       "14                                   [IPR001525]  {PF00145}       1.000000  \n",
       "15                                   [IPR001525]  {PF00145}       1.000000  \n",
       "19                                   [IPR001525]  {PF00145}       0.200000  \n",
       "20                                   [IPR001525]  {PF00145}       0.200000  \n",
       "23  [IPR001525, IPR014001, IPR001650, IPR000330]  {PF00145}       0.200000  \n",
       "24  [IPR000330, IPR014001, IPR001650, IPR001525]  {PF00145}       0.200000  \n",
       "41                                   [IPR001525]  {PF00145}       0.500000  \n",
       "42                                   [IPR001525]  {PF00145}       0.500000  \n",
       "43  [IPR001525, IPR014001, IPR001650, IPR000330]  {PF00145}       0.500000  \n",
       "44  [IPR000330, IPR014001, IPR001650, IPR001525]  {PF00145}       0.500000  \n",
       "45  [IPR019786, IPR019787, IPR034732, IPR001025]         {}       0.000000  \n",
       "49                                   [IPR001525]  {PF00145}       0.333333  \n",
       "50                                   [IPR001525]  {PF00145}       0.333333  \n",
       "51  [IPR001525, IPR014001, IPR001650, IPR000330]  {PF00145}       0.333333  \n",
       "52  [IPR000330, IPR014001, IPR001650, IPR001525]  {PF00145}       0.333333  \n",
       "54                                   [IPR001525]  {PF00145}       0.333333  \n",
       "55                                   [IPR001525]  {PF00145}       0.333333  "
      ]
     },
     "execution_count": 40,
     "metadata": {},
     "output_type": "execute_result"
    }
   ],
   "source": [
    "sub_blast_df.iloc[:,[0,1,10, 17, 18,19]].head(30)"
   ]
  },
  {
   "cell_type": "code",
   "execution_count": 41,
   "metadata": {},
   "outputs": [],
   "source": [
    "#filter the dataframe to have only hits that have the best possible interpro domains fractions\n",
    "pfam_filt_df = sub_blast_df[sub_blast_df.groupby('qseqid')['interpro_int_frac'].transform(max) == sub_blast_df['interpro_int_frac']]"
   ]
  },
  {
   "cell_type": "code",
   "execution_count": 42,
   "metadata": {},
   "outputs": [
    {
     "data": {
      "text/plain": [
       "qseqid\n",
       "sp|P26358|DNMT1_HUMAN             4\n",
       "sp|Q94F88|CMT3_ARATH              2\n",
       "tr|A0A4D6FZ77|A0A4D6FZ77_IXORI    5\n",
       "tr|A8NEZ8|A8NEZ8_COPC7            2\n",
       "tr|O13369|O13369_ASCIM            2\n",
       "tr|O42731|O42731_ASCIM            4\n",
       "tr|Q96W73|Q96W73_NEUCS            2\n",
       "Name: sseqid, dtype: int64"
      ]
     },
     "execution_count": 42,
     "metadata": {},
     "output_type": "execute_result"
    }
   ],
   "source": [
    "##look at how many hits per query sequence are still left\n",
    "pfam_filt_df.groupby('qseqid')['sseqid'].count()"
   ]
  },
  {
   "cell_type": "code",
   "execution_count": 43,
   "metadata": {},
   "outputs": [],
   "source": [
    "best_sseq_df = pfam_filt_df[pfam_filt_df.groupby('sseqid')['interpro_int_frac'].transform(max) == pfam_filt_df['interpro_int_frac']]"
   ]
  },
  {
   "cell_type": "code",
   "execution_count": 44,
   "metadata": {},
   "outputs": [],
   "source": [
    "pgt_match_list = []\n",
    "DNA_seed_list = []\n",
    "haplotype_list = []\n",
    "match_type_list = []\n",
    "for seed_gene, pgt_gene  in zip(best_sseq_df.qseqid, best_sseq_df.sseqid): \n",
    "    if not pgt_gene.endswith('-T2'):\n",
    "        DNA_seed_list.append(seed_gene)\n",
    "        pgt_match_list.append(pgt_gene)\n",
    "        match_type_list.append('blast')"
   ]
  },
  {
   "cell_type": "code",
   "execution_count": 45,
   "metadata": {},
   "outputs": [
    {
     "name": "stderr",
     "output_type": "stream",
     "text": [
      "/home/jamila/anaconda3/envs/pycoMeth/lib/python3.6/site-packages/ipykernel_launcher.py:3: DeprecationWarning: The default dtype for empty Series will be 'object' instead of 'float64' in a future version. Specify a dtype explicitly to silence this warning.\n",
      "  This is separate from the ipykernel package so we can avoid doing imports until\n"
     ]
    }
   ],
   "source": [
    "pgt_match_series = pd.Series(pgt_match_list, name=\"Pgt_match\")\n",
    "DNA_seed_series = pd.Series(DNA_seed_list, name='Seed_ID')\n",
    "haplotype_series = pd.Series(haplotype_list, name='haplotype')\n",
    "match_type_series = pd.Series(match_type_list, name='Match_type')"
   ]
  },
  {
   "cell_type": "code",
   "execution_count": 46,
   "metadata": {},
   "outputs": [],
   "source": [
    "out_df = pd.concat([DNA_seed_series, pgt_match_series, haplotype_series, match_type_series], axis =1)"
   ]
  },
  {
   "cell_type": "code",
   "execution_count": 47,
   "metadata": {},
   "outputs": [],
   "source": [
    "out_fn = os.path.join(OUT_DIR, '%s_orthologs.Pgt21-0.tsv' %os.path.basename(FivemC_seeds_fn).replace('.fasta', '') )"
   ]
  },
  {
   "cell_type": "code",
   "execution_count": 48,
   "metadata": {},
   "outputs": [],
   "source": [
    "out_df.to_csv(out_fn, sep='\\t', index=None)"
   ]
  },
  {
   "cell_type": "code",
   "execution_count": 49,
   "metadata": {},
   "outputs": [
    {
     "name": "stdout",
     "output_type": "stream",
     "text": [
      "Seed_ID\tPgt_match\thaplotype\tMatch_type\r\n",
      "tr|O13369|O13369_ASCIM\tPGT21_012711-T1\t\tblast\r\n",
      "tr|O13369|O13369_ASCIM\tPGT21_014413-T1\t\tblast\r\n",
      "tr|A0A4D6FZ77|A0A4D6FZ77_IXORI\tPGT21_036642-T1\t\tblast\r\n",
      "tr|A0A4D6FZ77|A0A4D6FZ77_IXORI\tPGT21_037052-T1\t\tblast\r\n",
      "tr|A0A4D6FZ77|A0A4D6FZ77_IXORI\tPGT21_030718-T1\t\tblast\r\n"
     ]
    }
   ],
   "source": [
    "!head {out_fn}"
   ]
  },
  {
   "cell_type": "code",
   "execution_count": null,
   "metadata": {},
   "outputs": [],
   "source": []
  }
 ],
 "metadata": {
  "kernelspec": {
   "display_name": "Python 3",
   "language": "python",
   "name": "python3"
  },
  "language_info": {
   "codemirror_mode": {
    "name": "ipython",
    "version": 3
   },
   "file_extension": ".py",
   "mimetype": "text/x-python",
   "name": "python",
   "nbconvert_exporter": "python",
   "pygments_lexer": "ipython3",
   "version": "3.6.10"
  }
 },
 "nbformat": 4,
 "nbformat_minor": 2
}
