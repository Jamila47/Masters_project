{
 "cells": [
  {
   "cell_type": "markdown",
   "metadata": {},
   "source": [
    "### Notebook for homology searches for DNA meythlation machinery\n",
    "\n",
    "This needs to have Java 11 in the path and for example run in the pycoMeth environment only"
   ]
  },
  {
   "cell_type": "code",
   "execution_count": 1,
   "metadata": {},
   "outputs": [],
   "source": [
    "import os\n",
    "from Bio import SeqIO\n",
    "import pandas as pd\n",
    "import numpy as np\n",
    "import re"
   ]
  },
  {
   "cell_type": "code",
   "execution_count": 2,
   "metadata": {},
   "outputs": [],
   "source": [
    "notebook_path = os.path.abspath(\".\")"
   ]
  },
  {
   "cell_type": "code",
   "execution_count": 3,
   "metadata": {},
   "outputs": [],
   "source": [
    "IN_DIR = os.path.abspath('../../analyses/methylation_machinery/')\n",
    "OUT_DIR = os.path.abspath('../../analyses/methylation_machinery/')\n",
    "GENOME_DIR = os.path.abspath('../../data/genomic_resources/')"
   ]
  },
  {
   "cell_type": "code",
   "execution_count": 17,
   "metadata": {},
   "outputs": [],
   "source": [
    "Pgt_protein_fn = os.path.abspath('../../data/genomic_resources/Puccinia_graminis_tritici_21-0.proteins.fa')\n",
    "SizmA_seeds_fn = os.path.abspath('../../analyses/methylation_machinery/6mA_methylation_demethyltion_query.fasta')\n",
    "FivemC_seeds_fn = SizmA_seeds_fn"
   ]
  },
  {
   "cell_type": "code",
   "execution_count": 18,
   "metadata": {},
   "outputs": [],
   "source": [
    "n_threads = 20\n",
    "blast_outfmt6_headers = \"qseqid sseqid pident length mismatch gapopen qstart qend sstart send evalue bitscore\".split(' ')"
   ]
  },
  {
   "cell_type": "code",
   "execution_count": 19,
   "metadata": {},
   "outputs": [],
   "source": [
    "###write a function that takes the interpro TSV and returns a dict of domains for a specific search engine\n",
    "def interpro_accession_dict(fn):\n",
    "    header = ['P-ID', 'md5', 'len', 'analysis', 'accession', 'description', 'start', 'stop', 'score', 'status' , 'date',\n",
    "         'Interpro_accession', 'Interpro_description']\n",
    "    df = pd.read_csv(fn, sep='\\t', header =None, names= header).dropna()\n",
    "    return dict(zip(df.groupby('P-ID')['Interpro_accession'].unique().index, df.groupby('P-ID')['Interpro_accession'].unique()))"
   ]
  },
  {
   "cell_type": "code",
   "execution_count": 20,
   "metadata": {},
   "outputs": [],
   "source": [
    "###write a function that takes the interpro TSV and returns a dict of domains for a specific search engine\n",
    "def interpro_analysis_dict(fn, analysis):\n",
    "    header = ['P-ID', 'md5', 'len', 'analysis', 'accession', 'description', 'start', 'stop', 'score', 'status' , 'date',\n",
    "         'Interpro_accession', 'Interpro_description']\n",
    "    df = pd.read_csv(fn, sep='\\t', header =None, names= header).dropna()\n",
    "    grouped = df[df.analysis == analysis].groupby('P-ID')\n",
    "    return dict(zip(grouped['analysis'].unique().index, grouped['accession'].unique()))"
   ]
  },
  {
   "cell_type": "markdown",
   "metadata": {},
   "source": [
    "### Here the blast analysis starts"
   ]
  },
  {
   "cell_type": "code",
   "execution_count": 21,
   "metadata": {},
   "outputs": [],
   "source": [
    "os.chdir(OUT_DIR)"
   ]
  },
  {
   "cell_type": "code",
   "execution_count": 22,
   "metadata": {},
   "outputs": [
    {
     "name": "stdout",
     "output_type": "stream",
     "text": [
      "\n",
      "\n",
      "Building a new DB, current time: 04/29/2020 17:55:26\n",
      "New DB name:   /home/jamila/jamila_Storage/data/genomic_resources/Puccinia_graminis_tritici_21-0.proteins.fa\n",
      "New DB title:  /home/jamila/jamila_Storage/data/genomic_resources/Puccinia_graminis_tritici_21-0.proteins.fa\n",
      "Sequence type: Protein\n",
      "Deleted existing Protein BLAST database named /home/jamila/jamila_Storage/data/genomic_resources/Puccinia_graminis_tritici_21-0.proteins.fa\n",
      "Keep MBits: T\n",
      "Maximum file size: 1000000000B\n",
      "Adding sequences from FASTA; added 37832 sequences in 0.6715 seconds.\n"
     ]
    }
   ],
   "source": [
    "!makeblastdb -dbtype prot -in {Pgt_protein_fn}"
   ]
  },
  {
   "cell_type": "code",
   "execution_count": 25,
   "metadata": {},
   "outputs": [],
   "source": [
    "#define file names\n",
    "SixmA_outfmt_6_fn = 'Puccinia_graminis_tritici_21-0.proteins.6mA_methylation_demethyltion_query.blastp.outfmt6'\n",
    "SixmA_outfmt_6_fn = os.path.join(OUT_DIR, SixmA_outfmt_6_fn)\n",
    "FivemC_outfmt_6_fn = SixmA_outfmt_6_fn"
   ]
  },
  {
   "cell_type": "code",
   "execution_count": 24,
   "metadata": {},
   "outputs": [],
   "source": [
    "#run blast\n",
    "!blastp -num_threads 20 -outfmt 6 -query {SizmA_seeds_fn} -db {Pgt_protein_fn} > {SixmA_outfmt_6_fn}"
   ]
  },
  {
   "cell_type": "code",
   "execution_count": 26,
   "metadata": {},
   "outputs": [
    {
     "name": "stdout",
     "output_type": "stream",
     "text": [
      "sp|Q09956|DAMT1_CAEEL\tPGT21_005363-T1\t30.769\t208\t113\t9\t160\t339\t253\t457\t4.65e-14\t73.2\r\n",
      "sp|Q09956|DAMT1_CAEEL\tPGT21_004684-T1\t30.288\t208\t114\t9\t160\t339\t229\t433\t5.31e-13\t69.7\r\n",
      "sp|Q09956|DAMT1_CAEEL\tPGT21_023926-T1\t32.727\t55\t34\t2\t161\t212\t8\t62\t1.7\t30.0\r\n",
      "sp|Q09956|DAMT1_CAEEL\tPGT21_024228-T1\t30.435\t46\t32\t0\t209\t254\t469\t514\t3.8\t29.6\r\n",
      "sp|Q09956|DAMT1_CAEEL\tPGT21_033706-T1\t30.909\t55\t35\t2\t161\t212\t249\t303\t8.0\t28.5\r\n",
      "sp|Q09956|DAMT1_CAEEL\tPGT21_003002-T1\t32.857\t70\t41\t2\t257\t325\t35\t99\t8.5\t28.5\r\n",
      "sp|Q09956|DAMT1_CAEEL\tPGT21_027835-T2\t37.500\t32\t17\t1\t322\t350\t647\t678\t8.7\t28.5\r\n",
      "sp|Q09956|DAMT1_CAEEL\tPGT21_014712-T1\t29.592\t98\t52\t4\t234\t323\t275\t363\t9.4\t28.1\r\n",
      "sp|Q9Y5N5|N6MT1_HUMAN\tPGT21_005253-T1\t44.186\t215\t109\t6\t8\t213\t4\t216\t1.21e-50\t163\r\n",
      "sp|Q9Y5N5|N6MT1_HUMAN\tPGT21_005713-T1\t44.186\t215\t109\t6\t8\t213\t4\t216\t1.27e-50\t163\r\n"
     ]
    }
   ],
   "source": [
    "!head {SixmA_outfmt_6_fn}"
   ]
  },
  {
   "cell_type": "markdown",
   "metadata": {},
   "source": [
    "### Downstream filtering of blast resutls"
   ]
  },
  {
   "cell_type": "code",
   "execution_count": 27,
   "metadata": {},
   "outputs": [],
   "source": [
    "FivemC_blast_df = pd.read_csv(FivemC_outfmt_6_fn, header = None, names=blast_outfmt6_headers, sep='\\t' )"
   ]
  },
  {
   "cell_type": "code",
   "execution_count": 28,
   "metadata": {},
   "outputs": [
    {
     "data": {
      "text/html": [
       "<div>\n",
       "<style scoped>\n",
       "    .dataframe tbody tr th:only-of-type {\n",
       "        vertical-align: middle;\n",
       "    }\n",
       "\n",
       "    .dataframe tbody tr th {\n",
       "        vertical-align: top;\n",
       "    }\n",
       "\n",
       "    .dataframe thead th {\n",
       "        text-align: right;\n",
       "    }\n",
       "</style>\n",
       "<table border=\"1\" class=\"dataframe\">\n",
       "  <thead>\n",
       "    <tr style=\"text-align: right;\">\n",
       "      <th></th>\n",
       "      <th>qseqid</th>\n",
       "      <th>sseqid</th>\n",
       "      <th>pident</th>\n",
       "      <th>length</th>\n",
       "      <th>mismatch</th>\n",
       "      <th>gapopen</th>\n",
       "      <th>qstart</th>\n",
       "      <th>qend</th>\n",
       "      <th>sstart</th>\n",
       "      <th>send</th>\n",
       "      <th>evalue</th>\n",
       "      <th>bitscore</th>\n",
       "    </tr>\n",
       "  </thead>\n",
       "  <tbody>\n",
       "    <tr>\n",
       "      <th>0</th>\n",
       "      <td>sp|Q09956|DAMT1_CAEEL</td>\n",
       "      <td>PGT21_005363-T1</td>\n",
       "      <td>30.769</td>\n",
       "      <td>208</td>\n",
       "      <td>113</td>\n",
       "      <td>9</td>\n",
       "      <td>160</td>\n",
       "      <td>339</td>\n",
       "      <td>253</td>\n",
       "      <td>457</td>\n",
       "      <td>4.650000e-14</td>\n",
       "      <td>73.2</td>\n",
       "    </tr>\n",
       "    <tr>\n",
       "      <th>1</th>\n",
       "      <td>sp|Q09956|DAMT1_CAEEL</td>\n",
       "      <td>PGT21_004684-T1</td>\n",
       "      <td>30.288</td>\n",
       "      <td>208</td>\n",
       "      <td>114</td>\n",
       "      <td>9</td>\n",
       "      <td>160</td>\n",
       "      <td>339</td>\n",
       "      <td>229</td>\n",
       "      <td>433</td>\n",
       "      <td>5.310000e-13</td>\n",
       "      <td>69.7</td>\n",
       "    </tr>\n",
       "    <tr>\n",
       "      <th>2</th>\n",
       "      <td>sp|Q09956|DAMT1_CAEEL</td>\n",
       "      <td>PGT21_023926-T1</td>\n",
       "      <td>32.727</td>\n",
       "      <td>55</td>\n",
       "      <td>34</td>\n",
       "      <td>2</td>\n",
       "      <td>161</td>\n",
       "      <td>212</td>\n",
       "      <td>8</td>\n",
       "      <td>62</td>\n",
       "      <td>1.700000e+00</td>\n",
       "      <td>30.0</td>\n",
       "    </tr>\n",
       "    <tr>\n",
       "      <th>3</th>\n",
       "      <td>sp|Q09956|DAMT1_CAEEL</td>\n",
       "      <td>PGT21_024228-T1</td>\n",
       "      <td>30.435</td>\n",
       "      <td>46</td>\n",
       "      <td>32</td>\n",
       "      <td>0</td>\n",
       "      <td>209</td>\n",
       "      <td>254</td>\n",
       "      <td>469</td>\n",
       "      <td>514</td>\n",
       "      <td>3.800000e+00</td>\n",
       "      <td>29.6</td>\n",
       "    </tr>\n",
       "    <tr>\n",
       "      <th>4</th>\n",
       "      <td>sp|Q09956|DAMT1_CAEEL</td>\n",
       "      <td>PGT21_033706-T1</td>\n",
       "      <td>30.909</td>\n",
       "      <td>55</td>\n",
       "      <td>35</td>\n",
       "      <td>2</td>\n",
       "      <td>161</td>\n",
       "      <td>212</td>\n",
       "      <td>249</td>\n",
       "      <td>303</td>\n",
       "      <td>8.000000e+00</td>\n",
       "      <td>28.5</td>\n",
       "    </tr>\n",
       "  </tbody>\n",
       "</table>\n",
       "</div>"
      ],
      "text/plain": [
       "                  qseqid           sseqid  pident  length  mismatch  gapopen  \\\n",
       "0  sp|Q09956|DAMT1_CAEEL  PGT21_005363-T1  30.769     208       113        9   \n",
       "1  sp|Q09956|DAMT1_CAEEL  PGT21_004684-T1  30.288     208       114        9   \n",
       "2  sp|Q09956|DAMT1_CAEEL  PGT21_023926-T1  32.727      55        34        2   \n",
       "3  sp|Q09956|DAMT1_CAEEL  PGT21_024228-T1  30.435      46        32        0   \n",
       "4  sp|Q09956|DAMT1_CAEEL  PGT21_033706-T1  30.909      55        35        2   \n",
       "\n",
       "   qstart  qend  sstart  send        evalue  bitscore  \n",
       "0     160   339     253   457  4.650000e-14      73.2  \n",
       "1     160   339     229   433  5.310000e-13      69.7  \n",
       "2     161   212       8    62  1.700000e+00      30.0  \n",
       "3     209   254     469   514  3.800000e+00      29.6  \n",
       "4     161   212     249   303  8.000000e+00      28.5  "
      ]
     },
     "execution_count": 28,
     "metadata": {},
     "output_type": "execute_result"
    }
   ],
   "source": [
    "FivemC_blast_df.head()"
   ]
  },
  {
   "cell_type": "code",
   "execution_count": 29,
   "metadata": {},
   "outputs": [],
   "source": [
    "#filtering of blast_df\n",
    "FivemC_stringent_blast_df =  FivemC_blast_df[FivemC_blast_df.evalue < 1e-10].copy() "
   ]
  },
  {
   "cell_type": "code",
   "execution_count": 30,
   "metadata": {},
   "outputs": [
    {
     "data": {
      "text/plain": [
       "qseqid\n",
       "sp|Q09956|DAMT1_CAEEL    2\n",
       "sp|Q13686|ALKB1_HUMAN    2\n",
       "sp|Q9Y5N5|N6MT1_HUMAN    2\n",
       "Name: sseqid, dtype: int64"
      ]
     },
     "execution_count": 30,
     "metadata": {},
     "output_type": "execute_result"
    }
   ],
   "source": [
    "FivemC_stringent_blast_df.groupby('qseqid')['sseqid'].count()"
   ]
  },
  {
   "cell_type": "code",
   "execution_count": 31,
   "metadata": {},
   "outputs": [
    {
     "data": {
      "text/plain": [
       "array(['PGT21_005363-T1', 'PGT21_004684-T1', 'PGT21_005253-T1',\n",
       "       'PGT21_005713-T1', 'PGT21_022089-T1', 'PGT21_022364-T1'],\n",
       "      dtype=object)"
      ]
     },
     "execution_count": 31,
     "metadata": {},
     "output_type": "execute_result"
    }
   ],
   "source": [
    "FivemC_stringent_blast_df.sseqid.unique()"
   ]
  },
  {
   "cell_type": "code",
   "execution_count": 32,
   "metadata": {},
   "outputs": [],
   "source": [
    "FivemC_seeds_ids = []\n",
    "for seq in SeqIO.parse(FivemC_seeds_fn, 'fasta'):\n",
    "    FivemC_seeds_ids.append(seq.id)"
   ]
  },
  {
   "cell_type": "code",
   "execution_count": 33,
   "metadata": {},
   "outputs": [],
   "source": [
    "not_present = set(FivemC_seeds_ids) - set(FivemC_stringent_blast_df.qseqid.unique())"
   ]
  },
  {
   "cell_type": "code",
   "execution_count": 34,
   "metadata": {},
   "outputs": [
    {
     "data": {
      "text/plain": [
       "{'sp|Q8MNT9|NMAD1_CAEEL'}"
      ]
     },
     "execution_count": 34,
     "metadata": {},
     "output_type": "execute_result"
    }
   ],
   "source": [
    "not_present"
   ]
  },
  {
   "cell_type": "code",
   "execution_count": 35,
   "metadata": {},
   "outputs": [
    {
     "data": {
      "text/plain": [
       "{'sp|Q8MNT9|NMAD1_CAEEL'}"
      ]
     },
     "execution_count": 35,
     "metadata": {},
     "output_type": "execute_result"
    }
   ],
   "source": [
    "set(FivemC_seeds_ids) - set(FivemC_blast_df[FivemC_blast_df.evalue < 1e-2].qseqid.unique())"
   ]
  },
  {
   "cell_type": "code",
   "execution_count": 39,
   "metadata": {},
   "outputs": [],
   "source": [
    "##pull out fasta sequence of all the hits\n",
    "e_value = 0.01\n",
    "FivemC_Pgt_protein_hit_fn = 'Puccinia_graminis_tritici_21-0.proteins.6mA_methylation_demethyltion_query.blastp-%s.fasta' % e_value\n",
    "FivemC_Pgt_protein_hit_fn = os.path.join(OUT_DIR, FivemC_Pgt_protein_hit_fn)"
   ]
  },
  {
   "cell_type": "code",
   "execution_count": 40,
   "metadata": {},
   "outputs": [],
   "source": [
    "blast_df = FivemC_blast_df"
   ]
  },
  {
   "cell_type": "code",
   "execution_count": 41,
   "metadata": {},
   "outputs": [
    {
     "name": "stdout",
     "output_type": "stream",
     "text": [
      "PGT21_004684-T1\n",
      "PGT21_005253-T1\n",
      "PGT21_005363-T1\n",
      "PGT21_005713-T1\n",
      "PGT21_022089-T1\n",
      "PGT21_022364-T1\n"
     ]
    },
    {
     "data": {
      "text/plain": [
       "6"
      ]
     },
     "execution_count": 41,
     "metadata": {},
     "output_type": "execute_result"
    }
   ],
   "source": [
    "###get all the hits once and subset the blast with the e-value selected\n",
    "hit_ids = blast_df[blast_df.evalue < e_value].sseqid.unique()\n",
    "hit_list = []\n",
    "sub_blast_df = blast_df[blast_df.evalue < e_value].copy()\n",
    "for seq in SeqIO.parse(Pgt_protein_fn, 'fasta'):\n",
    "    if seq.id in hit_ids:\n",
    "        print(seq.id)\n",
    "        hit_list.append(seq)\n",
    "SeqIO.write(hit_list, FivemC_Pgt_protein_hit_fn, 'fasta')"
   ]
  },
  {
   "cell_type": "code",
   "execution_count": 42,
   "metadata": {},
   "outputs": [
    {
     "data": {
      "text/html": [
       "<div>\n",
       "<style scoped>\n",
       "    .dataframe tbody tr th:only-of-type {\n",
       "        vertical-align: middle;\n",
       "    }\n",
       "\n",
       "    .dataframe tbody tr th {\n",
       "        vertical-align: top;\n",
       "    }\n",
       "\n",
       "    .dataframe thead th {\n",
       "        text-align: right;\n",
       "    }\n",
       "</style>\n",
       "<table border=\"1\" class=\"dataframe\">\n",
       "  <thead>\n",
       "    <tr style=\"text-align: right;\">\n",
       "      <th></th>\n",
       "      <th>qseqid</th>\n",
       "      <th>sseqid</th>\n",
       "      <th>pident</th>\n",
       "      <th>length</th>\n",
       "      <th>mismatch</th>\n",
       "      <th>gapopen</th>\n",
       "      <th>qstart</th>\n",
       "      <th>qend</th>\n",
       "      <th>sstart</th>\n",
       "      <th>send</th>\n",
       "      <th>evalue</th>\n",
       "      <th>bitscore</th>\n",
       "    </tr>\n",
       "  </thead>\n",
       "  <tbody>\n",
       "    <tr>\n",
       "      <th>0</th>\n",
       "      <td>sp|Q09956|DAMT1_CAEEL</td>\n",
       "      <td>PGT21_005363-T1</td>\n",
       "      <td>30.769</td>\n",
       "      <td>208</td>\n",
       "      <td>113</td>\n",
       "      <td>9</td>\n",
       "      <td>160</td>\n",
       "      <td>339</td>\n",
       "      <td>253</td>\n",
       "      <td>457</td>\n",
       "      <td>4.650000e-14</td>\n",
       "      <td>73.2</td>\n",
       "    </tr>\n",
       "    <tr>\n",
       "      <th>1</th>\n",
       "      <td>sp|Q09956|DAMT1_CAEEL</td>\n",
       "      <td>PGT21_004684-T1</td>\n",
       "      <td>30.288</td>\n",
       "      <td>208</td>\n",
       "      <td>114</td>\n",
       "      <td>9</td>\n",
       "      <td>160</td>\n",
       "      <td>339</td>\n",
       "      <td>229</td>\n",
       "      <td>433</td>\n",
       "      <td>5.310000e-13</td>\n",
       "      <td>69.7</td>\n",
       "    </tr>\n",
       "    <tr>\n",
       "      <th>8</th>\n",
       "      <td>sp|Q9Y5N5|N6MT1_HUMAN</td>\n",
       "      <td>PGT21_005253-T1</td>\n",
       "      <td>44.186</td>\n",
       "      <td>215</td>\n",
       "      <td>109</td>\n",
       "      <td>6</td>\n",
       "      <td>8</td>\n",
       "      <td>213</td>\n",
       "      <td>4</td>\n",
       "      <td>216</td>\n",
       "      <td>1.210000e-50</td>\n",
       "      <td>163.0</td>\n",
       "    </tr>\n",
       "    <tr>\n",
       "      <th>9</th>\n",
       "      <td>sp|Q9Y5N5|N6MT1_HUMAN</td>\n",
       "      <td>PGT21_005713-T1</td>\n",
       "      <td>44.186</td>\n",
       "      <td>215</td>\n",
       "      <td>109</td>\n",
       "      <td>6</td>\n",
       "      <td>8</td>\n",
       "      <td>213</td>\n",
       "      <td>4</td>\n",
       "      <td>216</td>\n",
       "      <td>1.270000e-50</td>\n",
       "      <td>163.0</td>\n",
       "    </tr>\n",
       "    <tr>\n",
       "      <th>34</th>\n",
       "      <td>sp|Q13686|ALKB1_HUMAN</td>\n",
       "      <td>PGT21_022089-T1</td>\n",
       "      <td>29.439</td>\n",
       "      <td>214</td>\n",
       "      <td>99</td>\n",
       "      <td>7</td>\n",
       "      <td>167</td>\n",
       "      <td>347</td>\n",
       "      <td>308</td>\n",
       "      <td>502</td>\n",
       "      <td>9.800000e-21</td>\n",
       "      <td>93.6</td>\n",
       "    </tr>\n",
       "    <tr>\n",
       "      <th>36</th>\n",
       "      <td>sp|Q13686|ALKB1_HUMAN</td>\n",
       "      <td>PGT21_022364-T1</td>\n",
       "      <td>29.439</td>\n",
       "      <td>214</td>\n",
       "      <td>98</td>\n",
       "      <td>7</td>\n",
       "      <td>167</td>\n",
       "      <td>347</td>\n",
       "      <td>327</td>\n",
       "      <td>520</td>\n",
       "      <td>7.800000e-20</td>\n",
       "      <td>90.9</td>\n",
       "    </tr>\n",
       "  </tbody>\n",
       "</table>\n",
       "</div>"
      ],
      "text/plain": [
       "                   qseqid           sseqid  pident  length  mismatch  gapopen  \\\n",
       "0   sp|Q09956|DAMT1_CAEEL  PGT21_005363-T1  30.769     208       113        9   \n",
       "1   sp|Q09956|DAMT1_CAEEL  PGT21_004684-T1  30.288     208       114        9   \n",
       "8   sp|Q9Y5N5|N6MT1_HUMAN  PGT21_005253-T1  44.186     215       109        6   \n",
       "9   sp|Q9Y5N5|N6MT1_HUMAN  PGT21_005713-T1  44.186     215       109        6   \n",
       "34  sp|Q13686|ALKB1_HUMAN  PGT21_022089-T1  29.439     214        99        7   \n",
       "36  sp|Q13686|ALKB1_HUMAN  PGT21_022364-T1  29.439     214        98        7   \n",
       "\n",
       "    qstart  qend  sstart  send        evalue  bitscore  \n",
       "0      160   339     253   457  4.650000e-14      73.2  \n",
       "1      160   339     229   433  5.310000e-13      69.7  \n",
       "8        8   213       4   216  1.210000e-50     163.0  \n",
       "9        8   213       4   216  1.270000e-50     163.0  \n",
       "34     167   347     308   502  9.800000e-21      93.6  \n",
       "36     167   347     327   520  7.800000e-20      90.9  "
      ]
     },
     "execution_count": 42,
     "metadata": {},
     "output_type": "execute_result"
    }
   ],
   "source": [
    "sub_blast_df"
   ]
  },
  {
   "cell_type": "markdown",
   "metadata": {},
   "source": [
    "### Pull in haplotype information"
   ]
  },
  {
   "cell_type": "code",
   "execution_count": 43,
   "metadata": {},
   "outputs": [],
   "source": [
    "pgt_gff3_fn = os.path.join('../../data/genomic_resources/Puccinia_graminis_tritici_21-0.gff3')"
   ]
  },
  {
   "cell_type": "code",
   "execution_count": 44,
   "metadata": {},
   "outputs": [],
   "source": [
    "with open(pgt_gff3_fn, 'r') as fh:\n",
    "    haplotype_dict = {}\n",
    "    for line in fh:\n",
    "        line = line.rstrip()\n",
    "        if any(s in line for s in hit_ids):\n",
    "            for hit in hit_ids:\n",
    "                if hit in line:\n",
    "                    haplotype_dict[hit] = line.split('\\t')[0][-1]"
   ]
  },
  {
   "cell_type": "code",
   "execution_count": 45,
   "metadata": {},
   "outputs": [
    {
     "data": {
      "text/plain": [
       "True"
      ]
     },
     "execution_count": 45,
     "metadata": {},
     "output_type": "execute_result"
    }
   ],
   "source": [
    "len(haplotype_dict.values()) == len(hit_ids)"
   ]
  },
  {
   "cell_type": "code",
   "execution_count": 46,
   "metadata": {},
   "outputs": [],
   "source": [
    "sub_blast_df['shaplotype'] = sub_blast_df.sseqid.map(haplotype_dict)"
   ]
  },
  {
   "cell_type": "code",
   "execution_count": 47,
   "metadata": {},
   "outputs": [],
   "source": [
    "#get the locus id for loci with multiple transcripts\n",
    "sub_blast_df['sseqid_locus'] = [x.split('-')[0] for x in sub_blast_df.sseqid]"
   ]
  },
  {
   "cell_type": "code",
   "execution_count": 48,
   "metadata": {},
   "outputs": [],
   "source": [
    "#only keep the transcript witht the best hit\n",
    "sub_blast_df.drop_duplicates(['qseqid', 'sseqid_locus'], keep='first', inplace = True)"
   ]
  },
  {
   "cell_type": "markdown",
   "metadata": {},
   "source": [
    "### Do Interpro scan on command line"
   ]
  },
  {
   "cell_type": "code",
   "execution_count": 49,
   "metadata": {},
   "outputs": [],
   "source": [
    "interpro5 = '/home/jamila/anaconda3/downloads/interproscan-5.42-78.0/interproscan.sh'"
   ]
  },
  {
   "cell_type": "code",
   "execution_count": 50,
   "metadata": {},
   "outputs": [],
   "source": [
    "TMP_DIR = os.path.join(OUT_DIR, 'tmp')\n",
    "if not os.path.exists(TMP_DIR):\n",
    "    os.mkdir(TMP_DIR)"
   ]
  },
  {
   "cell_type": "code",
   "execution_count": 51,
   "metadata": {},
   "outputs": [],
   "source": [
    "Pgt_protein_hit_intrpro_fn = os.path.join(TMP_DIR, os.path.basename(FivemC_Pgt_protein_hit_fn).replace('.fasta', '.interpro5.tsv'))\n",
    "FivemC_seeds_intrpro_fn = os.path.join(TMP_DIR, os.path.basename(FivemC_seeds_fn).replace('.fasta', '.interpro5.tsv'))"
   ]
  },
  {
   "cell_type": "markdown",
   "metadata": {},
   "source": [
    "Run interpro on both set of protein files"
   ]
  },
  {
   "cell_type": "code",
   "execution_count": 52,
   "metadata": {},
   "outputs": [
    {
     "name": "stdout",
     "output_type": "stream",
     "text": [
      ">PGT21_004684-T1 PGT21_004684\r\n",
      "MSQRSEPSSVLLEILLPEKNLTAYLLDPFVPLLRGFDETTRVSVSRPPSEPHIICTPTTS\r\n",
      "ASTTTNRENRPTKRQRSNNEPPSASAHSCQPGESAETSQIHPLNGFQLEAVHHASIKGDI\r\n",
      "QQAVDAIRERWIDECSRDGHSEWWSDPHLLRHSAVAQLEWLPSPEIKRSEVWVDWAALTR\r\n",
      "DTFQVRCKTQSDLNQSSIRVSESGITCTNSSSTSISQTFLPEKKCSITLPKRSGFSLATM\r\n",
      "ENFKSEVFGLNHSPGWDAVIIDPPWQNKSATRGGKYRTVELYDLFKLDLPGILGENGGKR\r\n",
      "ALIAVWVTNRPKYRRFLKNKFFPDCHVQGPYSEWYWVKITASPTVKDDQPALSEGGKPLF\r\n",
      "DLNSTSPRRCYEGLVLGWYIPPSLRPEVRLSELPPKIFLSVPLGHSRKPNIIDLLAPHLP\r\n",
      "SDPSILELFSRSVSGLTSLAKPLEDKSAVLSPMKGIWHSVGDESPKFNVAPWVVLDSSIN\r\n",
      "TPSLSDP\r\n"
     ]
    }
   ],
   "source": [
    "!head {FivemC_Pgt_protein_hit_fn}"
   ]
  },
  {
   "cell_type": "code",
   "execution_count": 53,
   "metadata": {},
   "outputs": [
    {
     "name": "stdout",
     "output_type": "stream",
     "text": [
      "29/04/2020 17:57:27:504 Welcome to InterProScan-5.42-78.0\n",
      "29/04/2020 17:57:27:506 Running InterProScan v5 in STANDALONE mode... on Linux\n",
      "29/04/2020 17:57:41:140 Loading file /home/jamila/jamila_Storage/analyses/methylation_machinery/Puccinia_graminis_tritici_21-0.proteins.6mA_methylation_demethyltion_query.blastp-0.01.fasta\n",
      "29/04/2020 17:57:41:143 Running the following analyses:\n",
      "[CDD-3.17,Coils-2.2.1,Gene3D-4.2.0,Hamap-2020_01,MobiDBLite-2.0,PANTHER-14.1,Pfam-32.0,PIRSF-3.02,PRINTS-42.0,ProSitePatterns-2019_11,ProSiteProfiles-2019_11,SFLD-4,SMART-7.1,SUPERFAMILY-1.75,TIGRFAM-15.0]\n",
      "Available matches will be retrieved from the pre-calculated match lookup service.\n",
      "\n",
      "Matches for any sequences that are not represented in the lookup service will be calculated locally.\n",
      "29/04/2020 17:58:07:015 25% completed\n",
      "29/04/2020 17:58:45:819 51% completed\n",
      "29/04/2020 17:59:10:012 75% completed\n",
      "29/04/2020 17:59:20:157 92% completed\n",
      "29/04/2020 17:59:30:121 100% done:  InterProScan analyses completed \n",
      "\n"
     ]
    }
   ],
   "source": [
    "!bash {interpro5} -cpu 4 -i {FivemC_Pgt_protein_hit_fn} -f tsv -iprlookup -o {Pgt_protein_hit_intrpro_fn}"
   ]
  },
  {
   "cell_type": "code",
   "execution_count": 54,
   "metadata": {},
   "outputs": [
    {
     "name": "stdout",
     "output_type": "stream",
     "text": [
      "29/04/2020 17:59:31:771 Welcome to InterProScan-5.42-78.0\n",
      "29/04/2020 17:59:31:773 Running InterProScan v5 in STANDALONE mode... on Linux\n",
      "29/04/2020 17:59:47:699 Loading file /home/jamila/jamila_Storage/analyses/methylation_machinery/6mA_methylation_demethyltion_query.fasta\n",
      "29/04/2020 17:59:47:703 Running the following analyses:\n",
      "[CDD-3.17,Coils-2.2.1,Gene3D-4.2.0,Hamap-2020_01,MobiDBLite-2.0,PANTHER-14.1,Pfam-32.0,PIRSF-3.02,PRINTS-42.0,ProSitePatterns-2019_11,ProSiteProfiles-2019_11,SFLD-4,SMART-7.1,SUPERFAMILY-1.75,TIGRFAM-15.0]\n",
      "Available matches will be retrieved from the pre-calculated match lookup service.\n",
      "\n",
      "Matches for any sequences that are not represented in the lookup service will be calculated locally.\n",
      "29/04/2020 18:00:07:080 25% completed\n",
      "29/04/2020 18:00:40:309 50% completed\n",
      "29/04/2020 18:00:56:403 75% completed\n",
      "29/04/2020 18:01:17:485 92% completed\n",
      "29/04/2020 18:01:26:813 100% done:  InterProScan analyses completed \n",
      "\n"
     ]
    }
   ],
   "source": [
    "!bash {interpro5} -cpu 4 -i {FivemC_seeds_fn} -f tsv -iprlookup -o {FivemC_seeds_intrpro_fn}"
   ]
  },
  {
   "cell_type": "code",
   "execution_count": 55,
   "metadata": {},
   "outputs": [],
   "source": [
    "#pull in interpro results and add them to the dataframe\n",
    "sub_blast_df['q_pfam'] = sub_blast_df.qseqid.map(interpro_analysis_dict(FivemC_seeds_intrpro_fn, 'Pfam'))\n",
    "sub_blast_df['q_interpro'] = sub_blast_df.qseqid.map(interpro_accession_dict(FivemC_seeds_intrpro_fn))\n",
    "sub_blast_df['s_pfam'] = sub_blast_df.sseqid.map(interpro_analysis_dict(Pgt_protein_hit_intrpro_fn, 'Pfam'))\n",
    "sub_blast_df['s_interpro'] = sub_blast_df.sseqid.map(interpro_accession_dict(Pgt_protein_hit_intrpro_fn))\n"
   ]
  },
  {
   "cell_type": "code",
   "execution_count": 56,
   "metadata": {},
   "outputs": [],
   "source": [
    "#do some cosmetics on the the dataframe for proteins without interpro /pfam domains because pandas is wierd sometimes.\n",
    "for cln in ['q_pfam', 'q_interpro', 's_pfam','s_interpro']:\n",
    "    if sub_blast_df[cln].isna().sum():\n",
    "        sub_blast_df.loc[sub_blast_df[sub_blast_df[cln].isna()].index, cln] = [ [[]] * sub_blast_df[cln].isna().sum() ]"
   ]
  },
  {
   "cell_type": "code",
   "execution_count": 57,
   "metadata": {},
   "outputs": [],
   "source": [
    "#calculate the fraction of overlapping interpro/pfam domains between query sequences and hits\n",
    "sub_blast_df['pfam_int'] = sub_blast_df.apply(lambda row: set(row['q_pfam']).intersection(set(row['s_pfam'])) , axis=1)\n",
    "sub_blast_df['pfam_int_frac'] = sub_blast_df['pfam_int'].apply(lambda x: len(x)) / sub_blast_df['q_pfam'].apply(lambda x: len(x))\n",
    "sub_blast_df['interpro_int'] = sub_blast_df.apply(lambda row: set(row['q_interpro']).intersection(set(row['s_interpro'])) , axis=1)\n",
    "sub_blast_df['interpro_int_frac'] = sub_blast_df['interpro_int'].apply(lambda x: len(x)) / sub_blast_df['q_interpro'].apply(lambda x: len(x))"
   ]
  },
  {
   "cell_type": "code",
   "execution_count": 58,
   "metadata": {},
   "outputs": [
    {
     "data": {
      "text/html": [
       "<div>\n",
       "<style scoped>\n",
       "    .dataframe tbody tr th:only-of-type {\n",
       "        vertical-align: middle;\n",
       "    }\n",
       "\n",
       "    .dataframe tbody tr th {\n",
       "        vertical-align: top;\n",
       "    }\n",
       "\n",
       "    .dataframe thead th {\n",
       "        text-align: right;\n",
       "    }\n",
       "</style>\n",
       "<table border=\"1\" class=\"dataframe\">\n",
       "  <thead>\n",
       "    <tr style=\"text-align: right;\">\n",
       "      <th></th>\n",
       "      <th>qseqid</th>\n",
       "      <th>sseqid</th>\n",
       "      <th>evalue</th>\n",
       "      <th>s_interpro</th>\n",
       "      <th>pfam_int</th>\n",
       "      <th>pfam_int_frac</th>\n",
       "    </tr>\n",
       "  </thead>\n",
       "  <tbody>\n",
       "    <tr>\n",
       "      <th>0</th>\n",
       "      <td>sp|Q09956|DAMT1_CAEEL</td>\n",
       "      <td>PGT21_005363-T1</td>\n",
       "      <td>4.650000e-14</td>\n",
       "      <td>[IPR007757]</td>\n",
       "      <td>{PF05063}</td>\n",
       "      <td>1.0</td>\n",
       "    </tr>\n",
       "    <tr>\n",
       "      <th>1</th>\n",
       "      <td>sp|Q09956|DAMT1_CAEEL</td>\n",
       "      <td>PGT21_004684-T1</td>\n",
       "      <td>5.310000e-13</td>\n",
       "      <td>[IPR007757]</td>\n",
       "      <td>{PF05063}</td>\n",
       "      <td>1.0</td>\n",
       "    </tr>\n",
       "    <tr>\n",
       "      <th>8</th>\n",
       "      <td>sp|Q9Y5N5|N6MT1_HUMAN</td>\n",
       "      <td>PGT21_005253-T1</td>\n",
       "      <td>1.210000e-50</td>\n",
       "      <td>[IPR004557, IPR007848]</td>\n",
       "      <td>{PF05175}</td>\n",
       "      <td>1.0</td>\n",
       "    </tr>\n",
       "    <tr>\n",
       "      <th>9</th>\n",
       "      <td>sp|Q9Y5N5|N6MT1_HUMAN</td>\n",
       "      <td>PGT21_005713-T1</td>\n",
       "      <td>1.270000e-50</td>\n",
       "      <td>[IPR002052, IPR004557, IPR007848]</td>\n",
       "      <td>{PF05175}</td>\n",
       "      <td>1.0</td>\n",
       "    </tr>\n",
       "    <tr>\n",
       "      <th>34</th>\n",
       "      <td>sp|Q13686|ALKB1_HUMAN</td>\n",
       "      <td>PGT21_022089-T1</td>\n",
       "      <td>9.800000e-21</td>\n",
       "      <td>[IPR027450, IPR005123]</td>\n",
       "      <td>{PF13532}</td>\n",
       "      <td>1.0</td>\n",
       "    </tr>\n",
       "    <tr>\n",
       "      <th>36</th>\n",
       "      <td>sp|Q13686|ALKB1_HUMAN</td>\n",
       "      <td>PGT21_022364-T1</td>\n",
       "      <td>7.800000e-20</td>\n",
       "      <td>[IPR027450, IPR005123]</td>\n",
       "      <td>{PF13532}</td>\n",
       "      <td>1.0</td>\n",
       "    </tr>\n",
       "  </tbody>\n",
       "</table>\n",
       "</div>"
      ],
      "text/plain": [
       "                   qseqid           sseqid        evalue  \\\n",
       "0   sp|Q09956|DAMT1_CAEEL  PGT21_005363-T1  4.650000e-14   \n",
       "1   sp|Q09956|DAMT1_CAEEL  PGT21_004684-T1  5.310000e-13   \n",
       "8   sp|Q9Y5N5|N6MT1_HUMAN  PGT21_005253-T1  1.210000e-50   \n",
       "9   sp|Q9Y5N5|N6MT1_HUMAN  PGT21_005713-T1  1.270000e-50   \n",
       "34  sp|Q13686|ALKB1_HUMAN  PGT21_022089-T1  9.800000e-21   \n",
       "36  sp|Q13686|ALKB1_HUMAN  PGT21_022364-T1  7.800000e-20   \n",
       "\n",
       "                           s_interpro   pfam_int  pfam_int_frac  \n",
       "0                         [IPR007757]  {PF05063}            1.0  \n",
       "1                         [IPR007757]  {PF05063}            1.0  \n",
       "8              [IPR004557, IPR007848]  {PF05175}            1.0  \n",
       "9   [IPR002052, IPR004557, IPR007848]  {PF05175}            1.0  \n",
       "34             [IPR027450, IPR005123]  {PF13532}            1.0  \n",
       "36             [IPR027450, IPR005123]  {PF13532}            1.0  "
      ]
     },
     "execution_count": 58,
     "metadata": {},
     "output_type": "execute_result"
    }
   ],
   "source": [
    "sub_blast_df.iloc[:,[0,1,10, 17, 18,19]].head(30)"
   ]
  },
  {
   "cell_type": "code",
   "execution_count": 59,
   "metadata": {},
   "outputs": [],
   "source": [
    "#filter the dataframe to have only hits that have the best possible interpro domains fractions\n",
    "pfam_filt_df = sub_blast_df[sub_blast_df.groupby('qseqid')['interpro_int_frac'].transform(max) == sub_blast_df['interpro_int_frac']]"
   ]
  },
  {
   "cell_type": "code",
   "execution_count": 60,
   "metadata": {},
   "outputs": [
    {
     "data": {
      "text/plain": [
       "qseqid\n",
       "sp|Q09956|DAMT1_CAEEL    2\n",
       "sp|Q13686|ALKB1_HUMAN    2\n",
       "sp|Q9Y5N5|N6MT1_HUMAN    1\n",
       "Name: sseqid, dtype: int64"
      ]
     },
     "execution_count": 60,
     "metadata": {},
     "output_type": "execute_result"
    }
   ],
   "source": [
    "##look at how many hits per query sequence are still left\n",
    "pfam_filt_df.groupby('qseqid')['sseqid'].count()"
   ]
  },
  {
   "cell_type": "code",
   "execution_count": 61,
   "metadata": {},
   "outputs": [],
   "source": [
    "best_sseq_df = pfam_filt_df[pfam_filt_df.groupby('sseqid')['interpro_int_frac'].transform(max) == pfam_filt_df['interpro_int_frac']]"
   ]
  },
  {
   "cell_type": "code",
   "execution_count": 62,
   "metadata": {},
   "outputs": [],
   "source": [
    "pgt_match_list = []\n",
    "DNA_seed_list = []\n",
    "haplotype_list = []\n",
    "match_type_list = []\n",
    "for seed_gene, pgt_gene  in zip(best_sseq_df.qseqid, best_sseq_df.sseqid): \n",
    "    if not pgt_gene.endswith('-T2'):\n",
    "        DNA_seed_list.append(seed_gene)\n",
    "        pgt_match_list.append(pgt_gene)\n",
    "        match_type_list.append('blast')"
   ]
  },
  {
   "cell_type": "code",
   "execution_count": 63,
   "metadata": {},
   "outputs": [
    {
     "name": "stderr",
     "output_type": "stream",
     "text": [
      "/home/jamila/anaconda3/envs/pycoMeth/lib/python3.6/site-packages/ipykernel_launcher.py:3: DeprecationWarning: The default dtype for empty Series will be 'object' instead of 'float64' in a future version. Specify a dtype explicitly to silence this warning.\n",
      "  This is separate from the ipykernel package so we can avoid doing imports until\n"
     ]
    }
   ],
   "source": [
    "pgt_match_series = pd.Series(pgt_match_list, name=\"Pgt_match\")\n",
    "DNA_seed_series = pd.Series(DNA_seed_list, name='Seed_ID')\n",
    "haplotype_series = pd.Series(haplotype_list, name='haplotype')\n",
    "match_type_series = pd.Series(match_type_list, name='Match_type')"
   ]
  },
  {
   "cell_type": "code",
   "execution_count": 64,
   "metadata": {},
   "outputs": [],
   "source": [
    "out_df = pd.concat([DNA_seed_series, pgt_match_series, haplotype_series, match_type_series], axis =1)"
   ]
  },
  {
   "cell_type": "code",
   "execution_count": 65,
   "metadata": {},
   "outputs": [],
   "source": [
    "out_fn = os.path.join(OUT_DIR, '%s_orthologs.Pgt21-0.tsv' %os.path.basename(FivemC_seeds_fn).replace('.fasta', '') )"
   ]
  },
  {
   "cell_type": "code",
   "execution_count": 66,
   "metadata": {},
   "outputs": [],
   "source": [
    "out_df.to_csv(out_fn, sep='\\t', index=None)"
   ]
  },
  {
   "cell_type": "code",
   "execution_count": 67,
   "metadata": {},
   "outputs": [
    {
     "name": "stdout",
     "output_type": "stream",
     "text": [
      "Seed_ID\tPgt_match\thaplotype\tMatch_type\r\n",
      "sp|Q09956|DAMT1_CAEEL\tPGT21_005363-T1\t\tblast\r\n",
      "sp|Q09956|DAMT1_CAEEL\tPGT21_004684-T1\t\tblast\r\n",
      "sp|Q9Y5N5|N6MT1_HUMAN\tPGT21_005713-T1\t\tblast\r\n",
      "sp|Q13686|ALKB1_HUMAN\tPGT21_022089-T1\t\tblast\r\n",
      "sp|Q13686|ALKB1_HUMAN\tPGT21_022364-T1\t\tblast\r\n"
     ]
    }
   ],
   "source": [
    "!head {out_fn}"
   ]
  },
  {
   "cell_type": "code",
   "execution_count": null,
   "metadata": {},
   "outputs": [],
   "source": []
  }
 ],
 "metadata": {
  "kernelspec": {
   "display_name": "Python 3",
   "language": "python",
   "name": "python3"
  },
  "language_info": {
   "codemirror_mode": {
    "name": "ipython",
    "version": 3
   },
   "file_extension": ".py",
   "mimetype": "text/x-python",
   "name": "python",
   "nbconvert_exporter": "python",
   "pygments_lexer": "ipython3",
   "version": "3.6.10"
  }
 },
 "nbformat": 4,
 "nbformat_minor": 2
}
