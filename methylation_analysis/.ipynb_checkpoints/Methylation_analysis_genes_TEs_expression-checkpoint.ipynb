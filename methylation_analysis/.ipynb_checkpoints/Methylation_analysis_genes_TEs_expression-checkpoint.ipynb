{
 "cells": [
  {
   "cell_type": "markdown",
   "metadata": {},
   "source": [
    "## Exploration of DNA methylation in Pgt in relation to gene expression and TEs"
   ]
  },
  {
   "cell_type": "markdown",
   "metadata": {},
   "source": [
    "### Input\n",
    "* 6mA methylation calls with tombo at frequency >= 0.5 in germinated spores and in infected leaves\n",
    "* 5mC methylation calls with tombo at frequency >= 0.5 in germinated spores and in infected leaves\n",
    "* CpG methylation calls with nanopolish and pycometh in germinated spores and in infected leaves and the comparison thereof\n",
    "* gene annotation\n",
    "* TE annotation\n",
    "* centromer annotation\n",
    "* expression at germinated spores, haustoria, 2-7 dpi\n",
    "* differential expression"
   ]
  },
  {
   "cell_type": "markdown",
   "metadata": {},
   "source": [
    "### Questions/hypothesis\n",
    "* 6mA is positively correlated with expression.\n",
    "* 5mC is negatively correlated with expression.\n",
    "* differentially methylated genes are differentially expressed.\n",
    "* Centromers and pericentromeric regions are hypermethylated.\n",
    "* There is a difference in methylation between genes and TEs for 5mC/CpG with TEs being more heavily methylated.\n",
    "* The difference in methylation between genes and TEs is less pronounces for 6mA"
   ]
  },
  {
   "cell_type": "markdown",
   "metadata": {},
   "source": [
    "### Usefull tools in bedtools for analysis\n",
    "* annotate potentially for multiple overlaps https://bedtools.readthedocs.io/en/latest/content/tools/annotate.html\n",
    "* closest https://bedtools.readthedocs.io/en/latest/content/tools/closest.html\n",
    "* cluster is a nice different way of merge without merging a bit of a grouping function https://bedtools.readthedocs.io/en/latest/content/tools/cluster.html\n",
    "* complement\n",
    "* coverage https://bedtools.readthedocs.io/en/latest/content/tools/coverage.html\n",
    "* expand (no explanation but could be good)\n",
    "* flank good for promoters and such https://bedtools.readthedocs.io/en/latest/content/tools/flank.html\n",
    "* fisher https://bedtools.readthedocs.io/en/latest/content/tools/fisher.html\n",
    "* genomecov for making bedgraphs and such\n",
    "* getfasta\n",
    "* groupby might be interesting to explore for quick summary similar to pandas groupby https://bedtools.readthedocs.io/en/latest/content/tools/groupby.html\n",
    "* igv\n",
    "* intersect https://bedtools.readthedocs.io/en/latest/content/tools/intersect.html\n",
    "* jaccard\n",
    "* makewindow\n",
    "* map https://bedtools.readthedocs.io/en/latest/content/tools/map.html\n",
    "* merge\n",
    "* multiinter\n",
    "* nuc https://bedtools.readthedocs.io/en/latest/content/tools/nuc.html\n",
    "* overlap overlap or distance between two features https://bedtools.readthedocs.io/en/latest/content/tools/overlap.html\n",
    "* random https://bedtools.readthedocs.io/en/latest/content/tools/random.html\n",
    "* reldist to check if features more related to one feature vs. another https://bedtools.readthedocs.io/en/latest/content/tools/reldist.html\n",
    "* shift does what it says https://bedtools.readthedocs.io/en/latest/content/tools/shift.html\n",
    "* shuffle does what it says https://bedtools.readthedocs.io/en/latest/content/tools/shuffle.html\n",
    "* slop is similar to flank but includes the initial sequence https://bedtools.readthedocs.io/en/latest/content/tools/slop.html\n",
    "* sort\n",
    "* substract none overlapping https://bedtools.readthedocs.io/en/latest/content/tools/subtract.html\n",
    "* window allows to fish out for near feature https://bedtools.readthedocs.io/en/latest/content/tools/window.html\n"
   ]
  },
  {
   "cell_type": "markdown",
   "metadata": {},
   "source": [
    "### Prework on the command line"
   ]
  },
  {
   "cell_type": "markdown",
   "metadata": {},
   "source": [
    "#### Filter nanopolish/pycometh outputfiles on the significant column"
   ]
  },
  {
   "cell_type": "raw",
   "metadata": {},
   "source": [
    "awk -v OFS='\\t' '{ if ($5 >= 2) { print } }' chr_A_B_unassignedsta.germinated_spores_1.clean_all.interval_1000_agg.bed > /home/jamila/jamila_Storage/analyses/methylation_analysis/bed_files/germinated_spores.CpG.g2.interval_1000_agg.bed"
   ]
  },
  {
   "cell_type": "raw",
   "metadata": {},
   "source": [
    "awk -v OFS='\\t' '{ if ($5 >= 2) { print } }' chr_A_B_unassignedsta.germinated_spores_1.clean_all.CpG_agg.bed > /home/jamila/jamila_Storage/analyses/methylation_analysis/bed_files/germinated_spores.CpG.g2.CpG_agg.bed"
   ]
  },
  {
   "cell_type": "raw",
   "metadata": {},
   "source": [
    "awk -v OFS='\\t' '{ if ($5 >= 2) { print } }' chr_A_B_unassignedsta.infected_leaves_all.clean_all.interval_1000_agg.bed > /home/jamila/jamila_Storage/analyses/methylation_analysis/bed_files/infected_leaves.CpG.g2.interval_1000_agg.bed"
   ]
  },
  {
   "cell_type": "raw",
   "metadata": {},
   "source": [
    "awk -v OFS='\\t' '{ if ($5 >= 2) { print } }' chr_A_B_unassignedsta.infected_leaves_all.clean_all.CpG_agg.bed > /home/jamila/jamila_Storage/analyses/methylation_analysis/bed_files/infected_leaves.CpG.g2.CpG_agg.bed"
   ]
  },
  {
   "cell_type": "markdown",
   "metadata": {},
   "source": [
    "#### Filter the differential methylation by a p-value of < 0.05"
   ]
  },
  {
   "cell_type": "raw",
   "metadata": {},
   "source": [
    "awk '{ if ($6 < 0.05) { print } }' Pgt21-0.comp_CpG.il_sp.tsv | awk -F $'\\t' -v OFS='\\t' '{print $1,$2,$3,\"diff_CpG\",$6,\".\"}' > /home/jamila/jamila_Storage/analyses/methylation_analysis/bed_files/differential_il_vs_gp.CpG.p0_05.CpG_agg.bed"
   ]
  },
  {
   "cell_type": "raw",
   "metadata": {},
   "source": [
    "awk '{ if ($6 < 0.05) { print } }' Pgt21-0.comp_w1000.il_sp.tsv | awk -F $'\\t'  -v OFS='\\t'  '{print $1,$2,$3,\"diff_CpG\",$6,\".\"}' > /home/jamila/jamila_Storage/analyses/methylation_analysis/bed_files/differential_il_vs_gp.CpG.p0_05.interval_1000_agg.bed"
   ]
  },
  {
   "cell_type": "markdown",
   "metadata": {},
   "source": [
    "### Filter the annotation files"
   ]
  },
  {
   "cell_type": "raw",
   "metadata": {},
   "source": [
    " grep -v '^#' Puccinia_graminis_tritici_21-0.gff3 | grep -v 'Parent' | awk  -v OFS='\\t' '{ if ($3 = \"gene\n",
    "\") { print $1,$4 -1,$5,$9,\".\",$7 } }'  > /home/jamila/jamila_Storage/analyses/methylati\n",
    "on_analysis/bed_files/Puccinia_graminis_tritici_21-0.gene.bed\n",
    "\n",
    "##removed | sed -e 's/ID=\\([^;]*\\);*\\(.*\\)/\\1\\2/g' | sed -e 's/Name[^ tab]*//g' in the middle"
   ]
  },
  {
   "cell_type": "raw",
   "metadata": {},
   "source": [
    "awk  -F $'\\t' -v OFS='\\t' '{print $1, $4-1, $5, $9, \".\", $7}' Pgt210_ABu.Pgt210_ABuu_denovoLibTEs.REPETnr.superfamily.gff > /home/jamila/jamila_Storage/analyses/methylation_analysis/bed_files/Pgt210_ABu.Pgt210_ABuu_denovoLibTEs.REPETnr.superfamily.bed"
   ]
  },
  {
   "cell_type": "raw",
   "metadata": {},
   "source": [
    "awk  -F $'\\t' -v OFS='\\t' '{print $1, $4-1, $5, $9, \".\", $7}' Pgt210_ABu.Pgt210_ABuu_denovoLibTEs.REPETnr.TE.gff > /home/jamila/jamila_Storage/analyses/methylation_analysis/bed_files/Pgt210_ABu.Pgt210_ABuu_denovoLibTEs.REPETnr.TE.bed"
   ]
  },
  {
   "cell_type": "raw",
   "metadata": {},
   "source": [
    "awk -v OFS='\\t' '$4 != \"SSR\" {print}' Pgt210_ABu.Pgt210_ABuu_denovoLibTEs.REPETnr.superfamily.sorted.bed > Pgt210_ABu.Pgt210_ABuu_denovoLibTEs.REPETnr.superfamily.sorted.bed.tmp"
   ]
  },
  {
   "cell_type": "raw",
   "metadata": {},
   "source": [
    "awk -e '$4 !~ /^[ACTG]+[0-9]+/ {print}' Pgt210_ABu.Pgt210_ABuu_denovoLibTEs.REPETnr.TE.sorted.bed > Pgt210_ABu.Pgt210_ABuu_denovoLibTEs.REPETnr.TE.sorted.bed.tmp"
   ]
  },
  {
   "cell_type": "raw",
   "metadata": {},
   "source": [
    "awk -v OFS='\\t' '{print $1, $2, $2 + 1, $4, $5, $6}' Puccinia_graminis_tritici_21-0.gene.sorted.bed > Puccinia_graminis_tritici_21-0.gene_start.sorted.bed"
   ]
  },
  {
   "cell_type": "markdown",
   "metadata": {},
   "source": [
    "### Modules"
   ]
  },
  {
   "cell_type": "code",
   "execution_count": 147,
   "metadata": {},
   "outputs": [],
   "source": [
    "%matplotlib inline\n",
    "import pandas as pd\n",
    "import os\n",
    "import re\n",
    "from pybedtools import BedTool\n",
    "import numpy as np\n",
    "import pybedtools\n",
    "import re\n",
    "import matplotlib.pyplot as plt\n",
    "import json\n",
    "import matplotlib\n",
    "import subprocess\n",
    "import numpy as np\n",
    "import collections\n",
    "import seaborn as sns\n",
    "import random"
   ]
  },
  {
   "cell_type": "markdown",
   "metadata": {},
   "source": [
    "### Input files and folders for annotations"
   ]
  },
  {
   "cell_type": "code",
   "execution_count": 70,
   "metadata": {},
   "outputs": [],
   "source": [
    "genome_file_fn = os.path.abspath('../../data/genomic_resources/Pgt_genome_size.txt')\n",
    "genome_assembly_fn = os.path.abspath('../../data/genomic_resources/chr_A_B_unassigned.fasta')\n",
    "beddir = os.path.abspath('../../analyses/methylation_analysis/bed_files/')\n",
    "outdir = os.path.abspath('../../analyses/methylation_analysis/gene_expression/')"
   ]
  },
  {
   "cell_type": "code",
   "execution_count": 16,
   "metadata": {},
   "outputs": [],
   "source": [
    "annotation_dict = {}\n",
    "annotation_dict['genes'] = os.path.abspath('../../analyses/methylation_analysis/bed_files/Puccinia_graminis_tritici_21-0.gene.sorted.bed')\n",
    "annotation_dict['TE_family'] = os.path.abspath('../../analyses/methylation_analysis/bed_files/Pgt210_ABu.Pgt210_ABuu_denovoLibTEs.REPETnr.TE.sorted.bed')\n",
    "annotation_dict['TE_superfamily'] = os.path.abspath('../../analyses/methylation_analysis/bed_files/Pgt210_ABu.Pgt210_ABuu_denovoLibTEs.REPETnr.superfamily.sorted.bed')\n",
    "annotation_dict['gene_starts'] = os.path.abspath('../../analyses/methylation_analysis/bed_files/Puccinia_graminis_tritici_21-0.gene_start.sorted.bed')"
   ]
  },
  {
   "cell_type": "code",
   "execution_count": 17,
   "metadata": {},
   "outputs": [
    {
     "name": "stdout",
     "output_type": "stream",
     "text": [
      "chr1A\t6156719\r\n",
      "chr2A\t6062785\r\n",
      "chr3A\t6034716\r\n",
      "chr4A\t5967513\r\n",
      "chr5A\t5558200\r\n",
      "chr6A\t5554679\r\n",
      "chr7A\t5184328\r\n",
      "chr8A\t5113503\r\n",
      "chr9A\t4787822\r\n",
      "chr10A\t4648557\r\n"
     ]
    }
   ],
   "source": [
    "!head {genome_file_fn}"
   ]
  },
  {
   "cell_type": "code",
   "execution_count": 18,
   "metadata": {},
   "outputs": [],
   "source": [
    "###now make some useful files\n",
    "##promoter\n",
    "annotation_dict['promoters'] = annotation_dict['genes'].replace('.gene.', '.1kb_promoter.')\n",
    "!bedtools flank -s -r 0 -l 1000 -i {annotation_dict['genes']} -g {genome_file_fn} > {annotation_dict['promoters']}"
   ]
  },
  {
   "cell_type": "code",
   "execution_count": 39,
   "metadata": {},
   "outputs": [],
   "source": [
    "##promoter and genes\n",
    "annotation_dict['genes_and_promoters'] = annotation_dict['genes'].replace('.gene.', '.gene_and_1kb_promoter.')\n",
    "!bedtools slop -b 1000 -s -i {annotation_dict['genes']} -g {genome_file_fn} > {annotation_dict['genes_and_promoters']}"
   ]
  },
  {
   "cell_type": "code",
   "execution_count": 38,
   "metadata": {},
   "outputs": [],
   "source": [
    "##starting sides\n",
    "annotation_dict['start_sides'] = annotation_dict['genes'].replace('.gene.', '.300bp_startsides.')\n",
    "!bedtools slop -b 300 -s -i {annotation_dict['gene_starts']} -g {genome_file_fn} > {annotation_dict['start_sides']}"
   ]
  },
  {
   "cell_type": "code",
   "execution_count": 26,
   "metadata": {},
   "outputs": [],
   "source": [
    "##get genes within 1000 bases of TEs\n",
    "annotation_dict['genes_close_to_TEs'] = annotation_dict['genes'].replace('.gene.', '.gene_wTE_1kb.')\n",
    "!bedtools window -u -b {annotation_dict['TE_superfamily']} -a {annotation_dict['genes']} > {annotation_dict['genes_close_to_TEs']}"
   ]
  },
  {
   "cell_type": "code",
   "execution_count": 28,
   "metadata": {},
   "outputs": [],
   "source": [
    "##get genes not within 1000 bases of TEs\n",
    "annotation_dict['genes_close_to_TEs'] = annotation_dict['genes'].replace('.gene.', '.gene_woTE_1kb.')\n",
    "!bedtools window -v  -b {annotation_dict['TE_superfamily']} -a {annotation_dict['genes']} > {annotation_dict['genes_close_to_TEs']}"
   ]
  },
  {
   "cell_type": "markdown",
   "metadata": {},
   "source": [
    "### Input files for methylation"
   ]
  },
  {
   "cell_type": "code",
   "execution_count": 68,
   "metadata": {},
   "outputs": [],
   "source": [
    "bed_files = !ls {beddir}"
   ]
  },
  {
   "cell_type": "code",
   "execution_count": 157,
   "metadata": {},
   "outputs": [
    {
     "data": {
      "text/plain": [
       "['DEseq2_6dpivsGerminatedSpores.csv',\n",
       " 'DEseq2_7dpivsGerminatedSpores.csv',\n",
       " 'differential_il_vs_gp.CpG.p0_05.CpG_agg.sorted.bed',\n",
       " 'differential_il_vs_gp.CpG.p0_05.interval_1000_agg.sorted.bed',\n",
       " 'germinated_spores.5mC.g05.tombo.sorted.bed',\n",
       " 'germinated_spores.6mA.g05.tombo.sorted.bed',\n",
       " 'germinated_spores.CpG.g2.CpG_agg.sorted.bed',\n",
       " 'germinated_spores.CpG.g2.interval_1000_agg.sorted.bed',\n",
       " 'infected_leaves.5mC.g05.tombo.sorted.bed',\n",
       " 'infected_leaves.6mA.g05.tombo.sorted.bed',\n",
       " 'infected_leaves.CpG.g2.CpG_agg.sorted.bed',\n",
       " 'infected_leaves.CpG.g2.interval_1000_agg.sorted.bed',\n",
       " 'Pgt210_ABu.centromers.sorted.bed',\n",
       " 'Pgt210_ABu.Pgt210_ABuu_denovoLibTEs.REPETnr.superfamily.sorted.be',\n",
       " 'Pgt210_ABu.Pgt210_ABuu_denovoLibTEs.REPETnr.superfamily.sorted.bed',\n",
       " 'Pgt210_ABu.Pgt210_ABuu_denovoLibTEs.REPETnr.TE.sorted.bed',\n",
       " 'Puccinia_graminis_tritici_21-0.1kb_promoter.sorted.bed',\n",
       " 'Puccinia_graminis_tritici_21-0.300bp_startsides.sorted.bed',\n",
       " 'Puccinia_graminis_tritici_21-0.gene_and_1kb_promoter.sorted.bed',\n",
       " 'Puccinia_graminis_tritici_21-0.gene.sorted.bed',\n",
       " 'Puccinia_graminis_tritici_21-0.gene_start.sorted.bed',\n",
       " 'Puccinia_graminis_tritici_21-0.gene_woTE_1kb.sorted.bed',\n",
       " 'Puccinia_graminis_tritici_21-0.gene_wTE_1kb.sorted.bed',\n",
       " 'sorted',\n",
       " 'Tx2_Abundance_Replicates.txt',\n",
       " 'unsorted']"
      ]
     },
     "execution_count": 157,
     "metadata": {},
     "output_type": "execute_result"
    }
   ],
   "source": [
    "bed_files[:]"
   ]
  },
  {
   "cell_type": "code",
   "execution_count": 36,
   "metadata": {},
   "outputs": [],
   "source": [
    "meth_dict = {}\n",
    "for file in bed_files[2:12]: #might need to changes this depending what got out\n",
    "    key = file.replace('.sorted.bed', '')\n",
    "    meth_dict[key] = os.path.join(beddir, file)"
   ]
  },
  {
   "cell_type": "code",
   "execution_count": 37,
   "metadata": {},
   "outputs": [
    {
     "data": {
      "text/plain": [
       "{'differential_il_vs_gp.CpG.p0_05.CpG_agg': '/home/jamila/jamila_Storage/analyses/methylation_analysis/bed_files/differential_il_vs_gp.CpG.p0_05.CpG_agg.sorted.bed',\n",
       " 'differential_il_vs_gp.CpG.p0_05.interval_1000_agg': '/home/jamila/jamila_Storage/analyses/methylation_analysis/bed_files/differential_il_vs_gp.CpG.p0_05.interval_1000_agg.sorted.bed',\n",
       " 'germinated_spores.5mC.g05.tombo': '/home/jamila/jamila_Storage/analyses/methylation_analysis/bed_files/germinated_spores.5mC.g05.tombo.sorted.bed',\n",
       " 'germinated_spores.6mA.g05.tombo': '/home/jamila/jamila_Storage/analyses/methylation_analysis/bed_files/germinated_spores.6mA.g05.tombo.sorted.bed',\n",
       " 'germinated_spores.CpG.g2.CpG_agg': '/home/jamila/jamila_Storage/analyses/methylation_analysis/bed_files/germinated_spores.CpG.g2.CpG_agg.sorted.bed',\n",
       " 'germinated_spores.CpG.g2.interval_1000_agg': '/home/jamila/jamila_Storage/analyses/methylation_analysis/bed_files/germinated_spores.CpG.g2.interval_1000_agg.sorted.bed',\n",
       " 'infected_leaves.5mC.g05.tombo': '/home/jamila/jamila_Storage/analyses/methylation_analysis/bed_files/infected_leaves.5mC.g05.tombo.sorted.bed',\n",
       " 'infected_leaves.6mA.g05.tombo': '/home/jamila/jamila_Storage/analyses/methylation_analysis/bed_files/infected_leaves.6mA.g05.tombo.sorted.bed',\n",
       " 'infected_leaves.CpG.g2.CpG_agg': '/home/jamila/jamila_Storage/analyses/methylation_analysis/bed_files/infected_leaves.CpG.g2.CpG_agg.sorted.bed',\n",
       " 'infected_leaves.CpG.g2.interval_1000_agg': '/home/jamila/jamila_Storage/analyses/methylation_analysis/bed_files/infected_leaves.CpG.g2.interval_1000_agg.sorted.bed'}"
      ]
     },
     "execution_count": 37,
     "metadata": {},
     "output_type": "execute_result"
    }
   ],
   "source": [
    "meth_dict"
   ]
  },
  {
   "cell_type": "markdown",
   "metadata": {},
   "source": [
    "### Summaries expression data "
   ]
  },
  {
   "cell_type": "code",
   "execution_count": 71,
   "metadata": {},
   "outputs": [],
   "source": [
    "expression_dict = {}\n",
    "expression_dict['Tx2'] = os.path.join(beddir, 'Tx2_Abundance_Replicates.txt')\n",
    "expression_dict['Diff_6dpi'] = os.path.join(beddir, 'DEseq2_6dpivsGerminatedSpores.csv')\n",
    "expression_dict['Diff_7dpi'] = os.path.join(beddir, 'DEseq2_7dpivsGerminatedSpores.csv')\n",
    "exp_df = pd.read_csv(expression_dict['Tx2'], sep='\\t')"
   ]
  },
  {
   "cell_type": "code",
   "execution_count": 72,
   "metadata": {
    "collapsed": true
   },
   "outputs": [
    {
     "data": {
      "text/html": [
       "<div>\n",
       "<style scoped>\n",
       "    .dataframe tbody tr th:only-of-type {\n",
       "        vertical-align: middle;\n",
       "    }\n",
       "\n",
       "    .dataframe tbody tr th {\n",
       "        vertical-align: top;\n",
       "    }\n",
       "\n",
       "    .dataframe thead th {\n",
       "        text-align: right;\n",
       "    }\n",
       "</style>\n",
       "<table border=\"1\" class=\"dataframe\">\n",
       "  <thead>\n",
       "    <tr style=\"text-align: right;\">\n",
       "      <th></th>\n",
       "      <th>HS_1</th>\n",
       "      <th>HS_2</th>\n",
       "      <th>HS_3</th>\n",
       "      <th>GS_1</th>\n",
       "      <th>GS_2</th>\n",
       "      <th>GS_3</th>\n",
       "      <th>dpi2_1</th>\n",
       "      <th>dpi2_2</th>\n",
       "      <th>dpi2_3</th>\n",
       "      <th>dpi3_1</th>\n",
       "      <th>...</th>\n",
       "      <th>dpi4_3</th>\n",
       "      <th>dpi5_1</th>\n",
       "      <th>dpi5_2</th>\n",
       "      <th>dpi5_3</th>\n",
       "      <th>dpi6_1</th>\n",
       "      <th>dpi6_2</th>\n",
       "      <th>dpi6_3</th>\n",
       "      <th>dpi7_1</th>\n",
       "      <th>dpi7_2</th>\n",
       "      <th>dpi7_3</th>\n",
       "    </tr>\n",
       "  </thead>\n",
       "  <tbody>\n",
       "    <tr>\n",
       "      <th>PGT21_000001-T1</th>\n",
       "      <td>0.0</td>\n",
       "      <td>0.28926</td>\n",
       "      <td>0.0</td>\n",
       "      <td>0.0</td>\n",
       "      <td>0.0</td>\n",
       "      <td>0.0</td>\n",
       "      <td>0.0</td>\n",
       "      <td>0.0</td>\n",
       "      <td>0.0</td>\n",
       "      <td>0.0</td>\n",
       "      <td>...</td>\n",
       "      <td>0.0</td>\n",
       "      <td>0.0</td>\n",
       "      <td>0.0</td>\n",
       "      <td>0.0</td>\n",
       "      <td>0.0</td>\n",
       "      <td>0.0</td>\n",
       "      <td>0.0</td>\n",
       "      <td>0.0</td>\n",
       "      <td>0.0</td>\n",
       "      <td>0.0</td>\n",
       "    </tr>\n",
       "    <tr>\n",
       "      <th>PGT21_000002-T1</th>\n",
       "      <td>0.0</td>\n",
       "      <td>0.00000</td>\n",
       "      <td>0.0</td>\n",
       "      <td>0.0</td>\n",
       "      <td>0.0</td>\n",
       "      <td>0.0</td>\n",
       "      <td>0.0</td>\n",
       "      <td>0.0</td>\n",
       "      <td>0.0</td>\n",
       "      <td>0.0</td>\n",
       "      <td>...</td>\n",
       "      <td>0.0</td>\n",
       "      <td>0.0</td>\n",
       "      <td>0.0</td>\n",
       "      <td>0.0</td>\n",
       "      <td>0.0</td>\n",
       "      <td>0.0</td>\n",
       "      <td>0.0</td>\n",
       "      <td>0.0</td>\n",
       "      <td>0.0</td>\n",
       "      <td>0.0</td>\n",
       "    </tr>\n",
       "    <tr>\n",
       "      <th>PGT21_000003-T1</th>\n",
       "      <td>0.0</td>\n",
       "      <td>0.00000</td>\n",
       "      <td>0.0</td>\n",
       "      <td>0.0</td>\n",
       "      <td>0.0</td>\n",
       "      <td>0.0</td>\n",
       "      <td>0.0</td>\n",
       "      <td>0.0</td>\n",
       "      <td>0.0</td>\n",
       "      <td>0.0</td>\n",
       "      <td>...</td>\n",
       "      <td>0.0</td>\n",
       "      <td>0.0</td>\n",
       "      <td>0.0</td>\n",
       "      <td>0.0</td>\n",
       "      <td>0.0</td>\n",
       "      <td>0.0</td>\n",
       "      <td>0.0</td>\n",
       "      <td>0.0</td>\n",
       "      <td>0.0</td>\n",
       "      <td>0.0</td>\n",
       "    </tr>\n",
       "    <tr>\n",
       "      <th>PGT21_000004-T1</th>\n",
       "      <td>0.0</td>\n",
       "      <td>0.00000</td>\n",
       "      <td>0.0</td>\n",
       "      <td>0.0</td>\n",
       "      <td>0.0</td>\n",
       "      <td>0.0</td>\n",
       "      <td>0.0</td>\n",
       "      <td>0.0</td>\n",
       "      <td>0.0</td>\n",
       "      <td>0.0</td>\n",
       "      <td>...</td>\n",
       "      <td>0.0</td>\n",
       "      <td>0.0</td>\n",
       "      <td>0.0</td>\n",
       "      <td>0.0</td>\n",
       "      <td>0.0</td>\n",
       "      <td>0.0</td>\n",
       "      <td>0.0</td>\n",
       "      <td>0.0</td>\n",
       "      <td>0.0</td>\n",
       "      <td>0.0</td>\n",
       "    </tr>\n",
       "    <tr>\n",
       "      <th>PGT21_000005-T1</th>\n",
       "      <td>0.0</td>\n",
       "      <td>0.00000</td>\n",
       "      <td>0.0</td>\n",
       "      <td>0.0</td>\n",
       "      <td>0.0</td>\n",
       "      <td>0.0</td>\n",
       "      <td>0.0</td>\n",
       "      <td>0.0</td>\n",
       "      <td>0.0</td>\n",
       "      <td>0.0</td>\n",
       "      <td>...</td>\n",
       "      <td>0.0</td>\n",
       "      <td>0.0</td>\n",
       "      <td>0.0</td>\n",
       "      <td>0.0</td>\n",
       "      <td>0.0</td>\n",
       "      <td>0.0</td>\n",
       "      <td>0.0</td>\n",
       "      <td>0.0</td>\n",
       "      <td>0.0</td>\n",
       "      <td>0.0</td>\n",
       "    </tr>\n",
       "  </tbody>\n",
       "</table>\n",
       "<p>5 rows × 24 columns</p>\n",
       "</div>"
      ],
      "text/plain": [
       "                 HS_1     HS_2  HS_3  GS_1  GS_2  GS_3  dpi2_1  dpi2_2  \\\n",
       "PGT21_000001-T1   0.0  0.28926   0.0   0.0   0.0   0.0     0.0     0.0   \n",
       "PGT21_000002-T1   0.0  0.00000   0.0   0.0   0.0   0.0     0.0     0.0   \n",
       "PGT21_000003-T1   0.0  0.00000   0.0   0.0   0.0   0.0     0.0     0.0   \n",
       "PGT21_000004-T1   0.0  0.00000   0.0   0.0   0.0   0.0     0.0     0.0   \n",
       "PGT21_000005-T1   0.0  0.00000   0.0   0.0   0.0   0.0     0.0     0.0   \n",
       "\n",
       "                 dpi2_3  dpi3_1  ...  dpi4_3  dpi5_1  dpi5_2  dpi5_3  dpi6_1  \\\n",
       "PGT21_000001-T1     0.0     0.0  ...     0.0     0.0     0.0     0.0     0.0   \n",
       "PGT21_000002-T1     0.0     0.0  ...     0.0     0.0     0.0     0.0     0.0   \n",
       "PGT21_000003-T1     0.0     0.0  ...     0.0     0.0     0.0     0.0     0.0   \n",
       "PGT21_000004-T1     0.0     0.0  ...     0.0     0.0     0.0     0.0     0.0   \n",
       "PGT21_000005-T1     0.0     0.0  ...     0.0     0.0     0.0     0.0     0.0   \n",
       "\n",
       "                 dpi6_2  dpi6_3  dpi7_1  dpi7_2  dpi7_3  \n",
       "PGT21_000001-T1     0.0     0.0     0.0     0.0     0.0  \n",
       "PGT21_000002-T1     0.0     0.0     0.0     0.0     0.0  \n",
       "PGT21_000003-T1     0.0     0.0     0.0     0.0     0.0  \n",
       "PGT21_000004-T1     0.0     0.0     0.0     0.0     0.0  \n",
       "PGT21_000005-T1     0.0     0.0     0.0     0.0     0.0  \n",
       "\n",
       "[5 rows x 24 columns]"
      ]
     },
     "execution_count": 72,
     "metadata": {},
     "output_type": "execute_result"
    }
   ],
   "source": [
    "exp_df.head()"
   ]
  },
  {
   "cell_type": "code",
   "execution_count": 73,
   "metadata": {},
   "outputs": [],
   "source": [
    "drop_columns = exp_df.columns"
   ]
  },
  {
   "cell_type": "code",
   "execution_count": 74,
   "metadata": {},
   "outputs": [],
   "source": [
    "conditions = ['HS', 'GS', 'dpi2', 'dpi3', 'dpi4', 'dpi5', 'dpi6', 'dpi7' ]"
   ]
  },
  {
   "cell_type": "code",
   "execution_count": 75,
   "metadata": {},
   "outputs": [],
   "source": [
    "for cont in conditions:\n",
    "    tmp_col = [x for x in exp_df.columns if cont in x]\n",
    "    tmp_name = cont + '_mean'\n",
    "    exp_df[tmp_name]= exp_df.loc[:, tmp_col].mean(axis=1)"
   ]
  },
  {
   "cell_type": "code",
   "execution_count": 76,
   "metadata": {},
   "outputs": [],
   "source": [
    "for cont in conditions:\n",
    "    tmp_col = [x for x in exp_df.columns if cont in x]\n",
    "    tmp_name = cont + '_std'\n",
    "    exp_df[tmp_name]= exp_df.loc[:, tmp_col].std(axis=1)"
   ]
  },
  {
   "cell_type": "code",
   "execution_count": 77,
   "metadata": {},
   "outputs": [],
   "source": [
    "exp_df = exp_df.loc[:,[x for x in exp_df.columns if x not in drop_columns]]"
   ]
  },
  {
   "cell_type": "code",
   "execution_count": 78,
   "metadata": {},
   "outputs": [
    {
     "data": {
      "text/html": [
       "<div>\n",
       "<style scoped>\n",
       "    .dataframe tbody tr th:only-of-type {\n",
       "        vertical-align: middle;\n",
       "    }\n",
       "\n",
       "    .dataframe tbody tr th {\n",
       "        vertical-align: top;\n",
       "    }\n",
       "\n",
       "    .dataframe thead th {\n",
       "        text-align: right;\n",
       "    }\n",
       "</style>\n",
       "<table border=\"1\" class=\"dataframe\">\n",
       "  <thead>\n",
       "    <tr style=\"text-align: right;\">\n",
       "      <th></th>\n",
       "      <th>HS_mean</th>\n",
       "      <th>GS_mean</th>\n",
       "      <th>dpi2_mean</th>\n",
       "      <th>dpi3_mean</th>\n",
       "      <th>dpi4_mean</th>\n",
       "      <th>dpi5_mean</th>\n",
       "      <th>dpi6_mean</th>\n",
       "      <th>dpi7_mean</th>\n",
       "      <th>HS_std</th>\n",
       "      <th>GS_std</th>\n",
       "      <th>dpi2_std</th>\n",
       "      <th>dpi3_std</th>\n",
       "      <th>dpi4_std</th>\n",
       "      <th>dpi5_std</th>\n",
       "      <th>dpi6_std</th>\n",
       "      <th>dpi7_std</th>\n",
       "    </tr>\n",
       "  </thead>\n",
       "  <tbody>\n",
       "    <tr>\n",
       "      <th>PGT21_000001-T1</th>\n",
       "      <td>0.09642</td>\n",
       "      <td>0.0</td>\n",
       "      <td>0.0</td>\n",
       "      <td>0.0</td>\n",
       "      <td>0.0</td>\n",
       "      <td>0.0</td>\n",
       "      <td>0.0</td>\n",
       "      <td>0.0</td>\n",
       "      <td>0.136358</td>\n",
       "      <td>0.0</td>\n",
       "      <td>0.0</td>\n",
       "      <td>0.0</td>\n",
       "      <td>0.0</td>\n",
       "      <td>0.0</td>\n",
       "      <td>0.0</td>\n",
       "      <td>0.0</td>\n",
       "    </tr>\n",
       "    <tr>\n",
       "      <th>PGT21_000002-T1</th>\n",
       "      <td>0.00000</td>\n",
       "      <td>0.0</td>\n",
       "      <td>0.0</td>\n",
       "      <td>0.0</td>\n",
       "      <td>0.0</td>\n",
       "      <td>0.0</td>\n",
       "      <td>0.0</td>\n",
       "      <td>0.0</td>\n",
       "      <td>0.000000</td>\n",
       "      <td>0.0</td>\n",
       "      <td>0.0</td>\n",
       "      <td>0.0</td>\n",
       "      <td>0.0</td>\n",
       "      <td>0.0</td>\n",
       "      <td>0.0</td>\n",
       "      <td>0.0</td>\n",
       "    </tr>\n",
       "    <tr>\n",
       "      <th>PGT21_000003-T1</th>\n",
       "      <td>0.00000</td>\n",
       "      <td>0.0</td>\n",
       "      <td>0.0</td>\n",
       "      <td>0.0</td>\n",
       "      <td>0.0</td>\n",
       "      <td>0.0</td>\n",
       "      <td>0.0</td>\n",
       "      <td>0.0</td>\n",
       "      <td>0.000000</td>\n",
       "      <td>0.0</td>\n",
       "      <td>0.0</td>\n",
       "      <td>0.0</td>\n",
       "      <td>0.0</td>\n",
       "      <td>0.0</td>\n",
       "      <td>0.0</td>\n",
       "      <td>0.0</td>\n",
       "    </tr>\n",
       "    <tr>\n",
       "      <th>PGT21_000004-T1</th>\n",
       "      <td>0.00000</td>\n",
       "      <td>0.0</td>\n",
       "      <td>0.0</td>\n",
       "      <td>0.0</td>\n",
       "      <td>0.0</td>\n",
       "      <td>0.0</td>\n",
       "      <td>0.0</td>\n",
       "      <td>0.0</td>\n",
       "      <td>0.000000</td>\n",
       "      <td>0.0</td>\n",
       "      <td>0.0</td>\n",
       "      <td>0.0</td>\n",
       "      <td>0.0</td>\n",
       "      <td>0.0</td>\n",
       "      <td>0.0</td>\n",
       "      <td>0.0</td>\n",
       "    </tr>\n",
       "    <tr>\n",
       "      <th>PGT21_000005-T1</th>\n",
       "      <td>0.00000</td>\n",
       "      <td>0.0</td>\n",
       "      <td>0.0</td>\n",
       "      <td>0.0</td>\n",
       "      <td>0.0</td>\n",
       "      <td>0.0</td>\n",
       "      <td>0.0</td>\n",
       "      <td>0.0</td>\n",
       "      <td>0.000000</td>\n",
       "      <td>0.0</td>\n",
       "      <td>0.0</td>\n",
       "      <td>0.0</td>\n",
       "      <td>0.0</td>\n",
       "      <td>0.0</td>\n",
       "      <td>0.0</td>\n",
       "      <td>0.0</td>\n",
       "    </tr>\n",
       "  </tbody>\n",
       "</table>\n",
       "</div>"
      ],
      "text/plain": [
       "                 HS_mean  GS_mean  dpi2_mean  dpi3_mean  dpi4_mean  dpi5_mean  \\\n",
       "PGT21_000001-T1  0.09642      0.0        0.0        0.0        0.0        0.0   \n",
       "PGT21_000002-T1  0.00000      0.0        0.0        0.0        0.0        0.0   \n",
       "PGT21_000003-T1  0.00000      0.0        0.0        0.0        0.0        0.0   \n",
       "PGT21_000004-T1  0.00000      0.0        0.0        0.0        0.0        0.0   \n",
       "PGT21_000005-T1  0.00000      0.0        0.0        0.0        0.0        0.0   \n",
       "\n",
       "                 dpi6_mean  dpi7_mean    HS_std  GS_std  dpi2_std  dpi3_std  \\\n",
       "PGT21_000001-T1        0.0        0.0  0.136358     0.0       0.0       0.0   \n",
       "PGT21_000002-T1        0.0        0.0  0.000000     0.0       0.0       0.0   \n",
       "PGT21_000003-T1        0.0        0.0  0.000000     0.0       0.0       0.0   \n",
       "PGT21_000004-T1        0.0        0.0  0.000000     0.0       0.0       0.0   \n",
       "PGT21_000005-T1        0.0        0.0  0.000000     0.0       0.0       0.0   \n",
       "\n",
       "                 dpi4_std  dpi5_std  dpi6_std  dpi7_std  \n",
       "PGT21_000001-T1       0.0       0.0       0.0       0.0  \n",
       "PGT21_000002-T1       0.0       0.0       0.0       0.0  \n",
       "PGT21_000003-T1       0.0       0.0       0.0       0.0  \n",
       "PGT21_000004-T1       0.0       0.0       0.0       0.0  \n",
       "PGT21_000005-T1       0.0       0.0       0.0       0.0  "
      ]
     },
     "execution_count": 78,
     "metadata": {},
     "output_type": "execute_result"
    }
   ],
   "source": [
    "exp_df.head()"
   ]
  },
  {
   "cell_type": "markdown",
   "metadata": {},
   "source": [
    "### Check if differentially methylated genes are differentially methlated"
   ]
  },
  {
   "cell_type": "code",
   "execution_count": 80,
   "metadata": {},
   "outputs": [],
   "source": [
    "annotation_bed_dict = {}\n",
    "for key, value in annotation_dict.items():\n",
    "    annotation_bed_dict[key] = pybedtools.BedTool(value)"
   ]
  },
  {
   "cell_type": "code",
   "execution_count": 158,
   "metadata": {},
   "outputs": [],
   "source": [
    "meth_bed_dict = {}\n",
    "for key, value in meth_dict.items():\n",
    "    meth_bed_dict[key] = pybedtools.BedTool(value)"
   ]
  },
  {
   "cell_type": "code",
   "execution_count": 82,
   "metadata": {},
   "outputs": [
    {
     "data": {
      "text/plain": [
       "dict_keys(['differential_il_vs_gp.CpG.p0_05.CpG_agg', 'differential_il_vs_gp.CpG.p0_05.interval_1000_agg', 'germinated_spores.5mC.g05.tombo', 'germinated_spores.6mA.g05.tombo', 'germinated_spores.CpG.g2.CpG_agg', 'germinated_spores.CpG.g2.interval_1000_agg', 'infected_leaves.5mC.g05.tombo', 'infected_leaves.6mA.g05.tombo', 'infected_leaves.CpG.g2.CpG_agg', 'infected_leaves.CpG.g2.interval_1000_agg'])"
      ]
     },
     "execution_count": 82,
     "metadata": {},
     "output_type": "execute_result"
    }
   ],
   "source": [
    "meth_bed_dict.keys()"
   ]
  },
  {
   "cell_type": "code",
   "execution_count": 83,
   "metadata": {},
   "outputs": [
    {
     "data": {
      "text/plain": [
       "dict_keys(['genes', 'TE_family', 'TE_superfamily', 'gene_starts', 'promoters', 'start_sides', 'genes_close_to_TEs', 'genes_and_promoters'])"
      ]
     },
     "execution_count": 83,
     "metadata": {},
     "output_type": "execute_result"
    }
   ],
   "source": [
    "annotation_bed_dict.keys()"
   ]
  },
  {
   "cell_type": "code",
   "execution_count": 164,
   "metadata": {},
   "outputs": [
    {
     "name": "stderr",
     "output_type": "stream",
     "text": [
      "***** WARNING: File /home/jamila/jamila_Storage/analyses/methylation_analysis/bed_files/differential_il_vs_gp.CpG.p0_05.CpG_agg.sorted.bed has inconsistent naming convention for record:\n",
      "tig00000231\t1285\t1291\tdiff_CpG\t0.010122152163899435\t.\n",
      "\n",
      "***** WARNING: File /home/jamila/jamila_Storage/analyses/methylation_analysis/bed_files/differential_il_vs_gp.CpG.p0_05.CpG_agg.sorted.bed has inconsistent naming convention for record:\n",
      "tig00000231\t1285\t1291\tdiff_CpG\t0.010122152163899435\t.\n",
      "\n"
     ]
    }
   ],
   "source": [
    "###first with the CpG islands\n",
    "diff_meth_gene_CpG_agg = annotation_bed_dict['genes_and_promoters'].intersect(meth_bed_dict['differential_il_vs_gp.CpG.p0_05.CpG_agg']).to_dataframe()['name']"
   ]
  },
  {
   "cell_type": "code",
   "execution_count": 125,
   "metadata": {},
   "outputs": [],
   "source": [
    "id_pattern = re.compile(r'ID=([^;]*);')"
   ]
  },
  {
   "cell_type": "code",
   "execution_count": 126,
   "metadata": {},
   "outputs": [],
   "source": [
    "diff_meth_gene_CpG_agg = set([re.match(id_pattern, x)[1] for x in diff_meth_gene_CpG_agg])"
   ]
  },
  {
   "cell_type": "code",
   "execution_count": 127,
   "metadata": {},
   "outputs": [],
   "source": [
    "diff_exp_day7 = pd.read_csv(expression_dict['Diff_7dpi'], index_col=0)"
   ]
  },
  {
   "cell_type": "code",
   "execution_count": 129,
   "metadata": {},
   "outputs": [],
   "source": [
    "diff_expr_7 = set([x[:x.index('-')] for x in diff_exp_day7.index])"
   ]
  },
  {
   "cell_type": "code",
   "execution_count": 130,
   "metadata": {},
   "outputs": [],
   "source": [
    "diff_meth_and_diff_expr_7_CpG_agg = set([x[:x.index('-')] for x in diff_exp_day7.index if x[:x.index('-')] in diff_meth_gene_CpG_agg])"
   ]
  },
  {
   "cell_type": "code",
   "execution_count": 131,
   "metadata": {},
   "outputs": [
    {
     "data": {
      "text/plain": [
       "13278"
      ]
     },
     "execution_count": 131,
     "metadata": {},
     "output_type": "execute_result"
    }
   ],
   "source": [
    "###diff expressed\n",
    "len(diff_expr_7)"
   ]
  },
  {
   "cell_type": "code",
   "execution_count": 132,
   "metadata": {},
   "outputs": [
    {
     "data": {
      "text/plain": [
       "31"
      ]
     },
     "execution_count": 132,
     "metadata": {},
     "output_type": "execute_result"
    }
   ],
   "source": [
    "##both differentially expressed and methylated\n",
    "len(diff_meth_and_diff_expr_CpG_agg)"
   ]
  },
  {
   "cell_type": "code",
   "execution_count": 133,
   "metadata": {},
   "outputs": [
    {
     "data": {
      "text/plain": [
       "82"
      ]
     },
     "execution_count": 133,
     "metadata": {},
     "output_type": "execute_result"
    }
   ],
   "source": [
    "##both differentially methylated\n",
    "len(diff_meth_gene_CpG_agg)"
   ]
  },
  {
   "cell_type": "code",
   "execution_count": 146,
   "metadata": {},
   "outputs": [
    {
     "data": {
      "text/plain": [
       "<matplotlib.lines.Line2D at 0x7f0df17d62b0>"
      ]
     },
     "execution_count": 146,
     "metadata": {},
     "output_type": "execute_result"
    },
    {
     "data": {
      "image/png": "[encoded data removed]",
      "text/plain": [
       "<Figure size 360x360 with 1 Axes>"
      ]
     },
     "metadata": {
      "needs_background": "light"
     },
     "output_type": "display_data"
    }
   ],
   "source": [
    "##check what a random overlap would be.\n",
    "overlap_list = []\n",
    "for x in range(0,1000):\n",
    "    overlap_list.append(len(set(random.sample(diff_expr_7, len(diff_meth_gene_CpG_agg))).intersection(diff_meth_gene_CpG_agg)))\n",
    "fig, ax = plt.subplots(figsize=(5,5))\n",
    "ax.boxplot(overlap_list)\n",
    "ax.axhline(len(diff_meth_gene_CpG_agg))"
   ]
  },
  {
   "cell_type": "code",
   "execution_count": 156,
   "metadata": {},
   "outputs": [],
   "source": [
    "!head {meth_dict['differential_il_vs_gp.CpG.p0_05.interval_1000_agg']}"
   ]
  },
  {
   "cell_type": "code",
   "execution_count": 168,
   "metadata": {},
   "outputs": [
    {
     "name": "stderr",
     "output_type": "stream",
     "text": [
      "***** WARNING: File /home/jamila/jamila_Storage/analyses/methylation_analysis/bed_files/differential_il_vs_gp.CpG.p0_05.interval_1000_agg.sorted.bed has inconsistent naming convention for record:\n",
      "tig00000231\t1285\t1291\tdiff_CpG\t0.010122152163899435\t.\n",
      "\n",
      "***** WARNING: File /home/jamila/jamila_Storage/analyses/methylation_analysis/bed_files/differential_il_vs_gp.CpG.p0_05.interval_1000_agg.sorted.bed has inconsistent naming convention for record:\n",
      "tig00000231\t1285\t1291\tdiff_CpG\t0.010122152163899435\t.\n",
      "\n",
      "***** WARNING: File /home/jamila/jamila_Storage/analyses/methylation_analysis/bed_files/differential_il_vs_gp.CpG.p0_05.CpG_agg.sorted.bed has inconsistent naming convention for record:\n",
      "tig00000231\t1285\t1291\tdiff_CpG\t0.010122152163899435\t.\n",
      "\n",
      "***** WARNING: File /home/jamila/jamila_Storage/analyses/methylation_analysis/bed_files/differential_il_vs_gp.CpG.p0_05.CpG_agg.sorted.bed has inconsistent naming convention for record:\n",
      "tig00000231\t1285\t1291\tdiff_CpG\t0.010122152163899435\t.\n",
      "\n"
     ]
    }
   ],
   "source": [
    "###now with the 1000kb windows\n",
    "diff_meth_gene_window_agg = annotation_bed_dict['genes_and_promoters'].intersect(meth_bed_dict['differential_il_vs_gp.CpG.p0_05.interval_1000_agg']).to_dataframe()['name']\n",
    "###first with the CpG islands\n",
    "diff_meth_gene_CpG_agg = annotation_bed_dict['genes_and_promoters'].intersect(meth_bed_dict['differential_il_vs_gp.CpG.p0_05.CpG_agg']).to_dataframe()['name']"
   ]
  },
  {
   "cell_type": "code",
   "execution_count": 169,
   "metadata": {},
   "outputs": [
    {
     "data": {
      "text/plain": [
       "82"
      ]
     },
     "execution_count": 169,
     "metadata": {},
     "output_type": "execute_result"
    }
   ],
   "source": [
    "sum(diff_meth_gene_window_agg == diff_meth_gene_CpG_agg)"
   ]
  },
  {
   "cell_type": "markdown",
   "metadata": {},
   "source": [
    "### Conlusions\n",
    "Overall there are 82 differentially methylated genes. Of these 31 are differentially expressed at 7dpi. This is a significant overlap but the numbers are so small it is difficult to get any meaning. The low number of differentailly methylated windows might simply be because we have to little coverage at one stage and hence are lacking statistical power."
   ]
  },
  {
   "cell_type": "code",
   "execution_count": null,
   "metadata": {},
   "outputs": [],
   "source": []
  }
 ],
 "metadata": {
  "kernelspec": {
   "display_name": "pycoMeth",
   "language": "python",
   "name": "pycometh"
  },
  "language_info": {
   "codemirror_mode": {
    "name": "ipython",
    "version": 3
   },
   "file_extension": ".py",
   "mimetype": "text/x-python",
   "name": "python",
   "nbconvert_exporter": "python",
   "pygments_lexer": "ipython3",
   "version": "3.6.10"
  }
 },
 "nbformat": 4,
 "nbformat_minor": 4
}
