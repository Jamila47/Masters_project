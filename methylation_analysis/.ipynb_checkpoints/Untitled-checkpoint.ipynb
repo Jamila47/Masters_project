{
 "cells": [
  {
   "cell_type": "markdown",
   "metadata": {},
   "source": [
    "## Exploration of DNA methylation in Pgt in relation to gene expression and TEs"
   ]
  },
  {
   "cell_type": "markdown",
   "metadata": {},
   "source": [
    "### Input\n",
    "* 6mA methylation calls with tombo at frequency >= 0.5 in germinated spores and in infected leaves\n",
    "* 5mC methylation calls with tombo at frequency >= 0.5 in germinated spores and in infected leaves\n",
    "* CpG methylation calls with nanopolish and pycometh in germinated spores and in infected leaves and the comparison thereof\n",
    "* gene annotation\n",
    "* TE annotation\n",
    "* centromer annotation\n",
    "* expression at germinated spores, haustoria, 2-7 dpi\n",
    "* differential expression"
   ]
  },
  {
   "cell_type": "markdown",
   "metadata": {},
   "source": [
    "### Questions/hypothesis\n",
    "* 6mA is positively correlated with expression.\n",
    "* 5mC is negatively correlated with expression.\n",
    "* differentially methylated genes are differentially expressed.\n",
    "* Centromers and pericentromeric regions are hypermethylated.\n",
    "* There is a difference in methylation between genes and TEs for 5mC/CpG with TEs being more heavily methylated.\n",
    "* The difference in methylation between genes and TEs is less pronounces for 6mA"
   ]
  },
  {
   "cell_type": "markdown",
   "metadata": {},
   "source": [
    "### Usefull tools in bedtools for analysis\n",
    "* annotate potentially for multiple overlaps https://bedtools.readthedocs.io/en/latest/content/tools/annotate.html\n",
    "* closest https://bedtools.readthedocs.io/en/latest/content/tools/closest.html\n",
    "* cluster is a nice different way of merge without merging a bit of a grouping function https://bedtools.readthedocs.io/en/latest/content/tools/cluster.html\n",
    "* complement\n",
    "* coverage https://bedtools.readthedocs.io/en/latest/content/tools/coverage.html\n",
    "* expand (no explanation but could be good)\n",
    "* flank good for promoters and such https://bedtools.readthedocs.io/en/latest/content/tools/flank.html\n",
    "* fisher https://bedtools.readthedocs.io/en/latest/content/tools/fisher.html\n",
    "* genomecov for making bedgraphs and such\n",
    "* getfasta\n",
    "* groupby might be interesting to explore for quick summary similar to pandas groupby https://bedtools.readthedocs.io/en/latest/content/tools/groupby.html\n",
    "* igv\n",
    "* intersect https://bedtools.readthedocs.io/en/latest/content/tools/intersect.html\n",
    "* jaccard\n",
    "* makewindow\n",
    "* map https://bedtools.readthedocs.io/en/latest/content/tools/map.html\n",
    "* merge\n",
    "* multiinter\n",
    "* nuc https://bedtools.readthedocs.io/en/latest/content/tools/nuc.html\n",
    "* overlap overlap or distance between two features https://bedtools.readthedocs.io/en/latest/content/tools/overlap.html\n",
    "* random https://bedtools.readthedocs.io/en/latest/content/tools/random.html\n",
    "* reldist to check if features more related to one feature vs. another https://bedtools.readthedocs.io/en/latest/content/tools/reldist.html\n",
    "* shift does what it says https://bedtools.readthedocs.io/en/latest/content/tools/shift.html\n",
    "* shuffle does what it says https://bedtools.readthedocs.io/en/latest/content/tools/shuffle.html\n",
    "* slop is similar to flank but includes the initial sequence https://bedtools.readthedocs.io/en/latest/content/tools/slop.html\n",
    "* sort\n",
    "* substract none overlapping https://bedtools.readthedocs.io/en/latest/content/tools/subtract.html\n",
    "* window allows to fish out for near feature https://bedtools.readthedocs.io/en/latest/content/tools/window.html\n"
   ]
  },
  {
   "cell_type": "code",
   "execution_count": null,
   "metadata": {},
   "outputs": [],
   "source": []
  }
 ],
 "metadata": {
  "kernelspec": {
   "display_name": "pycoMeth",
   "language": "python",
   "name": "pycometh"
  },
  "language_info": {
   "codemirror_mode": {
    "name": "ipython",
    "version": 3
   },
   "file_extension": ".py",
   "mimetype": "text/x-python",
   "name": "python",
   "nbconvert_exporter": "python",
   "pygments_lexer": "ipython3",
   "version": "3.6.10"
  }
 },
 "nbformat": 4,
 "nbformat_minor": 4
}
