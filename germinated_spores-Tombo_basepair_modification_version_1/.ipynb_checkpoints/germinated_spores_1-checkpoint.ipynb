{
 "cells": [
  {
   "cell_type": "markdown",
   "metadata": {},
   "source": [
    "***this script will identify the modified bases in the sequences.\n",
    "*Input = fastq files , reference genome.fasta\n",
    "** define your directories\n"
   ]
  },
  {
   "cell_type": "code",
   "execution_count": null,
   "metadata": {},
   "outputs": [],
   "source": [
    "import os\n",
    "import wiggelen\n",
    "import pybedtools\n",
    "from pybedtools import BedTool\n",
    "from tombo import tombo_helper, tombo_stats, resquiggle\n"
   ]
  },
  {
   "cell_type": "code",
   "execution_count": null,
   "metadata": {},
   "outputs": [],
   "source": [
    "FAST5IN_DIR = '../../analyses/single_fast5s/germinated_spores/rep1/'\n",
    "GENOMEIN_DIR = '../../data/genomic_resources/'\n",
    "OUT_DIR = '../../analyses/methylation_calling/germinated_spores/'"
   ]
  },
  {
   "cell_type": "code",
   "execution_count": null,
   "metadata": {},
   "outputs": [],
   "source": [
    "##define your directories' pathway by giving them absoulte path.\n",
    "FAST5IN_DIR = os.path.abspath(FAST5IN_DIR)\n",
    "GENOMEIN_DIR =os.path.abspath(GENOMEIN_DIR)\n",
    "OUT_DIR =os.path.abspath(OUT_DIR)"
   ]
  },
  {
   "cell_type": "code",
   "execution_count": null,
   "metadata": {},
   "outputs": [],
   "source": [
    "###catch the genomic reference based on naming convention\n",
    "ingenome_fn = [os.path.join(GENOMEIN_DIR, x) for x in os.listdir(GENOME_DIR) if x.endswith ('.fasta')][0]"
   ]
  },
  {
   "cell_type": "code",
   "execution_count": null,
   "metadata": {},
   "outputs": [],
   "source": [
    "tombo resquiggle {FAST5IN_DIR} {GENOMEIN_DIR} --processes 4 --num-most-common-errors 5"
   ]
  },
  {
   "cell_type": "code",
   "execution_count": null,
   "metadata": {},
   "outputs": [],
   "source": [
    "tombo detect_modifications alternative_model --fast5-basedirs {FAST5IN_DIR} \\\n",
    "    --statistics-file-basename germinated_spores_rep1.stats \\\n",
    "    --alternate-bases 5mC 6mA --processes 4"
   ]
  },
  {
   "cell_type": "code",
   "execution_count": null,
   "metadata": {},
   "outputs": [],
   "source": [
    "tombo plot most_significant --fast5-basedirs {FAST5IN_DIR} \\\n",
    " --statistics-filename germinated_spores.5mC.tombo.stats \\\n",
    "    --plot-standard-model --plot-alternate-model 5mC \\\n",
    "    --pdf-filename germinated_spores_rep_1_most_significant_5mA_sites.pdf"
   ]
  }
 ],
 "metadata": {
  "kernelspec": {
   "display_name": "Python 3",
   "language": "python",
   "name": "python3"
  },
  "language_info": {
   "codemirror_mode": {
    "name": "ipython",
    "version": 3
   },
   "file_extension": ".py",
   "mimetype": "text/x-python",
   "name": "python",
   "nbconvert_exporter": "python",
   "pygments_lexer": "ipython3",
   "version": "3.7.4"
  }
 },
 "nbformat": 4,
 "nbformat_minor": 2
}
