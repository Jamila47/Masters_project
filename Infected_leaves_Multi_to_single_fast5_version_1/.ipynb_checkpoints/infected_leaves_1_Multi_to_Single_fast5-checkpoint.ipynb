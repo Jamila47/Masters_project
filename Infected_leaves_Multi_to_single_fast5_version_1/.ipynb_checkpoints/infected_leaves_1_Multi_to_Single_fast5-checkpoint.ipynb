{
 "cells": [
  {
   "cell_type": "markdown",
   "metadata": {},
   "source": [
    "***converting multi fast5 in mapped fastq to single fast5***\n",
    "\n",
    "Tasks we need to get:\n",
    "*Read ID of all mapped fastqs\n",
    "*extract them into batches \n",
    "*convert them into single fast5s\n",
    "\n",
    "***to perform the 1st task***\n",
    "your input = mapped bam file \n",
    "multifast5 of fastqs that mapped to the reference genome\n",
    "make sure to define the input directories before running the codes"
   ]
  },
  {
   "cell_type": "code",
   "execution_count": null,
   "metadata": {},
   "outputs": [],
   "source": [
    "import os"
   ]
  },
  {
   "cell_type": "code",
   "execution_count": null,
   "metadata": {},
   "outputs": [],
   "source": [
    "BAMIN_DIR ='../../analyses/mapping/infected_leaves/infected_leaves_1/'\n",
    "FAST5IN_DIR ='../../data/genomic_data/infected_leaves/workspace_fast5/infected_leaves_1_fast5_out/20191212_0621_MN21513_FAL38160_c1a4724f/fast5/'\n",
    "OUT_DIR = '../../analyses/single_fast5s/infected_leaves/infectedleaves_1/'"
   ]
  },
  {
   "cell_type": "markdown",
   "metadata": {},
   "source": [
    "***Define directories by giving them absolute path instead of typing the pathway over and over again***\n"
   ]
  },
  {
   "cell_type": "code",
   "execution_count": null,
   "metadata": {},
   "outputs": [],
   "source": [
    "BAMIN_DIR = os.path.abspath(BAMIN_DIR) "
   ]
  }
 ],
 "metadata": {
  "kernelspec": {
   "display_name": "Python 3",
   "language": "python",
   "name": "python3"
  },
  "language_info": {
   "codemirror_mode": {
    "name": "ipython",
    "version": 3
   },
   "file_extension": ".py",
   "mimetype": "text/x-python",
   "name": "python",
   "nbconvert_exporter": "python",
   "pygments_lexer": "ipython3",
   "version": "3.7.4"
  }
 },
 "nbformat": 4,
 "nbformat_minor": 2
}
