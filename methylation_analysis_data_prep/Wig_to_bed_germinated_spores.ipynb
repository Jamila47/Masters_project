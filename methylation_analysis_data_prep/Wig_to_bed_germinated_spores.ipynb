{
 "cells": [
  {
   "cell_type": "markdown",
   "metadata": {},
   "source": [
    "Convert TOMBO WIG files to bed files using bedtools"
   ]
  },
  {
   "cell_type": "code",
   "execution_count": null,
   "metadata": {},
   "outputs": [],
   "source": [
    "pip install wiggelen\n"
   ]
  },
  {
   "cell_type": "code",
   "execution_count": null,
   "metadata": {
    "scrolled": true
   },
   "outputs": [],
   "source": [
    "pip install pybedtools"
   ]
  },
  {
   "cell_type": "code",
   "execution_count": 1,
   "metadata": {},
   "outputs": [],
   "source": [
    "import os\n",
    "import wiggelen\n",
    "import pybedtools\n",
    "from pybedtools import BedTool\n",
    "import pandas as pd\n",
    "import subprocess"
   ]
  },
  {
   "cell_type": "code",
   "execution_count": 2,
   "metadata": {},
   "outputs": [],
   "source": [
    "##define functions\n",
    "def wig_to_bed(input_wig, out_bed):\n",
    "    \"Convert WIG files from tombo into BED files for BEDTOOL analysis\"\n",
    "    mod = os.path.basename(input_wig).split('.')[1]\n",
    "    if os.path.basename(input_wig).split('.')[-2] == 'plus':\n",
    "        strand = '+'\n",
    "    elif os.path.basename(input_wig).split('.')[-2] == 'minus':\n",
    "        strand = '-'\n",
    "    print('Writing file %s' % out_bed)\n",
    "    with open(input_wig) as wig_file:   \n",
    "        with open(out_bed, 'w') as bed_file:\n",
    "            for x in wiggelen.walk(wig_file):\n",
    "                    print('%s\\t%d\\t%d\\t%s\\t%s\\t%s' % (x[0], int(x[1])-1, x[1], mod, x[2], strand), file=bed_file)"
   ]
  },
  {
   "cell_type": "code",
   "execution_count": 3,
   "metadata": {},
   "outputs": [],
   "source": [
    "#combine bed files\n",
    "def combine_and_sort(in_fn_list, out_fn):\n",
    "    with open(out_fn, 'w') as out_fh:\n",
    "        for fn in in_fn_list:\n",
    "            with open(fn, 'r') as fh:\n",
    "                for line in fh:\n",
    "                    print(line.rstrip(), file=out_fh)\n",
    "    command = 'sort -o %s -k1,1 -k2,2n %s' % (out_fn , out_fn)\n",
    "    !{command}"
   ]
  },
  {
   "cell_type": "code",
   "execution_count": 4,
   "metadata": {},
   "outputs": [],
   "source": [
    "def bed_frac_cov_filter(in_fn, cutoff, genome_file_fn):\n",
    "    high_out_fn = in_fn.replace('.all.', '.g%s.' % str(cutoff).replace('.', '') )\n",
    "    low_out_fn = in_fn.replace('.all.', '.s%s.' % str(cutoff).replace('.', '') )\n",
    "    with open(in_fn, 'r') as in_fh:\n",
    "        with open(high_out_fn, 'w') as high_fh:\n",
    "            with open(low_out_fn, 'w') as low_fh:\n",
    "                for line in in_fh:\n",
    "                    line = line.rstrip()\n",
    "                    frac = float(line.split('\\t')[4])\n",
    "                    if frac >= cutoff:\n",
    "                        print(line, file= high_fh)\n",
    "                    elif frac < cutoff:\n",
    "                        print(line, file=low_fh)\n",
    "    #no_cov_fn = in_fn.replace('.all.', '.nocov.' )\n",
    "    #Bedtools(in_fn).merge().complement(g=genome_file_fn).saveas(no_cov_fn)\n",
    "    "
   ]
  },
  {
   "cell_type": "code",
   "execution_count": 5,
   "metadata": {},
   "outputs": [],
   "source": [
    "def bedgraph_to_bed(in_fn, out_fn):\n",
    "    if os.path.basename(in_fn).split('.')[-2] == 'minus':\n",
    "        strand = '-'\n",
    "    elif os.path.basename(in_fn).split('.')[-2] == 'plus':\n",
    "        strand = '+'\n",
    "    with open(in_fn) as in_fh:\n",
    "        with open(out_fn, 'w') as out_fh:\n",
    "            for line in in_fh:\n",
    "                line = line.rstrip()\n",
    "                \n",
    "                if not line.startswith('track'):\n",
    "                    \n",
    "                    values = line.split('\\t')\n",
    "                    if values[3] == '0':\n",
    "                        #print(line)\n",
    "                        print('%s\\t%s\\t%s\\t%s\\t%s\\t%s' % (values[0], values[1], values[2], 'novoc', '0', strand), file=out_fh) "
   ]
  },
  {
   "cell_type": "code",
   "execution_count": 6,
   "metadata": {},
   "outputs": [],
   "source": [
    "###Make sure you define your directories\n",
    "DIRS ={}\n",
    "DIRS['BASE'] = '../../analyses/methylation_calling/'\n",
    "DIRS['WIG_INPUT'] = os.path.join(DIRS['BASE'], 'germinated_spores')\n",
    "DIRS['BED_OUT'] = os.path.join(DIRS['BASE'], 'germinated_spores', 'bed_files')\n",
    "genome_file_fn = os.path.abspath('../../data/genomic_resources/Pgt_genome_size.txt')"
   ]
  },
  {
   "cell_type": "code",
   "execution_count": 8,
   "metadata": {},
   "outputs": [
    {
     "name": "stdout",
     "output_type": "stream",
     "text": [
      "../../analyses/methylation_calling/\n",
      "../../analyses/methylation_calling/germinated_spores\n",
      "../../analyses/methylation_calling/germinated_spores/bed_files\n"
     ]
    }
   ],
   "source": [
    "for value in DIRS.values():\n",
    "    if not os.path.exists(value):\n",
    "        print('%s does not exist' % value)\n",
    "        os.makedirs(value)\n",
    "    else:\n",
    "        print(value)"
   ]
  },
  {
   "cell_type": "code",
   "execution_count": 9,
   "metadata": {},
   "outputs": [],
   "source": [
    "#Wig files from tombo\n",
    "\n",
    "m5c_plus_fh = os.path.abspath(os.path.join(DIRS['WIG_INPUT'], 'germinated_spores.5mC.dampened_fraction_modified_reads.plus.wig'))\n",
    "m5c_minus_fh = os.path.abspath(os.path.join(DIRS['WIG_INPUT'], 'germinated_spores.5mC.dampened_fraction_modified_reads.minus.wig'))\n",
    "m6a_plus_fh = os.path.abspath(os.path.join(DIRS['WIG_INPUT'], 'germinated_spores.6mA.dampened_fraction_modified_reads.plus.wig'))\n",
    "m6a_minus_fh = os.path.abspath(os.path.join(DIRS['WIG_INPUT'], 'germinated_spores.6mA.dampened_fraction_modified_reads.minus.wig'))\n",
    "\n",
    "bedgraph_minus_fh = os.path.abspath(os.path.join(os.path.join(DIRS['WIG_INPUT'], 'germinated_spores.coverage.minus.bedgraph')))\n",
    "bedgraph_plus_fh = os.path.abspath(os.path.join(os.path.join(DIRS['WIG_INPUT'], 'germinated_spores.coverage.plus.bedgraph')))\n",
    "\n",
    "\n",
    "#Make a directory of wig file handles for easy use in the function\n",
    "wig_fh_list = [m5c_plus_fh, m5c_minus_fh, m6a_plus_fh, m6a_minus_fh]                          \n",
    "                            \n",
    "                            \n",
    "#Set file handles for BED output files generated from tombo WIG files\n",
    "m5c_plus = os.path.abspath(os.path.join(DIRS['BED_OUT'], 'germinated_spores.5mC.plus.tombo.bed'))\n",
    "m5c_minus = os.path.abspath(os.path.join(DIRS['BED_OUT'], 'germinated_spores.5mC.minus.tombo.bed'))\n",
    "m6a_plus = os.path.abspath(os.path.join(DIRS['BED_OUT'], 'germinated_spores.6mA.plus.tombo.bed'))\n",
    "m6a_minus = os.path.abspath(os.path.join(DIRS['BED_OUT'], 'germinated_spores.6mA.minus.tombo.bed'))        \n",
    "\n",
    "no_cov_plus = os.path.abspath(os.path.join(DIRS['BED_OUT'], 'germinated_spores.nocov.plus.bed'))\n",
    "no_cov_minus = os.path.abspath(os.path.join(DIRS['BED_OUT'], 'germinated_spores.nocov.minus.bed'))\n",
    "                                   \n",
    "bed_fh_list = [m5c_plus, m5c_minus, m6a_plus, m6a_minus] \n",
    "                            \n",
    "                            "
   ]
  },
  {
   "cell_type": "code",
   "execution_count": 10,
   "metadata": {},
   "outputs": [
    {
     "name": "stdout",
     "output_type": "stream",
     "text": [
      "['/home/jamila/jamila_Storage/analyses/methylation_calling/germinated_spores/germinated_spores.5mC.dampened_fraction_modified_reads.plus.wig', '/home/jamila/jamila_Storage/analyses/methylation_calling/germinated_spores/germinated_spores.5mC.dampened_fraction_modified_reads.minus.wig', '/home/jamila/jamila_Storage/analyses/methylation_calling/germinated_spores/germinated_spores.6mA.dampened_fraction_modified_reads.plus.wig', '/home/jamila/jamila_Storage/analyses/methylation_calling/germinated_spores/germinated_spores.6mA.dampened_fraction_modified_reads.minus.wig']\n"
     ]
    }
   ],
   "source": [
    "#Check if this list works\n",
    "print(wig_fh_list)"
   ]
  },
  {
   "cell_type": "code",
   "execution_count": 11,
   "metadata": {},
   "outputs": [
    {
     "name": "stdout",
     "output_type": "stream",
     "text": [
      "/home/jamila/jamila_Storage/analyses/methylation_calling/germinated_spores/germinated_spores.5mC.dampened_fraction_modified_reads.plus.wig /home/jamila/jamila_Storage/analyses/methylation_calling/germinated_spores/bed_files/germinated_spores.5mC.plus.tombo.bed\n",
      "Writing file /home/jamila/jamila_Storage/analyses/methylation_calling/germinated_spores/bed_files/germinated_spores.5mC.plus.tombo.bed\n",
      "/home/jamila/jamila_Storage/analyses/methylation_calling/germinated_spores/germinated_spores.5mC.dampened_fraction_modified_reads.minus.wig /home/jamila/jamila_Storage/analyses/methylation_calling/germinated_spores/bed_files/germinated_spores.5mC.minus.tombo.bed\n",
      "Writing file /home/jamila/jamila_Storage/analyses/methylation_calling/germinated_spores/bed_files/germinated_spores.5mC.minus.tombo.bed\n",
      "/home/jamila/jamila_Storage/analyses/methylation_calling/germinated_spores/germinated_spores.6mA.dampened_fraction_modified_reads.plus.wig /home/jamila/jamila_Storage/analyses/methylation_calling/germinated_spores/bed_files/germinated_spores.6mA.plus.tombo.bed\n",
      "Writing file /home/jamila/jamila_Storage/analyses/methylation_calling/germinated_spores/bed_files/germinated_spores.6mA.plus.tombo.bed\n",
      "/home/jamila/jamila_Storage/analyses/methylation_calling/germinated_spores/germinated_spores.6mA.dampened_fraction_modified_reads.minus.wig /home/jamila/jamila_Storage/analyses/methylation_calling/germinated_spores/bed_files/germinated_spores.6mA.minus.tombo.bed\n",
      "Writing file /home/jamila/jamila_Storage/analyses/methylation_calling/germinated_spores/bed_files/germinated_spores.6mA.minus.tombo.bed\n"
     ]
    }
   ],
   "source": [
    "#convert all files to bed format\n",
    "for in_fh, out_fh in zip(wig_fh_list, bed_fh_list):\n",
    "    print(in_fh, out_fh)\n",
    "    wig_to_bed(in_fh, out_fh)"
   ]
  },
  {
   "cell_type": "code",
   "execution_count": 12,
   "metadata": {},
   "outputs": [],
   "source": [
    "m5c_all = m5c_plus.replace('.plus.', '.all.')\n",
    "combine_and_sort([m5c_plus, m5c_minus], m5c_all)\n",
    "m6a_all = m6a_plus.replace('.plus.', '.all.')\n",
    "combine_and_sort([m6a_plus, m6a_minus], m6a_all)"
   ]
  },
  {
   "cell_type": "code",
   "execution_count": 13,
   "metadata": {},
   "outputs": [],
   "source": [
    "bed_frac_cov_filter(m5c_all, 0.3, genome_file_fn)\n",
    "bed_frac_cov_filter(m6a_all, 0.3, genome_file_fn)"
   ]
  },
  {
   "cell_type": "code",
   "execution_count": 14,
   "metadata": {},
   "outputs": [],
   "source": [
    "bedgraph_to_bed(bedgraph_plus_fh, no_cov_plus)\n",
    "bedgraph_to_bed(bedgraph_minus_fh, no_cov_minus)"
   ]
  },
  {
   "cell_type": "code",
   "execution_count": 15,
   "metadata": {},
   "outputs": [
    {
     "name": "stdout",
     "output_type": "stream",
     "text": [
      "tig00001174\t0\t2\tnovoc\t0\t+\n",
      "chr8A\t0\t414\tnovoc\t0\t+\n",
      "chr8A\t370570\t370802\tnovoc\t0\t+\n",
      "chr8A\t737711\t740163\tnovoc\t0\t+\n",
      "chr8A\t2652627\t2654918\tnovoc\t0\t+\n",
      "chr8A\t2845639\t2846955\tnovoc\t0\t+\n",
      "chr8A\t3486207\t3488740\tnovoc\t0\t+\n",
      "chr8A\t4190986\t4195605\tnovoc\t0\t+\n",
      "chr8A\t4686480\t4686827\tnovoc\t0\t+\n",
      "tig00001154\t0\t2\tnovoc\t0\t+\n"
     ]
    }
   ],
   "source": [
    "!head {no_cov_plus}"
   ]
  },
  {
   "cell_type": "code",
   "execution_count": 16,
   "metadata": {},
   "outputs": [],
   "source": [
    "nocov_all = no_cov_plus.replace('.plus.', '.all.')"
   ]
  },
  {
   "cell_type": "code",
   "execution_count": 17,
   "metadata": {},
   "outputs": [],
   "source": [
    "combine_and_sort([no_cov_plus, no_cov_minus], nocov_all)"
   ]
  },
  {
   "cell_type": "code",
   "execution_count": 18,
   "metadata": {},
   "outputs": [],
   "source": [
    "bed_frac_cov_filter(m5c_all, 0.5, genome_file_fn)\n",
    "bed_frac_cov_filter(m6a_all, 0.5, genome_file_fn)"
   ]
  },
  {
   "cell_type": "code",
   "execution_count": null,
   "metadata": {},
   "outputs": [],
   "source": []
  }
 ],
 "metadata": {
  "kernelspec": {
   "display_name": "Python 3",
   "language": "python",
   "name": "python3"
  },
  "language_info": {
   "codemirror_mode": {
    "name": "ipython",
    "version": 3
   },
   "file_extension": ".py",
   "mimetype": "text/x-python",
   "name": "python",
   "nbconvert_exporter": "python",
   "pygments_lexer": "ipython3",
   "version": "3.6.10"
  }
 },
 "nbformat": 4,
 "nbformat_minor": 4
}
