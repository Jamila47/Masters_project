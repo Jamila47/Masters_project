{
 "cells": [
  {
   "cell_type": "markdown",
   "metadata": {},
   "source": [
    "We need to get from mapped bam file to single fast5s:\n",
    "\n",
    "Input is:\n",
    "* mapped bam file.\n",
    "* multifast5 of fastqs mapped to the reference\n",
    "\n",
    "Output:\n",
    "* folder with single fast5s that are mapped\n",
    "\n",
    "What we need to do:\n",
    "* get ID of all mapped fastqs\n",
    "* extract them in batches\n",
    "* make them single fast5s"
   ]
  },
  {
   "cell_type": "code",
   "execution_count": 1,
   "metadata": {},
   "outputs": [],
   "source": [
    "import os"
   ]
  },
  {
   "cell_type": "markdown",
   "metadata": {},
   "source": [
    "### INPUTS"
   ]
  },
  {
   "cell_type": "markdown",
   "metadata": {},
   "source": [
    "### *****Define directories before running on different sampes*****"
   ]
  },
  {
   "cell_type": "code",
   "execution_count": 2,
   "metadata": {},
   "outputs": [],
   "source": [
    "###define input directories here \n",
    "BAMIN_DIR = '../../analyses/mapping/infected_leaves/infected_leaves_3/'\n",
    "FAST5IN_DIR = '../../data/genomic_data/infected_leaves/workspace_fast5/infected_leaves_3_fast5_out/'\n",
    "OUT_DIR = '../../analyses/single_fast5s/infected_leaves/infected_leaves_3_mapped_single_fast5/'\n"
   ]
  },
  {
   "cell_type": "markdown",
   "metadata": {},
   "source": [
    "### *****Define directories before running on different sampes*****"
   ]
  },
  {
   "cell_type": "code",
   "execution_count": 3,
   "metadata": {},
   "outputs": [],
   "source": [
    "BAMIN_DIR = os.path.abspath(BAMIN_DIR)\n",
    "FAST5IN_DIR = os.path.abspath(FAST5IN_DIR)\n",
    "OUT_DIR = os.path.abspath(OUT_DIR)"
   ]
  },
  {
   "cell_type": "code",
   "execution_count": 4,
   "metadata": {},
   "outputs": [],
   "source": [
    "##catch the bam based on naming convention\n",
    "inbam_fn = [os.path.join(BAMIN_DIR, x) for x in os.listdir(BAMIN_DIR) if x.endswith('sorted.bam')][0]"
   ]
  },
  {
   "cell_type": "code",
   "execution_count": 5,
   "metadata": {},
   "outputs": [],
   "source": [
    "##generated the read ID list\n",
    "mappedids_fn = inbam_fn.replace('.bam', '.mappedids.txt')\n",
    "#!samtools  view -F 4  {inbam_fn} | cut -f 1 | sort | uniq > {mappedids_fn}"
   ]
  },
  {
   "cell_type": "code",
   "execution_count": 6,
   "metadata": {},
   "outputs": [
    {
     "name": "stdout",
     "output_type": "stream",
     "text": [
      "00002a25-e616-429e-ab4f-b9f18e222dea\r\n",
      "0000ac65-2942-4a3f-94c0-d1d784d0de1a\r\n",
      "0000c55c-ea37-48e2-8bb0-84472ea6446d\r\n",
      "0000d5dd-cd6c-4941-9928-865eac457b98\r\n",
      "00017ecf-bb06-4bbd-81ea-4826683a64f0\r\n",
      "00018e95-35cf-4f6e-9193-07962768a6a5\r\n",
      "0001dbb8-3b02-49d2-b88b-0df1293088d7\r\n",
      "0001de9a-5c62-4f31-b0ba-da3c7e5d266b\r\n",
      "0002328a-d643-4563-b624-da289675b07a\r\n",
      "0002dcae-475d-46a6-b8be-b79010ec5f4b\r\n"
     ]
    }
   ],
   "source": [
    "!head {mappedids_fn}"
   ]
  },
  {
   "cell_type": "code",
   "execution_count": 7,
   "metadata": {
    "scrolled": true
   },
   "outputs": [],
   "source": [
    "### generate a temporary folder that holds the batch fast5s\n",
    "TMPOUT_DIR = os.path.join(OUT_DIR, 'tmp')\n",
    "if not os.path.exists(TMPOUT_DIR):\n",
    "    os.makedirs(TMPOUT_DIR)"
   ]
  },
  {
   "cell_type": "code",
   "execution_count": 8,
   "metadata": {},
   "outputs": [],
   "source": [
    "#read in the mapped reads ids\n",
    "mapped_reads = []\n",
    "with open(mappedids_fn) as fh:\n",
    "    for line in fh:\n",
    "        mapped_reads.append(line.rstrip())"
   ]
  },
  {
   "cell_type": "code",
   "execution_count": 9,
   "metadata": {},
   "outputs": [],
   "source": [
    "mapped_reads = set(mapped_reads)"
   ]
  },
  {
   "cell_type": "code",
   "execution_count": 10,
   "metadata": {},
   "outputs": [
    {
     "name": "stdout",
     "output_type": "stream",
     "text": [
      "^C25 of 1942|                                         |  1% ETA:  1 day, 4:27:17\n",
      "Traceback (most recent call last):\n",
      "  File \"/home/jamila/anaconda3/bin/multi_to_single_fast5\", line 10, in <module>\n",
      "    sys.exit(main())\n",
      "  File \"/home/jamila/anaconda3/lib/python3.7/site-packages/ont_fast5_api/conversion_tools/multi_to_single_fast5.py\", line 104, in main\n",
      "    args.recursive, follow_symlinks=not args.ignore_symlinks)\n",
      "  File \"/home/jamila/anaconda3/lib/python3.7/site-packages/ont_fast5_api/conversion_tools/multi_to_single_fast5.py\", line 40, in batch_convert_multi_files_to_single\n",
      "    pool.join()\n",
      "  File \"/home/jamila/anaconda3/lib/python3.7/multiprocessing/pool.py\", line 556, in join\n",
      "    self._worker_handler.join()\n",
      "  File \"/home/jamila/anaconda3/lib/python3.7/threading.py\", line 1044, in join\n",
      "    self._wait_for_tstate_lock()\n",
      "  File \"/home/jamila/anaconda3/lib/python3.7/threading.py\", line 1060, in _wait_for_tstate_lock\n",
      "    elif lock.acquire(block, timeout):\n",
      "KeyboardInterrupt\n"
     ]
    }
   ],
   "source": [
    "###go from multies fast5 of mapped reads to single fast5s\n",
    "!multi_to_single_fast5 -i {FAST5IN_DIR} -s {TMPOUT_DIR} -t 10 --recursive\n",
    "!touch {OUT_DIR}/single_fast5.done"
   ]
  },
  {
   "cell_type": "code",
   "execution_count": 68,
   "metadata": {},
   "outputs": [
    {
     "name": "stdout",
     "output_type": "stream",
     "text": [
      "/home/jamila/jamila_Storage/analyses/single_fast5s/germinated_spores/rep1/tmp/20\n",
      "0\n",
      "/home/jamila/jamila_Storage/analyses/single_fast5s/germinated_spores/rep1/tmp/6\n",
      "0\n",
      "/home/jamila/jamila_Storage/analyses/single_fast5s/germinated_spores/rep1/tmp/36\n",
      "0\n",
      "/home/jamila/jamila_Storage/analyses/single_fast5s/germinated_spores/rep1/tmp/61\n",
      "0\n",
      "/home/jamila/jamila_Storage/analyses/single_fast5s/germinated_spores/rep1/tmp/38\n",
      "0\n",
      "/home/jamila/jamila_Storage/analyses/single_fast5s/germinated_spores/rep1/tmp/90\n",
      "0\n",
      "/home/jamila/jamila_Storage/analyses/single_fast5s/germinated_spores/rep1/tmp/10\n",
      "0\n",
      "/home/jamila/jamila_Storage/analyses/single_fast5s/germinated_spores/rep1/tmp/37\n",
      "0\n",
      "/home/jamila/jamila_Storage/analyses/single_fast5s/germinated_spores/rep1/tmp/79\n",
      "0\n",
      "/home/jamila/jamila_Storage/analyses/single_fast5s/germinated_spores/rep1/tmp/83\n",
      "0\n",
      "/home/jamila/jamila_Storage/analyses/single_fast5s/germinated_spores/rep1/tmp/78\n",
      "0\n",
      "/home/jamila/jamila_Storage/analyses/single_fast5s/germinated_spores/rep1/tmp/45\n",
      "0\n",
      "/home/jamila/jamila_Storage/analyses/single_fast5s/germinated_spores/rep1/tmp/80\n",
      "0\n",
      "/home/jamila/jamila_Storage/analyses/single_fast5s/germinated_spores/rep1/tmp/1\n",
      "0\n",
      "/home/jamila/jamila_Storage/analyses/single_fast5s/germinated_spores/rep1/tmp/62\n",
      "0\n",
      "/home/jamila/jamila_Storage/analyses/single_fast5s/germinated_spores/rep1/tmp/67\n",
      "0\n",
      "/home/jamila/jamila_Storage/analyses/single_fast5s/germinated_spores/rep1/tmp/54\n",
      "0\n",
      "/home/jamila/jamila_Storage/analyses/single_fast5s/germinated_spores/rep1/tmp/27\n",
      "0\n",
      "/home/jamila/jamila_Storage/analyses/single_fast5s/germinated_spores/rep1/tmp/43\n",
      "0\n",
      "/home/jamila/jamila_Storage/analyses/single_fast5s/germinated_spores/rep1/tmp/72\n",
      "0\n",
      "/home/jamila/jamila_Storage/analyses/single_fast5s/germinated_spores/rep1/tmp/58\n",
      "0\n",
      "/home/jamila/jamila_Storage/analyses/single_fast5s/germinated_spores/rep1/tmp/84\n",
      "0\n",
      "/home/jamila/jamila_Storage/analyses/single_fast5s/germinated_spores/rep1/tmp/13\n",
      "0\n",
      "/home/jamila/jamila_Storage/analyses/single_fast5s/germinated_spores/rep1/tmp/7\n",
      "0\n",
      "/home/jamila/jamila_Storage/analyses/single_fast5s/germinated_spores/rep1/tmp/21\n",
      "0\n",
      "/home/jamila/jamila_Storage/analyses/single_fast5s/germinated_spores/rep1/tmp/82\n",
      "0\n",
      "/home/jamila/jamila_Storage/analyses/single_fast5s/germinated_spores/rep1/tmp/15\n",
      "0\n",
      "/home/jamila/jamila_Storage/analyses/single_fast5s/germinated_spores/rep1/tmp/39\n",
      "0\n",
      "/home/jamila/jamila_Storage/analyses/single_fast5s/germinated_spores/rep1/tmp/65\n",
      "0\n",
      "/home/jamila/jamila_Storage/analyses/single_fast5s/germinated_spores/rep1/tmp/34\n",
      "0\n",
      "/home/jamila/jamila_Storage/analyses/single_fast5s/germinated_spores/rep1/tmp/47\n",
      "0\n",
      "/home/jamila/jamila_Storage/analyses/single_fast5s/germinated_spores/rep1/tmp/5\n",
      "0\n",
      "/home/jamila/jamila_Storage/analyses/single_fast5s/germinated_spores/rep1/tmp/30\n",
      "0\n",
      "/home/jamila/jamila_Storage/analyses/single_fast5s/germinated_spores/rep1/tmp/76\n",
      "0\n",
      "/home/jamila/jamila_Storage/analyses/single_fast5s/germinated_spores/rep1/tmp/25\n",
      "0\n",
      "/home/jamila/jamila_Storage/analyses/single_fast5s/germinated_spores/rep1/tmp/24\n",
      "0\n",
      "/home/jamila/jamila_Storage/analyses/single_fast5s/germinated_spores/rep1/tmp/17\n",
      "0\n",
      "/home/jamila/jamila_Storage/analyses/single_fast5s/germinated_spores/rep1/tmp/85\n",
      "0\n",
      "/home/jamila/jamila_Storage/analyses/single_fast5s/germinated_spores/rep1/tmp/63\n",
      "0\n",
      "/home/jamila/jamila_Storage/analyses/single_fast5s/germinated_spores/rep1/tmp/29\n",
      "0\n",
      "/home/jamila/jamila_Storage/analyses/single_fast5s/germinated_spores/rep1/tmp/51\n",
      "0\n",
      "/home/jamila/jamila_Storage/analyses/single_fast5s/germinated_spores/rep1/tmp/31\n",
      "0\n",
      "/home/jamila/jamila_Storage/analyses/single_fast5s/germinated_spores/rep1/tmp/68\n",
      "0\n",
      "/home/jamila/jamila_Storage/analyses/single_fast5s/germinated_spores/rep1/tmp/60\n",
      "0\n",
      "/home/jamila/jamila_Storage/analyses/single_fast5s/germinated_spores/rep1/tmp/70\n",
      "0\n",
      "/home/jamila/jamila_Storage/analyses/single_fast5s/germinated_spores/rep1/tmp/16\n",
      "0\n",
      "/home/jamila/jamila_Storage/analyses/single_fast5s/germinated_spores/rep1/tmp/28\n",
      "0\n",
      "/home/jamila/jamila_Storage/analyses/single_fast5s/germinated_spores/rep1/tmp/86\n",
      "0\n",
      "/home/jamila/jamila_Storage/analyses/single_fast5s/germinated_spores/rep1/tmp/33\n",
      "0\n",
      "/home/jamila/jamila_Storage/analyses/single_fast5s/germinated_spores/rep1/tmp/0\n",
      "0\n",
      "/home/jamila/jamila_Storage/analyses/single_fast5s/germinated_spores/rep1/tmp/52\n",
      "0\n",
      "/home/jamila/jamila_Storage/analyses/single_fast5s/germinated_spores/rep1/tmp/14\n",
      "0\n",
      "/home/jamila/jamila_Storage/analyses/single_fast5s/germinated_spores/rep1/tmp/40\n",
      "0\n",
      "/home/jamila/jamila_Storage/analyses/single_fast5s/germinated_spores/rep1/tmp/23\n",
      "0\n",
      "/home/jamila/jamila_Storage/analyses/single_fast5s/germinated_spores/rep1/tmp/9\n",
      "0\n",
      "/home/jamila/jamila_Storage/analyses/single_fast5s/germinated_spores/rep1/tmp/55\n",
      "0\n",
      "/home/jamila/jamila_Storage/analyses/single_fast5s/germinated_spores/rep1/tmp/87\n",
      "0\n",
      "/home/jamila/jamila_Storage/analyses/single_fast5s/germinated_spores/rep1/tmp/75\n",
      "0\n",
      "/home/jamila/jamila_Storage/analyses/single_fast5s/germinated_spores/rep1/tmp/57\n",
      "0\n",
      "/home/jamila/jamila_Storage/analyses/single_fast5s/germinated_spores/rep1/tmp/49\n",
      "0\n",
      "/home/jamila/jamila_Storage/analyses/single_fast5s/germinated_spores/rep1/tmp/89\n",
      "0\n",
      "/home/jamila/jamila_Storage/analyses/single_fast5s/germinated_spores/rep1/tmp/44\n",
      "0\n",
      "/home/jamila/jamila_Storage/analyses/single_fast5s/germinated_spores/rep1/tmp/19\n",
      "0\n",
      "/home/jamila/jamila_Storage/analyses/single_fast5s/germinated_spores/rep1/tmp/64\n",
      "0\n",
      "/home/jamila/jamila_Storage/analyses/single_fast5s/germinated_spores/rep1/tmp/94\n",
      "0\n",
      "/home/jamila/jamila_Storage/analyses/single_fast5s/germinated_spores/rep1/tmp/59\n",
      "0\n",
      "/home/jamila/jamila_Storage/analyses/single_fast5s/germinated_spores/rep1/tmp/53\n",
      "0\n",
      "/home/jamila/jamila_Storage/analyses/single_fast5s/germinated_spores/rep1/tmp/71\n",
      "0\n",
      "/home/jamila/jamila_Storage/analyses/single_fast5s/germinated_spores/rep1/tmp/50\n",
      "0\n",
      "/home/jamila/jamila_Storage/analyses/single_fast5s/germinated_spores/rep1/tmp/92\n",
      "0\n",
      "/home/jamila/jamila_Storage/analyses/single_fast5s/germinated_spores/rep1/tmp/11\n",
      "0\n",
      "/home/jamila/jamila_Storage/analyses/single_fast5s/germinated_spores/rep1/tmp/35\n",
      "0\n",
      "/home/jamila/jamila_Storage/analyses/single_fast5s/germinated_spores/rep1/tmp/4\n",
      "0\n",
      "/home/jamila/jamila_Storage/analyses/single_fast5s/germinated_spores/rep1/tmp/48\n",
      "0\n",
      "/home/jamila/jamila_Storage/analyses/single_fast5s/germinated_spores/rep1/tmp/93\n",
      "0\n",
      "/home/jamila/jamila_Storage/analyses/single_fast5s/germinated_spores/rep1/tmp/77\n",
      "0\n",
      "/home/jamila/jamila_Storage/analyses/single_fast5s/germinated_spores/rep1/tmp/12\n",
      "0\n",
      "/home/jamila/jamila_Storage/analyses/single_fast5s/germinated_spores/rep1/tmp/73\n",
      "0\n",
      "/home/jamila/jamila_Storage/analyses/single_fast5s/germinated_spores/rep1/tmp/18\n",
      "0\n",
      "/home/jamila/jamila_Storage/analyses/single_fast5s/germinated_spores/rep1/tmp/66\n",
      "0\n",
      "/home/jamila/jamila_Storage/analyses/single_fast5s/germinated_spores/rep1/tmp/22\n",
      "0\n",
      "/home/jamila/jamila_Storage/analyses/single_fast5s/germinated_spores/rep1/tmp/46\n",
      "0\n",
      "/home/jamila/jamila_Storage/analyses/single_fast5s/germinated_spores/rep1/tmp/91\n",
      "0\n",
      "/home/jamila/jamila_Storage/analyses/single_fast5s/germinated_spores/rep1/tmp/41\n",
      "0\n",
      "/home/jamila/jamila_Storage/analyses/single_fast5s/germinated_spores/rep1/tmp/42\n",
      "0\n",
      "/home/jamila/jamila_Storage/analyses/single_fast5s/germinated_spores/rep1/tmp/88\n",
      "0\n",
      "/home/jamila/jamila_Storage/analyses/single_fast5s/germinated_spores/rep1/tmp/8\n",
      "0\n",
      "/home/jamila/jamila_Storage/analyses/single_fast5s/germinated_spores/rep1/tmp/69\n",
      "0\n",
      "/home/jamila/jamila_Storage/analyses/single_fast5s/germinated_spores/rep1/tmp/3\n",
      "0\n",
      "/home/jamila/jamila_Storage/analyses/single_fast5s/germinated_spores/rep1/tmp/32\n",
      "0\n",
      "/home/jamila/jamila_Storage/analyses/single_fast5s/germinated_spores/rep1/tmp/2\n",
      "0\n",
      "/home/jamila/jamila_Storage/analyses/single_fast5s/germinated_spores/rep1/tmp/26\n",
      "0\n",
      "/home/jamila/jamila_Storage/analyses/single_fast5s/germinated_spores/rep1/tmp/81\n",
      "0\n",
      "/home/jamila/jamila_Storage/analyses/single_fast5s/germinated_spores/rep1/tmp/56\n",
      "0\n",
      "/home/jamila/jamila_Storage/analyses/single_fast5s/germinated_spores/rep1/tmp/74\n",
      "0\n"
     ]
    }
   ],
   "source": [
    "#move fast5s you want from tmp to out dir\n",
    "count = 0\n",
    "for directory in os.listdir(TMPOUT_DIR):\n",
    "    directory = os.path.join(TMPOUT_DIR, directory)\n",
    "    #check if path is directory\n",
    "    if os.path.isdir(directory):\n",
    "        print(directory)\n",
    "        fast5s = [fn for fn in os.listdir(directory)]\n",
    "        for fast5_file in fast5s:\n",
    "            if fast5_file.rstrip('.fast5') in mapped_reads:\n",
    "                count = count + 1\n",
    "                #move the files by renaming absolute path\n",
    "                old_fn = os.path.join(directory, fast5_file)\n",
    "                new_fn = os.path.join(OUT_DIR, fast5_file)\n",
    "                os.replace(old_fn, new_fn)\n",
    "        #count = count + len(fast5s)\n",
    "        print(count)\n",
    "        \n",
    "    #print(os.path.isfile(x))"
   ]
  },
  {
   "cell_type": "code",
   "execution_count": 1,
   "metadata": {},
   "outputs": [
    {
     "ename": "NameError",
     "evalue": "name 'count' is not defined",
     "output_type": "error",
     "traceback": [
      "\u001b[0;31m---------------------------------------------------------------------------\u001b[0m",
      "\u001b[0;31mNameError\u001b[0m                                 Traceback (most recent call last)",
      "\u001b[0;32m<ipython-input-1-2b15b514be44>\u001b[0m in \u001b[0;36m<module>\u001b[0;34m\u001b[0m\n\u001b[0;32m----> 1\u001b[0;31m \u001b[0mcount\u001b[0m \u001b[0;34m==\u001b[0m \u001b[0mlen\u001b[0m\u001b[0;34m(\u001b[0m\u001b[0mmapped_reads\u001b[0m\u001b[0;34m)\u001b[0m\u001b[0;34m\u001b[0m\u001b[0;34m\u001b[0m\u001b[0m\n\u001b[0m",
      "\u001b[0;31mNameError\u001b[0m: name 'count' is not defined"
     ]
    }
   ],
   "source": [
    "count == len(mapped_reads)"
   ]
  },
  {
   "cell_type": "code",
   "execution_count": 74,
   "metadata": {},
   "outputs": [],
   "source": [
    "for x in os.listdir(OUT_DIR):\n",
    "    if not x.endswith('.fast5'):\n",
    "        print(x)"
   ]
  },
  {
   "cell_type": "code",
   "execution_count": 70,
   "metadata": {},
   "outputs": [],
   "source": [
    "#remove tmp folder\n",
    "!rm -r {TMPOUT_DIR}\n"
   ]
  },
  {
   "cell_type": "code",
   "execution_count": 2,
   "metadata": {},
   "outputs": [
    {
     "ename": "NameError",
     "evalue": "name 'mapped_reads' is not defined",
     "output_type": "error",
     "traceback": [
      "\u001b[0;31m---------------------------------------------------------------------------\u001b[0m",
      "\u001b[0;31mNameError\u001b[0m                                 Traceback (most recent call last)",
      "\u001b[0;32m<ipython-input-2-167dedadfe6b>\u001b[0m in \u001b[0;36m<module>\u001b[0;34m\u001b[0m\n\u001b[0;32m----> 1\u001b[0;31m \u001b[0mlen\u001b[0m\u001b[0;34m(\u001b[0m\u001b[0mmapped_reads\u001b[0m\u001b[0;34m)\u001b[0m\u001b[0;34m\u001b[0m\u001b[0;34m\u001b[0m\u001b[0m\n\u001b[0m",
      "\u001b[0;31mNameError\u001b[0m: name 'mapped_reads' is not defined"
     ]
    }
   ],
   "source": [
    "len(mapped_reads)"
   ]
  }
 ],
 "metadata": {
  "kernelspec": {
   "display_name": "Python 3",
   "language": "python",
   "name": "python3"
  },
  "language_info": {
   "codemirror_mode": {
    "name": "ipython",
    "version": 3
   },
   "file_extension": ".py",
   "mimetype": "text/x-python",
   "name": "python",
   "nbconvert_exporter": "python",
   "pygments_lexer": "ipython3",
   "version": "3.7.4"
  }
 },
 "nbformat": 4,
 "nbformat_minor": 2
}
