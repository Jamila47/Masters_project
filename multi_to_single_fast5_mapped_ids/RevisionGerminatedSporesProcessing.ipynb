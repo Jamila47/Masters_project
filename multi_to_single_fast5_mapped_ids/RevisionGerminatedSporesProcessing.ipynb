{
 "cells": [
  {
   "cell_type": "markdown",
   "metadata": {},
   "source": [
    "We need to get from mapped bam file to single fast5s:\n",
    "\n",
    "Input is:\n",
    "* Genome sequence Pgt21-0\n",
    "* Fastq files to map with minimap. These were combined with \"find * -type f -name '*.gz'| xargs -I X cat X >> 20210406.PgtGerminatedSpores.fastq.gz\"\n",
    "* Folder with multifast5 of fastqs mapped to the reference. These were combined with \"find * -type f -name \"*.fast5\" | xargs -I X mv X $dir/.\" on the command line\n",
    "\n",
    "Output:\n",
    "* folder with single fast5s that are mapped\n",
    "\n",
    "What we need to do:\n",
    "* map all reads\n",
    "* get ID of all mapped fastqs\n",
    "* extract them in batches with the fast5_subset"
   ]
  },
  {
   "cell_type": "code",
   "execution_count": 1,
   "metadata": {},
   "outputs": [],
   "source": [
    "import os"
   ]
  },
  {
   "cell_type": "markdown",
   "metadata": {},
   "source": [
    "### INPUTS"
   ]
  },
  {
   "cell_type": "markdown",
   "metadata": {},
   "source": [
    "### *****Define directories before running on different sampes*****"
   ]
  },
  {
   "cell_type": "code",
   "execution_count": 19,
   "metadata": {},
   "outputs": [],
   "source": [
    "###define input directories here \n",
    "RefFn = '../../../resources/genomic_resources/chr_A_B_unassigned.fasta'\n",
    "FastqFn = '../../../analysis/germinatedSpores/20210406.PgtGerminatedSpores.fastq.gz'\n",
    "BamFn = '../../../analysis/germinatedSpores/20210406.Pgt210.PgtGerminatedSpores.sorted.bam'\n",
    "InFast5Dir = '/media/ssd-01/ben/projects/Pgt210Methylation/rawData/germinatedSpores/fast5/combined'\n",
    "OutDir = '../../../analysis/germinatedSpores/subsetFast5'\n",
    "OutDirGuppy = '../../../analysis/germinatedSpores/subsetFast5/basecalled'"
   ]
  },
  {
   "cell_type": "markdown",
   "metadata": {},
   "source": [
    "### *****Define directories before running on different sampes*****"
   ]
  },
  {
   "cell_type": "code",
   "execution_count": 20,
   "metadata": {},
   "outputs": [],
   "source": [
    "RefFn = os.path.abspath(RefFn)\n",
    "FastqFn = os.path.abspath(FastqFn)\n",
    "BamFn = os.path.abspath(BamFn)\n",
    "InFast5Dir = os.path.abspath(InFast5Dir)\n",
    "OutDir = os.path.abspath(OutDir)\n",
    "OutDirGuppy = os.path.abspath(OutDirGuppy)"
   ]
  },
  {
   "cell_type": "code",
   "execution_count": 4,
   "metadata": {},
   "outputs": [],
   "source": [
    "threads = 8"
   ]
  },
  {
   "cell_type": "code",
   "execution_count": 7,
   "metadata": {},
   "outputs": [
    {
     "name": "stdout",
     "output_type": "stream",
     "text": [
      "[M::mm_idx_gen::2.808*1.49] collected minimizers\n",
      "[M::mm_idx_gen::3.195*2.27] sorted minimizers\n",
      "[M::main::3.195*2.27] loaded/built the index for 207 target sequence(s)\n",
      "[M::mm_mapopt_update::3.456*2.17] mid_occ = 233\n",
      "[M::mm_idx_stat] kmer size: 15; skip: 10; is_hpc: 0; #seq: 207\n",
      "[M::mm_idx_stat::3.626*2.12] distinct minimizers: 13929385 (49.04% are singletons); average occurrences: 2.379; average spacing: 5.333\n",
      "[M::worker_pipeline::39.153*6.80] mapped 39209 sequences\n",
      "[M::worker_pipeline::65.777*7.42] mapped 38485 sequences\n",
      "[M::worker_pipeline::93.197*7.68] mapped 39045 sequences\n",
      "[M::worker_pipeline::121.159*7.81] mapped 37099 sequences\n",
      "[M::worker_pipeline::148.646*7.90] mapped 41300 sequences\n",
      "[M::worker_pipeline::176.643*7.97] mapped 39129 sequences\n",
      "[M::worker_pipeline::204.333*8.01] mapped 39455 sequences\n",
      "[M::worker_pipeline::232.592*8.04] mapped 38065 sequences\n",
      "[M::worker_pipeline::261.818*8.07] mapped 38759 sequences\n",
      "[M::worker_pipeline::321.433*8.05] mapped 35790 sequences\n",
      "[M::worker_pipeline::378.563*8.07] mapped 29297 sequences\n",
      "[M::worker_pipeline::445.936*8.07] mapped 29958 sequences\n",
      "[M::worker_pipeline::514.206*8.08] mapped 30189 sequences\n",
      "[M::worker_pipeline::600.745*8.06] mapped 28421 sequences\n",
      "[M::worker_pipeline::656.278*8.07] mapped 27829 sequences\n",
      "[M::worker_pipeline::724.699*8.08] mapped 30128 sequences\n",
      "[M::worker_pipeline::793.248*8.08] mapped 29727 sequences\n",
      "[M::worker_pipeline::881.535*8.07] mapped 28532 sequences\n",
      "[M::worker_pipeline::937.183*8.07] mapped 30416 sequences\n",
      "[M::worker_pipeline::1006.439*8.07] mapped 30127 sequences\n",
      "[M::worker_pipeline::1076.449*8.08] mapped 29815 sequences\n",
      "[M::worker_pipeline::1148.579*8.06] mapped 28664 sequences\n",
      "[M::worker_pipeline::1215.844*8.07] mapped 28710 sequences\n",
      "[M::worker_pipeline::1283.296*8.07] mapped 28662 sequences\n",
      "[M::worker_pipeline::1364.258*8.06] mapped 28173 sequences\n",
      "[M::worker_pipeline::1372.480*8.06] mapped 10033 sequences\n",
      "[M::main] Version: 2.17-r941\n",
      "[M::main] CMD: minimap2 -2 --sam-hit-only --secondary=no -t 8 -ax map-ont ../../../resources/genomic_resources/chr_A_B_unassigned.fasta ../../../analysis/germinatedSpores/20210406.PgtGerminatedSpores.fastq.gz\n",
      "[M::main] Real time: 1372.600 sec; CPU: 11061.650 sec; Peak RSS: 6.761 GB\n",
      "[bam_sort_core] merging from 20 files and 4 in-memory blocks...\n"
     ]
    }
   ],
   "source": [
    "##map all the reads with Minimap\n",
    "!minimap2 -2 --sam-hit-only --secondary=no -t {threads} -ax map-ont {RefFn} {FastqFn} | samtools sort -@ {12-threads} -o {BamFn} -O bam -\n",
    "!samtools index {BamFn}"
   ]
  },
  {
   "cell_type": "code",
   "execution_count": 13,
   "metadata": {},
   "outputs": [],
   "source": [
    "##generated the read ID list\n",
    "MappedIdsFn = BamFn.replace('.bam', '.mappedids.txt')\n",
    "SamtoolsStatsFn = BamFn.replace('.bam', '.stats.txt')\n",
    "!samtools stats -@ {threads} {BamFn} > {SamtoolsStatsFn}\n",
    "!samtools  view -F 4  {BamFn} | cut -f 1 | sort | uniq > {MappedIdsFn}"
   ]
  },
  {
   "cell_type": "code",
   "execution_count": 15,
   "metadata": {},
   "outputs": [
    {
     "name": "stdout",
     "output_type": "stream",
     "text": [
      "  565566   565566 20925942 /media/nvme-02/benWorking/projects/Pgt210Methylation/analysis/germinatedSpores/20210406.Pgt210.PgtGerminatedSpores.sorted.mappedids.txt\n"
     ]
    }
   ],
   "source": [
    "!wc {MappedIdsFn}"
   ]
  },
  {
   "cell_type": "code",
   "execution_count": 16,
   "metadata": {},
   "outputs": [
    {
     "name": "stdout",
     "output_type": "stream",
     "text": [
      "DEBUG:h5py._conv:Creating converter from 5 to 3             |  0% ETA:  --:--:--\n",
      "DEBUG:h5py._conv:Creating converter from 5 to 3\n",
      "DEBUG:h5py._conv:Creating converter from 5 to 3\n",
      "DEBUG:h5py._conv:Creating converter from 5 to 3\n",
      "DEBUG:h5py._conv:Creating converter from 5 to 3\n",
      "DEBUG:h5py._conv:Creating converter from 5 to 3\n",
      "DEBUG:h5py._conv:Creating converter from 5 to 3\n",
      "DEBUG:h5py._conv:Creating converter from 5 to 3\n",
      "DEBUG:h5py._conv:Creating converter from 5 to 3\n",
      "DEBUG:h5py._conv:Creating converter from 5 to 3\n",
      "DEBUG:h5py._conv:Creating converter from 5 to 3\n",
      "DEBUG:h5py._conv:Creating converter from 5 to 3\n",
      "| 565776 of 565776|##########################################|100% Time: 0:59:30\n",
      "INFO:Fast5Filter:565566 reads extracted\n"
     ]
    }
   ],
   "source": [
    "#subset the reads\n",
    "!fast5_subset -i {InFast5Dir} -s {OutDir} -l {MappedIdsFn} -t {threads + 4}"
   ]
  },
  {
   "cell_type": "code",
   "execution_count": null,
   "metadata": {},
   "outputs": [
    {
     "name": "stdout",
     "output_type": "stream",
     "text": [
      "ONT Guppy basecalling software version 4.4.1+1c81d62\n",
      "config file:        /opt/ont-guppy/data/dna_r9.4.1_450bps_hac.cfg\n",
      "model file:         /opt/ont-guppy/data/template_r9.4.1_450bps_hac.jsn\n",
      "input path:         /media/nvme-02/benWorking/projects/Pgt210Methylation/analysis/germinatedSpores/subsetFast5\n",
      "save path:          /media/nvme-02/benWorking/projects/Pgt210Methylation/analysis/germinatedSpores/subsetFast5/basecalled\n",
      "chunk size:         2000\n",
      "chunks per runner:  512\n",
      "records per file:   4000\n",
      "fastq compression:  ON\n",
      "num basecallers:    4\n",
      "gpu device:         auto\n",
      "kernel path:        \n",
      "runners per device: 4\n",
      "Found 142 fast5 files to process.\n",
      "Init time: 2335 ms\n",
      "\n",
      "0%   10   20   30   40   50   60   70   80   90   100%\n",
      "|----|----|----|----|----|----|----|----|----|----|\n",
      "********"
     ]
    }
   ],
   "source": [
    "#basecall the mapped reads only\n",
    "!guppy_basecaller -i {OutDir} -s {OutDirGuppy} --fast5_out -r --compress_fastq --device auto -c dna_r9.4.1_450bps_hac.cfg"
   ]
  },
  {
   "cell_type": "code",
   "execution_count": 22,
   "metadata": {},
   "outputs": [
    {
     "name": "stdout",
     "output_type": "stream",
     "text": [
      "hello\n"
     ]
    }
   ],
   "source": [
    "print('hello')"
   ]
  }
 ],
 "metadata": {
  "kernelspec": {
   "display_name": "PgtMethylation",
   "language": "python",
   "name": "pgtmethylation"
  },
  "language_info": {
   "codemirror_mode": {
    "name": "ipython",
    "version": 3
   },
   "file_extension": ".py",
   "mimetype": "text/x-python",
   "name": "python",
   "nbconvert_exporter": "python",
   "pygments_lexer": "ipython3",
   "version": "3.8.8"
  }
 },
 "nbformat": 4,
 "nbformat_minor": 4
}
