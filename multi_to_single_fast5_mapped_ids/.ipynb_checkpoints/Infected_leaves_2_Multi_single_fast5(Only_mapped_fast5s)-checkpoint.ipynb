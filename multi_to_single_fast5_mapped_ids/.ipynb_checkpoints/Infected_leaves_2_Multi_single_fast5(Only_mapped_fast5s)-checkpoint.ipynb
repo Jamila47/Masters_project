{
 "cells": [
  {
   "cell_type": "markdown",
   "metadata": {},
   "source": [
    "We need to get from mapped bam file to single fast5s:\n",
    "\n",
    "Input is:\n",
    "* mapped bam file.\n",
    "* multifast5 of fastqs mapped to the reference\n",
    "\n",
    "Output:\n",
    "* folder with single fast5s that are mapped\n",
    "\n",
    "What we need to do:\n",
    "* get ID of all mapped fastqs\n",
    "* extract them in batches\n",
    "* make them single fast5s"
   ]
  },
  {
   "cell_type": "code",
   "execution_count": null,
   "metadata": {},
   "outputs": [],
   "source": [
    "pip install ipyparallel"
   ]
  },
  {
   "cell_type": "code",
   "execution_count": 4,
   "metadata": {},
   "outputs": [],
   "source": [
    "import os\n",
    "from joblib import Parallel, delayed\n"
   ]
  },
  {
   "cell_type": "code",
   "execution_count": null,
   "metadata": {},
   "outputs": [],
   "source": [
    "def fast5s_to_fastq(dir_):\n",
    "    print(dir_)\n",
    "    start = time.time()\n",
    "    plus = '+'\n",
    "    fastq_fn = os.path.join(os.path.join(dir_), os.path.basename(dir_) + '.fastq')\n",
    "    fast5s = (os.path.join(dir_ ,x) for x in os.listdir(dir_) if x.endswith('.fast5') )\n",
    "    if os.path.exists(fastq_fn):\n",
    "        with open(fastq_fn, 'w'):\n",
    "            pass\n",
    "    with open(fastq_fn, mode='a+') as fastq_fh:\n",
    "        for fast5_fn in fast5s:\n",
    "            with get_fast5_file(fast5_fn, mode='r') as f5:\n",
    "                with Basecall1DTools(f5) as basecall:\n",
    "                    n1, s1, q1 = basecall.get_called_sequence('template')\n",
    "\n",
    "                    print(n1, file=fastq_fh)\n",
    "                    print(s1, file=fastq_fh)\n",
    "                    print(plus, file=fastq_fh)\n",
    "                    print(q1, file=fastq_fh)\n",
    "    string = '%s done' % fastq_fn\n",
    "    stop = time.time()\n",
    "    string = string + ': Done in {:.2f}'.format(stop - start)\n",
    "    print(string)\n",
    "    return string"
   ]
  },
  {
   "cell_type": "code",
   "execution_count": 2,
   "metadata": {},
   "outputs": [],
   "source": [
    "def fast5s_to_fastq(dir_):\n",
    "    print(dir_)\n",
    "    start = time.time()\n",
    "    plus = '+'\n",
    "    fastq_fn = os.path.join(os.path.join(dir_), os.path.basename(dir_) + '.fastq')\n",
    "    fast5s = (os.path.join(dir_ ,x) for x in os.listdir(dir_) if x.endswith('.fast5') )\n",
    "    if os.path.exists(fastq_fn):\n",
    "        with open(fastq_fn, 'w'):\n",
    "            pass\n",
    "    n  = []\n",
    "    s  = []\n",
    "    q  = []\n",
    "    for fast5_fn in fast5s:\n",
    "        with get_fast5_file(fast5_fn, mode='r') as f5:\n",
    "            with Basecall1DTools(f5) as basecall:\n",
    "                n1, s1, q1 = basecall.get_called_sequence('template')\n",
    "                n.append(n1)\n",
    "                s.append(s1)\n",
    "                q.append(q1)\n",
    "    \n",
    "    with open(fastq_fn, mode='a+') as fastq_fh:\n",
    "        for (n1, s1, q1) in zip(n, s, q):\n",
    "            print('@%s' % n1, file=fastq_fh)\n",
    "            print(s1, file=fastq_fh)\n",
    "            print(plus, file=fastq_fh)\n",
    "            print(q1, file=fastq_fh)\n",
    "    string = '%s done' % fastq_fn\n",
    "    stop = time.time()\n",
    "    string = string + ': Done in {:.2f}'.format(stop - start)\n",
    "    print(string)\n",
    "    return string"
   ]
  },
  {
   "cell_type": "code",
   "execution_count": 6,
   "metadata": {},
   "outputs": [
    {
     "name": "stdout",
     "output_type": "stream",
     "text": [
      "/home/jamila/jamila_Storage/scripts/multi_to_single_fast5_&_RNA_expression_mapping\r\n"
     ]
    }
   ],
   "source": [
    "!pwd"
   ]
  },
  {
   "cell_type": "markdown",
   "metadata": {},
   "source": [
    "### INPUTS"
   ]
  },
  {
   "cell_type": "markdown",
   "metadata": {},
   "source": [
    "### *****Define directories before running on different sampes*****"
   ]
  },
  {
   "cell_type": "code",
   "execution_count": null,
   "metadata": {},
   "outputs": [],
   "source": [
    "###define input directories here \n",
    "BAMIN_DIR = '../../analyses/mapping/infected_leaves/infected_leaves_2/'\n",
    "FAST5IN_DIR = '../../data/genomic_data/infected_leaves/workspace_fast5/infected_leaves_2_fast5_out/'\n",
    "FAST5singleIN_DIR = '../../analyses/single_fast5s/infected_leaves/infected_leaves_2_fast5_single_fast5/'\n",
    "OUT_DIR = '../../analyses/single_fast5s/infected_leaves/infected_leaves_2_mapped_single_fast5/'\n",
    "n_threads = 25"
   ]
  },
  {
   "cell_type": "markdown",
   "metadata": {},
   "source": [
    "### *****Define directories before running on different sampes*****"
   ]
  },
  {
   "cell_type": "code",
   "execution_count": null,
   "metadata": {},
   "outputs": [],
   "source": [
    "BAMIN_DIR = os.path.abspath(BAMIN_DIR)\n",
    "FAST5IN_DIR = os.path.abspath(FAST5IN_DIR)\n",
    "OUT_DIR = os.path.abspath(OUT_DIR)\n",
    "FAST5singleIN_DIR = os.path.abspath(FAST5singleIN_DIR)"
   ]
  },
  {
   "cell_type": "code",
   "execution_count": null,
   "metadata": {},
   "outputs": [],
   "source": [
    "single_fast5_count = 0\n",
    "dirs = []\n",
    "for direcotry in (os.path.join(FAST5singleIN_DIR, x) for x in os.listdir(FAST5singleIN_DIR) if os.path.isdir(os.path.join(FAST5singleIN_DIR, x))):\n",
    "    dirs.append(direcotry)\n",
    "    fast5s = [os.path.join(direcotry ,x) for x in os.listdir(direcotry) if x.endswith('.fast5')]\n",
    "    single_fast5_count += len(fast5s)"
   ]
  },
  {
   "cell_type": "code",
   "execution_count": null,
   "metadata": {},
   "outputs": [],
   "source": [
    "print(single_fast5_count)"
   ]
  },
  {
   "cell_type": "code",
   "execution_count": null,
   "metadata": {},
   "outputs": [],
   "source": [
    "%%time\n",
    "print(single_fast5_count)"
   ]
  },
  {
   "cell_type": "code",
   "execution_count": null,
   "metadata": {},
   "outputs": [],
   "source": [
    "%%timeit -n10\n",
    "fast5s_to_fastq(dirs[100])"
   ]
  },
  {
   "cell_type": "code",
   "execution_count": null,
   "metadata": {},
   "outputs": [],
   "source": [
    "len(dirs)"
   ]
  },
  {
   "cell_type": "code",
   "execution_count": null,
   "metadata": {},
   "outputs": [],
   "source": [
    "from multiprocessing import Pool"
   ]
  },
  {
   "cell_type": "code",
   "execution_count": null,
   "metadata": {},
   "outputs": [],
   "source": [
    "with Pool(processes=n_threads) as pool:\n",
    "    pool.map(fast5s_to_fastq, dirs)"
   ]
  },
  {
   "cell_type": "code",
   "execution_count": null,
   "metadata": {},
   "outputs": [],
   "source": [
    "%%time\n",
    "for  x in (Parallel(n_jobs=n_threads, prefer='threads')(delayed(fast5s_to_fastq)(x) for x in dirs)):\n",
    "    print(x)"
   ]
  },
  {
   "cell_type": "code",
   "execution_count": null,
   "metadata": {},
   "outputs": [],
   "source": [
    "all_fastq_fn = os.path.join(FAST5singleIN_DIR, os.path.basename(FAST5singleIN_DIR)+ '.fastq')"
   ]
  },
  {
   "cell_type": "code",
   "execution_count": null,
   "metadata": {},
   "outputs": [],
   "source": [
    "with open(all_fastq_fn, mode='w') as all_fastq_fh:\n",
    "    for dir_ in dirs[:1]:\n",
    "        fn = os.path.join(os.path.join(dir_), os.path.basename(dir_) + '.fastq')\n",
    "    with open(fn, mode = 'r') as fh:\n",
    "        for line in fh:\n",
    "            line.rstrip()\n",
    "            print(line, file=fh)"
   ]
  },
  {
   "cell_type": "code",
   "execution_count": null,
   "metadata": {},
   "outputs": [],
   "source": []
  },
  {
   "cell_type": "code",
   "execution_count": null,
   "metadata": {},
   "outputs": [],
   "source": []
  },
  {
   "cell_type": "code",
   "execution_count": null,
   "metadata": {},
   "outputs": [],
   "source": []
  },
  {
   "cell_type": "code",
   "execution_count": null,
   "metadata": {},
   "outputs": [],
   "source": [
    "##catch the bam based on naming convention\n",
    "inbam_fn = [os.path.join(BAMIN_DIR, x) for x in os.listdir(BAMIN_DIR) if x.endswith('sorted.bam')][0]"
   ]
  },
  {
   "cell_type": "code",
   "execution_count": null,
   "metadata": {},
   "outputs": [],
   "source": [
    "inbam_fn"
   ]
  },
  {
   "cell_type": "code",
   "execution_count": null,
   "metadata": {},
   "outputs": [],
   "source": [
    "##generated the read ID list\n",
    "mappedids_fn = inbam_fn.replace('.bam', '.mappedids.txt')\n",
    "#!samtools  view -F 4  {inbam_fn} | cut -f 1 | sort | uniq > {mappedids_fn}"
   ]
  },
  {
   "cell_type": "code",
   "execution_count": null,
   "metadata": {},
   "outputs": [],
   "source": [
    "!head {mappedids_fn}"
   ]
  },
  {
   "cell_type": "code",
   "execution_count": null,
   "metadata": {
    "scrolled": true
   },
   "outputs": [],
   "source": [
    "### generate a temporary folder that holds the batches of fast5\n",
    "TMPOUT_DIR = os.path.join(OUT_DIR, 'tmp')\n",
    "if not os.path.exists(TMPOUT_DIR):\n",
    "    os.makedirs(TMPOUT_DIR)"
   ]
  },
  {
   "cell_type": "code",
   "execution_count": null,
   "metadata": {},
   "outputs": [],
   "source": [
    "#read in the mapped reads ids\n",
    "mapped_reads = []\n",
    "with open(mappedids_fn) as fh:\n",
    "    for line in fh:\n",
    "        mapped_reads.append(line.rstrip())"
   ]
  },
  {
   "cell_type": "code",
   "execution_count": null,
   "metadata": {},
   "outputs": [],
   "source": [
    "mapped_reads = set(mapped_reads)"
   ]
  },
  {
   "cell_type": "code",
   "execution_count": null,
   "metadata": {},
   "outputs": [],
   "source": [
    "###go from multies fast5 of mapped reads to single fast5s\n",
    "!multi_to_single_fast5 -i {FAST5IN_DIR} -s {TMPOUT_DIR} -t 10 --recursive\n",
    "!touch {OUT_DIR}/single_fast5.done"
   ]
  },
  {
   "cell_type": "code",
   "execution_count": null,
   "metadata": {},
   "outputs": [],
   "source": [
    "#move fast5s you want from tmp to out dir\n",
    "count = 0\n",
    "for directory in os.listdir(TMPOUT_DIR):\n",
    "    directory = os.path.join(TMPOUT_DIR, directory)\n",
    "    #check if path is directory\n",
    "    if os.path.isdir(directory):\n",
    "        print(directory)\n",
    "        fast5s = [fn for fn in os.listdir(directory)]\n",
    "        for fast5_file in fast5s:\n",
    "            if fast5_file.rstrip('.fast5') in mapped_reads:\n",
    "                count = count + 1\n",
    "                #move the files by renaming absolute path\n",
    "                old_fn = os.path.join(directory, fast5_file)\n",
    "                new_fn = os.path.join(OUT_DIR, fast5_file)\n",
    "                os.replace(old_fn, new_fn)\n",
    "        #count = count + len(fast5s)\n",
    "        print(count)\n",
    "        \n",
    "    #print(os.path.isfile(x))"
   ]
  },
  {
   "cell_type": "code",
   "execution_count": null,
   "metadata": {},
   "outputs": [],
   "source": [
    "count == len(mapped_reads)"
   ]
  },
  {
   "cell_type": "code",
   "execution_count": null,
   "metadata": {
    "scrolled": true
   },
   "outputs": [],
   "source": [
    "for x in os.listdir(OUT_DIR):\n",
    "    if not x.endswith('.fast5'):\n",
    "        print(x)"
   ]
  },
  {
   "cell_type": "code",
   "execution_count": null,
   "metadata": {},
   "outputs": [],
   "source": [
    "#remove tmp folder\n",
    "!rm -r {TMPOUT_DIR}\n"
   ]
  },
  {
   "cell_type": "code",
   "execution_count": null,
   "metadata": {},
   "outputs": [],
   "source": [
    "len(mapped_reads)"
   ]
  },
  {
   "cell_type": "code",
   "execution_count": null,
   "metadata": {},
   "outputs": [],
   "source": []
  }
 ],
 "metadata": {
  "kernelspec": {
   "display_name": "Python 3",
   "language": "python",
   "name": "python3"
  },
  "language_info": {
   "codemirror_mode": {
    "name": "ipython",
    "version": 3
   },
   "file_extension": ".py",
   "mimetype": "text/x-python",
   "name": "python",
   "nbconvert_exporter": "python",
   "pygments_lexer": "ipython3",
   "version": "3.7.4"
  }
 },
 "nbformat": 4,
 "nbformat_minor": 2
}
