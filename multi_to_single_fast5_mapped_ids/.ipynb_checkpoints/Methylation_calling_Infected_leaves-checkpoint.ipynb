{
 "cells": [
  {
   "cell_type": "markdown",
   "metadata": {},
   "source": [
    "### Notebook to do methylation calling with tombo"
   ]
  },
  {
   "cell_type": "code",
   "execution_count": 1,
   "metadata": {},
   "outputs": [],
   "source": [
    "import os\n",
    "from joblib import Parallel, delayed"
   ]
  },
  {
   "cell_type": "code",
   "execution_count": 2,
   "metadata": {},
   "outputs": [],
   "source": [
    "INITIAL_MAPPED_BASEDIR = os.path.abspath('../../analyses/mapping/infected_leaves')\n",
    "#####One OUT_DIR per treatment. This should be one for germinated spores and one for infected leaves\n",
    "IN_DIR = os.path.abspath('../../analyses/single_fast5s/infected_leaves/mapped_fast5s')\n",
    "#####One OUT_DIR per treatment. This should be one for germinated spores and one for infected leaves\n",
    "OUT_DIR = os.path.abspath('../../analyses/methylation_calling/infected_leaves')\n"
   ]
  },
  {
   "cell_type": "code",
   "execution_count": 3,
   "metadata": {},
   "outputs": [],
   "source": [
    "ref_genome = os.path.abspath('../../data/genomic_resources/chr_A_B_unassigned.fasta')\n",
    "n_threads = 20"
   ]
  },
  {
   "cell_type": "markdown",
   "metadata": {},
   "source": [
    "# Section 1 checking the input"
   ]
  },
  {
   "cell_type": "code",
   "execution_count": 4,
   "metadata": {},
   "outputs": [],
   "source": [
    "mappingid_fns = []\n",
    "for dir_ in os.listdir(INITIAL_MAPPED_BASEDIR):\n",
    "    dir_ = os.path.join(INITIAL_MAPPED_BASEDIR, dir_) \n",
    "    if os.path.isdir(dir_):\n",
    "        mappingid_fn = [os.path.join(dir_, x) for x in os.listdir(dir_) if x.endswith('.mappedids.txt') ][0]\n",
    "        mappingid_fns.append(mappingid_fn)"
   ]
  },
  {
   "cell_type": "code",
   "execution_count": 5,
   "metadata": {},
   "outputs": [],
   "source": [
    "nummapped_reads = 0\n",
    "for mappingid_fn in mappingid_fns:\n",
    "    with open(mappingid_fn, mode = 'r') as fh:\n",
    "        for line in fh:\n",
    "            nummapped_reads += 1"
   ]
  },
  {
   "cell_type": "code",
   "execution_count": 6,
   "metadata": {},
   "outputs": [
    {
     "data": {
      "text/plain": [
       "True"
      ]
     },
     "execution_count": 6,
     "metadata": {},
     "output_type": "execute_result"
    }
   ],
   "source": [
    "#This checks if the number of mapped reads is consistent with the number of single fast5s\n",
    "len([x for x in os.listdir(IN_DIR) if x.endswith('.fast5')]) == nummapped_reads"
   ]
  },
  {
   "cell_type": "code",
   "execution_count": 7,
   "metadata": {},
   "outputs": [
    {
     "data": {
      "text/plain": [
       "'/home/jamila/jamila_Storage/analyses/single_fast5s/infected_leaves/mapped_fast5s'"
      ]
     },
     "execution_count": 7,
     "metadata": {},
     "output_type": "execute_result"
    }
   ],
   "source": [
    "(IN_DIR)"
   ]
  },
  {
   "cell_type": "markdown",
   "metadata": {},
   "source": [
    "# Section 2 tombo methylation calling"
   ]
  },
  {
   "cell_type": "code",
   "execution_count": null,
   "metadata": {},
   "outputs": [],
   "source": [
    "#change directory\n",
    "os.chdir(OUT_DIR)\n",
    "basename = os.path.basename(OUT_DIR)"
   ]
  },
  {
   "cell_type": "code",
   "execution_count": null,
   "metadata": {},
   "outputs": [],
   "source": [
    "%%capture cap_out_resquiggle\n",
    "%time\n",
    "!tombo resquiggle {IN_DIR} {ref_genome} --processes {n_threads} --num-most-common-error 5 --dna --ignore-read-locks --signal-align-parameters --overwrite  \n"
   ]
  },
  {
   "cell_type": "code",
   "execution_count": null,
   "metadata": {},
   "outputs": [],
   "source": [
    "###print stdout\n",
    "print(cap_out_resquiggle.stdout)"
   ]
  },
  {
   "cell_type": "code",
   "execution_count": null,
   "metadata": {},
   "outputs": [],
   "source": [
    "###print stderr\n",
    "print(cap_out_resquiggle.stderr)"
   ]
  },
  {
   "cell_type": "code",
   "execution_count": null,
   "metadata": {},
   "outputs": [],
   "source": [
    "%%capture cap_out_detect_modifications\n",
    "%time\n",
    "!tombo detect_modifications alternative_model --fast5-basedirs {IN_DIR} --statistics-file-basename {basename} --alternate-bases 5mC 6mA --processes {n_threads}"
   ]
  },
  {
   "cell_type": "code",
   "execution_count": null,
   "metadata": {},
   "outputs": [],
   "source": [
    "###print stdout\n",
    "print(cap_out_detect_modifications.stdout)"
   ]
  },
  {
   "cell_type": "code",
   "execution_count": null,
   "metadata": {},
   "outputs": [],
   "source": [
    "###print stderr\n",
    "print(cap_out_detect_modifications.stderr)"
   ]
  },
  {
   "cell_type": "code",
   "execution_count": null,
   "metadata": {},
   "outputs": [],
   "source": [
    "%%capture cap_out_most_significant_5mC\n",
    "%time\n",
    "!tombo plot most_significant --fast5-basedirs {IN_DIR} --statistics-filename {basename}.5mC.tombo.stats  --plot-standard-model --plot-alternate-model 5mC --pdf-filename {basename}.most_significant_5mC_sites.pdf "
   ]
  },
  {
   "cell_type": "code",
   "execution_count": null,
   "metadata": {},
   "outputs": [],
   "source": [
    "###print stdout\n",
    "print(cap_out_most_significant_5mC.stdout)"
   ]
  },
  {
   "cell_type": "code",
   "execution_count": null,
   "metadata": {},
   "outputs": [],
   "source": [
    "###print stderr\n",
    "print(cap_out_most_significant_5mC.stderr)"
   ]
  },
  {
   "cell_type": "code",
   "execution_count": null,
   "metadata": {},
   "outputs": [],
   "source": [
    "%%capture cap_out_most_significant_6mA\n",
    "%time\n",
    "!tombo plot most_significant --fast5-basedirs {IN_DIR} --statistics-filename {basename}.6mA.tombo.stats  --plot-standard-model --plot-alternate-model 6mA --pdf-{basename}.most_significant_6mA_sites.pdf "
   ]
  },
  {
   "cell_type": "code",
   "execution_count": null,
   "metadata": {},
   "outputs": [],
   "source": [
    "###print stdout\n",
    "print(cap_out_most_significant_6mA.stdout)"
   ]
  },
  {
   "cell_type": "code",
   "execution_count": null,
   "metadata": {},
   "outputs": [],
   "source": [
    "###print stderr\n",
    "print(cap_out_most_significant_6mA.stderr)"
   ]
  },
  {
   "cell_type": "code",
   "execution_count": null,
   "metadata": {},
   "outputs": [],
   "source": [
    "##produce wig files with estimated fraction if modified reads at each valid reference site\n",
    "%%capture cap_out_5mC_wigfile\n",
    "%time\n",
    "!tombo text_output browser_files --statistics-filename {basename}.5mC.tombo.stats --file-type dampened_fraction --browser-file-basename {basename}.5mC"
   ]
  },
  {
   "cell_type": "code",
   "execution_count": null,
   "metadata": {},
   "outputs": [],
   "source": [
    "###print stdout\n",
    "print(cap_out_5mC_wigfile.stdout)"
   ]
  },
  {
   "cell_type": "code",
   "execution_count": null,
   "metadata": {},
   "outputs": [],
   "source": [
    "###print stderr\n",
    "print(cap_out_5mC_wigfile.stderr)"
   ]
  },
  {
   "cell_type": "code",
   "execution_count": null,
   "metadata": {},
   "outputs": [],
   "source": [
    "%%capture cap_out_6mA.wig\n",
    "%time\n",
    "!tombo text_output browser_files --statistics-filename {basename}.6mA.tombo.stats --file-type dampened_fraction --browser-file-basename {basename}.6mA"
   ]
  },
  {
   "cell_type": "code",
   "execution_count": null,
   "metadata": {},
   "outputs": [],
   "source": [
    "###print stdout\n",
    "print(cap_out_6mA_wig.stdout)"
   ]
  },
  {
   "cell_type": "code",
   "execution_count": null,
   "metadata": {},
   "outputs": [],
   "source": [
    "###print stderr\n",
    "print(cap_out_6mA_wig.stderr)"
   ]
  },
  {
   "cell_type": "code",
   "execution_count": null,
   "metadata": {},
   "outputs": [],
   "source": [
    "###to produce successfully processed reads coverage file for reference\n",
    "!tombo text_output browser_file --fast5-basedirs {IN_DIR} --file-types coverage --browser-file-basename {basename}"
   ]
  },
  {
   "cell_type": "code",
   "execution_count": null,
   "metadata": {},
   "outputs": [],
   "source": []
  },
  {
   "cell_type": "code",
   "execution_count": null,
   "metadata": {},
   "outputs": [],
   "source": []
  },
  {
   "cell_type": "code",
   "execution_count": null,
   "metadata": {},
   "outputs": [],
   "source": []
  },
  {
   "cell_type": "code",
   "execution_count": null,
   "metadata": {},
   "outputs": [],
   "source": []
  },
  {
   "cell_type": "code",
   "execution_count": null,
   "metadata": {},
   "outputs": [],
   "source": []
  },
  {
   "cell_type": "code",
   "execution_count": null,
   "metadata": {},
   "outputs": [],
   "source": []
  },
  {
   "cell_type": "code",
   "execution_count": null,
   "metadata": {},
   "outputs": [],
   "source": [
    "###first check if we have the right amount of fastq entries in our file\n",
    "int(fastq_entries[0]) == single_fast5_count\n",
    "###You want this to be True"
   ]
  },
  {
   "cell_type": "code",
   "execution_count": null,
   "metadata": {},
   "outputs": [],
   "source": [
    "###Now check on if ids match up\n",
    "fastqids_fn = fastq_all_fn.replace('.fastq', '.fastqids.txt')\n",
    "!cat {fastq_all_fn} | grep 'sampleid'|  cut -d ' ' -f 1 | sed 's/@//g' > {fastqids_fn}"
   ]
  },
  {
   "cell_type": "code",
   "execution_count": null,
   "metadata": {},
   "outputs": [],
   "source": [
    "###Read in ids as set\n",
    "fastq_ids = []\n",
    "with open(fastqids_fn) as fh:\n",
    "    for line in fh:\n",
    "        fastq_ids.append(line.strip('\\n'))\n",
    "fastq_ids = set(fastq_ids)"
   ]
  },
  {
   "cell_type": "code",
   "execution_count": null,
   "metadata": {},
   "outputs": [],
   "source": [
    "match_count = 0\n",
    "for directory in os.listdir(FAST5singleIN_DIR):\n",
    "    directory = os.path.join(FAST5singleIN_DIR, directory)\n",
    "    if os.path.isdir(directory):\n",
    "        fast5s = [fn for fn in os.listdir(directory) if fn.endswith('.fast5')]\n",
    "        for fast5_file in fast5s: \n",
    "            if fast5_file.replace('.fast5', '') in fastq_ids:\n",
    "                match_count = match_count + 1"
   ]
  },
  {
   "cell_type": "code",
   "execution_count": null,
   "metadata": {},
   "outputs": [],
   "source": [
    "####This needs to be true\n",
    "match_count == int(fastq_entries[0]) == single_fast5_count\n",
    "####This needs to be true"
   ]
  },
  {
   "cell_type": "markdown",
   "metadata": {},
   "source": [
    "### If above is false go to section 3 and execute this before moving on"
   ]
  },
  {
   "cell_type": "markdown",
   "metadata": {},
   "source": [
    "# Section 2 mapping the reads and pulling out the mapped fast5s"
   ]
  },
  {
   "cell_type": "code",
   "execution_count": null,
   "metadata": {},
   "outputs": [],
   "source": [
    "bam_fn = os.path.join(BAM_DIR, os.path.basename(fastq_all_fn).replace('.fastq', '.sorted.bam'))"
   ]
  },
  {
   "cell_type": "code",
   "execution_count": null,
   "metadata": {},
   "outputs": [],
   "source": [
    "!minimap2 -t 15 -ax map-ont {minimap_index} {fastq_all_fn} | samtools sort -@ 15 -o {bam_fn} -"
   ]
  },
  {
   "cell_type": "code",
   "execution_count": null,
   "metadata": {},
   "outputs": [],
   "source": [
    "#this is only here because the mapping was done on the command line and not in here\n",
    "#if mapping is done in here don't execute this cell\n",
    "bam_fn = '../../analyses/mapping/infected_leaves/infected_leaves_1/infected_leaves_1.sorted.bam'"
   ]
  },
  {
   "cell_type": "code",
   "execution_count": null,
   "metadata": {},
   "outputs": [],
   "source": [
    "##generated the mapped read ID list\n",
    "mappedids_fn = bam_fn.replace('.bam', '.mappedids.txt')\n",
    "!samtools  view -F 4  {bam_fn} | cut -f 1 | sort | uniq > {mappedids_fn}"
   ]
  },
  {
   "cell_type": "code",
   "execution_count": null,
   "metadata": {},
   "outputs": [],
   "source": [
    "#get the mapped ids as a set\n",
    "mapped_reads = []\n",
    "with open(mappedids_fn) as fh:\n",
    "    for line in fh:\n",
    "        mapped_reads.append(line.rstrip())\n",
    "mapped_reads = set(mapped_reads)"
   ]
  },
  {
   "cell_type": "code",
   "execution_count": null,
   "metadata": {},
   "outputs": [],
   "source": [
    "len(mapped_reads)"
   ]
  },
  {
   "cell_type": "code",
   "execution_count": null,
   "metadata": {},
   "outputs": [],
   "source": [
    "#move fast5s you want from tmp to out dir\n",
    "match_count = 0\n",
    "for directory in os.listdir(FAST5singleIN_DIR):\n",
    "    directory = os.path.join(FAST5singleIN_DIR, directory)\n",
    "    #check if path is directory\n",
    "    if os.path.isdir(directory):\n",
    "        #get all fastq files\n",
    "        fast5s = [fn for fn in os.listdir(directory) if fn.endswith('.fast5')]\n",
    "        for fast5_file in fast5s:\n",
    "            if fast5_file.replace('.fast5', '') in mapped_reads:\n",
    "                match_count = match_count + 1\n",
    "                #move the files by renaming absolute path\n",
    "                old_fn = os.path.join(directory, fast5_file)\n",
    "                new_fn = os.path.join(OUT_DIR, fast5_file)\n",
    "                os.replace(old_fn, new_fn)\n",
    "        "
   ]
  },
  {
   "cell_type": "code",
   "execution_count": null,
   "metadata": {},
   "outputs": [],
   "source": [
    "##This should be true\n",
    "len(mapped_reads) == match_count"
   ]
  },
  {
   "cell_type": "code",
   "execution_count": null,
   "metadata": {},
   "outputs": [],
   "source": []
  },
  {
   "cell_type": "markdown",
   "metadata": {},
   "source": [
    "### Below are useful code snippets we leave for now but won't execute"
   ]
  },
  {
   "cell_type": "markdown",
   "metadata": {},
   "source": [
    "# Section 3 Regenerating fastqs if they don't add up"
   ]
  },
  {
   "cell_type": "code",
   "execution_count": null,
   "metadata": {},
   "outputs": [],
   "source": [
    "#Run only if the tests above do fail\n",
    "%run -i infected_leaves_2_fast5_to_fastq.py"
   ]
  },
  {
   "cell_type": "code",
   "execution_count": null,
   "metadata": {},
   "outputs": [],
   "source": [
    "#combine all fastqs\n",
    "all_fastq_fn = os.path.join(FAST5singleIN_DIR,  '%s.fastq' % os.path.basename(FAST5singleIN_DIR))\n",
    "with open(all_fastq_fn, mode='w') as all_fastq_fh:\n",
    "    for dir_ in dirs:\n",
    "        fn = os.path.join(os.path.join(dir_), os.path.basename(dir_) + '.fastq')\n",
    "        #print(fn)\n",
    "        with open(fn, mode = 'r') as fh:\n",
    "            for line in fh:\n",
    "                line = line.rstrip()\n",
    "                print(line, file=all_fastq_fh)"
   ]
  },
  {
   "cell_type": "code",
   "execution_count": null,
   "metadata": {},
   "outputs": [],
   "source": [
    "fastq_entries = !cat {all_fastq_fn} | grep 'sampleid' | wc -l"
   ]
  },
  {
   "cell_type": "code",
   "execution_count": null,
   "metadata": {},
   "outputs": [],
   "source": [
    "int(fastq_entries[0]) == single_fast5_count"
   ]
  },
  {
   "cell_type": "code",
   "execution_count": null,
   "metadata": {},
   "outputs": [],
   "source": [
    "all_fastq_fn = os.path.join(FAST5singleIN_DIR,  '%s.fastq' % os.path.basename(FAST5singleIN_DIR))\n",
    "fastqids_fn = all_fastq_fn.replace('.fastq', '.fastqids.txt')\n",
    "!cat {all_fastq_fn} | grep 'sampleid'|  cut -d ' ' -f 1 | sed 's/@//g' > {fastqids_fn}"
   ]
  },
  {
   "cell_type": "code",
   "execution_count": null,
   "metadata": {},
   "outputs": [],
   "source": [
    "fastq_reads = []\n",
    "with open(fastqids_fn) as fh:\n",
    "    for line in fh:\n",
    "        fastq_reads.append(line.strip('\\n'))\n",
    "fastq_reads = set(fastq_reads)"
   ]
  },
  {
   "cell_type": "code",
   "execution_count": null,
   "metadata": {},
   "outputs": [],
   "source": [
    "len(fastq_reads) == single_fast5_count"
   ]
  },
  {
   "cell_type": "code",
   "execution_count": null,
   "metadata": {},
   "outputs": [],
   "source": [
    "count = 0\n",
    "TMPOUT_DIR = FAST5singleIN_DIR\n",
    "for directory in os.listdir(TMPOUT_DIR):\n",
    "    directory = os.path.join(TMPOUT_DIR, directory)\n",
    "    #check if path is directory\n",
    "    if os.path.isdir(directory):\n",
    "        #print(directory)\n",
    "        fast5s = [fn for fn in os.listdir(directory) if fn.endswith('.fast5')]\n",
    "        #missing = set([x.replace('.fast5', '') for x in fast5s]) - fastq_reads\n",
    "        #print(len(missing))\n",
    "        for fast5_file in fast5s:\n",
    "            \n",
    "            if fast5_file.replace('.fast5', '') in fastq_reads:\n",
    "                count = count + 1\n",
    "                #move the files by renaming absolute path\n",
    "                #old_fn = os.path.join(directory, fast5_file)\n",
    "                #new_fn = os.path.join(OUT_DIR, fast5_file)\n",
    "                #os.replace(old_fn, new_fn)\n",
    "        #count = count + len(fast5s)\n",
    "        #print(count)"
   ]
  },
  {
   "cell_type": "code",
   "execution_count": null,
   "metadata": {},
   "outputs": [],
   "source": [
    "count == single_fast5_count"
   ]
  },
  {
   "cell_type": "code",
   "execution_count": null,
   "metadata": {},
   "outputs": [],
   "source": []
  }
 ],
 "metadata": {
  "kernelspec": {
   "display_name": "Python 3",
   "language": "python",
   "name": "python3"
  },
  "language_info": {
   "codemirror_mode": {
    "name": "ipython",
    "version": 3
   },
   "file_extension": ".py",
   "mimetype": "text/x-python",
   "name": "python",
   "nbconvert_exporter": "python",
   "pygments_lexer": "ipython3",
   "version": "3.7.4"
  }
 },
 "nbformat": 4,
 "nbformat_minor": 2
}
