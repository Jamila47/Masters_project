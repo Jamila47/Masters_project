{
 "cells": [
  {
   "cell_type": "markdown",
   "metadata": {},
   "source": [
    "We need to get from mapped bam file to single fast5s:\n",
    "\n",
    "Input is:\n",
    "* mapped bam file.\n",
    "* multifast5 of fastqs mapped to the reference\n",
    "\n",
    "Output:\n",
    "* folder with single fast5s that are mapped\n",
    "\n",
    "What we need to do:\n",
    "* get ID of all mapped fastqs\n",
    "* extract them in batches\n",
    "* make them single fast5s"
   ]
  },
  {
   "cell_type": "code",
   "execution_count": 3,
   "metadata": {},
   "outputs": [],
   "source": [
    "import os"
   ]
  },
  {
   "cell_type": "markdown",
   "metadata": {},
   "source": [
    "### INPUTS"
   ]
  },
  {
   "cell_type": "markdown",
   "metadata": {},
   "source": [
    "### *****Define directories before running on different sampes*****"
   ]
  },
  {
   "cell_type": "code",
   "execution_count": 4,
   "metadata": {},
   "outputs": [],
   "source": [
    "###define input directories here \n",
    "BAMIN_DIR = '../../analyses/mapping/germinated_spores/rep1/'\n",
    "FAST5IN_DIR = '../../data/genomic_data/germinated_spores/workspace_fast5/germinated_spores_1_fast5_out/germinated_spores_1_fast5_out/20200124_0315_MN21529_FAL36242_95b38ba0/fast5/'\n",
    "OUT_DIR = '../../analyses/single_fast5s/germinated_spores/rep1/'\n"
   ]
  },
  {
   "cell_type": "markdown",
   "metadata": {},
   "source": [
    "### *****Define directories before running on different sampes*****"
   ]
  },
  {
   "cell_type": "code",
   "execution_count": 5,
   "metadata": {},
   "outputs": [],
   "source": [
    "BAMIN_DIR = os.path.abspath(BAMIN_DIR)\n",
    "FAST5IN_DIR = os.path.abspath(FAST5IN_DIR)\n",
    "OUT_DIR = os.path.abspath(OUT_DIR)"
   ]
  },
  {
   "cell_type": "code",
   "execution_count": 6,
   "metadata": {},
   "outputs": [],
   "source": [
    "##catch the bam based on naming convention\n",
    "inbam_fn = [os.path.join(BAMIN_DIR, x) for x in os.listdir(BAMIN_DIR) if x.endswith('sorted.bam')][0]"
   ]
  },
  {
   "cell_type": "code",
   "execution_count": 27,
   "metadata": {},
   "outputs": [],
   "source": [
    "##generated the read ID list\n",
    "mappedids_fn = inbam_fn.replace('.bam', '.mappedids.txt')\n",
    "#!samtools  view -F 4  {inbam_fn} | cut -f 1 | sort | uniq > {mappedids_fn}"
   ]
  },
  {
   "cell_type": "code",
   "execution_count": 28,
   "metadata": {},
   "outputs": [
    {
     "name": "stdout",
     "output_type": "stream",
     "text": [
      "000117a5-6ca6-4eab-a148-aa2db2bfb41b\r\n",
      "00025719-0350-4c9e-8b8c-7563365fcaef\r\n",
      "000262fa-2bf4-40dc-8185-f15c468ffa20\r\n",
      "000319cb-dba3-458d-ae7f-389bf042c64c\r\n",
      "00037873-f345-4f51-921f-8a2ce4768c67\r\n",
      "00040a3b-536c-49c9-ac4e-b87bcb78b92e\r\n",
      "0004bca8-c077-4587-966b-40e14adc6356\r\n",
      "00054e98-252c-4509-b1e9-5a6c0c848436\r\n",
      "00055497-2b4c-43fc-8b5e-0efd8501a6b7\r\n",
      "00062694-060e-4d80-919c-068382f08856\r\n"
     ]
    }
   ],
   "source": [
    "!head {mappedids_fn}"
   ]
  },
  {
   "cell_type": "code",
   "execution_count": 9,
   "metadata": {
    "scrolled": true
   },
   "outputs": [],
   "source": [
    "### generate a temporary folder that holds the batch fast5s\n",
    "TMPOUT_DIR = os.path.join(OUT_DIR, 'tmp')\n",
    "if not os.path.exists(TMPOUT_DIR):\n",
    "    os.makedirs(TMPOUT_DIR)"
   ]
  },
  {
   "cell_type": "code",
   "execution_count": 65,
   "metadata": {},
   "outputs": [],
   "source": [
    "#read in the mapped reads ids\n",
    "mapped_reads = []\n",
    "with open(mappedids_fn) as fh:\n",
    "    for line in fh:\n",
    "        mapped_reads.append(line.rstrip())"
   ]
  },
  {
   "cell_type": "code",
   "execution_count": 67,
   "metadata": {},
   "outputs": [],
   "source": [
    "mapped_reads = set(mapped_reads)"
   ]
  },
  {
   "cell_type": "code",
   "execution_count": null,
   "metadata": {},
   "outputs": [],
   "source": [
    "###go from multies fast5 of mapped reads to single fast5s\n",
    "!multi_to_single_fast5 -i {FAST5IN_DIR} -s {TMPOUT_DIR} -t 10 --recursive\n",
    "!touch {OUT_DIR}/single_fast5.done"
   ]
  },
  {
   "cell_type": "code",
   "execution_count": 68,
   "metadata": {},
   "outputs": [
    {
     "name": "stdout",
     "output_type": "stream",
     "text": [
      "/home/jamila/jamila_Storage/analyses/single_fast5s/germinated_spores/rep1/tmp/20\n",
      "0\n",
      "/home/jamila/jamila_Storage/analyses/single_fast5s/germinated_spores/rep1/tmp/6\n",
      "0\n",
      "/home/jamila/jamila_Storage/analyses/single_fast5s/germinated_spores/rep1/tmp/36\n",
      "0\n",
      "/home/jamila/jamila_Storage/analyses/single_fast5s/germinated_spores/rep1/tmp/61\n",
      "0\n",
      "/home/jamila/jamila_Storage/analyses/single_fast5s/germinated_spores/rep1/tmp/38\n",
      "0\n",
      "/home/jamila/jamila_Storage/analyses/single_fast5s/germinated_spores/rep1/tmp/90\n",
      "0\n",
      "/home/jamila/jamila_Storage/analyses/single_fast5s/germinated_spores/rep1/tmp/10\n",
      "0\n",
      "/home/jamila/jamila_Storage/analyses/single_fast5s/germinated_spores/rep1/tmp/37\n",
      "0\n",
      "/home/jamila/jamila_Storage/analyses/single_fast5s/germinated_spores/rep1/tmp/79\n",
      "0\n",
      "/home/jamila/jamila_Storage/analyses/single_fast5s/germinated_spores/rep1/tmp/83\n",
      "0\n",
      "/home/jamila/jamila_Storage/analyses/single_fast5s/germinated_spores/rep1/tmp/78\n",
      "0\n",
      "/home/jamila/jamila_Storage/analyses/single_fast5s/germinated_spores/rep1/tmp/45\n",
      "0\n",
      "/home/jamila/jamila_Storage/analyses/single_fast5s/germinated_spores/rep1/tmp/80\n",
      "0\n",
      "/home/jamila/jamila_Storage/analyses/single_fast5s/germinated_spores/rep1/tmp/1\n",
      "0\n",
      "/home/jamila/jamila_Storage/analyses/single_fast5s/germinated_spores/rep1/tmp/62\n",
      "0\n",
      "/home/jamila/jamila_Storage/analyses/single_fast5s/germinated_spores/rep1/tmp/67\n",
      "0\n",
      "/home/jamila/jamila_Storage/analyses/single_fast5s/germinated_spores/rep1/tmp/54\n",
      "0\n",
      "/home/jamila/jamila_Storage/analyses/single_fast5s/germinated_spores/rep1/tmp/27\n",
      "0\n",
      "/home/jamila/jamila_Storage/analyses/single_fast5s/germinated_spores/rep1/tmp/43\n",
      "0\n",
      "/home/jamila/jamila_Storage/analyses/single_fast5s/germinated_spores/rep1/tmp/72\n",
      "0\n",
      "/home/jamila/jamila_Storage/analyses/single_fast5s/germinated_spores/rep1/tmp/58\n",
      "0\n",
      "/home/jamila/jamila_Storage/analyses/single_fast5s/germinated_spores/rep1/tmp/84\n",
      "0\n",
      "/home/jamila/jamila_Storage/analyses/single_fast5s/germinated_spores/rep1/tmp/13\n",
      "0\n",
      "/home/jamila/jamila_Storage/analyses/single_fast5s/germinated_spores/rep1/tmp/7\n",
      "0\n",
      "/home/jamila/jamila_Storage/analyses/single_fast5s/germinated_spores/rep1/tmp/21\n",
      "0\n",
      "/home/jamila/jamila_Storage/analyses/single_fast5s/germinated_spores/rep1/tmp/82\n",
      "0\n",
      "/home/jamila/jamila_Storage/analyses/single_fast5s/germinated_spores/rep1/tmp/15\n",
      "0\n",
      "/home/jamila/jamila_Storage/analyses/single_fast5s/germinated_spores/rep1/tmp/39\n",
      "0\n",
      "/home/jamila/jamila_Storage/analyses/single_fast5s/germinated_spores/rep1/tmp/65\n",
      "0\n",
      "/home/jamila/jamila_Storage/analyses/single_fast5s/germinated_spores/rep1/tmp/34\n",
      "0\n",
      "/home/jamila/jamila_Storage/analyses/single_fast5s/germinated_spores/rep1/tmp/47\n",
      "0\n",
      "/home/jamila/jamila_Storage/analyses/single_fast5s/germinated_spores/rep1/tmp/5\n",
      "0\n",
      "/home/jamila/jamila_Storage/analyses/single_fast5s/germinated_spores/rep1/tmp/30\n",
      "0\n",
      "/home/jamila/jamila_Storage/analyses/single_fast5s/germinated_spores/rep1/tmp/76\n",
      "0\n",
      "/home/jamila/jamila_Storage/analyses/single_fast5s/germinated_spores/rep1/tmp/25\n",
      "0\n",
      "/home/jamila/jamila_Storage/analyses/single_fast5s/germinated_spores/rep1/tmp/24\n",
      "0\n",
      "/home/jamila/jamila_Storage/analyses/single_fast5s/germinated_spores/rep1/tmp/17\n",
      "0\n",
      "/home/jamila/jamila_Storage/analyses/single_fast5s/germinated_spores/rep1/tmp/85\n",
      "0\n",
      "/home/jamila/jamila_Storage/analyses/single_fast5s/germinated_spores/rep1/tmp/63\n",
      "0\n",
      "/home/jamila/jamila_Storage/analyses/single_fast5s/germinated_spores/rep1/tmp/29\n",
      "0\n",
      "/home/jamila/jamila_Storage/analyses/single_fast5s/germinated_spores/rep1/tmp/51\n",
      "0\n",
      "/home/jamila/jamila_Storage/analyses/single_fast5s/germinated_spores/rep1/tmp/31\n",
      "0\n",
      "/home/jamila/jamila_Storage/analyses/single_fast5s/germinated_spores/rep1/tmp/68\n",
      "0\n",
      "/home/jamila/jamila_Storage/analyses/single_fast5s/germinated_spores/rep1/tmp/60\n",
      "0\n",
      "/home/jamila/jamila_Storage/analyses/single_fast5s/germinated_spores/rep1/tmp/70\n",
      "0\n",
      "/home/jamila/jamila_Storage/analyses/single_fast5s/germinated_spores/rep1/tmp/16\n",
      "0\n",
      "/home/jamila/jamila_Storage/analyses/single_fast5s/germinated_spores/rep1/tmp/28\n",
      "0\n",
      "/home/jamila/jamila_Storage/analyses/single_fast5s/germinated_spores/rep1/tmp/86\n",
      "0\n",
      "/home/jamila/jamila_Storage/analyses/single_fast5s/germinated_spores/rep1/tmp/33\n",
      "0\n",
      "/home/jamila/jamila_Storage/analyses/single_fast5s/germinated_spores/rep1/tmp/0\n",
      "0\n",
      "/home/jamila/jamila_Storage/analyses/single_fast5s/germinated_spores/rep1/tmp/52\n",
      "0\n",
      "/home/jamila/jamila_Storage/analyses/single_fast5s/germinated_spores/rep1/tmp/14\n",
      "0\n",
      "/home/jamila/jamila_Storage/analyses/single_fast5s/germinated_spores/rep1/tmp/40\n",
      "0\n",
      "/home/jamila/jamila_Storage/analyses/single_fast5s/germinated_spores/rep1/tmp/23\n",
      "0\n",
      "/home/jamila/jamila_Storage/analyses/single_fast5s/germinated_spores/rep1/tmp/9\n",
      "0\n",
      "/home/jamila/jamila_Storage/analyses/single_fast5s/germinated_spores/rep1/tmp/55\n",
      "0\n",
      "/home/jamila/jamila_Storage/analyses/single_fast5s/germinated_spores/rep1/tmp/87\n",
      "0\n",
      "/home/jamila/jamila_Storage/analyses/single_fast5s/germinated_spores/rep1/tmp/75\n",
      "0\n",
      "/home/jamila/jamila_Storage/analyses/single_fast5s/germinated_spores/rep1/tmp/57\n",
      "0\n",
      "/home/jamila/jamila_Storage/analyses/single_fast5s/germinated_spores/rep1/tmp/49\n",
      "0\n",
      "/home/jamila/jamila_Storage/analyses/single_fast5s/germinated_spores/rep1/tmp/89\n",
      "0\n",
      "/home/jamila/jamila_Storage/analyses/single_fast5s/germinated_spores/rep1/tmp/44\n",
      "0\n",
      "/home/jamila/jamila_Storage/analyses/single_fast5s/germinated_spores/rep1/tmp/19\n",
      "0\n",
      "/home/jamila/jamila_Storage/analyses/single_fast5s/germinated_spores/rep1/tmp/64\n",
      "0\n",
      "/home/jamila/jamila_Storage/analyses/single_fast5s/germinated_spores/rep1/tmp/94\n",
      "0\n",
      "/home/jamila/jamila_Storage/analyses/single_fast5s/germinated_spores/rep1/tmp/59\n",
      "0\n",
      "/home/jamila/jamila_Storage/analyses/single_fast5s/germinated_spores/rep1/tmp/53\n",
      "0\n",
      "/home/jamila/jamila_Storage/analyses/single_fast5s/germinated_spores/rep1/tmp/71\n",
      "0\n",
      "/home/jamila/jamila_Storage/analyses/single_fast5s/germinated_spores/rep1/tmp/50\n",
      "0\n",
      "/home/jamila/jamila_Storage/analyses/single_fast5s/germinated_spores/rep1/tmp/92\n",
      "0\n",
      "/home/jamila/jamila_Storage/analyses/single_fast5s/germinated_spores/rep1/tmp/11\n",
      "0\n",
      "/home/jamila/jamila_Storage/analyses/single_fast5s/germinated_spores/rep1/tmp/35\n",
      "0\n",
      "/home/jamila/jamila_Storage/analyses/single_fast5s/germinated_spores/rep1/tmp/4\n",
      "0\n",
      "/home/jamila/jamila_Storage/analyses/single_fast5s/germinated_spores/rep1/tmp/48\n",
      "0\n",
      "/home/jamila/jamila_Storage/analyses/single_fast5s/germinated_spores/rep1/tmp/93\n",
      "0\n",
      "/home/jamila/jamila_Storage/analyses/single_fast5s/germinated_spores/rep1/tmp/77\n",
      "0\n",
      "/home/jamila/jamila_Storage/analyses/single_fast5s/germinated_spores/rep1/tmp/12\n",
      "0\n",
      "/home/jamila/jamila_Storage/analyses/single_fast5s/germinated_spores/rep1/tmp/73\n",
      "0\n",
      "/home/jamila/jamila_Storage/analyses/single_fast5s/germinated_spores/rep1/tmp/18\n",
      "0\n",
      "/home/jamila/jamila_Storage/analyses/single_fast5s/germinated_spores/rep1/tmp/66\n",
      "0\n",
      "/home/jamila/jamila_Storage/analyses/single_fast5s/germinated_spores/rep1/tmp/22\n",
      "0\n",
      "/home/jamila/jamila_Storage/analyses/single_fast5s/germinated_spores/rep1/tmp/46\n",
      "0\n",
      "/home/jamila/jamila_Storage/analyses/single_fast5s/germinated_spores/rep1/tmp/91\n",
      "0\n",
      "/home/jamila/jamila_Storage/analyses/single_fast5s/germinated_spores/rep1/tmp/41\n",
      "0\n",
      "/home/jamila/jamila_Storage/analyses/single_fast5s/germinated_spores/rep1/tmp/42\n",
      "0\n",
      "/home/jamila/jamila_Storage/analyses/single_fast5s/germinated_spores/rep1/tmp/88\n",
      "0\n",
      "/home/jamila/jamila_Storage/analyses/single_fast5s/germinated_spores/rep1/tmp/8\n",
      "0\n",
      "/home/jamila/jamila_Storage/analyses/single_fast5s/germinated_spores/rep1/tmp/69\n",
      "0\n",
      "/home/jamila/jamila_Storage/analyses/single_fast5s/germinated_spores/rep1/tmp/3\n",
      "0\n",
      "/home/jamila/jamila_Storage/analyses/single_fast5s/germinated_spores/rep1/tmp/32\n",
      "0\n",
      "/home/jamila/jamila_Storage/analyses/single_fast5s/germinated_spores/rep1/tmp/2\n",
      "0\n",
      "/home/jamila/jamila_Storage/analyses/single_fast5s/germinated_spores/rep1/tmp/26\n",
      "0\n",
      "/home/jamila/jamila_Storage/analyses/single_fast5s/germinated_spores/rep1/tmp/81\n",
      "0\n",
      "/home/jamila/jamila_Storage/analyses/single_fast5s/germinated_spores/rep1/tmp/56\n",
      "0\n",
      "/home/jamila/jamila_Storage/analyses/single_fast5s/germinated_spores/rep1/tmp/74\n",
      "0\n"
     ]
    }
   ],
   "source": [
    "#move fast5s you want from tmp to out dir\n",
    "count = 0\n",
    "for directory in os.listdir(TMPOUT_DIR):\n",
    "    directory = os.path.join(TMPOUT_DIR, directory)\n",
    "    #check if path is directory\n",
    "    if os.path.isdir(directory):\n",
    "        print(directory)\n",
    "        fast5s = [fn for fn in os.listdir(directory)]\n",
    "        for fast5_file in fast5s:\n",
    "            if fast5_file.rstrip('.fast5') in mapped_reads:\n",
    "                count = count + 1\n",
    "                #move the files by renaming absolute path\n",
    "                old_fn = os.path.join(directory, fast5_file)\n",
    "                new_fn = os.path.join(OUT_DIR, fast5_file)\n",
    "                os.replace(old_fn, new_fn)\n",
    "        #count = count + len(fast5s)\n",
    "        print(count)\n",
    "        \n",
    "    #print(os.path.isfile(x))"
   ]
  },
  {
   "cell_type": "code",
   "execution_count": 69,
   "metadata": {},
   "outputs": [
    {
     "data": {
      "text/plain": [
       "False"
      ]
     },
     "execution_count": 69,
     "metadata": {},
     "output_type": "execute_result"
    }
   ],
   "source": [
    "count == len(mapped_reads)"
   ]
  },
  {
   "cell_type": "code",
   "execution_count": 74,
   "metadata": {},
   "outputs": [],
   "source": [
    "for x in os.listdir(OUT_DIR):\n",
    "    if not x.endswith('.fast5'):\n",
    "        print(x)"
   ]
  },
  {
   "cell_type": "code",
   "execution_count": 70,
   "metadata": {},
   "outputs": [],
   "source": [
    "#remove tmp folder\n",
    "!rm -r {TMPOUT_DIR}\n"
   ]
  },
  {
   "cell_type": "code",
   "execution_count": 83,
   "metadata": {},
   "outputs": [
    {
     "data": {
      "text/plain": [
       "159573"
      ]
     },
     "execution_count": 83,
     "metadata": {},
     "output_type": "execute_result"
    }
   ],
   "source": [
    "len(mapped_reads)"
   ]
  }
 ],
 "metadata": {
  "kernelspec": {
   "display_name": "Python 3",
   "language": "python",
   "name": "python3"
  },
  "language_info": {
   "codemirror_mode": {
    "name": "ipython",
    "version": 3
   },
   "file_extension": ".py",
   "mimetype": "text/x-python",
   "name": "python",
   "nbconvert_exporter": "python",
   "pygments_lexer": "ipython3",
   "version": "3.7.4"
  }
 },
 "nbformat": 4,
 "nbformat_minor": 2
}
