{
 "cells": [
  {
   "cell_type": "markdown",
   "metadata": {},
   "source": [
    "We need to get from mapped bam file to single fast5s:\n",
    "\n",
    "Input is:\n",
    "* mapped bam file.\n",
    "* multifast5 of fastqs mapped to the reference\n",
    "\n",
    "Output:\n",
    "* folder with single fast5s that are mapped\n",
    "\n",
    "What we need to do:\n",
    "* get ID of all mapped fastqs\n",
    "* extract them in batches\n",
    "* make them single fast5s"
   ]
  },
  {
   "cell_type": "code",
   "execution_count": 1,
   "metadata": {},
   "outputs": [],
   "source": [
    "import os"
   ]
  },
  {
   "cell_type": "markdown",
   "metadata": {},
   "source": [
    "### INPUTS"
   ]
  },
  {
   "cell_type": "markdown",
   "metadata": {},
   "source": [
    "### *****Define directories before running on different sampes*****"
   ]
  },
  {
   "cell_type": "code",
   "execution_count": 2,
   "metadata": {},
   "outputs": [],
   "source": [
    "###define input directories here \n",
    "BAMIN_DIR = '../../analyses/mapping/infected_leaves/infected_leaves_1/'\n",
    "FAST5IN_DIR = '../../data/genomic_data/infected_leaves/workspace_fast5/infected_leaves_1_fast5_out/'\n",
    "OUT_DIR = '../../analyses/single_fast5s/infected_leaves/infected_leaves_1_mapped_single_fast5/'\n"
   ]
  },
  {
   "cell_type": "markdown",
   "metadata": {},
   "source": [
    "### *****Define directories before running on different sampes*****"
   ]
  },
  {
   "cell_type": "code",
   "execution_count": 3,
   "metadata": {},
   "outputs": [],
   "source": [
    "BAMIN_DIR = os.path.abspath(BAMIN_DIR)\n",
    "FAST5IN_DIR = os.path.abspath(FAST5IN_DIR)\n",
    "OUT_DIR = os.path.abspath(OUT_DIR)"
   ]
  },
  {
   "cell_type": "code",
   "execution_count": 4,
   "metadata": {},
   "outputs": [],
   "source": [
    "##catch the bam based on naming convention\n",
    "inbam_fn = [os.path.join(BAMIN_DIR, x) for x in os.listdir(BAMIN_DIR) if x.endswith('sorted.bam')][0]"
   ]
  },
  {
   "cell_type": "code",
   "execution_count": 5,
   "metadata": {},
   "outputs": [],
   "source": [
    "##generated the read ID list\n",
    "mappedids_fn = inbam_fn.replace('.bam', '.mappedids.txt')\n",
    "#!samtools  view -F 4  {inbam_fn} | cut -f 1 | sort | uniq > {mappedids_fn}"
   ]
  },
  {
   "cell_type": "code",
   "execution_count": 6,
   "metadata": {},
   "outputs": [
    {
     "name": "stdout",
     "output_type": "stream",
     "text": [
      "0003494b-454a-48ed-87c0-9faec22d6bd0\r\n",
      "0004d5cd-26df-4ba0-a341-fb3f32264645\r\n",
      "00093707-5718-4485-bbd7-268ab9c83e54\r\n",
      "000a9eb4-c5d4-4672-812b-12b909d24f23\r\n",
      "000bb897-798c-4cfb-b291-9e64b51601f8\r\n",
      "000c799f-6c01-4619-85d6-f6c439f588a4\r\n",
      "000c9183-83a9-47f6-b61b-2f94d947823d\r\n",
      "000d8bb0-4ada-4732-9cde-3f7d83fd133e\r\n",
      "00110c18-5c01-4d7a-b675-2e09d016eca5\r\n",
      "0011de29-3d1a-4536-af2e-c0b8601bcce6\r\n"
     ]
    }
   ],
   "source": [
    "!head {mappedids_fn}"
   ]
  },
  {
   "cell_type": "code",
   "execution_count": 7,
   "metadata": {
    "scrolled": true
   },
   "outputs": [],
   "source": [
    "### generate a temporary folder that holds the batches of fast5\n",
    "TMPOUT_DIR = os.path.join(OUT_DIR, 'tmp')\n",
    "if not os.path.exists(TMPOUT_DIR):\n",
    "    os.makedirs(TMPOUT_DIR)"
   ]
  },
  {
   "cell_type": "code",
   "execution_count": 8,
   "metadata": {},
   "outputs": [],
   "source": [
    "#read in the mapped reads ids\n",
    "mapped_reads = []\n",
    "with open(mappedids_fn) as fh:\n",
    "    for line in fh:\n",
    "        mapped_reads.append(line.rstrip())"
   ]
  },
  {
   "cell_type": "code",
   "execution_count": 9,
   "metadata": {},
   "outputs": [],
   "source": [
    "mapped_reads = set(mapped_reads)"
   ]
  },
  {
   "cell_type": "code",
   "execution_count": null,
   "metadata": {},
   "outputs": [
    {
     "name": "stdout",
     "output_type": "stream",
     "text": [
      "\\ 180 of 792|##########                                     | 22% ETA:  11:55:22\r"
     ]
    }
   ],
   "source": [
    "###go from multies fast5 of mapped reads to single fast5s\n",
    "!multi_to_single_fast5 -i {FAST5IN_DIR} -s {TMPOUT_DIR} -t 10 --recursive\n",
    "!touch {OUT_DIR}/single_fast5.done"
   ]
  },
  {
   "cell_type": "code",
   "execution_count": 47,
   "metadata": {},
   "outputs": [
    {
     "name": "stdout",
     "output_type": "stream",
     "text": [
      "/home/jamila/jamila_Storage/analyses/single_fast5s/infected_leaves/infected_leaves_2_mapped_single_fast5/tmp/113\n",
      "85\n",
      "/home/jamila/jamila_Storage/analyses/single_fast5s/infected_leaves/infected_leaves_2_mapped_single_fast5/tmp/137\n",
      "180\n",
      "/home/jamila/jamila_Storage/analyses/single_fast5s/infected_leaves/infected_leaves_2_mapped_single_fast5/tmp/146\n",
      "273\n",
      "/home/jamila/jamila_Storage/analyses/single_fast5s/infected_leaves/infected_leaves_2_mapped_single_fast5/tmp/188\n",
      "376\n",
      "/home/jamila/jamila_Storage/analyses/single_fast5s/infected_leaves/infected_leaves_2_mapped_single_fast5/tmp/20\n",
      "470\n",
      "/home/jamila/jamila_Storage/analyses/single_fast5s/infected_leaves/infected_leaves_2_mapped_single_fast5/tmp/155\n",
      "564\n",
      "/home/jamila/jamila_Storage/analyses/single_fast5s/infected_leaves/infected_leaves_2_mapped_single_fast5/tmp/6\n",
      "651\n",
      "/home/jamila/jamila_Storage/analyses/single_fast5s/infected_leaves/infected_leaves_2_mapped_single_fast5/tmp/36\n",
      "748\n",
      "/home/jamila/jamila_Storage/analyses/single_fast5s/infected_leaves/infected_leaves_2_mapped_single_fast5/tmp/127\n",
      "844\n",
      "/home/jamila/jamila_Storage/analyses/single_fast5s/infected_leaves/infected_leaves_2_mapped_single_fast5/tmp/61\n",
      "924\n",
      "/home/jamila/jamila_Storage/analyses/single_fast5s/infected_leaves/infected_leaves_2_mapped_single_fast5/tmp/162\n",
      "1014\n",
      "/home/jamila/jamila_Storage/analyses/single_fast5s/infected_leaves/infected_leaves_2_mapped_single_fast5/tmp/163\n",
      "1125\n",
      "/home/jamila/jamila_Storage/analyses/single_fast5s/infected_leaves/infected_leaves_2_mapped_single_fast5/tmp/38\n",
      "1210\n",
      "/home/jamila/jamila_Storage/analyses/single_fast5s/infected_leaves/infected_leaves_2_mapped_single_fast5/tmp/134\n",
      "1315\n",
      "/home/jamila/jamila_Storage/analyses/single_fast5s/infected_leaves/infected_leaves_2_mapped_single_fast5/tmp/173\n",
      "1416\n",
      "/home/jamila/jamila_Storage/analyses/single_fast5s/infected_leaves/infected_leaves_2_mapped_single_fast5/tmp/132\n",
      "1523\n",
      "/home/jamila/jamila_Storage/analyses/single_fast5s/infected_leaves/infected_leaves_2_mapped_single_fast5/tmp/106\n",
      "1618\n",
      "/home/jamila/jamila_Storage/analyses/single_fast5s/infected_leaves/infected_leaves_2_mapped_single_fast5/tmp/90\n",
      "1734\n",
      "/home/jamila/jamila_Storage/analyses/single_fast5s/infected_leaves/infected_leaves_2_mapped_single_fast5/tmp/10\n",
      "1828\n",
      "/home/jamila/jamila_Storage/analyses/single_fast5s/infected_leaves/infected_leaves_2_mapped_single_fast5/tmp/37\n",
      "1919\n",
      "/home/jamila/jamila_Storage/analyses/single_fast5s/infected_leaves/infected_leaves_2_mapped_single_fast5/tmp/144\n",
      "1998\n",
      "/home/jamila/jamila_Storage/analyses/single_fast5s/infected_leaves/infected_leaves_2_mapped_single_fast5/tmp/130\n",
      "2092\n",
      "/home/jamila/jamila_Storage/analyses/single_fast5s/infected_leaves/infected_leaves_2_mapped_single_fast5/tmp/110\n",
      "2199\n",
      "/home/jamila/jamila_Storage/analyses/single_fast5s/infected_leaves/infected_leaves_2_mapped_single_fast5/tmp/79\n",
      "2302\n",
      "/home/jamila/jamila_Storage/analyses/single_fast5s/infected_leaves/infected_leaves_2_mapped_single_fast5/tmp/161\n",
      "2407\n",
      "/home/jamila/jamila_Storage/analyses/single_fast5s/infected_leaves/infected_leaves_2_mapped_single_fast5/tmp/83\n",
      "2499\n",
      "/home/jamila/jamila_Storage/analyses/single_fast5s/infected_leaves/infected_leaves_2_mapped_single_fast5/tmp/78\n",
      "2613\n",
      "/home/jamila/jamila_Storage/analyses/single_fast5s/infected_leaves/infected_leaves_2_mapped_single_fast5/tmp/149\n",
      "2707\n",
      "/home/jamila/jamila_Storage/analyses/single_fast5s/infected_leaves/infected_leaves_2_mapped_single_fast5/tmp/157\n",
      "2803\n",
      "/home/jamila/jamila_Storage/analyses/single_fast5s/infected_leaves/infected_leaves_2_mapped_single_fast5/tmp/124\n",
      "2904\n",
      "/home/jamila/jamila_Storage/analyses/single_fast5s/infected_leaves/infected_leaves_2_mapped_single_fast5/tmp/167\n",
      "3007\n",
      "/home/jamila/jamila_Storage/analyses/single_fast5s/infected_leaves/infected_leaves_2_mapped_single_fast5/tmp/97\n",
      "3093\n",
      "/home/jamila/jamila_Storage/analyses/single_fast5s/infected_leaves/infected_leaves_2_mapped_single_fast5/tmp/45\n",
      "3177\n",
      "/home/jamila/jamila_Storage/analyses/single_fast5s/infected_leaves/infected_leaves_2_mapped_single_fast5/tmp/107\n",
      "3288\n",
      "/home/jamila/jamila_Storage/analyses/single_fast5s/infected_leaves/infected_leaves_2_mapped_single_fast5/tmp/80\n",
      "3385\n",
      "/home/jamila/jamila_Storage/analyses/single_fast5s/infected_leaves/infected_leaves_2_mapped_single_fast5/tmp/105\n",
      "3486\n",
      "/home/jamila/jamila_Storage/analyses/single_fast5s/infected_leaves/infected_leaves_2_mapped_single_fast5/tmp/189\n",
      "3579\n",
      "/home/jamila/jamila_Storage/analyses/single_fast5s/infected_leaves/infected_leaves_2_mapped_single_fast5/tmp/123\n",
      "3667\n",
      "/home/jamila/jamila_Storage/analyses/single_fast5s/infected_leaves/infected_leaves_2_mapped_single_fast5/tmp/1\n",
      "3756\n",
      "/home/jamila/jamila_Storage/analyses/single_fast5s/infected_leaves/infected_leaves_2_mapped_single_fast5/tmp/62\n",
      "3849\n",
      "/home/jamila/jamila_Storage/analyses/single_fast5s/infected_leaves/infected_leaves_2_mapped_single_fast5/tmp/67\n",
      "3940\n",
      "/home/jamila/jamila_Storage/analyses/single_fast5s/infected_leaves/infected_leaves_2_mapped_single_fast5/tmp/54\n",
      "4043\n",
      "/home/jamila/jamila_Storage/analyses/single_fast5s/infected_leaves/infected_leaves_2_mapped_single_fast5/tmp/158\n",
      "4140\n",
      "/home/jamila/jamila_Storage/analyses/single_fast5s/infected_leaves/infected_leaves_2_mapped_single_fast5/tmp/27\n",
      "4228\n",
      "/home/jamila/jamila_Storage/analyses/single_fast5s/infected_leaves/infected_leaves_2_mapped_single_fast5/tmp/139\n",
      "4316\n",
      "/home/jamila/jamila_Storage/analyses/single_fast5s/infected_leaves/infected_leaves_2_mapped_single_fast5/tmp/43\n",
      "4411\n",
      "/home/jamila/jamila_Storage/analyses/single_fast5s/infected_leaves/infected_leaves_2_mapped_single_fast5/tmp/72\n",
      "4503\n",
      "/home/jamila/jamila_Storage/analyses/single_fast5s/infected_leaves/infected_leaves_2_mapped_single_fast5/tmp/58\n",
      "4595\n",
      "/home/jamila/jamila_Storage/analyses/single_fast5s/infected_leaves/infected_leaves_2_mapped_single_fast5/tmp/181\n",
      "4711\n",
      "/home/jamila/jamila_Storage/analyses/single_fast5s/infected_leaves/infected_leaves_2_mapped_single_fast5/tmp/159\n",
      "4802\n",
      "/home/jamila/jamila_Storage/analyses/single_fast5s/infected_leaves/infected_leaves_2_mapped_single_fast5/tmp/119\n",
      "4902\n",
      "/home/jamila/jamila_Storage/analyses/single_fast5s/infected_leaves/infected_leaves_2_mapped_single_fast5/tmp/84\n",
      "5006\n",
      "/home/jamila/jamila_Storage/analyses/single_fast5s/infected_leaves/infected_leaves_2_mapped_single_fast5/tmp/13\n",
      "5107\n",
      "/home/jamila/jamila_Storage/analyses/single_fast5s/infected_leaves/infected_leaves_2_mapped_single_fast5/tmp/190\n",
      "5216\n",
      "/home/jamila/jamila_Storage/analyses/single_fast5s/infected_leaves/infected_leaves_2_mapped_single_fast5/tmp/7\n",
      "5296\n",
      "/home/jamila/jamila_Storage/analyses/single_fast5s/infected_leaves/infected_leaves_2_mapped_single_fast5/tmp/21\n",
      "5390\n",
      "/home/jamila/jamila_Storage/analyses/single_fast5s/infected_leaves/infected_leaves_2_mapped_single_fast5/tmp/111\n",
      "5497\n",
      "/home/jamila/jamila_Storage/analyses/single_fast5s/infected_leaves/infected_leaves_2_mapped_single_fast5/tmp/166\n",
      "5609\n",
      "/home/jamila/jamila_Storage/analyses/single_fast5s/infected_leaves/infected_leaves_2_mapped_single_fast5/tmp/138\n",
      "5718\n",
      "/home/jamila/jamila_Storage/analyses/single_fast5s/infected_leaves/infected_leaves_2_mapped_single_fast5/tmp/128\n",
      "5834\n",
      "/home/jamila/jamila_Storage/analyses/single_fast5s/infected_leaves/infected_leaves_2_mapped_single_fast5/tmp/82\n",
      "5924\n",
      "/home/jamila/jamila_Storage/analyses/single_fast5s/infected_leaves/infected_leaves_2_mapped_single_fast5/tmp/15\n",
      "6020\n",
      "/home/jamila/jamila_Storage/analyses/single_fast5s/infected_leaves/infected_leaves_2_mapped_single_fast5/tmp/102\n",
      "6137\n",
      "/home/jamila/jamila_Storage/analyses/single_fast5s/infected_leaves/infected_leaves_2_mapped_single_fast5/tmp/39\n",
      "6222\n",
      "/home/jamila/jamila_Storage/analyses/single_fast5s/infected_leaves/infected_leaves_2_mapped_single_fast5/tmp/180\n",
      "6308\n",
      "/home/jamila/jamila_Storage/analyses/single_fast5s/infected_leaves/infected_leaves_2_mapped_single_fast5/tmp/65\n",
      "6397\n",
      "/home/jamila/jamila_Storage/analyses/single_fast5s/infected_leaves/infected_leaves_2_mapped_single_fast5/tmp/115\n",
      "6484\n",
      "/home/jamila/jamila_Storage/analyses/single_fast5s/infected_leaves/infected_leaves_2_mapped_single_fast5/tmp/126\n",
      "6573\n",
      "/home/jamila/jamila_Storage/analyses/single_fast5s/infected_leaves/infected_leaves_2_mapped_single_fast5/tmp/117\n",
      "6673\n",
      "/home/jamila/jamila_Storage/analyses/single_fast5s/infected_leaves/infected_leaves_2_mapped_single_fast5/tmp/133\n",
      "6773\n",
      "/home/jamila/jamila_Storage/analyses/single_fast5s/infected_leaves/infected_leaves_2_mapped_single_fast5/tmp/95\n",
      "6876\n",
      "/home/jamila/jamila_Storage/analyses/single_fast5s/infected_leaves/infected_leaves_2_mapped_single_fast5/tmp/34\n",
      "6973\n",
      "/home/jamila/jamila_Storage/analyses/single_fast5s/infected_leaves/infected_leaves_2_mapped_single_fast5/tmp/47\n",
      "7071\n",
      "/home/jamila/jamila_Storage/analyses/single_fast5s/infected_leaves/infected_leaves_2_mapped_single_fast5/tmp/5\n",
      "7164\n",
      "/home/jamila/jamila_Storage/analyses/single_fast5s/infected_leaves/infected_leaves_2_mapped_single_fast5/tmp/185\n",
      "7294\n",
      "/home/jamila/jamila_Storage/analyses/single_fast5s/infected_leaves/infected_leaves_2_mapped_single_fast5/tmp/112\n",
      "7380\n",
      "/home/jamila/jamila_Storage/analyses/single_fast5s/infected_leaves/infected_leaves_2_mapped_single_fast5/tmp/30\n",
      "7481\n",
      "/home/jamila/jamila_Storage/analyses/single_fast5s/infected_leaves/infected_leaves_2_mapped_single_fast5/tmp/142\n"
     ]
    },
    {
     "name": "stdout",
     "output_type": "stream",
     "text": [
      "7567\n",
      "/home/jamila/jamila_Storage/analyses/single_fast5s/infected_leaves/infected_leaves_2_mapped_single_fast5/tmp/76\n",
      "7648\n",
      "/home/jamila/jamila_Storage/analyses/single_fast5s/infected_leaves/infected_leaves_2_mapped_single_fast5/tmp/168\n",
      "7734\n",
      "/home/jamila/jamila_Storage/analyses/single_fast5s/infected_leaves/infected_leaves_2_mapped_single_fast5/tmp/25\n",
      "7827\n",
      "/home/jamila/jamila_Storage/analyses/single_fast5s/infected_leaves/infected_leaves_2_mapped_single_fast5/tmp/24\n",
      "7934\n",
      "/home/jamila/jamila_Storage/analyses/single_fast5s/infected_leaves/infected_leaves_2_mapped_single_fast5/tmp/17\n",
      "8032\n",
      "/home/jamila/jamila_Storage/analyses/single_fast5s/infected_leaves/infected_leaves_2_mapped_single_fast5/tmp/85\n",
      "8141\n",
      "/home/jamila/jamila_Storage/analyses/single_fast5s/infected_leaves/infected_leaves_2_mapped_single_fast5/tmp/63\n",
      "8239\n",
      "/home/jamila/jamila_Storage/analyses/single_fast5s/infected_leaves/infected_leaves_2_mapped_single_fast5/tmp/114\n",
      "8343\n",
      "/home/jamila/jamila_Storage/analyses/single_fast5s/infected_leaves/infected_leaves_2_mapped_single_fast5/tmp/29\n",
      "8447\n",
      "/home/jamila/jamila_Storage/analyses/single_fast5s/infected_leaves/infected_leaves_2_mapped_single_fast5/tmp/51\n",
      "8535\n",
      "/home/jamila/jamila_Storage/analyses/single_fast5s/infected_leaves/infected_leaves_2_mapped_single_fast5/tmp/31\n",
      "8628\n",
      "/home/jamila/jamila_Storage/analyses/single_fast5s/infected_leaves/infected_leaves_2_mapped_single_fast5/tmp/103\n",
      "8733\n",
      "/home/jamila/jamila_Storage/analyses/single_fast5s/infected_leaves/infected_leaves_2_mapped_single_fast5/tmp/68\n",
      "8850\n",
      "/home/jamila/jamila_Storage/analyses/single_fast5s/infected_leaves/infected_leaves_2_mapped_single_fast5/tmp/60\n",
      "8941\n",
      "/home/jamila/jamila_Storage/analyses/single_fast5s/infected_leaves/infected_leaves_2_mapped_single_fast5/tmp/164\n",
      "9034\n",
      "/home/jamila/jamila_Storage/analyses/single_fast5s/infected_leaves/infected_leaves_2_mapped_single_fast5/tmp/70\n",
      "9134\n",
      "/home/jamila/jamila_Storage/analyses/single_fast5s/infected_leaves/infected_leaves_2_mapped_single_fast5/tmp/16\n",
      "9228\n",
      "/home/jamila/jamila_Storage/analyses/single_fast5s/infected_leaves/infected_leaves_2_mapped_single_fast5/tmp/98\n",
      "9334\n",
      "/home/jamila/jamila_Storage/analyses/single_fast5s/infected_leaves/infected_leaves_2_mapped_single_fast5/tmp/151\n",
      "9421\n",
      "/home/jamila/jamila_Storage/analyses/single_fast5s/infected_leaves/infected_leaves_2_mapped_single_fast5/tmp/171\n",
      "9502\n",
      "/home/jamila/jamila_Storage/analyses/single_fast5s/infected_leaves/infected_leaves_2_mapped_single_fast5/tmp/104\n",
      "9603\n",
      "/home/jamila/jamila_Storage/analyses/single_fast5s/infected_leaves/infected_leaves_2_mapped_single_fast5/tmp/28\n",
      "9692\n",
      "/home/jamila/jamila_Storage/analyses/single_fast5s/infected_leaves/infected_leaves_2_mapped_single_fast5/tmp/186\n",
      "9795\n",
      "/home/jamila/jamila_Storage/analyses/single_fast5s/infected_leaves/infected_leaves_2_mapped_single_fast5/tmp/86\n",
      "9879\n",
      "/home/jamila/jamila_Storage/analyses/single_fast5s/infected_leaves/infected_leaves_2_mapped_single_fast5/tmp/118\n",
      "9978\n",
      "/home/jamila/jamila_Storage/analyses/single_fast5s/infected_leaves/infected_leaves_2_mapped_single_fast5/tmp/136\n",
      "10084\n",
      "/home/jamila/jamila_Storage/analyses/single_fast5s/infected_leaves/infected_leaves_2_mapped_single_fast5/tmp/33\n",
      "10186\n",
      "/home/jamila/jamila_Storage/analyses/single_fast5s/infected_leaves/infected_leaves_2_mapped_single_fast5/tmp/183\n",
      "10313\n",
      "/home/jamila/jamila_Storage/analyses/single_fast5s/infected_leaves/infected_leaves_2_mapped_single_fast5/tmp/109\n",
      "10404\n",
      "/home/jamila/jamila_Storage/analyses/single_fast5s/infected_leaves/infected_leaves_2_mapped_single_fast5/tmp/0\n",
      "10496\n",
      "/home/jamila/jamila_Storage/analyses/single_fast5s/infected_leaves/infected_leaves_2_mapped_single_fast5/tmp/176\n",
      "10589\n",
      "/home/jamila/jamila_Storage/analyses/single_fast5s/infected_leaves/infected_leaves_2_mapped_single_fast5/tmp/52\n",
      "10693\n",
      "/home/jamila/jamila_Storage/analyses/single_fast5s/infected_leaves/infected_leaves_2_mapped_single_fast5/tmp/148\n",
      "10794\n",
      "/home/jamila/jamila_Storage/analyses/single_fast5s/infected_leaves/infected_leaves_2_mapped_single_fast5/tmp/14\n",
      "10899\n",
      "/home/jamila/jamila_Storage/analyses/single_fast5s/infected_leaves/infected_leaves_2_mapped_single_fast5/tmp/40\n",
      "10989\n",
      "/home/jamila/jamila_Storage/analyses/single_fast5s/infected_leaves/infected_leaves_2_mapped_single_fast5/tmp/121\n",
      "11083\n",
      "/home/jamila/jamila_Storage/analyses/single_fast5s/infected_leaves/infected_leaves_2_mapped_single_fast5/tmp/23\n",
      "11174\n",
      "/home/jamila/jamila_Storage/analyses/single_fast5s/infected_leaves/infected_leaves_2_mapped_single_fast5/tmp/9\n",
      "11268\n",
      "/home/jamila/jamila_Storage/analyses/single_fast5s/infected_leaves/infected_leaves_2_mapped_single_fast5/tmp/172\n",
      "11365\n",
      "/home/jamila/jamila_Storage/analyses/single_fast5s/infected_leaves/infected_leaves_2_mapped_single_fast5/tmp/152\n",
      "11460\n",
      "/home/jamila/jamila_Storage/analyses/single_fast5s/infected_leaves/infected_leaves_2_mapped_single_fast5/tmp/156\n",
      "11559\n",
      "/home/jamila/jamila_Storage/analyses/single_fast5s/infected_leaves/infected_leaves_2_mapped_single_fast5/tmp/174\n",
      "11657\n",
      "/home/jamila/jamila_Storage/analyses/single_fast5s/infected_leaves/infected_leaves_2_mapped_single_fast5/tmp/179\n",
      "11752\n",
      "/home/jamila/jamila_Storage/analyses/single_fast5s/infected_leaves/infected_leaves_2_mapped_single_fast5/tmp/187\n",
      "11842\n",
      "/home/jamila/jamila_Storage/analyses/single_fast5s/infected_leaves/infected_leaves_2_mapped_single_fast5/tmp/55\n",
      "11942\n",
      "/home/jamila/jamila_Storage/analyses/single_fast5s/infected_leaves/infected_leaves_2_mapped_single_fast5/tmp/140\n",
      "12053\n",
      "/home/jamila/jamila_Storage/analyses/single_fast5s/infected_leaves/infected_leaves_2_mapped_single_fast5/tmp/154\n",
      "12143\n",
      "/home/jamila/jamila_Storage/analyses/single_fast5s/infected_leaves/infected_leaves_2_mapped_single_fast5/tmp/87\n",
      "12251\n",
      "/home/jamila/jamila_Storage/analyses/single_fast5s/infected_leaves/infected_leaves_2_mapped_single_fast5/tmp/131\n",
      "12331\n",
      "/home/jamila/jamila_Storage/analyses/single_fast5s/infected_leaves/infected_leaves_2_mapped_single_fast5/tmp/75\n",
      "12451\n",
      "/home/jamila/jamila_Storage/analyses/single_fast5s/infected_leaves/infected_leaves_2_mapped_single_fast5/tmp/57\n",
      "12554\n",
      "/home/jamila/jamila_Storage/analyses/single_fast5s/infected_leaves/infected_leaves_2_mapped_single_fast5/tmp/178\n",
      "12650\n",
      "/home/jamila/jamila_Storage/analyses/single_fast5s/infected_leaves/infected_leaves_2_mapped_single_fast5/tmp/175\n",
      "12766\n",
      "/home/jamila/jamila_Storage/analyses/single_fast5s/infected_leaves/infected_leaves_2_mapped_single_fast5/tmp/49\n",
      "12855\n",
      "/home/jamila/jamila_Storage/analyses/single_fast5s/infected_leaves/infected_leaves_2_mapped_single_fast5/tmp/184\n",
      "12957\n",
      "/home/jamila/jamila_Storage/analyses/single_fast5s/infected_leaves/infected_leaves_2_mapped_single_fast5/tmp/89\n",
      "13070\n",
      "/home/jamila/jamila_Storage/analyses/single_fast5s/infected_leaves/infected_leaves_2_mapped_single_fast5/tmp/44\n",
      "13162\n",
      "/home/jamila/jamila_Storage/analyses/single_fast5s/infected_leaves/infected_leaves_2_mapped_single_fast5/tmp/19\n",
      "13285\n",
      "/home/jamila/jamila_Storage/analyses/single_fast5s/infected_leaves/infected_leaves_2_mapped_single_fast5/tmp/99\n",
      "13370\n",
      "/home/jamila/jamila_Storage/analyses/single_fast5s/infected_leaves/infected_leaves_2_mapped_single_fast5/tmp/64\n",
      "13475\n",
      "/home/jamila/jamila_Storage/analyses/single_fast5s/infected_leaves/infected_leaves_2_mapped_single_fast5/tmp/94\n",
      "13566\n",
      "/home/jamila/jamila_Storage/analyses/single_fast5s/infected_leaves/infected_leaves_2_mapped_single_fast5/tmp/59\n",
      "13661\n",
      "/home/jamila/jamila_Storage/analyses/single_fast5s/infected_leaves/infected_leaves_2_mapped_single_fast5/tmp/53\n",
      "13756\n",
      "/home/jamila/jamila_Storage/analyses/single_fast5s/infected_leaves/infected_leaves_2_mapped_single_fast5/tmp/150\n",
      "13839\n",
      "/home/jamila/jamila_Storage/analyses/single_fast5s/infected_leaves/infected_leaves_2_mapped_single_fast5/tmp/71\n",
      "13930\n",
      "/home/jamila/jamila_Storage/analyses/single_fast5s/infected_leaves/infected_leaves_2_mapped_single_fast5/tmp/50\n",
      "14021\n",
      "/home/jamila/jamila_Storage/analyses/single_fast5s/infected_leaves/infected_leaves_2_mapped_single_fast5/tmp/92\n",
      "14140\n",
      "/home/jamila/jamila_Storage/analyses/single_fast5s/infected_leaves/infected_leaves_2_mapped_single_fast5/tmp/11\n",
      "14232\n",
      "/home/jamila/jamila_Storage/analyses/single_fast5s/infected_leaves/infected_leaves_2_mapped_single_fast5/tmp/35\n",
      "14324\n",
      "/home/jamila/jamila_Storage/analyses/single_fast5s/infected_leaves/infected_leaves_2_mapped_single_fast5/tmp/4\n",
      "14421\n",
      "/home/jamila/jamila_Storage/analyses/single_fast5s/infected_leaves/infected_leaves_2_mapped_single_fast5/tmp/48\n",
      "14517\n",
      "/home/jamila/jamila_Storage/analyses/single_fast5s/infected_leaves/infected_leaves_2_mapped_single_fast5/tmp/93\n",
      "14626\n",
      "/home/jamila/jamila_Storage/analyses/single_fast5s/infected_leaves/infected_leaves_2_mapped_single_fast5/tmp/120\n",
      "14719\n",
      "/home/jamila/jamila_Storage/analyses/single_fast5s/infected_leaves/infected_leaves_2_mapped_single_fast5/tmp/170\n",
      "14823\n",
      "/home/jamila/jamila_Storage/analyses/single_fast5s/infected_leaves/infected_leaves_2_mapped_single_fast5/tmp/122\n",
      "14914\n",
      "/home/jamila/jamila_Storage/analyses/single_fast5s/infected_leaves/infected_leaves_2_mapped_single_fast5/tmp/100\n",
      "14989\n",
      "/home/jamila/jamila_Storage/analyses/single_fast5s/infected_leaves/infected_leaves_2_mapped_single_fast5/tmp/108\n",
      "15091\n",
      "/home/jamila/jamila_Storage/analyses/single_fast5s/infected_leaves/infected_leaves_2_mapped_single_fast5/tmp/77\n",
      "15183\n",
      "/home/jamila/jamila_Storage/analyses/single_fast5s/infected_leaves/infected_leaves_2_mapped_single_fast5/tmp/12\n",
      "15275\n",
      "/home/jamila/jamila_Storage/analyses/single_fast5s/infected_leaves/infected_leaves_2_mapped_single_fast5/tmp/73\n",
      "15385\n",
      "/home/jamila/jamila_Storage/analyses/single_fast5s/infected_leaves/infected_leaves_2_mapped_single_fast5/tmp/18\n",
      "15480\n",
      "/home/jamila/jamila_Storage/analyses/single_fast5s/infected_leaves/infected_leaves_2_mapped_single_fast5/tmp/169\n",
      "15576\n",
      "/home/jamila/jamila_Storage/analyses/single_fast5s/infected_leaves/infected_leaves_2_mapped_single_fast5/tmp/177\n",
      "15671\n",
      "/home/jamila/jamila_Storage/analyses/single_fast5s/infected_leaves/infected_leaves_2_mapped_single_fast5/tmp/96\n"
     ]
    },
    {
     "name": "stdout",
     "output_type": "stream",
     "text": [
      "15762\n",
      "/home/jamila/jamila_Storage/analyses/single_fast5s/infected_leaves/infected_leaves_2_mapped_single_fast5/tmp/165\n",
      "15876\n",
      "/home/jamila/jamila_Storage/analyses/single_fast5s/infected_leaves/infected_leaves_2_mapped_single_fast5/tmp/66\n",
      "15972\n",
      "/home/jamila/jamila_Storage/analyses/single_fast5s/infected_leaves/infected_leaves_2_mapped_single_fast5/tmp/22\n",
      "16076\n",
      "/home/jamila/jamila_Storage/analyses/single_fast5s/infected_leaves/infected_leaves_2_mapped_single_fast5/tmp/46\n",
      "16178\n",
      "/home/jamila/jamila_Storage/analyses/single_fast5s/infected_leaves/infected_leaves_2_mapped_single_fast5/tmp/91\n",
      "16260\n",
      "/home/jamila/jamila_Storage/analyses/single_fast5s/infected_leaves/infected_leaves_2_mapped_single_fast5/tmp/41\n",
      "16351\n",
      "/home/jamila/jamila_Storage/analyses/single_fast5s/infected_leaves/infected_leaves_2_mapped_single_fast5/tmp/147\n",
      "16436\n",
      "/home/jamila/jamila_Storage/analyses/single_fast5s/infected_leaves/infected_leaves_2_mapped_single_fast5/tmp/42\n",
      "16539\n",
      "/home/jamila/jamila_Storage/analyses/single_fast5s/infected_leaves/infected_leaves_2_mapped_single_fast5/tmp/145\n",
      "16638\n",
      "/home/jamila/jamila_Storage/analyses/single_fast5s/infected_leaves/infected_leaves_2_mapped_single_fast5/tmp/88\n",
      "16730\n",
      "/home/jamila/jamila_Storage/analyses/single_fast5s/infected_leaves/infected_leaves_2_mapped_single_fast5/tmp/8\n",
      "16817\n",
      "/home/jamila/jamila_Storage/analyses/single_fast5s/infected_leaves/infected_leaves_2_mapped_single_fast5/tmp/129\n",
      "16927\n",
      "/home/jamila/jamila_Storage/analyses/single_fast5s/infected_leaves/infected_leaves_2_mapped_single_fast5/tmp/135\n",
      "17020\n",
      "/home/jamila/jamila_Storage/analyses/single_fast5s/infected_leaves/infected_leaves_2_mapped_single_fast5/tmp/153\n",
      "17121\n",
      "/home/jamila/jamila_Storage/analyses/single_fast5s/infected_leaves/infected_leaves_2_mapped_single_fast5/tmp/160\n",
      "17207\n",
      "/home/jamila/jamila_Storage/analyses/single_fast5s/infected_leaves/infected_leaves_2_mapped_single_fast5/tmp/69\n",
      "17317\n",
      "/home/jamila/jamila_Storage/analyses/single_fast5s/infected_leaves/infected_leaves_2_mapped_single_fast5/tmp/3\n",
      "17430\n",
      "/home/jamila/jamila_Storage/analyses/single_fast5s/infected_leaves/infected_leaves_2_mapped_single_fast5/tmp/32\n",
      "17519\n",
      "/home/jamila/jamila_Storage/analyses/single_fast5s/infected_leaves/infected_leaves_2_mapped_single_fast5/tmp/2\n",
      "17624\n",
      "/home/jamila/jamila_Storage/analyses/single_fast5s/infected_leaves/infected_leaves_2_mapped_single_fast5/tmp/26\n",
      "17727\n",
      "/home/jamila/jamila_Storage/analyses/single_fast5s/infected_leaves/infected_leaves_2_mapped_single_fast5/tmp/143\n",
      "17765\n",
      "/home/jamila/jamila_Storage/analyses/single_fast5s/infected_leaves/infected_leaves_2_mapped_single_fast5/tmp/141\n",
      "17860\n",
      "/home/jamila/jamila_Storage/analyses/single_fast5s/infected_leaves/infected_leaves_2_mapped_single_fast5/tmp/81\n",
      "17980\n",
      "/home/jamila/jamila_Storage/analyses/single_fast5s/infected_leaves/infected_leaves_2_mapped_single_fast5/tmp/56\n",
      "18074\n",
      "/home/jamila/jamila_Storage/analyses/single_fast5s/infected_leaves/infected_leaves_2_mapped_single_fast5/tmp/191\n",
      "18153\n",
      "/home/jamila/jamila_Storage/analyses/single_fast5s/infected_leaves/infected_leaves_2_mapped_single_fast5/tmp/116\n",
      "18254\n",
      "/home/jamila/jamila_Storage/analyses/single_fast5s/infected_leaves/infected_leaves_2_mapped_single_fast5/tmp/74\n",
      "18345\n",
      "/home/jamila/jamila_Storage/analyses/single_fast5s/infected_leaves/infected_leaves_2_mapped_single_fast5/tmp/182\n",
      "18443\n",
      "/home/jamila/jamila_Storage/analyses/single_fast5s/infected_leaves/infected_leaves_2_mapped_single_fast5/tmp/101\n",
      "18523\n",
      "/home/jamila/jamila_Storage/analyses/single_fast5s/infected_leaves/infected_leaves_2_mapped_single_fast5/tmp/125\n",
      "18622\n"
     ]
    }
   ],
   "source": [
    "#move fast5s you want from tmp to out dir\n",
    "count = 0\n",
    "for directory in os.listdir(TMPOUT_DIR):\n",
    "    directory = os.path.join(TMPOUT_DIR, directory)\n",
    "    #check if path is directory\n",
    "    if os.path.isdir(directory):\n",
    "        print(directory)\n",
    "        fast5s = [fn for fn in os.listdir(directory)]\n",
    "        for fast5_file in fast5s:\n",
    "            if fast5_file.rstrip('.fast5') in mapped_reads:\n",
    "                count = count + 1\n",
    "                #move the files by renaming absolute path\n",
    "                old_fn = os.path.join(directory, fast5_file)\n",
    "                new_fn = os.path.join(OUT_DIR, fast5_file)\n",
    "                os.replace(old_fn, new_fn)\n",
    "        #count = count + len(fast5s)\n",
    "        print(count)\n",
    "        \n",
    "    #print(os.path.isfile(x))"
   ]
  },
  {
   "cell_type": "code",
   "execution_count": 48,
   "metadata": {},
   "outputs": [
    {
     "data": {
      "text/plain": [
       "False"
      ]
     },
     "execution_count": 48,
     "metadata": {},
     "output_type": "execute_result"
    }
   ],
   "source": [
    "count == len(mapped_reads)"
   ]
  },
  {
   "cell_type": "code",
   "execution_count": 49,
   "metadata": {},
   "outputs": [
    {
     "name": "stdout",
     "output_type": "stream",
     "text": [
      "tmp\n",
      "single_fast5.done\n"
     ]
    }
   ],
   "source": [
    "for x in os.listdir(OUT_DIR):\n",
    "    if not x.endswith('.fast5'):\n",
    "        print(x)"
   ]
  },
  {
   "cell_type": "code",
   "execution_count": 18,
   "metadata": {},
   "outputs": [],
   "source": [
    "#remove tmp folder\n",
    "!rm -r {TMPOUT_DIR}\n"
   ]
  },
  {
   "cell_type": "code",
   "execution_count": 50,
   "metadata": {},
   "outputs": [
    {
     "data": {
      "text/plain": [
       "22879"
      ]
     },
     "execution_count": 50,
     "metadata": {},
     "output_type": "execute_result"
    }
   ],
   "source": [
    "len(mapped_reads)"
   ]
  },
  {
   "cell_type": "code",
   "execution_count": null,
   "metadata": {},
   "outputs": [],
   "source": []
  }
 ],
 "metadata": {
  "kernelspec": {
   "display_name": "Python 3",
   "language": "python",
   "name": "python3"
  },
  "language_info": {
   "codemirror_mode": {
    "name": "ipython",
    "version": 3
   },
   "file_extension": ".py",
   "mimetype": "text/x-python",
   "name": "python",
   "nbconvert_exporter": "python",
   "pygments_lexer": "ipython3",
   "version": "3.7.4"
  }
 },
 "nbformat": 4,
 "nbformat_minor": 2
}
