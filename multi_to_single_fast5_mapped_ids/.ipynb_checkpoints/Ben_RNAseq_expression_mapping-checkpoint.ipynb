{
 "cells": [
  {
   "cell_type": "markdown",
   "metadata": {},
   "source": [
    "Mapping RNAseq reads with Salmon\n",
    "Input:\n",
    "* transcript reference\n",
    "* paired end fastq files\n",
    "\n",
    "Output:\n",
    "* one folder per pair end fastqs"
   ]
  },
  {
   "cell_type": "code",
   "execution_count": 2,
   "metadata": {},
   "outputs": [],
   "source": [
    "import os"
   ]
  },
  {
   "cell_type": "code",
   "execution_count": 14,
   "metadata": {},
   "outputs": [],
   "source": [
    "OUT_DIR = '../../analyses/genes_expression/'\n",
    "FASTQ_DIR = '../../data/expression_data/'\n",
    "reference_fn = '../../data/genomic_resources/Puccinia_graminis_tritici_21-0.transcripts.fa'\n",
    "salmon_exc = '../../../anaconda3/downloads/salmon-latest_linux_x86_64/bin/salmon'"
   ]
  },
  {
   "cell_type": "code",
   "execution_count": 15,
   "metadata": {},
   "outputs": [],
   "source": [
    "OUT_DIR = os.path.abspath(OUT_DIR)\n",
    "FASTQ_DIR = os.path.abspath(FASTQ_DIR)\n",
    "reference_fn = os.path.abspath(reference_fn)\n",
    "salmon_exc = os.path.abspath(salmon_exc)"
   ]
  },
  {
   "cell_type": "code",
   "execution_count": 25,
   "metadata": {},
   "outputs": [
    {
     "name": "stdout",
     "output_type": "stream",
     "text": [
      "Nmu_210_HSRNA_1_CCGTCC_L005_R1_001_val_1.fq.gz\tRW0U1.fastq.gz\tRW5I1.fastq.gz\r\n",
      "Nmu_210_HSRNA_1_CCGTCC_L005_R2_001_val_2.fq.gz\tRW0U2.fastq.gz\tRW5I2.fastq.gz\r\n",
      "Nmu_210_HSRNA_2_GTCCGC_L005_R1_001_val_1.fq.gz\tRW0U3.fastq.gz\tRW5I3.fastq.gz\r\n",
      "Nmu_210_HSRNA_2_GTCCGC_L005_R2_001_val_2.fq.gz\tRW2I1.fastq.gz\tRW6I1.fastq.gz\r\n",
      "Nmu_210_HSRNA_3_GTGAAA_L005_R1_001_val_1.fq.gz\tRW2I2.fastq.gz\tRW6I2.fastq.gz\r\n",
      "Nmu_210_HSRNA_3_GTGAAA_L005_R2_001_val_2.fq.gz\tRW2I3.fastq.gz\tRW6I3.fastq.gz\r\n",
      "NMu_PGTGS_1_AGTCAA_L005_R1_001_val_1.fq.gz\tRW3I1.fastq.gz\tRW7I1.fastq.gz\r\n",
      "NMu_PGTGS_1_AGTCAA_L005_R2_001_val_2.fq.gz\tRW3I2.fastq.gz\tRW7I2.fastq.gz\r\n",
      "Nmu_PGTGS_2_AGTTCC_L005_R1_001_val_1.fq.gz\tRW3I3.fastq.gz\tRW7I3.fastq.gz\r\n",
      "Nmu_PGTGS_2_AGTTCC_L005_R2_001_val_2.fq.gz\tRW4I1.fastq.gz\tunclear\r\n",
      "Nmu_PGTGS_3_ATGTCA_L005_R1_001_val_1.fq.gz\tRW4I2.fastq.gz\r\n",
      "Nmu_PGTGS_3_ATGTCA_L005_R2_001_val_2.fq.gz\tRW4I3.fastq.gz\r\n"
     ]
    }
   ],
   "source": [
    "!ls {FASTQ_DIR}"
   ]
  },
  {
   "cell_type": "code",
   "execution_count": 17,
   "metadata": {},
   "outputs": [
    {
     "name": "stdout",
     "output_type": "stream",
     "text": [
      "Version Info:   This is the most recent version of salmon.\r\n",
      "salmon v1.1.0\r\n",
      "\r\n",
      "Usage:  salmon -h|--help or \r\n",
      "        salmon -v|--version or \r\n",
      "        salmon -c|--cite or \r\n",
      "        salmon [--no-version-check] <COMMAND> [-h | options]\r\n",
      "\r\n",
      "Commands:\r\n",
      "     index Create a salmon index\r\n",
      "     quant Quantify a sample\r\n",
      "     alevin single cell analysis\r\n",
      "     swim  Perform super-secret operation\r\n",
      "     quantmerge Merge multiple quantifications into a single file\r\n"
     ]
    }
   ],
   "source": [
    "#index reference\n",
    "!{salmon_exc} version"
   ]
  },
  {
   "cell_type": "code",
   "execution_count": 21,
   "metadata": {},
   "outputs": [],
   "source": [
    "salmon_index = reference_fn.replace('.fa', '.fa.salmon.index')"
   ]
  },
  {
   "cell_type": "code",
   "execution_count": 22,
   "metadata": {},
   "outputs": [
    {
     "name": "stdout",
     "output_type": "stream",
     "text": [
      "Version Info:   This is the most recent version of salmon.\n",
      "index [\"/home/jamila/jamila_Storage/data/genomic_resources/Puccinia_graminis_tritici_21-0.transcripts.fa.salmon.index\"] did not previously exist  . . . creating it\n",
      "[2020-03-02 15:01:44.177] [jLog] [info] building index\n",
      "out : /home/jamila/jamila_Storage/data/genomic_resources/Puccinia_graminis_tritici_21-0.transcripts.fa.salmon.index\n",
      "\u001b[00m[2020-03-02 15:01:44.177] [puff::index::jointLog] [info] Running fixFasta\n",
      "\u001b[00m\n",
      "[Step 1 of 4] : counting k-mers\n",
      "\n",
      "\u001b[33m\u001b[1m[2020-03-02 15:01:45.957] [puff::index::jointLog] [warning] Removed 865 transcripts that were sequence duplicates of indexed transcripts.\n",
      "\u001b[00m\u001b[33m\u001b[1m[2020-03-02 15:01:45.957] [puff::index::jointLog] [warning] If you wish to retain duplicate transcripts, please use the `--keepDuplicates` flag\n",
      "\u001b[00m\u001b[00m[2020-03-02 15:01:45.958] [puff::index::jointLog] [info] Replaced 0 non-ATCG nucleotides\n",
      "\u001b[00m\u001b[00m[2020-03-02 15:01:45.958] [puff::index::jointLog] [info] Clipped poly-A tails from 3 transcripts\n",
      "\u001b[00mwrote 37708 cleaned references\n",
      "seqHash 256 : 4b493e62e5ef2100006929ddbddb10797cdcce002881460adddcd2f29305dfac\n",
      "seqHash 512 : 3890c90844f7a584ceb5ca6eee5645b9f99d21d4c8e2f1a5c0a007221134dfb3a84f9387e8a6a7faee30bd3979fc5c9c13db5635a230515de9d8e972d7bf026b\n",
      "nameHash 256 : fcd946308dc8c13ffa7281521c20d5f8de79e2e8b4a5f3970639ccfe8ceb057e\n",
      "nameHash 512 : 11474aad28f2d7e996e41e3b8da1006ba3400b0b2081b63201490e24d94409fa549a9ea5b5542ffba333bf3833a832cb6a4bf9218e2018088bbd3fed2d85eecc\n",
      "\u001b[00m[2020-03-02 15:01:46.124] [puff::index::jointLog] [info] Filter size not provided; estimating from number of distinct k-mers\n",
      "\u001b[00m\u001b[00m[2020-03-02 15:01:46.744] [puff::index::jointLog] [info] ntHll estimated 33117769 distinct k-mers, setting filter size to 2^30\n",
      "\u001b[00mThreads = 2\n",
      "Vertex length = 31\n",
      "Hash functions = 5\n",
      "Filter size = 1073741824\n",
      "Capacity = 2\n",
      "Files: \n",
      "/home/jamila/jamila_Storage/data/genomic_resources/Puccinia_graminis_tritici_21-0.transcripts.fa.salmon.index/ref_k31_fixed.fa\n",
      "--------------------------------------------------------------------------------\n",
      "Round 0, 0:1073741824\n",
      "Pass\tFilling\tFiltering\n",
      "1\t7\t27\t\n",
      "2\t2\t0\n",
      "True junctions count = 347781\n",
      "False junctions count = 394909\n",
      "Hash table size = 742690\n",
      "Candidate marks count = 1443590\n",
      "--------------------------------------------------------------------------------\n",
      "Reallocating bifurcations time: 0\n",
      "True marks count: 980099\n",
      "Edges construction time: 11\n",
      "--------------------------------------------------------------------------------\n",
      "Distinct junctions = 347781\n",
      "\n",
      "approximateContigTotalLength: 24467393\n",
      "counters:\n",
      "5142 157 148 6\n",
      "contig count: 538160 element count: 49426316 complex nodes: 5453\n",
      "size: 49426316\n",
      "# of ones in rank vector: 538159\n",
      "size: 49426316\n",
      "\u001b[00m[2020-03-02 15:02:38.091] [puff::index::jointLog] [info] Setting the index/BinaryGfa directory /home/jamila/jamila_Storage/data/genomic_resources/Puccinia_graminis_tritici_21-0.transcripts.fa.salmon.index\n",
      "\u001b[00msize = 49426316\n",
      "-----------------------------------------\n",
      "| Loading contigs | Time = 8.3438 ms\n",
      "-----------------------------------------\n",
      "size = 49426316\n",
      "-----------------------------------------\n",
      "| Loading contig boundaries | Time = 4.2662 ms\n",
      "-----------------------------------------\n",
      "Number of ones: 538159\n",
      "Number of ones per inventory item: 512\n",
      "Inventory entries filled: 1052\n",
      "\u001b[00m[2020-03-02 15:02:38.212] [puff::index::jointLog] [info] Done wrapping the rank vector with a rank9sel structure.\n",
      "\u001b[00m\u001b[00m[2020-03-02 15:02:38.480] [puff::index::jointLog] [info] contig count for validation: 538159\n",
      "\u001b[00m\u001b[00m[2020-03-02 15:02:38.666] [puff::index::jointLog] [info] Total # of Contigs : 538,159\n",
      "\u001b[00m\u001b[00m[2020-03-02 15:02:38.666] [puff::index::jointLog] [info] Total # of numerical Contigs : 538,159\n",
      "\u001b[00m\u001b[00m[2020-03-02 15:02:39.363] [puff::index::jointLog] [info] \n",
      "Total # of segments we have position for : 538,159\n",
      "\u001b[00m\u001b[00m[2020-03-02 15:02:39.396] [puff::index::jointLog] [info] total contig vec entries 957,684\n",
      "\u001b[00m\u001b[00m[2020-03-02 15:02:39.396] [puff::index::jointLog] [info] bits per offset entry 20\n",
      "\u001b[00m\u001b[00m[2020-03-02 15:02:39.710] [puff::index::jointLog] [info] there were 88,686  equivalence classes\n",
      "\u001b[00m\u001b[00m[2020-03-02 15:02:39.977] [puff::index::jointLog] [info] # segments = 538,159\n",
      "\u001b[00m\u001b[00m[2020-03-02 15:02:39.977] [puff::index::jointLog] [info] total length = 49,426,316\n",
      "\u001b[00m\u001b[00m[2020-03-02 15:02:39.993] [puff::index::jointLog] [info] Reading the reference files ...\n",
      "\u001b[00m\u001b[00m[2020-03-02 15:02:40.210] [puff::index::jointLog] [info] positional integer width = 26\n",
      "\u001b[00m\u001b[00m[2020-03-02 15:02:40.210] [puff::index::jointLog] [info] seqSize = 49,426,316\n",
      "\u001b[00m\u001b[00m[2020-03-02 15:02:40.210] [puff::index::jointLog] [info] rankSize = 49,426,316\n",
      "\u001b[00m\u001b[00m[2020-03-02 15:02:40.210] [puff::index::jointLog] [info] edgeVecSize = 0\n",
      "\u001b[00m\u001b[00m[2020-03-02 15:02:40.210] [puff::index::jointLog] [info] num keys = 33,281,546\n",
      "\u001b[00mfor info, total work write each  : 2.331    total work inram from level 3 : 4.322  total work raw : 25.000 \n",
      "[Building BooPHF]  100  %   elapsed:   0 min 4  sec   remaining:   0 min 0  sec\n",
      "Bitarray       174390272  bits (100.00 %)   (array + ranks )\n",
      "final hash             0  bits (0.00 %) (nb in final hash 0)\n",
      "\u001b[00m[2020-03-02 15:02:44.033] [puff::index::jointLog] [info] mphf size = 20.7889 MB\n",
      "\u001b[00m\u001b[00m[2020-03-02 15:02:44.035] [puff::index::jointLog] [info] chunk size = 24,713,158\n",
      "\u001b[00m\u001b[00m[2020-03-02 15:02:44.035] [puff::index::jointLog] [info] chunk 0 = [0, 24,713,158)\n",
      "\u001b[00m\u001b[00m[2020-03-02 15:02:44.035] [puff::index::jointLog] [info] chunk 1 = [24,713,158, 49,426,286)\n",
      "\u001b[00m\u001b[00m[2020-03-02 15:02:49.304] [puff::index::jointLog] [info] finished populating pos vector\n",
      "\u001b[00m\u001b[00m[2020-03-02 15:02:49.304] [puff::index::jointLog] [info] writing index components\n",
      "\u001b[00m\u001b[00m[2020-03-02 15:02:49.396] [puff::index::jointLog] [info] finished writing dense pufferfish index\n",
      "\u001b[00m[2020-03-02 15:02:49.444] [jLog] [info] done building index\n"
     ]
    }
   ],
   "source": [
    "!{salmon_exc} index -t {reference_fn} -i {salmon_index}"
   ]
  },
  {
   "cell_type": "code",
   "execution_count": 26,
   "metadata": {},
   "outputs": [],
   "source": [
    "fastq_fn_list = [os.path.join(FASTQ_DIR, x) for x in os.listdir(FASTQ_DIR)]"
   ]
  },
  {
   "cell_type": "code",
   "execution_count": 28,
   "metadata": {},
   "outputs": [],
   "source": [
    "fastq_fn_list.sort()"
   ]
  },
  {
   "cell_type": "code",
   "execution_count": null,
   "metadata": {},
   "outputs": [
    {
     "name": "stdout",
     "output_type": "stream",
     "text": [
      "/home/jamila/jamila_Storage/data/expression_data/Nmu_210_HSRNA_1_CCGTCC_L005_R1_001_val_1.fq.gz\n",
      "/home/jamila/jamila_Storage/data/expression_data/Nmu_210_HSRNA_1_CCGTCC_L005_R2_001_val_2.fq.gz\n",
      "Version Info:   This is the most recent version of salmon.\n",
      "### salmon (mapping-based) v1.1.0\n",
      "### [ program ] => salmon \n",
      "### [ command ] => quant \n",
      "### [ index ] => { /home/jamila/jamila_Storage/data/genomic_resources/Puccinia_graminis_tritici_21-0.transcripts.fa.salmon.index }\n",
      "### [ libType ] => { A }\n",
      "### [ mates1 ] => { /home/jamila/jamila_Storage/data/expression_data/Nmu_210_HSRNA_1_CCGTCC_L005_R1_001_val_1.fq.gz }\n",
      "### [ mates2 ] => { /home/jamila/jamila_Storage/data/expression_data/Nmu_210_HSRNA_1_CCGTCC_L005_R2_001_val_2.fq.gz }\n",
      "### [ threads ] => { 8 }\n",
      "### [ validateMappings ] => { }\n",
      "### [ output ] => { /home/jamila/jamila_Storage/analyses/genes_expression/quant/Nmu_210_HSRNA_1_CCGTCC_L005_R1_001_val_1 }\n",
      "Logs will be written to /home/jamila/jamila_Storage/analyses/genes_expression/quant/Nmu_210_HSRNA_1_CCGTCC_L005_R1_001_val_1/logs\n",
      "\u001b[00m[2020-03-02 15:23:36.447] [jointLog] [info] Fragment incompatibility prior below threshold.  Incompatible fragments will be ignored.\n",
      "\u001b[00m\u001b[00m[2020-03-02 15:23:36.447] [jointLog] [info] Usage of --validateMappings implies use of minScoreFraction. Since not explicitly specified, it is being set to 0.65\n",
      "\u001b[00m\u001b[00m[2020-03-02 15:23:36.447] [jointLog] [info] Usage of --validateMappings implies a default consensus slack of 0.2. Setting consensusSlack to 0.35.\n",
      "\u001b[00m\u001b[00m[2020-03-02 15:23:36.447] [jointLog] [info] parsing read library format\n",
      "\u001b[00m\u001b[00m[2020-03-02 15:23:36.447] [jointLog] [info] There is 1 library.\n",
      "\u001b[00m\u001b[00m[2020-03-02 15:23:36.548] [jointLog] [info] Loading pufferfish index\n",
      "\u001b[00m\u001b[00m[2020-03-02 15:23:36.548] [jointLog] [info] Loading dense pufferfish index.\n",
      "\u001b[00m-----------------------------------------\n",
      "| Loading contig table | Time = 36.646 ms\n",
      "-----------------------------------------\n",
      "size = 538160\n",
      "-----------------------------------------\n",
      "| Loading contig offsets | Time = 1.0765 ms\n",
      "-----------------------------------------\n",
      "-----------------------------------------\n",
      "| Loading reference lengths | Time = 159.18 us\n",
      "-----------------------------------------\n",
      "-----------------------------------------\n",
      "| Loading mphf table | Time = 17.037 ms\n",
      "-----------------------------------------\n",
      "size = 49426316\n",
      "Number of ones: 538159\n",
      "Number of ones per inventory item: 512\n",
      "Inventory entries filled: 1052\n",
      "-----------------------------------------\n",
      "| Loading contig boundaries | Time = 113.06 ms\n",
      "-----------------------------------------\n",
      "size = 49426316\n",
      "-----------------------------------------\n",
      "| Loading sequence | Time = 9.6371 ms\n",
      "-----------------------------------------\n",
      "size = 33281546\n",
      "-----------------------------------------\n",
      "| Loading positions | Time = 80.389 ms\n",
      "-----------------------------------------\n",
      "size = 51407184\n",
      "-----------------------------------------\n",
      "| Loading reference sequence | Time = 10.037 ms\n",
      "-----------------------------------------\n",
      "-----------------------------------------\n",
      "| Loading reference accumulative lengths | Time = 315.73 us\n",
      "-----------------------------------------\n",
      "\n",
      "\n",
      "\n",
      "\n",
      "\u001b[00m[2020-03-02 15:23:36.817] [jointLog] [info] done\n",
      "\u001b[00m\u001b[00m[2020-03-02 15:23:36.817] [jointLog] [info] Index contained 37,708 targets\n",
      "\u001b[00m\u001b[00m[2020-03-02 15:23:36.835] [jointLog] [info] Number of decoys : 0\n",
      "\u001b[00m\u001b[00m[2020-03-02 15:23:38.294] [jointLog] [info] Automatically detected most likely library type as IU\n",
      "\u001b[32mprocessed\u001b[31m 500,000 \u001b[32mfragments\u001b[0m\n",
      "\u001b[32mprocessed\u001b[31m 1,000,001 \u001b[32mfragments\u001b[0m\n",
      "\u001b[32mprocessed\u001b[31m 1,500,000 \u001b[32mfragments\u001b[0m\n",
      "\u001b[32mprocessed\u001b[31m 2,000,000 \u001b[32mfragments\u001b[0m\n",
      "\u001b[32mprocessed\u001b[31m 2,500,000 \u001b[32mfragments\u001b[0m\n",
      "\u001b[32mprocessed\u001b[31m 3,000,000 \u001b[32mfragments\u001b[0m\n",
      "\u001b[32mprocessed\u001b[31m 3,500,000 \u001b[32mfragments\u001b[0m\n",
      "\u001b[32mprocessed\u001b[31m 4,000,000 \u001b[32mfragments\u001b[0m\n",
      "\u001b[32mprocessed\u001b[31m 4,500,000 \u001b[32mfragments\u001b[0m\n",
      "\u001b[32mprocessed\u001b[31m 5,000,000 \u001b[32mfragments\u001b[0m\n",
      "\u001b[32mprocessed\u001b[31m 5,500,000 \u001b[32mfragments\u001b[0m\n",
      "\u001b[32mprocessed\u001b[31m 6,000,000 \u001b[32mfragments\u001b[0m\n",
      "\u001b[32mprocessed\u001b[31m 6,500,000 \u001b[32mfragments\u001b[0m\n",
      "\u001b[32mprocessed\u001b[31m 7,000,000 \u001b[32mfragments\u001b[0m\n",
      "\u001b[32mprocessed\u001b[31m 7,500,000 \u001b[32mfragments\u001b[0m\n",
      "\u001b[32mprocessed\u001b[31m 8,000,000 \u001b[32mfragments\u001b[0m\n",
      "\u001b[32mprocessed\u001b[31m 8,500,000 \u001b[32mfragments\u001b[0m\n",
      "\u001b[32mprocessed\u001b[31m 9,000,000 \u001b[32mfragments\u001b[0m\n",
      "\u001b[32mprocessed\u001b[31m 9,500,000 \u001b[32mfragments\u001b[0m\n",
      "\u001b[32mprocessed\u001b[31m 10,000,000 \u001b[32mfragments\u001b[0m\n",
      "\u001b[32mprocessed\u001b[31m 10,500,000 \u001b[32mfragments\u001b[0m\n",
      "\u001b[32mprocessed\u001b[31m 11,000,000 \u001b[32mfragments\u001b[0m\n",
      "\u001b[32mprocessed\u001b[31m 11,500,000 \u001b[32mfragments\u001b[0m\n",
      "\u001b[32mprocessed\u001b[31m 12,000,001 \u001b[32mfragments\u001b[0m\n",
      "\u001b[32mprocessed\u001b[31m 12,500,000 \u001b[32mfragments\u001b[0m\n",
      "\u001b[32mprocessed\u001b[31m 13,000,000 \u001b[32mfragments\u001b[0m\n",
      "\u001b[32mprocessed\u001b[31m 13,500,000 \u001b[32mfragments\u001b[0m\n",
      "\u001b[32mprocessed\u001b[31m 14,000,000 \u001b[32mfragments\u001b[0m\n",
      "\u001b[32mprocessed\u001b[31m 14,500,000 \u001b[32mfragments\u001b[0m\n",
      "\u001b[32mprocessed\u001b[31m 15,000,000 \u001b[32mfragments\u001b[0m\n",
      "\u001b[32mprocessed\u001b[31m 15,500,000 \u001b[32mfragments\u001b[0m\n",
      "\u001b[32mprocessed\u001b[31m 16,000,000 \u001b[32mfragments\u001b[0m\n",
      "\u001b[32mprocessed\u001b[31m 16,500,000 \u001b[32mfragments\u001b[0m\n",
      "\u001b[32mprocessed\u001b[31m 17,000,001 \u001b[32mfragments\u001b[0m\n",
      "\u001b[32mprocessed\u001b[31m 17,500,000 \u001b[32mfragments\u001b[0m\n",
      "\u001b[32mprocessed\u001b[31m 18,000,000 \u001b[32mfragments\u001b[0m\n",
      "\u001b[32mprocessed\u001b[31m 18,500,000 \u001b[32mfragments\u001b[0m\n",
      "\u001b[32mprocessed\u001b[31m 19,000,000 \u001b[32mfragments\u001b[0m\n",
      "\u001b[32mprocessed\u001b[31m 19,500,000 \u001b[32mfragments\u001b[0m\n",
      "\u001b[32mprocessed\u001b[31m 20,000,000 \u001b[32mfragments\u001b[0m\n",
      "\u001b[32mprocessed\u001b[31m 20,500,000 \u001b[32mfragments\u001b[0m\n",
      "\u001b[32mprocessed\u001b[31m 21,000,000 \u001b[32mfragments\u001b[0m\n",
      "\u001b[32mprocessed\u001b[31m 21,500,000 \u001b[32mfragments\u001b[0m\n",
      "\u001b[32mprocessed\u001b[31m 22,000,000 \u001b[32mfragments\u001b[0m\n",
      "\u001b[32mprocessed\u001b[31m 22,500,001 \u001b[32mfragments\u001b[0m\n",
      "\u001b[32mprocessed\u001b[31m 23,000,000 \u001b[32mfragments\u001b[0m\n",
      "\u001b[32mprocessed\u001b[31m 23,500,000 \u001b[32mfragments\u001b[0m\n",
      "\u001b[32mprocessed\u001b[31m 24,000,000 \u001b[32mfragments\u001b[0m\n",
      "hits: 9,178,616, hits per frag:  0.382495"
     ]
    }
   ],
   "source": [
    "#for paired end reads\n",
    "for n in range(0, len(fastq_fn_list), 2):\n",
    "    if \"_\" in os.path.basename(fastq_fn_list[n]):\n",
    "    #do haustoria\n",
    "        if os.path.basename(fastq_fn_list[n]).split(\"_\")[2] == 'HSRNA':\n",
    "            print(fastq_fn_list[n])\n",
    "            print(fastq_fn_list[n + 1])\n",
    "            #generate outfolder for each haustoria replicate\n",
    "            QUANT_OUT = os.path.join(OUT_DIR, 'quant', \\\n",
    "                    os.path.basename(fastq_fn_list[n].split('.')[0]))\n",
    "            if not os.path.exists(QUANT_OUT):\n",
    "                os.makedirs(QUANT_OUT)\n",
    "            !{salmon_exc} quant -i {salmon_index} -l A -1 {fastq_fn_list[n]} -2 {fastq_fn_list[n + 1]} -p 8 --validateMappings -o {QUANT_OUT}"
   ]
  },
  {
   "cell_type": "code",
   "execution_count": null,
   "metadata": {},
   "outputs": [],
   "source": [
    "#for paired end reads\n",
    "for n in range(0, len(fastq_fn_list), 2):\n",
    "    if \"_\" in os.path.basename(fastq_fn_list[n]):\n",
    "    #do haustoria\n",
    "        if os.path.basename(fastq_fn_list[n]).split(\"_\")[1] == 'PGTGS':\n",
    "            print(fastq_fn_list[n])\n",
    "            print(fastq_fn_list[n + 1])\n",
    "            #generate outfolder for each haustoria replicate\n",
    "            QUANT_OUT = os.path.join(OUT_DIR, 'quant', \\\n",
    "                    os.path.basename(fastq_fn_list[n].split('.')[0]))\n",
    "            if not os.path.exists(QUANT_OUT):\n",
    "                os.makedirs(QUANT_OUT)\n",
    "            !{salmon_exc} quant -i {salmon_index} -l A -1 {fastq_fn_list[n]} -2 {fastq_fn_list[n + 1]} -p 8 --validateMappings -o {QUANT_OUT}"
   ]
  },
  {
   "cell_type": "code",
   "execution_count": null,
   "metadata": {},
   "outputs": [],
   "source": [
    "#now do other reps they might be single reads"
   ]
  },
  {
   "cell_type": "code",
   "execution_count": null,
   "metadata": {},
   "outputs": [],
   "source": [
    "salmon quant -i athal_index -l A \\\n",
    "         -1 ${fn}/${samp}_1.fastq.gz \\\n",
    "         -2 ${fn}/${samp}_2.fastq.gz \\\n",
    "         -p 8 --validateMappings -o quants/${samp}_quant"
   ]
  }
 ],
 "metadata": {
  "kernelspec": {
   "display_name": "Python 3",
   "language": "python",
   "name": "python3"
  },
  "language_info": {
   "codemirror_mode": {
    "name": "ipython",
    "version": 3
   },
   "file_extension": ".py",
   "mimetype": "text/x-python",
   "name": "python",
   "nbconvert_exporter": "python",
   "pygments_lexer": "ipython3",
   "version": "3.7.4"
  }
 },
 "nbformat": 4,
 "nbformat_minor": 2
}
