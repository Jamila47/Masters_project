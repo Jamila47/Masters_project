{
 "cells": [
  {
   "cell_type": "markdown",
   "metadata": {},
   "source": [
    "We need to get from mapped bam file to single fast5s:\n",
    "\n",
    "Input is:\n",
    "* mapped bam file.\n",
    "* multifast5 of fastqs mapped to the reference\n",
    "\n",
    "Output:\n",
    "* folder with single fast5s that are mapped\n",
    "\n",
    "What we need to do:\n",
    "* get ID of all mapped fastqs\n",
    "* extract them in batches\n",
    "* make them single fast5s"
   ]
  },
  {
   "cell_type": "code",
   "execution_count": 25,
   "metadata": {},
   "outputs": [],
   "source": [
    "import os"
   ]
  },
  {
   "cell_type": "markdown",
   "metadata": {},
   "source": [
    "### INPUTS"
   ]
  },
  {
   "cell_type": "markdown",
   "metadata": {},
   "source": [
    "### *****Define directories before running on different sampes*****"
   ]
  },
  {
   "cell_type": "code",
   "execution_count": 26,
   "metadata": {},
   "outputs": [],
   "source": [
    "###define input directories here \n",
    "BAMIN_DIR = '../../analyses/mapping/infected_leaves/infected_leaves_4/'\n",
    "FAST5IN_DIR = '../../analyses/single_fast5s/infected_leaves/infected_leaves_4_fast5_single_fast5/'\n",
    "OUT_DIR = '../../analyses/single_fast5s/infected_leaves/infected_leaves_4_mapped_single_fast5/'\n"
   ]
  },
  {
   "cell_type": "markdown",
   "metadata": {},
   "source": [
    "### *****Define directories before running on different sampes*****"
   ]
  },
  {
   "cell_type": "code",
   "execution_count": 27,
   "metadata": {},
   "outputs": [],
   "source": [
    "BAMIN_DIR = os.path.abspath(BAMIN_DIR)\n",
    "FAST5IN_DIR = os.path.abspath(FAST5IN_DIR)\n",
    "OUT_DIR = os.path.abspath(OUT_DIR)"
   ]
  },
  {
   "cell_type": "code",
   "execution_count": 28,
   "metadata": {},
   "outputs": [],
   "source": [
    "##catch the bam based on naming convention\n",
    "inbam_fn = [os.path.join(BAMIN_DIR, x) for x in os.listdir(BAMIN_DIR) if x.endswith('sorted.bam')][0]"
   ]
  },
  {
   "cell_type": "code",
   "execution_count": 29,
   "metadata": {},
   "outputs": [],
   "source": [
    "##generated the read ID list\n",
    "mappedids_fn = inbam_fn.replace('.bam', '.mappedids.txt')\n",
    "#!samtools  view -F 4  {inbam_fn} | cut -f 1 | sort | uniq > {mappedids_fn}"
   ]
  },
  {
   "cell_type": "code",
   "execution_count": 30,
   "metadata": {
    "scrolled": true
   },
   "outputs": [
    {
     "name": "stdout",
     "output_type": "stream",
     "text": [
      "0000d07e-32f4-49ab-8693-dd74fa628096\r\n",
      "00020ccf-d7e9-44e2-9496-55cf0d8e1852\r\n",
      "00021fa7-9a0f-4712-a2b5-26dc2a3abe64\r\n",
      "0002c598-c6f2-4e65-865e-9c263de899ad\r\n",
      "0003f8e5-75c5-4d95-b546-2f56e25efd3a\r\n",
      "00040ef8-a126-4df8-8387-f14c8ee8724a\r\n",
      "0004f268-c36b-4023-8fc9-7a66c7fef7d9\r\n",
      "00054516-f1f2-4c6e-8d57-3dde6049e51f\r\n",
      "00059b74-4672-42f3-92f5-1f4eb2cbf05f\r\n",
      "00060d0e-b77d-407d-9695-8490a8c5c18e\r\n"
     ]
    }
   ],
   "source": [
    "!head {mappedids_fn}"
   ]
  },
  {
   "cell_type": "code",
   "execution_count": 31,
   "metadata": {
    "scrolled": true
   },
   "outputs": [],
   "source": [
    "### generate a temporary folder that holds the batch fast5s\n",
    "TMPOUT_DIR = os.path.join(OUT_DIR, 'tmp')\n",
    "if not os.path.exists(TMPOUT_DIR):\n",
    "    os.makedirs(TMPOUT_DIR)"
   ]
  },
  {
   "cell_type": "code",
   "execution_count": 32,
   "metadata": {},
   "outputs": [],
   "source": [
    "#read in the mapped reads ids\n",
    "mapped_reads = []\n",
    "with open(mappedids_fn) as fh:\n",
    "    for line in fh:\n",
    "        mapped_reads.append(line.rstrip())"
   ]
  },
  {
   "cell_type": "code",
   "execution_count": 33,
   "metadata": {},
   "outputs": [],
   "source": [
    "mapped_reads = set(mapped_reads)"
   ]
  },
  {
   "cell_type": "code",
   "execution_count": 10,
   "metadata": {},
   "outputs": [
    {
     "name": "stdout",
     "output_type": "stream",
     "text": [
      "^C25 of 1942|                                         |  1% ETA:  1 day, 4:27:17\n",
      "Traceback (most recent call last):\n",
      "  File \"/home/jamila/anaconda3/bin/multi_to_single_fast5\", line 10, in <module>\n",
      "    sys.exit(main())\n",
      "  File \"/home/jamila/anaconda3/lib/python3.7/site-packages/ont_fast5_api/conversion_tools/multi_to_single_fast5.py\", line 104, in main\n",
      "    args.recursive, follow_symlinks=not args.ignore_symlinks)\n",
      "  File \"/home/jamila/anaconda3/lib/python3.7/site-packages/ont_fast5_api/conversion_tools/multi_to_single_fast5.py\", line 40, in batch_convert_multi_files_to_single\n",
      "    pool.join()\n",
      "  File \"/home/jamila/anaconda3/lib/python3.7/multiprocessing/pool.py\", line 556, in join\n",
      "    self._worker_handler.join()\n",
      "  File \"/home/jamila/anaconda3/lib/python3.7/threading.py\", line 1044, in join\n",
      "    self._wait_for_tstate_lock()\n",
      "  File \"/home/jamila/anaconda3/lib/python3.7/threading.py\", line 1060, in _wait_for_tstate_lock\n",
      "    elif lock.acquire(block, timeout):\n",
      "KeyboardInterrupt\n"
     ]
    }
   ],
   "source": [
    "###go from multies fast5 of mapped reads to single fast5s\n",
    "!multi_to_single_fast5 -i {FAST5IN_DIR} -s {TMPOUT_DIR} -t 10 --recursive\n",
    "!touch {OUT_DIR}/single_fast5.done"
   ]
  },
  {
   "cell_type": "code",
   "execution_count": 34,
   "metadata": {},
   "outputs": [],
   "source": [
    "#move fast5s you want from tmp to out dir\n",
    "count = 0\n",
    "for directory in os.listdir(TMPOUT_DIR):\n",
    "    directory = os.path.join(TMPOUT_DIR, directory)\n",
    "    #check if path is directory\n",
    "    if os.path.isdir(directory):\n",
    "        print(directory)\n",
    "        fast5s = [fn for fn in os.listdir(directory)]\n",
    "        for fast5_file in fast5s:\n",
    "            if fast5_file.rstrip('.fast5') in mapped_reads:\n",
    "                count = count + 1\n",
    "                #move the files by renaming absolute path\n",
    "                old_fn = os.path.join(directory, fast5_file)\n",
    "                new_fn = os.path.join(OUT_DIR, fast5_file)\n",
    "                os.replace(old_fn, new_fn)\n",
    "        #count = count + len(fast5s)\n",
    "        print(count)\n",
    "        \n",
    "    #print(os.path.isfile(x))"
   ]
  },
  {
   "cell_type": "code",
   "execution_count": 35,
   "metadata": {},
   "outputs": [
    {
     "data": {
      "text/plain": [
       "False"
      ]
     },
     "execution_count": 35,
     "metadata": {},
     "output_type": "execute_result"
    }
   ],
   "source": [
    "count == len(mapped_reads)"
   ]
  },
  {
   "cell_type": "code",
   "execution_count": 36,
   "metadata": {},
   "outputs": [
    {
     "name": "stdout",
     "output_type": "stream",
     "text": [
      "tmp\n"
     ]
    }
   ],
   "source": [
    "for x in os.listdir(OUT_DIR):\n",
    "    if not x.endswith('.fast5'):\n",
    "        print(x)"
   ]
  },
  {
   "cell_type": "code",
   "execution_count": 17,
   "metadata": {},
   "outputs": [],
   "source": [
    "#remove tmp folder\n",
    "!rm -r {TMPOUT_DIR}\n"
   ]
  },
  {
   "cell_type": "code",
   "execution_count": 37,
   "metadata": {},
   "outputs": [
    {
     "data": {
      "text/plain": [
       "93264"
      ]
     },
     "execution_count": 37,
     "metadata": {},
     "output_type": "execute_result"
    }
   ],
   "source": [
    "len(mapped_reads)"
   ]
  },
  {
   "cell_type": "code",
   "execution_count": null,
   "metadata": {},
   "outputs": [],
   "source": []
  }
 ],
 "metadata": {
  "kernelspec": {
   "display_name": "Python 3",
   "language": "python",
   "name": "python3"
  },
  "language_info": {
   "codemirror_mode": {
    "name": "ipython",
    "version": 3
   },
   "file_extension": ".py",
   "mimetype": "text/x-python",
   "name": "python",
   "nbconvert_exporter": "python",
   "pygments_lexer": "ipython3",
   "version": "3.7.4"
  }
 },
 "nbformat": 4,
 "nbformat_minor": 2
}
