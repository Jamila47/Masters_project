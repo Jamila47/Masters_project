{
 "cells": [
  {
   "cell_type": "markdown",
   "metadata": {},
   "source": [
    "### Notebook to make the the fastq files line up with the mapped bam files and the single fast5 files"
   ]
  },
  {
   "cell_type": "code",
   "execution_count": 11,
   "metadata": {},
   "outputs": [],
   "source": [
    "import os\n",
    "from joblib import Parallel, delayed"
   ]
  },
  {
   "cell_type": "code",
   "execution_count": 12,
   "metadata": {},
   "outputs": [],
   "source": [
    "###define input directories here \n",
    "##FAST5_single(unfiltered_single_fast5s)\n",
    "FAST5singleIN_DIR = '../../analyses/single_fast5s/germinated_spores/germinated_spores_1_fast5_single_fast5'\n",
    "#####One OUT_DIR per treatment. This should be one for germinated spores and one for infected leaves\n",
    "OUT_DIR = '../../analyses/single_fast5s/germinated_spores/mapped_fast5s'\n",
    "#####One OUT_DIR per treatment. This should be one for germinated spores and one for infected leaves\n",
    "BAM_DIR = '../../analyses/mapping/germinated_spores/rep1'\n",
    "fastq_all_fn = '../../data/genomic_data/germinated_spores/all_fastq/germinated_spores_1.all.fastq'"
   ]
  },
  {
   "cell_type": "code",
   "execution_count": 13,
   "metadata": {},
   "outputs": [],
   "source": [
    "minimap_index = '../../data/genomic_resources/chr_A_B_unassigned.fasta'\n",
    "n_threads = 20"
   ]
  },
  {
   "cell_type": "code",
   "execution_count": 14,
   "metadata": {},
   "outputs": [
    {
     "name": "stdout",
     "output_type": "stream",
     "text": [
      "This is the number of fast5s: 377791\n"
     ]
    }
   ],
   "source": [
    "#counts single fast5s and fastqs\n",
    "single_fast5_count = 0\n",
    "fastqs = []\n",
    "dirs = []\n",
    "for direcotry in (os.path.join(FAST5singleIN_DIR, x) for x in os.listdir(FAST5singleIN_DIR) if os.path.isdir(os.path.join(FAST5singleIN_DIR, x))):\n",
    "    dirs.append(direcotry)\n",
    "    fast5s = [os.path.join(direcotry ,x) for x in os.listdir(direcotry) if x.endswith('.fast5')]\n",
    "    single_fast5_count += len(fast5s)\n",
    "    for x in [os.path.join(direcotry ,x) for x in os.listdir(direcotry) if x.endswith('.fastq')]:\n",
    "        fastqs.append(x)\n",
    "print('This is the number of fast5s: %s' % single_fast5_count)"
   ]
  },
  {
   "cell_type": "markdown",
   "metadata": {},
   "source": [
    "# Section 1 checking the input"
   ]
  },
  {
   "cell_type": "code",
   "execution_count": 15,
   "metadata": {},
   "outputs": [],
   "source": [
    "fastq_entries = !cat {fastq_all_fn} | grep 'sampleid' | wc -l"
   ]
  },
  {
   "cell_type": "code",
   "execution_count": 16,
   "metadata": {},
   "outputs": [
    {
     "data": {
      "text/plain": [
       "True"
      ]
     },
     "execution_count": 16,
     "metadata": {},
     "output_type": "execute_result"
    }
   ],
   "source": [
    "###first check if we have the right amount of fastq entries in our file\n",
    "int(fastq_entries[0]) == single_fast5_count\n",
    "###You want this to be True"
   ]
  },
  {
   "cell_type": "code",
   "execution_count": 17,
   "metadata": {},
   "outputs": [],
   "source": [
    "###Now check on if ids match up\n",
    "fastqids_fn = fastq_all_fn.replace('.fastq', '.fastqids.txt')\n",
    "!cat {fastq_all_fn} | grep 'sampleid'|  cut -d ' ' -f 1 | sed 's/@//g' > {fastqids_fn}"
   ]
  },
  {
   "cell_type": "code",
   "execution_count": 18,
   "metadata": {},
   "outputs": [],
   "source": [
    "###Read in ids as set\n",
    "fastq_ids = []\n",
    "with open(fastqids_fn) as fh:\n",
    "    for line in fh:\n",
    "        fastq_ids.append(line.strip('\\n'))\n",
    "fastq_ids = set(fastq_ids)"
   ]
  },
  {
   "cell_type": "code",
   "execution_count": 19,
   "metadata": {},
   "outputs": [],
   "source": [
    "match_count = 0\n",
    "for directory in os.listdir(FAST5singleIN_DIR):\n",
    "    directory = os.path.join(FAST5singleIN_DIR, directory)\n",
    "    if os.path.isdir(directory):\n",
    "        fast5s = [fn for fn in os.listdir(directory) if fn.endswith('.fast5')]\n",
    "        for fast5_file in fast5s: \n",
    "            if fast5_file.replace('.fast5', '') in fastq_ids:\n",
    "                match_count = match_count + 1"
   ]
  },
  {
   "cell_type": "code",
   "execution_count": 20,
   "metadata": {},
   "outputs": [
    {
     "data": {
      "text/plain": [
       "True"
      ]
     },
     "execution_count": 20,
     "metadata": {},
     "output_type": "execute_result"
    }
   ],
   "source": [
    "####This needs to be true\n",
    "match_count == int(fastq_entries[0]) == single_fast5_count\n",
    "####This needs to be true"
   ]
  },
  {
   "cell_type": "markdown",
   "metadata": {},
   "source": [
    "### If above is false go to section 3 and execute this before moving on"
   ]
  },
  {
   "cell_type": "markdown",
   "metadata": {},
   "source": [
    "# Section 2 mapping the reads and pulling out the mapped fast5s"
   ]
  },
  {
   "cell_type": "code",
   "execution_count": 21,
   "metadata": {},
   "outputs": [],
   "source": [
    "bam_fn = os.path.join(BAM_DIR, os.path.basename(fastq_all_fn).replace('.fastq', '.sorted.bam'))"
   ]
  },
  {
   "cell_type": "code",
   "execution_count": 22,
   "metadata": {},
   "outputs": [],
   "source": [
    "#!minimap2 -t 15 -ax map-ont {minimap_index} {fastq_all_fn} | samtools sort -@ 15 -o {bam_fn} -"
   ]
  },
  {
   "cell_type": "code",
   "execution_count": 23,
   "metadata": {},
   "outputs": [],
   "source": [
    "#this is only here because the mapping was done on the command line and not in here\n",
    "#if mapping is done in here don't execute this cell\n",
    "bam_fn = '../../analyses/mapping/germinated_spores/rep1/germinated_spores_1.sorted.bam'"
   ]
  },
  {
   "cell_type": "code",
   "execution_count": 24,
   "metadata": {},
   "outputs": [],
   "source": [
    "##generated the mapped read ID list\n",
    "mappedids_fn = bam_fn.replace('.bam', '.mappedids.txt')\n",
    "!samtools  view -F 4  {bam_fn} | cut -f 1 | sort | uniq > {mappedids_fn}"
   ]
  },
  {
   "cell_type": "code",
   "execution_count": 25,
   "metadata": {},
   "outputs": [],
   "source": [
    "#get the mapped ids as a set\n",
    "mapped_reads = []\n",
    "with open(mappedids_fn) as fh:\n",
    "    for line in fh:\n",
    "        mapped_reads.append(line.rstrip())\n",
    "mapped_reads = set(mapped_reads)"
   ]
  },
  {
   "cell_type": "code",
   "execution_count": 26,
   "metadata": {},
   "outputs": [
    {
     "data": {
      "text/plain": [
       "159573"
      ]
     },
     "execution_count": 26,
     "metadata": {},
     "output_type": "execute_result"
    }
   ],
   "source": [
    "len(mapped_reads)"
   ]
  },
  {
   "cell_type": "code",
   "execution_count": 27,
   "metadata": {},
   "outputs": [],
   "source": [
    "#move fast5s you want from tmp to out dir\n",
    "match_count = 0\n",
    "for directory in os.listdir(FAST5singleIN_DIR):\n",
    "    directory = os.path.join(FAST5singleIN_DIR, directory)\n",
    "    #check if path is directory\n",
    "    if os.path.isdir(directory):\n",
    "        #get all fastq files\n",
    "        fast5s = [fn for fn in os.listdir(directory) if fn.endswith('.fast5')]\n",
    "        for fast5_file in fast5s:\n",
    "            if fast5_file.replace('.fast5', '') in mapped_reads:\n",
    "                match_count = match_count + 1\n",
    "                #move the files by renaming absolute path\n",
    "                old_fn = os.path.join(directory, fast5_file)\n",
    "                new_fn = os.path.join(OUT_DIR, fast5_file)\n",
    "                os.replace(old_fn, new_fn)\n",
    "        "
   ]
  },
  {
   "cell_type": "code",
   "execution_count": 28,
   "metadata": {},
   "outputs": [
    {
     "data": {
      "text/plain": [
       "True"
      ]
     },
     "execution_count": 28,
     "metadata": {},
     "output_type": "execute_result"
    }
   ],
   "source": [
    "##This should be true\n",
    "len(mapped_reads) == match_count"
   ]
  },
  {
   "cell_type": "code",
   "execution_count": null,
   "metadata": {},
   "outputs": [],
   "source": []
  },
  {
   "cell_type": "markdown",
   "metadata": {},
   "source": [
    "### Below are useful code snippets we leave for now but won't execute"
   ]
  },
  {
   "cell_type": "markdown",
   "metadata": {},
   "source": [
    "# Section 3 Regenerating fastqs if they don't add up"
   ]
  },
  {
   "cell_type": "code",
   "execution_count": null,
   "metadata": {},
   "outputs": [],
   "source": [
    "#Run only if the tests above do fail\n",
    "%run -i infected_leaves_2_fast5_to_fastq.py"
   ]
  },
  {
   "cell_type": "code",
   "execution_count": null,
   "metadata": {},
   "outputs": [],
   "source": [
    "#combine all fastqs\n",
    "all_fastq_fn = os.path.join(FAST5singleIN_DIR,  '%s.fastq' % os.path.basename(FAST5singleIN_DIR))\n",
    "with open(all_fastq_fn, mode='w') as all_fastq_fh:\n",
    "    for dir_ in dirs:\n",
    "        fn = os.path.join(os.path.join(dir_), os.path.basename(dir_) + '.fastq')\n",
    "        #print(fn)\n",
    "        with open(fn, mode = 'r') as fh:\n",
    "            for line in fh:\n",
    "                line = line.rstrip()\n",
    "                print(line, file=all_fastq_fh)"
   ]
  },
  {
   "cell_type": "code",
   "execution_count": null,
   "metadata": {},
   "outputs": [],
   "source": [
    "fastq_entries = !cat {all_fastq_fn} | grep 'sampleid' | wc -l"
   ]
  },
  {
   "cell_type": "code",
   "execution_count": null,
   "metadata": {},
   "outputs": [],
   "source": [
    "int(fastq_entries[0]) == single_fast5_count"
   ]
  },
  {
   "cell_type": "code",
   "execution_count": null,
   "metadata": {},
   "outputs": [],
   "source": [
    "all_fastq_fn = os.path.join(FAST5singleIN_DIR,  '%s.fastq' % os.path.basename(FAST5singleIN_DIR))\n",
    "fastqids_fn = all_fastq_fn.replace('.fastq', '.fastqids.txt')\n",
    "!cat {all_fastq_fn} | grep 'sampleid'|  cut -d ' ' -f 1 | sed 's/@//g' > {fastqids_fn}"
   ]
  },
  {
   "cell_type": "code",
   "execution_count": null,
   "metadata": {},
   "outputs": [],
   "source": [
    "fastq_reads = []\n",
    "with open(fastqids_fn) as fh:\n",
    "    for line in fh:\n",
    "        fastq_reads.append(line.strip('\\n'))\n",
    "fastq_reads = set(fastq_reads)"
   ]
  },
  {
   "cell_type": "code",
   "execution_count": null,
   "metadata": {},
   "outputs": [],
   "source": [
    "len(fastq_reads) == single_fast5_count"
   ]
  },
  {
   "cell_type": "code",
   "execution_count": null,
   "metadata": {},
   "outputs": [],
   "source": [
    "count = 0\n",
    "TMPOUT_DIR = FAST5singleIN_DIR\n",
    "for directory in os.listdir(TMPOUT_DIR):\n",
    "    directory = os.path.join(TMPOUT_DIR, directory)\n",
    "    #check if path is directory\n",
    "    if os.path.isdir(directory):\n",
    "        #print(directory)\n",
    "        fast5s = [fn for fn in os.listdir(directory) if fn.endswith('.fast5')]\n",
    "        #missing = set([x.replace('.fast5', '') for x in fast5s]) - fastq_reads\n",
    "        #print(len(missing))\n",
    "        for fast5_file in fast5s:\n",
    "            \n",
    "            if fast5_file.replace('.fast5', '') in fastq_reads:\n",
    "                count = count + 1\n",
    "                #move the files by renaming absolute path\n",
    "                #old_fn = os.path.join(directory, fast5_file)\n",
    "                #new_fn = os.path.join(OUT_DIR, fast5_file)\n",
    "                #os.replace(old_fn, new_fn)\n",
    "        #count = count + len(fast5s)\n",
    "        #print(count)"
   ]
  },
  {
   "cell_type": "code",
   "execution_count": null,
   "metadata": {},
   "outputs": [],
   "source": [
    "count == single_fast5_count"
   ]
  },
  {
   "cell_type": "code",
   "execution_count": null,
   "metadata": {},
   "outputs": [],
   "source": []
  }
 ],
 "metadata": {
  "kernelspec": {
   "display_name": "Python 3",
   "language": "python",
   "name": "python3"
  },
  "language_info": {
   "codemirror_mode": {
    "name": "ipython",
    "version": 3
   },
   "file_extension": ".py",
   "mimetype": "text/x-python",
   "name": "python",
   "nbconvert_exporter": "python",
   "pygments_lexer": "ipython3",
   "version": "3.7.4"
  }
 },
 "nbformat": 4,
 "nbformat_minor": 2
}
